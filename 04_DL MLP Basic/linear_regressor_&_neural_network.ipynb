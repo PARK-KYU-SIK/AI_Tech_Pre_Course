{
 "cells": [
  {
   "cell_type": "markdown",
   "metadata": {},
   "source": [
    "# 01 : Index"
   ]
  },
  {
   "cell_type": "markdown",
   "metadata": {},
   "source": [
    "# 02 : 행렬의 사칙 연산"
   ]
  },
  {
   "cell_type": "markdown",
   "metadata": {},
   "source": [
    "- 덧셈, 뺄셈 ( 교환법치 : O )\n",
    "    - 조건 : 같은모양\n",
    "        - 같은 인덱스 위치끼리 계산\n",
    "    - > $\\mathbb{X}_{i \\times j} \\pm \\mathbb{Y}_{i \\times j} = \\begin{bmatrix} x_{11} & \\cdots & x_{1j} \\\\ \\vdots && \\vdots \\\\ x_{i1} & \\cdots & x_{ij} \\end{bmatrix} + \\begin{bmatrix} y_{11} & \\cdots & y_{1j} \\\\ \\vdots && \\vdots \\\\ y_{i1} & \\cdots & y_{ij} \\end{bmatrix}$\n",
    "    - > $\\qquad\\qquad\\quad\\,= \\begin{bmatrix} x_{11} + y_{11} & \\cdots & x_{ij} + y_{1j} \\\\ \\vdots && \\vdots \\\\ x_{i1} + y_{i1} & \\cdots & x_{ij} + y_{ij} \\end{bmatrix}$ \n",
    "\n",
    "- 성분 곱, 스칼라 곱 ( 교환법칙 : O )\n",
    "    - 조건 : 같은모양\n",
    "        - 같은 인덱스 위치끼리 계산\n",
    "    - > $\\mathbb{X}_{i \\times j} \\odot \\mathbb{Y}_{i \\times j} = \\begin{bmatrix} x_{11} & \\cdots & x_{1j} \\\\ \\vdots && \\vdots \\\\ x_{i1} & \\cdots & x_{ij} \\end{bmatrix} \\odot \\begin{bmatrix} y_{11} & \\cdots & y_{1j} \\\\ \\vdots && \\vdots \\\\ y_{i1} & \\cdots & y_{ij} \\end{bmatrix}$\n",
    "    - > $\\qquad\\qquad\\quad\\,= \\begin{bmatrix} x_{11}y_{11} & \\cdots & x_{ij}y_{1j} \\\\ \\vdots && \\vdots \\\\ x_{i1}y_{i1} & \\cdots & x_{ij}y_{ij} \\end{bmatrix}$ \n",
    "    \n",
    "- 행렬의 곱셈 = 내적 (dot product)\n",
    "    - 조건 : 행렬 $X$ 의 열 크기와 행렬 $Y$ 의 행의 크기가 같아야 한다\n",
    "        - 행렬의 내적은 계산의 순서에 따라 결과값이 달라지며 계산이 불가능하기도 하다\n",
    "        - $\\mathbb{X} \\cdot \\mathbb{Y} \\neq \\mathbb{Y} \\cdot \\mathbb{X}$ ( 교환법칙 : X )\n",
    "    - > $\\displaystyle\\mathbb{X}_{m \\times n} \\cdot \\mathbb{Y}_{n \\times m} = \\begin{bmatrix} x_{11} & \\cdots&\\cdots & x_{1n} \\\\ \\vdots &&& \\vdots \\\\ x_{m1} & \\cdots&\\cdots & x_{mn} \\end{bmatrix}_{m \\times n} \\cdot \\begin{bmatrix} y_{11} & \\cdots & y_{1m} \\\\ \\vdots && \\vdots \\\\ \\vdots && \\vdots \\\\ y_{n1} & \\cdots & y_{nm} \\end{bmatrix}_{n \\times m}$\n",
    "    - > $\\qquad\\qquad\\quad\\;\\;= {\\begin{bmatrix} x_{11}y_{11} \\; + \\; \\cdots \\; + \\; x_{1n}y_{n1} \\\\ \\vdots \\qquad \\cdots \\qquad \\vdots \\\\ x_{m1}y_{1m} \\; + \\; \\cdots \\; + \\; x_{mn}y_{nm}\\end{bmatrix}}_{m \\times m}$\n",
    "    - > $\\qquad\\qquad\\quad\\;\\;= \\displaystyle\\sum_{k}^{ } {x_{ik} \\times y_{kj}}$"
   ]
  },
  {
   "cell_type": "markdown",
   "metadata": {},
   "source": [
    "# 03 : 선형회귀 분석\n",
    "- 의미\n",
    "    - 좌표평면상의 데이터 $\\mathbb{X}_{n \\times m}$ 에 대해\n",
    "    - 계수 벡터 $\\vec{\\beta}_{m \\times 1}$ 를 곱하여 얻은 선형모델 식을 최대한 타겟 벡터 $\\vec{y}_{m \\times 1}$ 에 근사하도록 최적화($\\hat{y}$)하는 작업\n",
    "        - 데이터 : $\\mathbb{X}_{n \\times m}$\n",
    "        - 변수(계수) : $\\vec{\\beta}_{m \\times 1}$\n",
    "        - target : $\\vec{y}_{m \\times 1}$\n",
    "        - 근사값 : $\\hat{y}_{m \\times 1}$\n",
    "        > $\\qquad\\qquad\\;\\;\\qquad\\mathbb{X}_{n \\times m} \\cdot \\vec{\\beta}_{m \\times n} \\; = \\; \\hat{y}_{m \\times 1} \\approx \\vec{y}_{m \\times 1}$\n",
    "        >> $ {\\begin{bmatrix} x_{11} & \\cdots & x_{n1} \\\\ \\vdots & \\ddots & \\vdots \\\\ x_{1m} & \\cdots & x_{nm} \\end{bmatrix}} \\cdot {\\begin{bmatrix} \\beta_1 \\\\ \\vdots \\\\ \\beta_n \\end{bmatrix}}$\n",
    "\n",
    "        >>> find, $\\displaystyle \\min_{\\beta}\\mathbb{E} ||\\vec{y}-\\hat{y}||_{2}$"
   ]
  },
  {
   "cell_type": "markdown",
   "metadata": {},
   "source": [
    "# 04 : 선형회귀 기본 모델\n",
    "> $\\displaystyle\\mathbb{O}_{n \\times p} = \\mathbb{X}_{n \\times d} \\; \\cdot \\; \\mathbb{W}_{d \\times p} \\; + \\; \\mathbb{b}_{n \\times p}$\n",
    "- $n$ : 데이터의 갯수\n",
    "    - row, index\n",
    "- $p$ , $d$ : 차원\n",
    "    - column, feature\n",
    "- $\\mathbb{O}_{n \\times p}$ = $\\hat{y}$ : 출력 $\\approx \\; \\vec{y}$ : target\n",
    "- $\\mathbb{X}_{n \\times d}$ : 데이터 행렬\n",
    "- $\\mathbb{W}_{d \\times p}$ : 가중치 함수\n",
    "- $\\mathbb{b}_{n \\times p}$ : 각 x행 별 상수항 "
   ]
  },
  {
   "cell_type": "markdown",
   "metadata": {},
   "source": [
    "# 05 : 딥러닝 (신경망) 순전파 알고리즘\n",
    "- 2층 신경망 구조\n",
    "    - 신경망의 깊이는 가중함수 작업을 한 횟수로 측정된다 : $\\mathbb{W}^{(l)} $ \n",
    "- 다층 구조 신경망 (MLP)\n",
    "    - Multi Layer perceptron\n",
    "    - 신경망이 여러층 합성된 함수\n",
    "\n",
    "$\\\\\\mathbb{X}_{n \\times d} \\quad : \\quad x_1 \\quad x_2 \\quad x_3 \\quad x_4 \\quad x_5 \\quad \\cdots \\quad x_d \\\\$\n",
    "$\\qquad\\;\\;\\;\\qquad  \\downarrow \\searrow \\quad \\cdots \\quad \\cdots \\; \\cdots \\quad \\cdots \\quad \\swarrow  \\qquad : \\quad \\mathbb{Z}_{n \\times q} = \\mathbb{X}_{n \\times d} \\cdot \\mathbb{W}^{(1)}_{d \\times q} + \\mathbb{b}_{n \\times q}\\\\ $\n",
    "$\\mathbb{Z}_{n \\times q} \\quad : \\quad z_1 \\quad z_2 \\quad \\cdots \\quad \\cdots \\quad \\cdots \\quad z_q \\\\$\n",
    "$\\qquad\\;\\;\\;\\qquad  \\downarrow \\quad \\cdots \\quad \\cdots \\quad \\cdots \\quad \\cdots \\quad \\downarrow \\qquad\\quad : \\quad \\mathbb{H}_{n \\times q} = \\sigma{(\\mathbb{Z}_{n \\times q})}\\\\$\n",
    "$\\mathbb{H}_{n \\times q} \\quad : \\quad h_1 \\quad h_2 \\quad \\cdots \\quad \\cdots \\quad \\cdots \\quad h_q \\\\$\n",
    "$\\qquad\\;\\;\\;\\qquad  \\downarrow \\searrow \\quad \\cdots \\quad \\cdots \\quad \\cdots \\quad \\swarrow\\downarrow\\searrow \\qquad\\; : \\quad \\mathbb{O}_{n \\times p} = \\mathbb{H}_{n \\times q} \\cdot \\mathbb{W}^{(2)}_{q \\times p} + \\mathbb{b}_{n \\times p} \\\\$\n",
    "$\\mathbb{O}_{n \\times p} \\quad : \\quad o_1 \\quad o_2 \\quad \\cdots \\quad \\cdots \\quad \\cdots \\quad \\cdots \\quad o_p \\\\$\n",
    "- 딥러닝과 선형회귀의 차이는 활성함수 를 통한 softmax 즉, 각 feature 에 대한 확률값을 계측하는 과정을 거치는지 유무로 나뉘게 됨"
   ]
  },
  {
   "cell_type": "markdown",
   "metadata": {},
   "source": [
    "# 06 : 딥러닝 (신경망) 역전파 알고리즘\n",
    "- 순전파를 통해 각 층(Layer)에서 사용된 parameter $\\displaystyle\\{\\;\\mathbb{W}^{(l)}, \\; \\mathbb{b}^{(l)}\\;\\}^{L}_{l=1}$ 를 학습하기 위함\n",
    "    - 2층 신경망 구조 역전파 손실율 $\\displaystyle\\frac{\\partial{\\mathcal{L}}}{\\partial{\\mathbb{W}^{(1)}_{i \\times j}}}$\n",
    "        - set\n",
    "            - $\\mathbb{O} : n \\times p$ Matrix\n",
    "            - $\\mathbb{X} : n \\times i$ Matrix\n",
    "        - sol\n",
    "            > $Question. \\\\$\n",
    "            > $\\displaystyle \\qquad\\frac{\\partial{\\mathcal{L}}}{\\partial{\\mathbb{W}^{(1)}_{i \\times j}}} = \\nabla_{\\mathbb{W}^{(1)}_{i \\times j}}{\\mathcal{L}} = (\\nabla_{\\mathbb{W}^{(1)}}{\\mathbb{Z}})(\\nabla_{\\mathbb{Z}}{\\mathbb{H}})(\\nabla_{\\mathbb{H}}{\\mathbb{O}})(\\nabla_{\\mathbb{O}}{\\mathcal{L}}) \\\\$\n",
    "            \n",
    "            >> $I. \\\\$\n",
    "            >> $\\displaystyle{\\qquad i. \\quad\\;\\; \\mathbb{O}_{n \\times p} \\; = \\; \\mathbb{H}_{n \\times j} \\; \\mathbb{W}^{(2)}_{j \\times p} + \\mathbb{b}_{n \\times p}} \\;\\cdots \\; (1)\\\\$\n",
    "            >> $\\displaystyle{\\qquad ii. \\quad\\; \\mathbb{H}_{n \\times j} \\; = \\; \\sigma{(\\mathbb{Z}_{n \\times j})}} \\;\\;\\qquad\\qquad \\cdots \\;(2)\\\\$\n",
    "            >> $\\displaystyle{\\qquad iii. \\quad \\mathbb{Z}_{n \\times j} \\; = \\; \\mathbb{X}_{n \\times i} \\; \\mathbb{W}^{(1)}_{i \\times j} + \\mathbb{b}_{n \\times j}} \\;\\;\\cdots \\;(3)\\\\$\n",
    "            \n",
    "            >> $II. \\\\$\n",
    "            >> $\\quad $ 행 데이터 scale 생략 $ \\\\$\n",
    "            >> $\\\\ \\displaystyle{\\qquad\\frac{\\partial{\\mathcal{L}}}{\\partial{\\mathbb{W}^{(1)}_{i \\times j}}} \\; = \\; \\frac{\\partial{\\mathcal{L}}}{\\partial{\\mathbb{O}_{p}}} \\; \\times \\; \\frac{\\partial{\\mathbb{O}_p}}{\\partial{\\mathbb{H}_j}} \\; \\times \\; \\frac{\\partial{\\mathbb{H}_j}}{\\partial{\\mathbb{Z}_j}} \\; \\times \\; \\frac{\\partial{\\mathbb{Z}_j}}{\\mathbb{W}^{(1)}_{i \\times j}}} \\\\$\n",
    "            >> $\\qquad\\qquad\\qquad\\qquad\\qquad\\quad\\;\\; \\vdots \\qquad\\quad\\;\\; \\vdots \\qquad\\quad\\;\\; \\vdots \\\\$\n",
    "            >> $\\qquad\\qquad\\qquad\\qquad\\qquad\\quad (a) \\quad\\quad\\;\\;\\, (b) \\quad\\quad\\;\\; (c) \\\\$\n",
    "\n",
    "            >> $III. \\\\$\n",
    "            >> $\\displaystyle{\\qquad i. \\quad\\;\\; (1) \\; put \\; in \\; (a) \\rightarrow \\; \\frac{\\partial{\\mathbb{O}_p}}{\\partial{\\mathbb{H}_j}} = \\frac{\\partial{(\\mathbb{H}_j\\;\\mathbb{W}^{(2)}_{j \\times p}+\\mathbb{b}^{(2)}_p)}}{\\partial{\\mathbb{H}_j}} \\qquad\\;\\;\\; = \\; \\mathbb(W)^{(2)}_{j \\times p}} \\\\$\n",
    "            >> $\\displaystyle{\\qquad ii. \\quad\\; (2) \\; put \\; in \\; (b) \\rightarrow \\; \\frac{\\partial{\\mathbb{H}}_j}{\\partial{\\mathbb{Z}_j}} \\; = \\; \\frac{\\partial{(\\sigma{(\\mathbb{Z}_j)})}}{\\partial{\\mathbb{Z}_j}} \\qquad\\qquad\\qquad\\; = \\; \\sigma^{'}{(\\mathbb{Z}_j)}}\\\\$\n",
    "            >> $\\displaystyle{\\qquad iii. \\quad (3) \\; put \\; in \\; (c) \\rightarrow \\; \\frac{\\partial{\\mathbb{Z}_j}}{\\partial{\\mathbb{W}^{(1)}_{i \\times j}}} = \\frac{\\partial{(\\mathbb{X}_i\\;\\mathbb{W}^{(1)}_{i \\times j}+\\mathbb{b}^{(1)}_{j})}}{\\partial{\\mathbb{W}^{(1)}_{i \\times j}}} \\qquad = \\; \\mathbb{X}_i} \\\\$\n",
    "\n",
    "            >>> $Conculsion. \\\\$\n",
    "            >>> $\\\\ \\displaystyle{\\qquad\\frac{\\partial{\\mathcal{L}}}{\\partial{\\mathbb{W}^{(1)}_{i \\times j}}} \\; = \\; \\frac{\\partial{\\mathcal{L}}}{\\partial{\\mathbb{O}_{p}}} \\; \\times \\; \\frac{\\partial{\\mathbb{O}_p}}{\\partial{\\mathbb{H}_j}} \\; \\times \\; \\frac{\\partial{\\mathbb{H}_j}}{\\partial{\\mathbb{Z}_j}} \\; \\times \\; \\frac{\\partial{\\mathbb{Z}_j}}{\\mathbb{W}^{(1)}_{i \\times j}}} \\\\$\n",
    "            >>> $\\displaystyle{\\qquad\\qquad\\quad\\;\\; = \\; \\frac{\\partial{\\mathcal{L}}}{\\partial{\\mathbb{O}_{p}}} \\; \\times \\; \\mathbb(W)^{(2)}_{j \\times p} \\; \\times \\; \\sigma^{'}{(\\mathbb{Z}_j)} \\; \\times \\; \\mathbb{X}_i}\\\\$\n",
    "            \n",
    "\n",
    "$\\mathbb{O}_{n \\times p}$"
   ]
  },
  {
   "cell_type": "code",
   "execution_count": null,
   "metadata": {},
   "outputs": [],
   "source": [
    "  "
   ]
  },
  {
   "cell_type": "code",
   "execution_count": null,
   "metadata": {},
   "outputs": [],
   "source": []
  },
  {
   "cell_type": "code",
   "execution_count": null,
   "metadata": {},
   "outputs": [],
   "source": []
  },
  {
   "cell_type": "code",
   "execution_count": null,
   "metadata": {},
   "outputs": [],
   "source": []
  },
  {
   "cell_type": "code",
   "execution_count": null,
   "metadata": {},
   "outputs": [],
   "source": []
  }
 ],
 "metadata": {
  "kernelspec": {
   "display_name": "Python 3.8.13 ('m1')",
   "language": "python",
   "name": "python3"
  },
  "language_info": {
   "name": "python",
   "version": "3.8.13"
  },
  "orig_nbformat": 4,
  "vscode": {
   "interpreter": {
    "hash": "bdc2b39dba4a1a2bb6d840bc8828727e3a4c4135026ee5b84640756028bbf810"
   }
  }
 },
 "nbformat": 4,
 "nbformat_minor": 2
}
