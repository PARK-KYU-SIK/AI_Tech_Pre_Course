{
 "cells": [
  {
   "cell_type": "markdown",
   "metadata": {},
   "source": [
    "# 01 : 객체 지향 프로그램\n",
    "- 개요\n",
    "    - Class : 붕어빵 틀\n",
    "    - Object(instance) : 붕어빵"
   ]
  },
  {
   "cell_type": "markdown",
   "metadata": {},
   "source": [
    "## 01 - class로 구현하기"
   ]
  },
  {
   "cell_type": "code",
   "execution_count": 23,
   "metadata": {},
   "outputs": [],
   "source": [
    "class SoccerPlayer(object) :\n",
    "# class : class 시작 예약어\n",
    "# SoccerPlayer : class 이름\n",
    "# object : class 가 상속받을 객체\n",
    "\n",
    "    # 함수 지정 시 반드시 self를 추가해만 class 함수로 인정됨\n",
    "\n",
    "    def __init__(self, name : str, position : str, back_number : int) :\n",
    "    # def : class 의 속성정보 / 행동정보 지정\n",
    "        # __init__ : 객체 초기화 예약 함수\n",
    "            # 바로뒤에 속성정보 열거\n",
    "        self.name = name  \n",
    "        self.position = position  \n",
    "        self.back_number = back_number  \n",
    "\n",
    "    def __str__(self) :\n",
    "        return 'Hello. My name is {}. My back number is {}'.format(self.name, self.back_number)\n",
    "    # print(객체) return 값 지정\n",
    "\n",
    "    def __add__(self, other) :\n",
    "        return self.name + other.name\n",
    "\n",
    "    def change_back_number(self, new_number) :\n",
    "        print('선수의 등번호를 변경합니다 : From {} to {}'.format(self.back_number, new_number))\n",
    "        self.back_number = new_number"
   ]
  },
  {
   "cell_type": "markdown",
   "metadata": {},
   "source": [
    "    __init__(self, ...) :"
   ]
  },
  {
   "cell_type": "code",
   "execution_count": 21,
   "metadata": {},
   "outputs": [],
   "source": [
    "# __init__\n",
    "abc = SoccerPlayer('son', 'FW', 7)\n",
    "    # SoccerPlayer 라는 Class 를 통해 지정된 값만 입력하는것만으로\n",
    "    # name / position / back_number 가 할당된 abc 객체를 생성할 수 있다\n",
    "kein = SoccerPlayer('park', 'WF', 13)"
   ]
  },
  {
   "cell_type": "code",
   "execution_count": 19,
   "metadata": {},
   "outputs": [
    {
     "data": {
      "text/plain": [
       "False"
      ]
     },
     "execution_count": 19,
     "metadata": {},
     "output_type": "execute_result"
    }
   ],
   "source": [
    "# boolean\n",
    "abc is kein"
   ]
  },
  {
   "cell_type": "markdown",
   "metadata": {},
   "source": [
    "    __str__(self, ...) :"
   ]
  },
  {
   "cell_type": "code",
   "execution_count": 20,
   "metadata": {},
   "outputs": [
    {
     "name": "stdout",
     "output_type": "stream",
     "text": [
      "Hello. My name is son. My back number is 7\n"
     ]
    }
   ],
   "source": [
    "# __str__\n",
    "print(abc)"
   ]
  },
  {
   "cell_type": "markdown",
   "metadata": {},
   "source": [
    "    __add__(self, ...) :"
   ]
  },
  {
   "cell_type": "code",
   "execution_count": 22,
   "metadata": {},
   "outputs": [
    {
     "data": {
      "text/plain": [
       "'sonpark'"
      ]
     },
     "execution_count": 22,
     "metadata": {},
     "output_type": "execute_result"
    }
   ],
   "source": [
    "# __add__\n",
    "abc + kein"
   ]
  },
  {
   "cell_type": "markdown",
   "metadata": {},
   "source": [
    "    def new_func(self, ...) :"
   ]
  },
  {
   "cell_type": "code",
   "execution_count": 24,
   "metadata": {},
   "outputs": [
    {
     "name": "stdout",
     "output_type": "stream",
     "text": [
      "현재 선수의 등번호는 :  10\n",
      "선수의 등번호를 변경합니다 : From 10 to 5\n",
      "현재 선수의 등번호는 :  5\n"
     ]
    }
   ],
   "source": [
    "jinhyun = SoccerPlayer('JInhyun', 'MF', 10)\n",
    "print('현재 선수의 등번호는 : ', jinhyun.back_number)\n",
    "jinhyun.change_back_number(5)\n",
    "print('현재 선수의 등번호는 : ', jinhyun.back_number)"
   ]
  },
  {
   "cell_type": "markdown",
   "metadata": {},
   "source": [
    "## 02 - OOP EX\n",
    "- Note 를 정리하는 프로그램\n",
    "    - 사용자는 Note 에 뭔가를 적을 수 있다\n",
    "        - Note 에는 Content(str) 가 있고\n",
    "        - 내용을 제거(remove) 할 수 있다\n",
    "\n",
    "- 두 개의 노트북을 합쳐 하나로 만들 수 있다.\n",
    "    - Note 는 Notebook 에 삽입된다.\n",
    "        - Notebook 은 Note 가 삽입 될 때 페이지를 생서하며, 최고 300 페이지 까지 저장 가능하다.\n",
    "            - 300 페이지가 넘으면 더이 상 노트를 삽입하지 못한다   \n",
    "            \n",
    "| |Note|Notebook|\n",
    "|-|-|-|\n",
    "|method|write_content<br/>remove_all|add_note<br/>remove_note<br/>get_number_of_note|\n",
    "|variable|content|title<br/>page_number<br/>notes|"
   ]
  },
  {
   "cell_type": "markdown",
   "metadata": {},
   "source": [
    "### class Note( ) :"
   ]
  },
  {
   "cell_type": "code",
   "execution_count": 72,
   "metadata": {},
   "outputs": [],
   "source": [
    "class Note() :\n",
    "    def __init__(self, content = None) :    # class 객체 지정\n",
    "        self.content = content\n",
    "\n",
    "    def write_content(self, content) :\n",
    "        self.content = content\n",
    "\n",
    "    def remove_all(self) :\n",
    "        self.content = ''\n",
    "\n",
    "    def __add__(self, othet) :\n",
    "        return self.content + self.other\n",
    "\n",
    "    def __str__(self) :\n",
    "        return self.content"
   ]
  },
  {
   "cell_type": "markdown",
   "metadata": {},
   "source": [
    "### class Notebook( ) :"
   ]
  },
  {
   "cell_type": "code",
   "execution_count": 109,
   "metadata": {},
   "outputs": [],
   "source": [
    "class Notebook() :\n",
    "    def __init__(self, title) :\n",
    "        self.title = title      # Notebook 이름 지정\n",
    "        self.page = 0           # 공백 page 생성\n",
    "        self.notes = {}         # {page : note} 매핑 할 공백 notes 생성\n",
    "\n",
    "    def add_note(self, note) :\n",
    "        if self.page < 10 :                # 10 페이지 전까지 (if 9페이지 후 +1 페이지 하기 떄문)\n",
    "            self.page += 1                       # note 값을 저장하면서 page 값을 하나씩 상승\n",
    "            self.notes[self.page] = note         # note 검색 매핑\n",
    "        else :\n",
    "            print('Page 가 모두 채워 졌습니다') # 10 페이지 초과 시\n",
    "\n",
    "    def notebook_page(self) :\n",
    "        return self.page"
   ]
  },
  {
   "cell_type": "code",
   "execution_count": 111,
   "metadata": {},
   "outputs": [],
   "source": [
    "a = Note('1st note')\n",
    "b = Note('2nd note')\n",
    "c = Note('3rd note')\n",
    "d = Note('4th note')\n",
    "e = Note('5th note')"
   ]
  },
  {
   "cell_type": "code",
   "execution_count": 114,
   "metadata": {},
   "outputs": [
    {
     "name": "stdout",
     "output_type": "stream",
     "text": [
      "1\n",
      "2\n",
      "3\n",
      "4\n",
      "5\n",
      "1st note\n"
     ]
    }
   ],
   "source": [
    "my_notebook = Notebook('파이썬 강의')\n",
    "\n",
    "my_notebook.add_note(a)\n",
    "print(my_notebook.notebook_page())\n",
    "my_notebook.add_note(b)\n",
    "print(my_notebook.notebook_page())\n",
    "my_notebook.add_note(c)\n",
    "print(my_notebook.notebook_page())\n",
    "my_notebook.add_note(d)\n",
    "print(my_notebook.notebook_page())\n",
    "my_notebook.add_note(e)\n",
    "print(my_notebook.notebook_page())\n",
    "\n",
    "print(my_notebook.notes[1])"
   ]
  },
  {
   "cell_type": "markdown",
   "metadata": {},
   "source": [
    "## 03 - 객체지향 특성\n",
    "1. Inheritance (상속)\n",
    "    - 부모 class로 부터 속성과 method 를 물려받은 자식 class를 생성하는 것\n",
    "2. Polymorphism (다형성)\n",
    "3. Visibility ( = hidden class)"
   ]
  },
  {
   "cell_type": "markdown",
   "metadata": {},
   "source": [
    "### Inheritance (상속)\n",
    "- 부모 class로 부터 속성과 method 를 물려받은 자식 class를 생성하는 것"
   ]
  },
  {
   "cell_type": "markdown",
   "metadata": {},
   "source": [
    "#### EX_01 : class 상속"
   ]
  },
  {
   "cell_type": "code",
   "execution_count": 117,
   "metadata": {},
   "outputs": [
    {
     "name": "stdout",
     "output_type": "stream",
     "text": [
      "Kyusik\n"
     ]
    }
   ],
   "source": [
    "# EX - 01\n",
    "\n",
    "class Person() :\n",
    "    def __init__(self, name, age) :\n",
    "        self.name = name\n",
    "        self.age = age\n",
    "\n",
    "class Koream(Person) :\n",
    "    pass\n",
    "\n",
    "first_korea = Koream('Kyusik', 31)\n",
    "    # Korean class 엔 어떤 속성도 정의 되어있지 않지만 부모클래스를 지정함으로써 부모클래스의 기능을 사용할 수 있다\n",
    "\n",
    "print(first_korea.name)"
   ]
  },
  {
   "cell_type": "markdown",
   "metadata": {},
   "source": [
    "#### EX_02 : super() 객체,함수 상속"
   ]
  },
  {
   "cell_type": "code",
   "execution_count": 136,
   "metadata": {},
   "outputs": [],
   "source": [
    "class Person() :\n",
    "    def __init__(self, name, age, gender) :\n",
    "        # 속성값 지정\n",
    "            # 해당 객체가 class 의 attribute 임을 명확히하기 위해 \n",
    "        self.name = name\n",
    "        self.age = age\n",
    "        self.gender = gender\n",
    "\n",
    "    def about_me(self) :\n",
    "        print('이름 : {}, 나이 : {}, 성별 : {}'.format(self.name, self.age, self.gender))\n",
    "\n",
    "    def __str__(self) :\n",
    "        return '이름 : {}, 나이 : {}, 성별 : {}'.format(self.name, self.age, self.gender)\n",
    "\n",
    "\n",
    "\n",
    "class Employee(Person) :    # 부모 클래스의 객체와 method 를 사용할 수 있음\n",
    "    def __init__(self, name, age, gender, salary, hire_date) :\n",
    "        super().__init__(name, age, gender)\n",
    "            # super 를 통해 부모 class의 객체를 간접적으로 사용 (별도의 지정 필요없음)\n",
    "        self.salary = salary\n",
    "        self.hire_date = hire_date\n",
    "\n",
    "    def do_work(self) :\n",
    "        print('열심히 일을 합시다')\n",
    "\n",
    "    def about_me(self) :    # 부모 클래스의 method 재정의\n",
    "        super().about_me()  # 부모 클래스의 함수 사용 (객체는 __init__ 지정시 지정완료)\n",
    "        print('  -> 급여 : {:,.0f}, 입사일 : {}'.format(self.salary, self.hire_date)) # 추가적인 동작 재정의"
   ]
  },
  {
   "cell_type": "code",
   "execution_count": 137,
   "metadata": {},
   "outputs": [
    {
     "name": "stdout",
     "output_type": "stream",
     "text": [
      "이름 : john, 나이 : 34, 성별 : male\n",
      "이름 : Daeho, 나이 : 34, 성별 : male\n",
      "  -> 급여 : 30,000, 입사일 : 2022/06/06\n"
     ]
    }
   ],
   "source": [
    "myperson = Person('john', 34, 'male')\n",
    "myemployee = Employee('Daeho', 34, 'male', 30000, '2022/06/06')\n",
    "\n",
    "myperson.about_me()\n",
    "myemployee.about_me()"
   ]
  },
  {
   "cell_type": "markdown",
   "metadata": {},
   "source": [
    "### Polymorphism (다형성)\n",
    "- 같은 이름의 메소드 내부로직을 다르게 작성\n",
    "- Dynamic Typing 특성으로 인해 Python 에서는 같은 부모클래스의 상속에서 주로 발생\n",
    "- 중요한 OOP 의 개념 그러나 너무 깊이 알 필요 X\n",
    "- EX\n",
    "    - 개념적으로는 같은 일을 하지만, 세부적으론 다르게 작업을 진행할때\n",
    "    \n",
    "    - 부모\n",
    "        - 클래스 : Shape\n",
    "        - 메소드 : draw( )\n",
    "    - 자식_1\n",
    "        - 클래스 Circle\n",
    "        - 메소드 : draw_1( )\n",
    "    - 자식_2\n",
    "        - 클래스 Rectangle\n",
    "        - 메소드 : draw_2( )\n",
    "    - 자식_3\n",
    "        - 클래스 Square\n",
    "        - 메소드 : draw_3( )"
   ]
  },
  {
   "cell_type": "markdown",
   "metadata": {},
   "source": [
    "#### EX_01"
   ]
  },
  {
   "cell_type": "code",
   "execution_count": 138,
   "metadata": {},
   "outputs": [],
   "source": [
    "class Animal() :\n",
    "    def __init__(self, name) :  # constructor of the class\n",
    "        self.name = name\n",
    "\n",
    "    def talk(self) :\n",
    "        raise NotImplementedError('Subclass must implement abstract method')    # 자식 class 에서 해당 method 동작 지정\n",
    "\n",
    "# talk method 지정 1\n",
    "class Cat(Animal) :\n",
    "    def talk(self) :\n",
    "        return 'Meow!'\n",
    "\n",
    "# talk method 지정 2\n",
    "class Dog(Animal) :\n",
    "    def talk(self) :\n",
    "        return 'Woof! Woof!'"
   ]
  },
  {
   "cell_type": "code",
   "execution_count": 143,
   "metadata": {},
   "outputs": [
    {
     "name": "stdout",
     "output_type": "stream",
     "text": [
      "Missy : Meow!\n",
      "Mr. Mistoffelees : Meow!\n",
      "Lassie : Woof! Woof!\n"
     ]
    }
   ],
   "source": [
    "animals = [Cat('Missy'), Cat('Mr. Mistoffelees'), Dog('Lassie')]\n",
    "\n",
    "for animal in animals :\n",
    "    print(animal.name + ' : ' + animal.talk())\n",
    "    # animal.name 은 부모 class 로 부터 동작\n",
    "    # return 값이 있는 method 는 ( ) 를 마지막에 처리해 주어야 함"
   ]
  },
  {
   "cell_type": "markdown",
   "metadata": {},
   "source": [
    "### Visibility (가시성)\n",
    "- hidden class\n",
    "    - 객체의 정보를 볼 수 있는 레벨을 조절하는 것\n",
    "    - 누구나 객체 안의 모든 변수를 볼 필요가 없음\n",
    "        - 객체를 사용하는 사용자가 임의로 정보 수정 방지\n",
    "        - 필요 없는 정보에는 접근 할 필요가 없음\n",
    "        - 만약 제품으로 판매한다면? 소스의 보호\n",
    "            - Encapsulation\n",
    "                - 캡슐화 또는 정보 은닉 (Information Hiding)\n",
    "                - Class 를 설계할 때, class 간 간섭/정보공유의 최소화\n",
    "                    - 심판 클래스가 축구선수 클래스 가족 정보를 알아야 하나?\n",
    "                    - 캡슐을 던지듯, 인터페이스만 알아서 써야함\n",
    "\n",
    "- Visibility EX\n",
    "    - Product 객체를 Inventory 객체에 추가\n",
    "    - Inventory 엥는 오직 Product 객체만 들어감\n",
    "    - Inventory 에 Product 가 몇 개인지 확인이 필요\n",
    "    - Inventory 에 Product items 는 접근이 불가"
   ]
  },
  {
   "cell_type": "markdown",
   "metadata": {},
   "source": [
    "#### EX_01 : a (접근 가능)"
   ]
  },
  {
   "cell_type": "code",
   "execution_count": 162,
   "metadata": {},
   "outputs": [],
   "source": [
    "class Product() :\n",
    "    pass\n",
    "\n",
    "class Inventory() :\n",
    "    def __init__(self) :\n",
    "        self.items = []       # Private 변수로 선언 : 타객체가 접근 불가\n",
    "\n",
    "    def add_new_Item(self, product) :\n",
    "        if type(product) == Product :\n",
    "            self.items.append(product)\n",
    "            print('new Item added')\n",
    "        else :\n",
    "            print('Invalaid type of Item')\n",
    "\n",
    "    def get_number_of_product(self) :\n",
    "        return len(self.items)        # 아마 접근이 불가능"
   ]
  },
  {
   "cell_type": "code",
   "execution_count": 163,
   "metadata": {},
   "outputs": [
    {
     "name": "stdout",
     "output_type": "stream",
     "text": [
      "new Item added\n",
      "new Item added\n",
      "[<__main__.Product object at 0x107538ac0>, <__main__.Product object at 0x109d5c220>, 'abc', 'abc', 'abc', 'abc']\n"
     ]
    },
    {
     "data": {
      "text/plain": [
       "6"
      ]
     },
     "execution_count": 163,
     "metadata": {},
     "output_type": "execute_result"
    }
   ],
   "source": [
    "my_inventory = Inventory()\n",
    "my_inventory.add_new_Item(Product())\n",
    "my_inventory.add_new_Item(Product())\n",
    "my_inventory.items.append('abc')\n",
    "my_inventory.items.append('abc')\n",
    "my_inventory.items.append('abc')\n",
    "my_inventory.items.append('abc')\n",
    "print(my_inventory.items)\n",
    "\n",
    "my_inventory.get_number_of_product()"
   ]
  },
  {
   "cell_type": "markdown",
   "metadata": {},
   "source": [
    "#### EX_02 : __a (접근 차단)"
   ]
  },
  {
   "cell_type": "code",
   "execution_count": 169,
   "metadata": {},
   "outputs": [],
   "source": [
    "class Product() :\n",
    "    pass\n",
    "\n",
    "class Inventory() :\n",
    "    def __init__(self) :\n",
    "        self.__items = []       # Private 변수로 선언 : 타객체가 접근 불가\n",
    "\n",
    "    def add_new_Item(self, product) :\n",
    "        if type(product) == Product :\n",
    "            self.__items.append(product)\n",
    "            print('new Item added')\n",
    "        else :\n",
    "            print('Invalaid type of Item')\n",
    "\n",
    "    def get_number_of_product(self) :\n",
    "        return len(self.__items)        # 아마 접근이 불가능\n",
    "\n",
    "    @property\n",
    "    def items(self) :\n",
    "        return self.__items"
   ]
  },
  {
   "cell_type": "code",
   "execution_count": 170,
   "metadata": {},
   "outputs": [
    {
     "name": "stdout",
     "output_type": "stream",
     "text": [
      "new Item added\n",
      "new Item added\n"
     ]
    },
    {
     "ename": "AttributeError",
     "evalue": "'Inventory' object has no attribute '__items'",
     "output_type": "error",
     "traceback": [
      "\u001b[0;31m---------------------------------------------------------------------------\u001b[0m",
      "\u001b[0;31mAttributeError\u001b[0m                            Traceback (most recent call last)",
      "\u001b[1;32m/Users/parkkyusik/Library/Mobile Documents/com~apple~CloudDocs/VScode/AI_Tech/Pre_course/Python/python_basic.ipynb Cell 37'\u001b[0m in \u001b[0;36m<cell line: 4>\u001b[0;34m()\u001b[0m\n\u001b[1;32m      <a href='vscode-notebook-cell:/Users/parkkyusik/Library/Mobile%20Documents/com~apple~CloudDocs/VScode/AI_Tech/Pre_course/Python/python_basic.ipynb#ch0000037?line=1'>2</a>\u001b[0m my_inventory\u001b[39m.\u001b[39madd_new_Item(Product())\n\u001b[1;32m      <a href='vscode-notebook-cell:/Users/parkkyusik/Library/Mobile%20Documents/com~apple~CloudDocs/VScode/AI_Tech/Pre_course/Python/python_basic.ipynb#ch0000037?line=2'>3</a>\u001b[0m my_inventory\u001b[39m.\u001b[39madd_new_Item(Product())\n\u001b[0;32m----> <a href='vscode-notebook-cell:/Users/parkkyusik/Library/Mobile%20Documents/com~apple~CloudDocs/VScode/AI_Tech/Pre_course/Python/python_basic.ipynb#ch0000037?line=3'>4</a>\u001b[0m my_inventory\u001b[39m.\u001b[39;49m__items\u001b[39m.\u001b[39mappend(\u001b[39m'\u001b[39m\u001b[39mabc\u001b[39m\u001b[39m'\u001b[39m)\n\u001b[1;32m      <a href='vscode-notebook-cell:/Users/parkkyusik/Library/Mobile%20Documents/com~apple~CloudDocs/VScode/AI_Tech/Pre_course/Python/python_basic.ipynb#ch0000037?line=4'>5</a>\u001b[0m my_inventory\u001b[39m.\u001b[39m__items\u001b[39m.\u001b[39mappend(\u001b[39m'\u001b[39m\u001b[39mabc\u001b[39m\u001b[39m'\u001b[39m)\n\u001b[1;32m      <a href='vscode-notebook-cell:/Users/parkkyusik/Library/Mobile%20Documents/com~apple~CloudDocs/VScode/AI_Tech/Pre_course/Python/python_basic.ipynb#ch0000037?line=5'>6</a>\u001b[0m my_inventory\u001b[39m.\u001b[39m__items\u001b[39m.\u001b[39mappend(\u001b[39m'\u001b[39m\u001b[39mabc\u001b[39m\u001b[39m'\u001b[39m)\n",
      "\u001b[0;31mAttributeError\u001b[0m: 'Inventory' object has no attribute '__items'"
     ]
    }
   ],
   "source": [
    "my_inventory = Inventory()\n",
    "my_inventory.add_new_Item(Product())\n",
    "my_inventory.add_new_Item(Product())\n",
    "my_inventory.__items.append('abc')\n",
    "my_inventory.__items.append('abc')\n",
    "my_inventory.__items.append('abc')\n",
    "my_inventory.__items.append('abc')\n",
    "print(my_inventory.__items)\n",
    "\n",
    "my_inventory.get_number_of_product()"
   ]
  },
  {
   "cell_type": "markdown",
   "metadata": {},
   "source": [
    "#### EX_03 : 접근 재허용\n",
    "- 솔직히 뭔 개소린지 잘 모르겠다"
   ]
  },
  {
   "cell_type": "code",
   "execution_count": 171,
   "metadata": {},
   "outputs": [],
   "source": [
    "class Product() :\n",
    "    pass\n",
    "\n",
    "class Inventory() :\n",
    "    def __init__(self) :\n",
    "        self.__items = []       # Private 변수로 선언 : 타객체가 접근 불가\n",
    "\n",
    "    def add_new_Item(self, product) :\n",
    "        if type(product) == Product :\n",
    "            self.__items.append(product)\n",
    "            print('new Item added')\n",
    "        else :\n",
    "            print('Invalaid type of Item')\n",
    "\n",
    "    def get_number_of_product(self) :\n",
    "        return len(self.__items)        # 아마 접근이 불가능\n",
    "\n",
    "    @property\n",
    "    def items(self) :\n",
    "        return self.__items\n",
    "        #  외부에서는 안되지만 내부에서는 접근이 가능하도록 허용\n",
    "            #  @property  : property decorator 숨겨진 변수를 반환하게 해줌"
   ]
  },
  {
   "cell_type": "code",
   "execution_count": 172,
   "metadata": {},
   "outputs": [
    {
     "name": "stdout",
     "output_type": "stream",
     "text": [
      "new Item added\n",
      "new Item added\n",
      "[<__main__.Product object at 0x109d474c0>, <__main__.Product object at 0x109c33070>, 'abc', 'abc', 'abc', 'abc']\n"
     ]
    },
    {
     "data": {
      "text/plain": [
       "6"
      ]
     },
     "execution_count": 172,
     "metadata": {},
     "output_type": "execute_result"
    }
   ],
   "source": [
    "my_inventory = Inventory()\n",
    "my_inventory.add_new_Item(Product())\n",
    "my_inventory.add_new_Item(Product())\n",
    "my_inventory.items.append('abc')\n",
    "my_inventory.items.append('abc')\n",
    "my_inventory.items.append('abc')\n",
    "my_inventory.items.append('abc')\n",
    "print(my_inventory.items)\n",
    "\n",
    "my_inventory.get_number_of_product()"
   ]
  },
  {
   "cell_type": "markdown",
   "metadata": {},
   "source": [
    "### Decorate\n",
    "- first-class object : 일급 함수\n",
    "    - Python 의 함수는 일급 함수\n",
    "    - 정의\n",
    "        - 변수나 데이터 구조에 할당이 가능한 객체\n",
    "        - parameter 전달이 가능 + 리턴 값으로 사용\n",
    "\n",
    "- inner function\n",
    "    - closure 장점\n",
    "        - 같은 이름으로도 다양한 목적의 함수를 생성할 수 있음\n",
    "        - Polymorphism 과 유사함?\n",
    "- decorator\n",
    "    - 복작한 클로져 함수를 간단하게\n"
   ]
  },
  {
   "cell_type": "markdown",
   "metadata": {},
   "source": [
    "#### First class object"
   ]
  },
  {
   "cell_type": "markdown",
   "metadata": {},
   "source": [
    "EX_01\n",
    "- 함수를 파라메타로 활용한 예시"
   ]
  },
  {
   "cell_type": "code",
   "execution_count": 5,
   "metadata": {},
   "outputs": [],
   "source": [
    "# 함수 및 함수를 객체로 갖는 함수 생성\n",
    "\n",
    "def square(x) :\n",
    "    return x * x\n",
    "\n",
    "def cube(x) :\n",
    "    return x * x * x\n",
    "\n",
    "def fomula(method, argument_list) : \n",
    "    # 함수를 parameter 로 활용 \n",
    "        # method : 함수명\n",
    "            # argument_list : x_list (객체 리스트)\n",
    "    return [method(value) for value in argument_list]"
   ]
  },
  {
   "cell_type": "code",
   "execution_count": 6,
   "metadata": {},
   "outputs": [
    {
     "name": "stdout",
     "output_type": "stream",
     "text": [
      "[1, 4, 9, 16, 25]\n",
      "[1, 8, 27, 64, 125]\n"
     ]
    }
   ],
   "source": [
    "# 함수 실행\n",
    "x_list = [1,2,3,4,5]\n",
    "\n",
    "print(fomula(square, x_list))\n",
    "print(fomula(cube, x_list))"
   ]
  },
  {
   "cell_type": "markdown",
   "metadata": {},
   "source": [
    "#### Inner Function"
   ]
  },
  {
   "cell_type": "markdown",
   "metadata": {},
   "source": [
    "EX_01\n",
    "- 함수 내에 또 다른 함수가 존재"
   ]
  },
  {
   "cell_type": "code",
   "execution_count": 24,
   "metadata": {},
   "outputs": [
    {
     "name": "stdout",
     "output_type": "stream",
     "text": [
      "Hello, Python!\n"
     ]
    }
   ],
   "source": [
    "def print_msg(msg) :\n",
    "    def printer() :\n",
    "        print(msg)\n",
    "    printer()\n",
    "\n",
    "print_msg('Hello, Python!')"
   ]
  },
  {
   "cell_type": "markdown",
   "metadata": {},
   "source": [
    "EX_02\n",
    "- closure : inner function 값을 return 하는 경우"
   ]
  },
  {
   "cell_type": "code",
   "execution_count": 36,
   "metadata": {},
   "outputs": [
    {
     "name": "stdout",
     "output_type": "stream",
     "text": [
      "<function print_msg.<locals>.printer at 0x10845a040>\n",
      "Hello, Python!\n"
     ]
    }
   ],
   "source": [
    "def print_msg(msg) :\n",
    "    def printer() :\n",
    "        print(msg)\n",
    "    return printer\n",
    "\n",
    "another = print_msg('Hello, Python!')\n",
    "\n",
    "print(another)\n",
    "    # reutrn 으로 함수가 마무리 되었을때 그냥 출력하면 함수의 형태로 출력\n",
    "another()\n",
    "    # ( ) 의미는 return 값을 출력\n",
    "        # 이미 함수 자체가 print 문으로 구성된 return 이므로 print( ) 불필요 "
   ]
  },
  {
   "cell_type": "markdown",
   "metadata": {},
   "source": [
    "EX_03\n",
    "- Closure 의 장점 예시"
   ]
  },
  {
   "cell_type": "code",
   "execution_count": 37,
   "metadata": {},
   "outputs": [
    {
     "name": "stdout",
     "output_type": "stream",
     "text": [
      "<title>This is Python Class<title>\n",
      "<p>Data Academy<p>\n"
     ]
    }
   ],
   "source": [
    "def tag_func(tag, text) :\n",
    "    text = text\n",
    "    tag = tag\n",
    "\n",
    "    def inner_func() :\n",
    "        return '<{0}>{1}<{0}>'.format(tag, text)\n",
    "\n",
    "    return inner_func\n",
    "\n",
    "h1_func = tag_func('title', 'This is Python Class')\n",
    "p_func = tag_func('p', 'Data Academy')\n",
    "\n",
    "print(h1_func())\n",
    "print(p_func())"
   ]
  },
  {
   "cell_type": "markdown",
   "metadata": {},
   "source": [
    "#### Decorator Function"
   ]
  },
  {
   "cell_type": "markdown",
   "metadata": {},
   "source": [
    "EX_01"
   ]
  },
  {
   "cell_type": "code",
   "execution_count": 42,
   "metadata": {},
   "outputs": [
    {
     "name": "stdout",
     "output_type": "stream",
     "text": [
      "******************************\n",
      "Hello\n",
      "******************************\n",
      "******************************\n",
      "Py\n",
      "******************************\n"
     ]
    }
   ],
   "source": [
    "def star(func) :\n",
    "    def inner(*args, **kwargs) :\n",
    "        print('*' * 30)\n",
    "        func(*args, **kwargs)\n",
    "        print('*' * 30)\n",
    "    return inner\n",
    "\n",
    "@star\n",
    "    # 아래의 함수 값을 star func 에 대입 적용\n",
    "def printer(msg) :\n",
    "    print(msg)\n",
    "\n",
    "printer('Hello')\n",
    "printer('Py')"
   ]
  },
  {
   "cell_type": "markdown",
   "metadata": {},
   "source": [
    "EX_02\n",
    "- 다단계 구조"
   ]
  },
  {
   "cell_type": "code",
   "execution_count": 55,
   "metadata": {},
   "outputs": [
    {
     "name": "stdout",
     "output_type": "stream",
     "text": [
      "******************************\n",
      "%%%%%%%%%%%%%%%%%%%%%%%%%%%%%%\n",
      "Hello\n",
      "%%%%%%%%%%%%%%%%%%%%%%%%%%%%%%\n",
      "******************************\n"
     ]
    }
   ],
   "source": [
    "def star(func) :\n",
    "    def inner(*args) :\n",
    "        print('*' * 30)\n",
    "        func(*args)\n",
    "        print('*' * 30)\n",
    "    return inner\n",
    "\n",
    "\n",
    "def percent(func) :\n",
    "    def inner(*args, **kwargs) :\n",
    "        print('%' * 30)\n",
    "        func(*args, **kwargs)\n",
    "        print('%' * 30)\n",
    "    return inner\n",
    "\n",
    "@star\n",
    "@percent\n",
    "    # 다단계 구조\n",
    "    # star 안에 percent 삽입\n",
    "    # percent 안에 printer 삽입\n",
    "def printer(msg) :\n",
    "    print(msg)\n",
    "\n",
    "printer('Hello')"
   ]
  },
  {
   "cell_type": "markdown",
   "metadata": {},
   "source": [
    "EX_03\n",
    "- 조금 더 복잡한 코드"
   ]
  },
  {
   "cell_type": "code",
   "execution_count": 56,
   "metadata": {},
   "outputs": [
    {
     "name": "stdout",
     "output_type": "stream",
     "text": [
      "562,949,953,421,312\n"
     ]
    }
   ],
   "source": [
    "def generate_power(exponent) :\n",
    "    def wrapper(f) :\n",
    "        def inner(*args) :\n",
    "            result = f(*args)\n",
    "            return '{:,}'.format(exponent ** result)\n",
    "        return inner\n",
    "    return wrapper\n",
    "\n",
    "@generate_power(2)\n",
    "def raise_two(n) :\n",
    "    return n ** 2\n",
    "\n",
    "# 함수의 구성\n",
    "    # raise_two(n) : n^2 함수를 generate_power() 를 지나 wrapper(f) 의 f 에 삽입 된다\n",
    "        # result = f(*args) = raise_two(n) = 7**2 = 7*7 = 49\n",
    "            # return : inner = exponent ** result = 2**49 = 569,949,953,421,312\n",
    "                # return : wrapper = return : inner = 569,949,953,421,312\n",
    "                    # return : generate_power = return : wrapper = 569,949,953,421,312\n",
    "\n",
    "print(raise_two(7))"
   ]
  },
  {
   "cell_type": "markdown",
   "metadata": {},
   "source": [
    "# 02 : 모듈 + 패키지 & 프로젝트"
   ]
  },
  {
   "cell_type": "markdown",
   "metadata": {},
   "source": [
    "## Module\n",
    "- Python 의 module == .py 파일\n",
    "- 같은 디렉토리에 module 에 해당하는 .py 파일과 사용하는 .py 파일을 저장한 후\n",
    "- import 문을 사용해서 module 을 호출"
   ]
  },
  {
   "cell_type": "code",
   "execution_count": 8,
   "metadata": {},
   "outputs": [
    {
     "name": "stdout",
     "output_type": "stream",
     "text": [
      "Enter a celcius value : \n",
      "That's  106.88000000000001 degrees Fahrenheit\n"
     ]
    }
   ],
   "source": [
    "# fah_converter.py\n",
    "    # def convert_c_to_f(celcius_value) :\n",
    "    #     return celcius_value * 9.0 / 5 + 32\n",
    "\n",
    "import fah_converter    # 동일 디렉토리에 저장된 fah_converter.py 파일을 import\n",
    "\n",
    "print('Enter a celcius value : ')\n",
    "celsius = float(input())\n",
    "fahrenheit = fah_converter.convert_c_to_f(celsius)  # 모듈명.함수명(객체명)\n",
    "print(\"That's \", fahrenheit, 'degrees Fahrenheit')"
   ]
  },
  {
   "cell_type": "markdown",
   "metadata": {},
   "source": [
    "### 01 - as, from, import 구분\n",
    "- modole 을 호출할 때 범위 정하는 방법\n",
    "- module 안에는 함수와 클래스 등이 존재 가능\n",
    "- 필요한 내용만 골라서 로출 할 수 있음\n",
    "- from 과 import 키워드를 사용함"
   ]
  },
  {
   "cell_type": "markdown",
   "metadata": {},
   "source": [
    "#### as : Alias (별칭)"
   ]
  },
  {
   "cell_type": "code",
   "execution_count": 5,
   "metadata": {},
   "outputs": [
    {
     "name": "stdout",
     "output_type": "stream",
     "text": [
      "106.88000000000001\n"
     ]
    }
   ],
   "source": [
    "import fah_converter as fah\n",
    "print(fah.convert_c_to_f(41.6))"
   ]
  },
  {
   "cell_type": "markdown",
   "metadata": {},
   "source": [
    "#### 특정 class 만 호출"
   ]
  },
  {
   "cell_type": "code",
   "execution_count": 6,
   "metadata": {},
   "outputs": [
    {
     "name": "stdout",
     "output_type": "stream",
     "text": [
      "106.88000000000001\n"
     ]
    }
   ],
   "source": [
    "from fah_converter import convert_c_to_f\n",
    "\n",
    "print(convert_c_to_f(41.6))"
   ]
  },
  {
   "cell_type": "markdown",
   "metadata": {},
   "source": [
    "#### 함수 또는 class 호출"
   ]
  },
  {
   "cell_type": "code",
   "execution_count": 7,
   "metadata": {},
   "outputs": [
    {
     "name": "stdout",
     "output_type": "stream",
     "text": [
      "106.88000000000001\n"
     ]
    }
   ],
   "source": [
    "from fah_converter import *\n",
    "print(convert_c_to_f(41.6)) # 전체 호출"
   ]
  },
  {
   "cell_type": "markdown",
   "metadata": {},
   "source": [
    "### 02 - Python 기본 모듈"
   ]
  },
  {
   "cell_type": "markdown",
   "metadata": {},
   "source": [
    "#### random : 난수"
   ]
  },
  {
   "cell_type": "code",
   "execution_count": 9,
   "metadata": {},
   "outputs": [
    {
     "data": {
      "text/plain": [
       "89"
      ]
     },
     "execution_count": 9,
     "metadata": {},
     "output_type": "execute_result"
    }
   ],
   "source": [
    "import random\n",
    "\n",
    "random.randint(1,100)"
   ]
  },
  {
   "cell_type": "markdown",
   "metadata": {},
   "source": [
    "#### time : 시간"
   ]
  },
  {
   "cell_type": "code",
   "execution_count": 75,
   "metadata": {},
   "outputs": [
    {
     "data": {
      "text/plain": [
       "time.struct_time(tm_year=2022, tm_mon=7, tm_mday=10, tm_hour=21, tm_min=15, tm_sec=33, tm_wday=6, tm_yday=191, tm_isdst=0)"
      ]
     },
     "execution_count": 75,
     "metadata": {},
     "output_type": "execute_result"
    }
   ],
   "source": [
    "import time\n",
    "\n",
    "time.localtime()"
   ]
  },
  {
   "cell_type": "markdown",
   "metadata": {},
   "source": [
    "#### urllib.request : 웹 데이터 다운로드"
   ]
  },
  {
   "cell_type": "code",
   "execution_count": 76,
   "metadata": {},
   "outputs": [
    {
     "ename": "URLError",
     "evalue": "<urlopen error [Errno 8] nodename nor servname provided, or not known>",
     "output_type": "error",
     "traceback": [
      "\u001b[0;31m---------------------------------------------------------------------------\u001b[0m",
      "\u001b[0;31mgaierror\u001b[0m                                  Traceback (most recent call last)",
      "File \u001b[0;32m/opt/homebrew/Caskroom/miniforge/base/envs/m1/lib/python3.8/urllib/request.py:1354\u001b[0m, in \u001b[0;36mAbstractHTTPHandler.do_open\u001b[0;34m(self, http_class, req, **http_conn_args)\u001b[0m\n\u001b[1;32m   1353\u001b[0m \u001b[39mtry\u001b[39;00m:\n\u001b[0;32m-> 1354\u001b[0m     h\u001b[39m.\u001b[39;49mrequest(req\u001b[39m.\u001b[39;49mget_method(), req\u001b[39m.\u001b[39;49mselector, req\u001b[39m.\u001b[39;49mdata, headers,\n\u001b[1;32m   1355\u001b[0m               encode_chunked\u001b[39m=\u001b[39;49mreq\u001b[39m.\u001b[39;49mhas_header(\u001b[39m'\u001b[39;49m\u001b[39mTransfer-encoding\u001b[39;49m\u001b[39m'\u001b[39;49m))\n\u001b[1;32m   1356\u001b[0m \u001b[39mexcept\u001b[39;00m \u001b[39mOSError\u001b[39;00m \u001b[39mas\u001b[39;00m err: \u001b[39m# timeout error\u001b[39;00m\n",
      "File \u001b[0;32m/opt/homebrew/Caskroom/miniforge/base/envs/m1/lib/python3.8/http/client.py:1256\u001b[0m, in \u001b[0;36mHTTPConnection.request\u001b[0;34m(self, method, url, body, headers, encode_chunked)\u001b[0m\n\u001b[1;32m   1255\u001b[0m \u001b[39m\"\"\"Send a complete request to the server.\"\"\"\u001b[39;00m\n\u001b[0;32m-> 1256\u001b[0m \u001b[39mself\u001b[39;49m\u001b[39m.\u001b[39;49m_send_request(method, url, body, headers, encode_chunked)\n",
      "File \u001b[0;32m/opt/homebrew/Caskroom/miniforge/base/envs/m1/lib/python3.8/http/client.py:1302\u001b[0m, in \u001b[0;36mHTTPConnection._send_request\u001b[0;34m(self, method, url, body, headers, encode_chunked)\u001b[0m\n\u001b[1;32m   1301\u001b[0m     body \u001b[39m=\u001b[39m _encode(body, \u001b[39m'\u001b[39m\u001b[39mbody\u001b[39m\u001b[39m'\u001b[39m)\n\u001b[0;32m-> 1302\u001b[0m \u001b[39mself\u001b[39;49m\u001b[39m.\u001b[39;49mendheaders(body, encode_chunked\u001b[39m=\u001b[39;49mencode_chunked)\n",
      "File \u001b[0;32m/opt/homebrew/Caskroom/miniforge/base/envs/m1/lib/python3.8/http/client.py:1251\u001b[0m, in \u001b[0;36mHTTPConnection.endheaders\u001b[0;34m(self, message_body, encode_chunked)\u001b[0m\n\u001b[1;32m   1250\u001b[0m     \u001b[39mraise\u001b[39;00m CannotSendHeader()\n\u001b[0;32m-> 1251\u001b[0m \u001b[39mself\u001b[39;49m\u001b[39m.\u001b[39;49m_send_output(message_body, encode_chunked\u001b[39m=\u001b[39;49mencode_chunked)\n",
      "File \u001b[0;32m/opt/homebrew/Caskroom/miniforge/base/envs/m1/lib/python3.8/http/client.py:1011\u001b[0m, in \u001b[0;36mHTTPConnection._send_output\u001b[0;34m(self, message_body, encode_chunked)\u001b[0m\n\u001b[1;32m   1010\u001b[0m \u001b[39mdel\u001b[39;00m \u001b[39mself\u001b[39m\u001b[39m.\u001b[39m_buffer[:]\n\u001b[0;32m-> 1011\u001b[0m \u001b[39mself\u001b[39;49m\u001b[39m.\u001b[39;49msend(msg)\n\u001b[1;32m   1013\u001b[0m \u001b[39mif\u001b[39;00m message_body \u001b[39mis\u001b[39;00m \u001b[39mnot\u001b[39;00m \u001b[39mNone\u001b[39;00m:\n\u001b[1;32m   1014\u001b[0m \n\u001b[1;32m   1015\u001b[0m     \u001b[39m# create a consistent interface to message_body\u001b[39;00m\n",
      "File \u001b[0;32m/opt/homebrew/Caskroom/miniforge/base/envs/m1/lib/python3.8/http/client.py:951\u001b[0m, in \u001b[0;36mHTTPConnection.send\u001b[0;34m(self, data)\u001b[0m\n\u001b[1;32m    950\u001b[0m \u001b[39mif\u001b[39;00m \u001b[39mself\u001b[39m\u001b[39m.\u001b[39mauto_open:\n\u001b[0;32m--> 951\u001b[0m     \u001b[39mself\u001b[39;49m\u001b[39m.\u001b[39;49mconnect()\n\u001b[1;32m    952\u001b[0m \u001b[39melse\u001b[39;00m:\n",
      "File \u001b[0;32m/opt/homebrew/Caskroom/miniforge/base/envs/m1/lib/python3.8/http/client.py:922\u001b[0m, in \u001b[0;36mHTTPConnection.connect\u001b[0;34m(self)\u001b[0m\n\u001b[1;32m    921\u001b[0m \u001b[39m\"\"\"Connect to the host and port specified in __init__.\"\"\"\u001b[39;00m\n\u001b[0;32m--> 922\u001b[0m \u001b[39mself\u001b[39m\u001b[39m.\u001b[39msock \u001b[39m=\u001b[39m \u001b[39mself\u001b[39;49m\u001b[39m.\u001b[39;49m_create_connection(\n\u001b[1;32m    923\u001b[0m     (\u001b[39mself\u001b[39;49m\u001b[39m.\u001b[39;49mhost,\u001b[39mself\u001b[39;49m\u001b[39m.\u001b[39;49mport), \u001b[39mself\u001b[39;49m\u001b[39m.\u001b[39;49mtimeout, \u001b[39mself\u001b[39;49m\u001b[39m.\u001b[39;49msource_address)\n\u001b[1;32m    924\u001b[0m \u001b[39mself\u001b[39m\u001b[39m.\u001b[39msock\u001b[39m.\u001b[39msetsockopt(socket\u001b[39m.\u001b[39mIPPROTO_TCP, socket\u001b[39m.\u001b[39mTCP_NODELAY, \u001b[39m1\u001b[39m)\n",
      "File \u001b[0;32m/opt/homebrew/Caskroom/miniforge/base/envs/m1/lib/python3.8/socket.py:787\u001b[0m, in \u001b[0;36mcreate_connection\u001b[0;34m(address, timeout, source_address)\u001b[0m\n\u001b[1;32m    786\u001b[0m err \u001b[39m=\u001b[39m \u001b[39mNone\u001b[39;00m\n\u001b[0;32m--> 787\u001b[0m \u001b[39mfor\u001b[39;00m res \u001b[39min\u001b[39;00m getaddrinfo(host, port, \u001b[39m0\u001b[39;49m, SOCK_STREAM):\n\u001b[1;32m    788\u001b[0m     af, socktype, proto, canonname, sa \u001b[39m=\u001b[39m res\n",
      "File \u001b[0;32m/opt/homebrew/Caskroom/miniforge/base/envs/m1/lib/python3.8/socket.py:918\u001b[0m, in \u001b[0;36mgetaddrinfo\u001b[0;34m(host, port, family, type, proto, flags)\u001b[0m\n\u001b[1;32m    917\u001b[0m addrlist \u001b[39m=\u001b[39m []\n\u001b[0;32m--> 918\u001b[0m \u001b[39mfor\u001b[39;00m res \u001b[39min\u001b[39;00m _socket\u001b[39m.\u001b[39;49mgetaddrinfo(host, port, family, \u001b[39mtype\u001b[39;49m, proto, flags):\n\u001b[1;32m    919\u001b[0m     af, socktype, proto, canonname, sa \u001b[39m=\u001b[39m res\n",
      "\u001b[0;31mgaierror\u001b[0m: [Errno 8] nodename nor servname provided, or not known",
      "\nDuring handling of the above exception, another exception occurred:\n",
      "\u001b[0;31mURLError\u001b[0m                                  Traceback (most recent call last)",
      "\u001b[1;32m/Users/parkkyusik/Library/Mobile Documents/com~apple~CloudDocs/VScode/AI_Tech/Pre_course/01_Python/01_AI_Tech.ipynb Cell 76'\u001b[0m in \u001b[0;36m<cell line: 2>\u001b[0;34m()\u001b[0m\n\u001b[1;32m      <a href='vscode-notebook-cell:/Users/parkkyusik/Library/Mobile%20Documents/com~apple~CloudDocs/VScode/AI_Tech/Pre_course/01_Python/01_AI_Tech.ipynb#ch0000075?line=0'>1</a>\u001b[0m \u001b[39mimport\u001b[39;00m \u001b[39murllib\u001b[39;00m\u001b[39m.\u001b[39;00m\u001b[39mrequest\u001b[39;00m\n\u001b[0;32m----> <a href='vscode-notebook-cell:/Users/parkkyusik/Library/Mobile%20Documents/com~apple~CloudDocs/VScode/AI_Tech/Pre_course/01_Python/01_AI_Tech.ipynb#ch0000075?line=1'>2</a>\u001b[0m response \u001b[39m=\u001b[39m urllib\u001b[39m.\u001b[39;49mrequest\u001b[39m.\u001b[39;49murlopen(\u001b[39m\"\u001b[39;49m\u001b[39mhttp://thetemlab.io\u001b[39;49m\u001b[39m\"\u001b[39;49m)\n\u001b[1;32m      <a href='vscode-notebook-cell:/Users/parkkyusik/Library/Mobile%20Documents/com~apple~CloudDocs/VScode/AI_Tech/Pre_course/01_Python/01_AI_Tech.ipynb#ch0000075?line=2'>3</a>\u001b[0m \u001b[39mprint\u001b[39m(response\u001b[39m.\u001b[39mread())\n",
      "File \u001b[0;32m/opt/homebrew/Caskroom/miniforge/base/envs/m1/lib/python3.8/urllib/request.py:222\u001b[0m, in \u001b[0;36murlopen\u001b[0;34m(url, data, timeout, cafile, capath, cadefault, context)\u001b[0m\n\u001b[1;32m    220\u001b[0m \u001b[39melse\u001b[39;00m:\n\u001b[1;32m    221\u001b[0m     opener \u001b[39m=\u001b[39m _opener\n\u001b[0;32m--> 222\u001b[0m \u001b[39mreturn\u001b[39;00m opener\u001b[39m.\u001b[39;49mopen(url, data, timeout)\n",
      "File \u001b[0;32m/opt/homebrew/Caskroom/miniforge/base/envs/m1/lib/python3.8/urllib/request.py:525\u001b[0m, in \u001b[0;36mOpenerDirector.open\u001b[0;34m(self, fullurl, data, timeout)\u001b[0m\n\u001b[1;32m    522\u001b[0m     req \u001b[39m=\u001b[39m meth(req)\n\u001b[1;32m    524\u001b[0m sys\u001b[39m.\u001b[39maudit(\u001b[39m'\u001b[39m\u001b[39murllib.Request\u001b[39m\u001b[39m'\u001b[39m, req\u001b[39m.\u001b[39mfull_url, req\u001b[39m.\u001b[39mdata, req\u001b[39m.\u001b[39mheaders, req\u001b[39m.\u001b[39mget_method())\n\u001b[0;32m--> 525\u001b[0m response \u001b[39m=\u001b[39m \u001b[39mself\u001b[39;49m\u001b[39m.\u001b[39;49m_open(req, data)\n\u001b[1;32m    527\u001b[0m \u001b[39m# post-process response\u001b[39;00m\n\u001b[1;32m    528\u001b[0m meth_name \u001b[39m=\u001b[39m protocol\u001b[39m+\u001b[39m\u001b[39m\"\u001b[39m\u001b[39m_response\u001b[39m\u001b[39m\"\u001b[39m\n",
      "File \u001b[0;32m/opt/homebrew/Caskroom/miniforge/base/envs/m1/lib/python3.8/urllib/request.py:542\u001b[0m, in \u001b[0;36mOpenerDirector._open\u001b[0;34m(self, req, data)\u001b[0m\n\u001b[1;32m    539\u001b[0m     \u001b[39mreturn\u001b[39;00m result\n\u001b[1;32m    541\u001b[0m protocol \u001b[39m=\u001b[39m req\u001b[39m.\u001b[39mtype\n\u001b[0;32m--> 542\u001b[0m result \u001b[39m=\u001b[39m \u001b[39mself\u001b[39;49m\u001b[39m.\u001b[39;49m_call_chain(\u001b[39mself\u001b[39;49m\u001b[39m.\u001b[39;49mhandle_open, protocol, protocol \u001b[39m+\u001b[39;49m\n\u001b[1;32m    543\u001b[0m                           \u001b[39m'\u001b[39;49m\u001b[39m_open\u001b[39;49m\u001b[39m'\u001b[39;49m, req)\n\u001b[1;32m    544\u001b[0m \u001b[39mif\u001b[39;00m result:\n\u001b[1;32m    545\u001b[0m     \u001b[39mreturn\u001b[39;00m result\n",
      "File \u001b[0;32m/opt/homebrew/Caskroom/miniforge/base/envs/m1/lib/python3.8/urllib/request.py:502\u001b[0m, in \u001b[0;36mOpenerDirector._call_chain\u001b[0;34m(self, chain, kind, meth_name, *args)\u001b[0m\n\u001b[1;32m    500\u001b[0m \u001b[39mfor\u001b[39;00m handler \u001b[39min\u001b[39;00m handlers:\n\u001b[1;32m    501\u001b[0m     func \u001b[39m=\u001b[39m \u001b[39mgetattr\u001b[39m(handler, meth_name)\n\u001b[0;32m--> 502\u001b[0m     result \u001b[39m=\u001b[39m func(\u001b[39m*\u001b[39;49margs)\n\u001b[1;32m    503\u001b[0m     \u001b[39mif\u001b[39;00m result \u001b[39mis\u001b[39;00m \u001b[39mnot\u001b[39;00m \u001b[39mNone\u001b[39;00m:\n\u001b[1;32m    504\u001b[0m         \u001b[39mreturn\u001b[39;00m result\n",
      "File \u001b[0;32m/opt/homebrew/Caskroom/miniforge/base/envs/m1/lib/python3.8/urllib/request.py:1383\u001b[0m, in \u001b[0;36mHTTPHandler.http_open\u001b[0;34m(self, req)\u001b[0m\n\u001b[1;32m   1382\u001b[0m \u001b[39mdef\u001b[39;00m \u001b[39mhttp_open\u001b[39m(\u001b[39mself\u001b[39m, req):\n\u001b[0;32m-> 1383\u001b[0m     \u001b[39mreturn\u001b[39;00m \u001b[39mself\u001b[39;49m\u001b[39m.\u001b[39;49mdo_open(http\u001b[39m.\u001b[39;49mclient\u001b[39m.\u001b[39;49mHTTPConnection, req)\n",
      "File \u001b[0;32m/opt/homebrew/Caskroom/miniforge/base/envs/m1/lib/python3.8/urllib/request.py:1357\u001b[0m, in \u001b[0;36mAbstractHTTPHandler.do_open\u001b[0;34m(self, http_class, req, **http_conn_args)\u001b[0m\n\u001b[1;32m   1354\u001b[0m         h\u001b[39m.\u001b[39mrequest(req\u001b[39m.\u001b[39mget_method(), req\u001b[39m.\u001b[39mselector, req\u001b[39m.\u001b[39mdata, headers,\n\u001b[1;32m   1355\u001b[0m                   encode_chunked\u001b[39m=\u001b[39mreq\u001b[39m.\u001b[39mhas_header(\u001b[39m'\u001b[39m\u001b[39mTransfer-encoding\u001b[39m\u001b[39m'\u001b[39m))\n\u001b[1;32m   1356\u001b[0m     \u001b[39mexcept\u001b[39;00m \u001b[39mOSError\u001b[39;00m \u001b[39mas\u001b[39;00m err: \u001b[39m# timeout error\u001b[39;00m\n\u001b[0;32m-> 1357\u001b[0m         \u001b[39mraise\u001b[39;00m URLError(err)\n\u001b[1;32m   1358\u001b[0m     r \u001b[39m=\u001b[39m h\u001b[39m.\u001b[39mgetresponse()\n\u001b[1;32m   1359\u001b[0m \u001b[39mexcept\u001b[39;00m:\n",
      "\u001b[0;31mURLError\u001b[0m: <urlopen error [Errno 8] nodename nor servname provided, or not known>"
     ]
    }
   ],
   "source": [
    "import urllib.request\n",
    "response = urllib.request.urlopen(\"http://thetemlab.io\")\n",
    "print(response.read())"
   ]
  },
  {
   "cell_type": "markdown",
   "metadata": {},
   "source": [
    "## Package\n",
    "- 하나의 대형 프로젝트를 만드는 코드의 묶음\n",
    "- 다양한 모듈들의 합, 폴더로 연결됨\n",
    "- \\_\\_init__ , \\_\\_main__ 등 키워드 파일명이 사용됨\n",
    "- 다양한 오픈 소스들이 모두 패키지로 관리됨"
   ]
  },
  {
   "cell_type": "markdown",
   "metadata": {},
   "source": [
    "### 01 - 기능을 별 폴더를 세분화\n",
    "> game\n",
    "\n",
    ">> image  \n",
    "\n",
    ">> sound  \n",
    "\n",
    ">> stage"
   ]
  },
  {
   "cell_type": "markdown",
   "metadata": {},
   "source": [
    "### 02 - 폴더 별 필요한 모듈을 구현\n",
    "> game \n",
    "\n",
    ">> \\_\\_init__.py  \n",
    "\n",
    ">> image  \n",
    ">>> \\_\\_init__.py  \n",
    ">>> character.py  \n",
    ">>> object.py  \n",
    "\n",
    ">> sound  \n",
    ">>> \\_\\_init__.py  \n",
    ">>> echo.py  \n",
    ">>> bgm.py  \n",
    "\n",
    ">> stage  \n",
    ">>> \\_\\_init__.py  \n",
    ">>> main.py  \n",
    ">>> sub.py  "
   ]
  },
  {
   "cell_type": "markdown",
   "metadata": {},
   "source": [
    "### 03 - 1차 test : Pytho shell"
   ]
  },
  {
   "cell_type": "code",
   "execution_count": 1,
   "metadata": {},
   "outputs": [
    {
     "data": {
      "text/plain": [
       "'Hello Echo'"
      ]
     },
     "execution_count": 1,
     "metadata": {},
     "output_type": "execute_result"
    }
   ],
   "source": [
    "from package_ex.game.sound import echo\n",
    "\n",
    "echo.echo_play()"
   ]
  },
  {
   "cell_type": "markdown",
   "metadata": {},
   "source": [
    "### 04 - 폴더별 \\_\\_init__.py 구성\n",
    "- 현재 폴더가 패키지임을 알리지 초기화 스크립트\n",
    "    - class 의 객체 지정과 동일 역할\n",
    "- 없을 경우 패키지로 간주하지 않음 (3.3 부터는 X)\n",
    "- 하위 폴더와 py 파일(모듈)을 모두 포함함\n",
    "- import 와 \\_\\_all__ keyword 사용\n",
    "    - 해당 폴더의 \\_\\_init__ .py 에 \\_\\_all__ = [ '모듈1', '모듈2', '모듈3' ] 를 지정해준다"
   ]
  },
  {
   "cell_type": "markdown",
   "metadata": {},
   "source": [
    "### 05 - \\_\\_main__ 구성 (동시실행 필요시)\n",
    "\n",
    "- \\_\\_main__ 예시\n",
    "\n",
    "> from sound import echo  \n",
    "\n",
    "> if \\_\\_name__ == '\\_\\_main__' :  \n",
    ">> print('Hello Game!')  \n",
    ">> print(echo.echo_play())  "
   ]
  },
  {
   "cell_type": "markdown",
   "metadata": {},
   "source": [
    "### 06 - 다른 폴더에서 호출 (상대참조)"
   ]
  },
  {
   "cell_type": "code",
   "execution_count": 21,
   "metadata": {},
   "outputs": [
    {
     "data": {
      "text/plain": [
       "'Hello Echo'"
      ]
     },
     "execution_count": 21,
     "metadata": {},
     "output_type": "execute_result"
    }
   ],
   "source": [
    "from package_ex.game.sound import echo\n",
    "\n",
    "echo.echo_play()"
   ]
  },
  {
   "cell_type": "markdown",
   "metadata": {},
   "source": [
    "## 오픈소스 라이브러리"
   ]
  },
  {
   "cell_type": "markdown",
   "metadata": {},
   "source": [
    "### 01 - 가상환경 설정 (Virtual Enviroment)\n",
    "- 프로젝트 진행 시 필요한 패키지만 설치하는 환경\n",
    "- 기본 인터프리터 + 프로젝트 종류별 패키지 설치\n",
    "    - 웹 프로젝트, 데이터 분석 프로젝트 및 각각 패치키를 관리할 수 있는 기능\n",
    "- 다양한 채키지 관리 도구를 사용함\n",
    "    - virtualenv + pip\n",
    "        - 가장 대표적인 가상환경 관리 도구\n",
    "    - conda\n",
    "        - 상용 가상환경도구\n",
    "        - miniconda 기본 도구\n",
    "        - 설치 용이성\n",
    "            - windows 에서 장점\n",
    "        > conda create -n 가상환경이름 python = 버전"
   ]
  },
  {
   "cell_type": "markdown",
   "metadata": {},
   "source": [
    "# 03 : File / Exception / Logging"
   ]
  },
  {
   "cell_type": "markdown",
   "metadata": {},
   "source": [
    "## 01 - Exception\n",
    "- 종류\n",
    "    - 예상이 가능한 예외\n",
    "        - 발생 원인\n",
    "            - 발생여부를 사전에 인지할 수 있는 예외\n",
    "            - 사용자의 잘못도니 입력, 파일 호출 시 파일 없음\n",
    "            - 개발자가 반드기 명시적으로 정의 해야함  \n",
    "<br/>\n",
    "    - 예상이 불가능한 예외\n",
    "        - 인터프리터 과정에서 발생하는 예외, 개발자 실수\n",
    "        - 리스트의 범위를 넘어가는 값 호출, 정수 0으로 나눔\n",
    "        - 수행 불가시 인터프리터가 자동 호출  \n",
    "<br/>\n",
    "- 처리 방법\n",
    "    1. if 조건문 구성\n",
    "    2. Exception Handling (예외 처리)\n",
    "        - Exception 을 발생시킨 후\n",
    "        - Handling 하는 방법  \n",
    "<br/>\n",
    "- Built in Exception\n",
    "    - indexError\n",
    "        - List 의 Index 범위 불일치 (초과/미달)\n",
    "    - NameError\n",
    "        - 존재하지 않는 변수 호출\n",
    "    - ZeroDivisionError\n",
    "        - 0 으로 숫자를 나눌때\n",
    "    - ValueError\n",
    "        - 변환할 수 없는 문자/숫자를 변환할 때\n",
    "    - FileNotFoundError\n",
    "        - 존재하지 않는 파일을 호출 할 때"
   ]
  },
  {
   "cell_type": "markdown",
   "metadata": {},
   "source": [
    "### try ~ except\n",
    "> try :  \n",
    ">> 예외 발생 가능 코드  \n",
    "\n",
    "> except < Exception Type > : \n",
    ">> 예외 발생시 대응 코드  "
   ]
  },
  {
   "cell_type": "markdown",
   "metadata": {},
   "source": [
    "#### EX_01\n",
    "- 0 으로 숫자를 나눌 때 예외처리 하기"
   ]
  },
  {
   "cell_type": "code",
   "execution_count": 32,
   "metadata": {},
   "outputs": [
    {
     "name": "stdout",
     "output_type": "stream",
     "text": [
      "Error\n",
      "10 Cant divided by 0\n",
      "10 / 1 = 10.00\n",
      "10 / 2 =  5.00\n",
      "10 / 3 =  3.33\n",
      "10 / 4 =  2.50\n",
      "10 / 5 =  2.00\n",
      "10 / 6 =  1.67\n",
      "10 / 7 =  1.43\n",
      "10 / 8 =  1.25\n",
      "10 / 9 =  1.11\n"
     ]
    }
   ],
   "source": [
    "for i in range(10) :\n",
    "    try :\n",
    "        print('10 / {} = {:>5.2f}'.format(i, 10/i))\n",
    "    except ZeroDivisionError :  # Python Built in Error\n",
    "        print('Error')\n",
    "        print('10 Cant divided by 0')\n",
    "    # Exception 이 발생하더라고 코드는 계속 진행된다"
   ]
  },
  {
   "cell_type": "markdown",
   "metadata": {},
   "source": [
    "#### EX_02\n",
    "- exception 두개 동시 사용"
   ]
  },
  {
   "cell_type": "code",
   "execution_count": 47,
   "metadata": {},
   "outputs": [
    {
     "name": "stdout",
     "output_type": "stream",
     "text": [
      "Error\n",
      "Cant divide by 0\n",
      "division by zero\n",
      "10 / 1 = 10.00\n",
      "name 'v' is not defined\n",
      "10 / 2 = 5.00\n",
      "name 'v' is not defined\n",
      "10 / 3 = 3.33\n",
      "name 'v' is not defined\n",
      "10 / 4 = 2.50\n",
      "name 'v' is not defined\n",
      "10 / 5 = 2.00\n",
      "name 'v' is not defined\n",
      "list index out of range\n",
      "list index out of range\n",
      "list index out of range\n",
      "list index out of range\n"
     ]
    }
   ],
   "source": [
    "a = [0,1,2,3,4,5]\n",
    "\n",
    "for i in range(10) :\n",
    "    try :\n",
    "        print('10 / {} = {:.2f}'.format(a[i], 10/i))\n",
    "        print(v)\n",
    "    except ZeroDivisionError as e :\n",
    "        print('Error')\n",
    "        print('Cant divide by {}'.format(a[i]))\n",
    "        print(e)\n",
    "    except IndexError as e :\n",
    "        print(e)\n",
    "    except Exception as e : # 전체로 Exception 으로 잡는것을 확인이 어렵기 떄문에 좋은 코드는 아니다\n",
    "        print(e)"
   ]
  },
  {
   "cell_type": "markdown",
   "metadata": {},
   "source": [
    "### try ~ except ~ else\n",
    "> try :  \n",
    ">> 예외 발생 가능 코드  \n",
    "\n",
    "> except < Exception Type > : \n",
    ">> 예외 발생시 대응 코드  \n",
    "\n",
    "> esle :\n",
    ">> 에외가 발생하지 않을 떄 동작하는 코드"
   ]
  },
  {
   "cell_type": "code",
   "execution_count": 48,
   "metadata": {},
   "outputs": [
    {
     "name": "stdout",
     "output_type": "stream",
     "text": [
      "integer division or modulo by zero\n",
      "10\n",
      "5\n",
      "3\n",
      "2\n",
      "2\n",
      "1\n",
      "1\n",
      "1\n",
      "1\n"
     ]
    }
   ],
   "source": [
    "for i in range(10) :\n",
    "    try :\n",
    "        result = 10 // i\n",
    "    except ZeroDivisionError as e :\n",
    "        print(e)\n",
    "    else :\n",
    "        print(result)"
   ]
  },
  {
   "cell_type": "markdown",
   "metadata": {},
   "source": [
    "### try ~ except ~ finally\n",
    "> try :  \n",
    ">> 예외 발생 가능 코드  \n",
    "\n",
    "> except < Exception Type > : \n",
    ">> 예외 발생시 대응 코드  \n",
    "\n",
    "> finally :\n",
    ">> 에외발생 여부와 상관없이 항상 루프의 마지막에 실행되도록하는 코드"
   ]
  },
  {
   "cell_type": "code",
   "execution_count": 53,
   "metadata": {},
   "outputs": [
    {
     "name": "stdout",
     "output_type": "stream",
     "text": [
      "integer division or modulo by zero\n",
      "-------\n",
      "10\n",
      "-------\n",
      "5\n",
      "-------\n",
      "3\n",
      "-------\n",
      "2\n",
      "-------\n"
     ]
    }
   ],
   "source": [
    "for i in range(5) :\n",
    "\n",
    "    try :\n",
    "        result = 10 // i\n",
    "        \n",
    "    except ZeroDivisionError as e :\n",
    "        print(e)\n",
    "    \n",
    "    else :\n",
    "        print(result)\n",
    "\n",
    "    finally :\n",
    "        print('-------')"
   ]
  },
  {
   "cell_type": "markdown",
   "metadata": {},
   "source": [
    "### raise 문\n",
    "- 필요에 따라 강제로 Exception 을 발생\n",
    "> raise < Exception Type > ( 예외정보 ) "
   ]
  },
  {
   "cell_type": "markdown",
   "metadata": {},
   "source": [
    "EX_01"
   ]
  },
  {
   "cell_type": "code",
   "execution_count": 61,
   "metadata": {},
   "outputs": [
    {
     "name": "stdout",
     "output_type": "stream",
     "text": [
      "정수값으로 변환된 숫자 : 11\n",
      "정수값으로 변환된 숫자 : 11\n"
     ]
    }
   ],
   "source": [
    "while True :\n",
    "    value = input(' 변환할 정수 값을 입력해 주세요 ')\n",
    "    for digit in value :\n",
    "        if digit not in '0123456789' :\n",
    "            raise ValueError ('숫자값을 입력하지 않으셨습니다')\n",
    "            \n",
    "        else :\n",
    "            print('정수값으로 변환된 숫자 :',int(value))\n",
    "    break"
   ]
  },
  {
   "cell_type": "markdown",
   "metadata": {},
   "source": [
    "### assert 문\n",
    "- 특정 조건에 만족하지 않을 경우 예외발생\n",
    "    - assert 조건에 걸렷을 경우 프로그램 구동 중단\n",
    "    - 초기에 기본적인 문제여부를 판단하기 위해 활용\n",
    "> assert 예외조건"
   ]
  },
  {
   "cell_type": "markdown",
   "metadata": {},
   "source": [
    "EX_01"
   ]
  },
  {
   "cell_type": "code",
   "execution_count": 63,
   "metadata": {},
   "outputs": [
    {
     "name": "stdout",
     "output_type": "stream",
     "text": [
      "0b1010\n"
     ]
    }
   ],
   "source": [
    "def get_binary_num(decimal_num) :\n",
    "    assert isinstance(decimal_num, int)     # 일치 여부 boolean (True 진행 / False 중지)\n",
    "    return bin(decimal_num)\n",
    "\n",
    "print(get_binary_num(10))"
   ]
  },
  {
   "cell_type": "markdown",
   "metadata": {},
   "source": [
    "## 02 - File Handling\n",
    "- 파일의 종류\n",
    "    | Binary 파일 | Text 파일 |\n",
    "    |--|--|\n",
    "    | - 컴퓨터만 이행할 수 있는 형태인 이진법 형식으로 저장된 파일 <br/> - ex) 엑셀,워드 (메모장으로 열면 깨져보임) | - 인간도 이해할 수 있는 형태인 문자열 형식으로 저장된 파일 <br/> - 메모장 확인 가능 <br/> - HTML, py 등|"
   ]
  },
  {
   "cell_type": "markdown",
   "metadata": {},
   "source": [
    "### Open & Read : 'r'"
   ]
  },
  {
   "cell_type": "markdown",
   "metadata": {},
   "source": [
    "#### open( 'a.txt' ).read()\n",
    "- .txt 파일 내용을 문자열로 반환"
   ]
  },
  {
   "cell_type": "code",
   "execution_count": 86,
   "metadata": {},
   "outputs": [
    {
     "name": "stdout",
     "output_type": "stream",
     "text": [
      "I am happy to join with you today in what will go down in history as the greatest demonstration for freedom in the history of our nation.\n",
      "\n",
      "Five score years ago, a great American, in whose symbolic shadow we stand today, signed the Emancipation Proclamation. This momentous decree came as a great beacon light of hope to millions of Negro slaves who had been seared in the flames of withering injustice. It came as a joyous daybreak to end the long night of their captivity.\n",
      "\n",
      "But one hundred years later, the Negro still is not free. One hundred years later, the life of the Negro is still sadly crippled by the manacles of segregation and the chains of discrimination. One hundred years later, the Negro lives on a lonely island of poverty in the midst of a vast ocean of material prosperity. One hundred years later, the Negro is still languished in the corners of American society and finds himself an exile in his own land. And so we've come here today to dramatize a shameful condition.\n"
     ]
    }
   ],
   "source": [
    "# 객체를 저장\n",
    "my_file = open('./file_handling_ex/i_have_a_dream.txt', 'r')\n",
    "contents = my_file.read()\n",
    "\n",
    "print(contents[:990])\n",
    "f.close()"
   ]
  },
  {
   "cell_type": "markdown",
   "metadata": {},
   "source": [
    "#### with open( 'a.txt' ) as b"
   ]
  },
  {
   "cell_type": "code",
   "execution_count": 87,
   "metadata": {},
   "outputs": [
    {
     "name": "stdout",
     "output_type": "stream",
     "text": [
      "<class 'str'> I am happy to join with you today in what will go down in history as the greatest demonstration for freedom in the history of our nation.\n",
      "\n",
      "Five score years ago, a great American, in whose symbolic shadow we stand today, signed the Emancipation Proclamation. This momentous decree came as a great beacon light of hope to millions of Negro slaves who had been seared in the flames of withering injustice. It came as a joyous daybreak to end the long night of their captivity.\n",
      "\n",
      "But one hundred years later, the Negro still is not free. One hundred years later, the life of the Negro is still sadly crippled by the manacles of segregation and the chains of discrimination. One hundred years later, the Negro lives on a lonely island of poverty in the midst of a vast ocean of material prosperity. One hundred years later, the Negro is still languished in the corners of American society and finds himself an exile in his own land. And so we've come here today to dramatize a shameful condition.\n"
     ]
    }
   ],
   "source": [
    "# 객체를 지정\n",
    "with open('./file_handling_ex/i_have_a_dream.txt', 'r') as my_file :\n",
    "    contents = my_file.read()\n",
    "    print(type(contents), contents[:990])"
   ]
  },
  {
   "cell_type": "markdown",
   "metadata": {},
   "source": [
    "#### readlines( )\n",
    "- 문단구분"
   ]
  },
  {
   "cell_type": "code",
   "execution_count": 126,
   "metadata": {},
   "outputs": [
    {
     "name": "stdout",
     "output_type": "stream",
     "text": [
      "83\n"
     ]
    }
   ],
   "source": [
    "# 문단 구분\n",
    "with open('./file_handling_ex/i_have_a_dream.txt', 'r') as my_file :\n",
    "    content_list = my_file.readlines()\n",
    "        # 한문장 씩 리스트로 저장\n",
    "        # 문단 구분(공백)도 문장\n",
    "\n",
    "content_list[:3]\n",
    "print(len(content_list))"
   ]
  },
  {
   "cell_type": "code",
   "execution_count": 129,
   "metadata": {},
   "outputs": [
    {
     "name": "stdout",
     "output_type": "stream",
     "text": [
      "83\n"
     ]
    }
   ],
   "source": [
    "file = open('./file_handling_ex/i_have_a_dream.txt', 'r')\n",
    "line_list1 = file.readlines()\n",
    "print(len(line_list1))"
   ]
  },
  {
   "cell_type": "markdown",
   "metadata": {},
   "source": [
    "#### readline( )\n",
    "- 실행시 마다 한줄씩 읽어오기\n",
    "- 처리하기엔 메모리가 너무 부담스러울 떄"
   ]
  },
  {
   "cell_type": "code",
   "execution_count": 120,
   "metadata": {},
   "outputs": [
    {
     "name": "stdout",
     "output_type": "stream",
     "text": [
      "I am happy to join with you today in what will go down in history as the greatest demonstration for freedom in the history of our nation.\n",
      "\n",
      "\n",
      "\n",
      "Five score years ago, a great American, in whose symbolic shadow we stand today, signed the Emancipation Proclamation. This momentous decree came as a great beacon light of hope to millions of Negro slaves who had been seared in the flames of withering injustice. It came as a joyous daybreak to end the long night of their captivity.\n",
      "\n"
     ]
    }
   ],
   "source": [
    "file = open('./file_handling_ex/i_have_a_dream.txt', 'r')\n",
    "for i in range(3) :\n",
    "    print(file.readline())"
   ]
  },
  {
   "cell_type": "code",
   "execution_count": 114,
   "metadata": {},
   "outputs": [
    {
     "name": "stdout",
     "output_type": "stream",
     "text": [
      "0 === I am happy to join with you today in what will go down in history as the greatest demonstration for freedom in the history of our nation.\n",
      "1 === \n",
      "2 === Five score years ago, a great American, in whose symbolic shadow we stand today, signed the Emancipation Proclamation. This momentous decree came as a great beacon light of hope to millions of Negro slaves who had been seared in the flames of withering injustice. It came as a joyous daybreak to end the long night of their captivity.\n",
      "3 === \n",
      "4 === But one hundred years later, the Negro still is not free. One hundred years later, the life of the Negro is still sadly crippled by the manacles of segregation and the chains of discrimination. One hundred years later, the Negro lives on a lonely island of poverty in the midst of a vast ocean of material prosperity. One hundred years later, the Negro is still languished in the corners of American society and finds himself an exile in his own land. And so we've come here today to dramatize a shameful condition.\n",
      "5 === \n",
      "6 === In a sense we've come to our nation's capital to cash a check. When the architects of our republic wrote the magnificent words of the Constitution and the Declaration of Independence, they were signing a promissory note to which every American was to fall heir. This note was a promise that all men, yes, black men as well as white men, would be guaranteed the \"unalienable Rights\" of \"Life, Liberty and the pursuit of Happiness.\" It is obvious today that America has defaulted on this promissory note, insofar as her citizens of color are concerned. Instead of honoring this sacred obligation, America has given the Negro people a bad check, a check which has come back marked \"insufficient funds.\"\n",
      "7 === \n",
      "8 === But we refuse to believe that the bank of justice is bankrupt. We refuse to believe that there are insufficient funds in the great vaults of opportunity of this nation. And so, we've come to cash this check, a check that will give us upon demand the riches of freedom and the security of justice.\n",
      "9 === \n",
      "10 === We have also come to this hallowed spot to remind America of the fierce urgency of Now. This is no time to engage in the luxury of cooling off or to take the tranquilizing drug of gradualism. Now is the time to make real the promises of democracy. Now is the time to rise from the dark and desolate valley of segregation to the sunlit path of racial justice. Now is the time to lift our nation from the quicksands of racial injustice to the solid rock of brotherhood. Now is the time to make justice a reality for all of God's children.\n",
      "11 === \n",
      "12 === It would be fatal for the nation to overlook the urgency of the moment. This sweltering summer of the Negro's legitimate discontent will not pass until there is an invigorating autumn of freedom and equality. Nineteen sixty-three is not an end, but a beginning. And those who hope that the Negro needed to blow off steam and will now be content will have a rude awakening if the nation returns to business as usual. And there will be neither rest nor tranquility in America until the Negro is granted his citizenship rights. The whirlwinds of revolt will continue to shake the foundations of our nation until the bright day of justice emerges.\n",
      "13 === \n",
      "14 === But there is something that I must say to my people, who stand on the warm threshold which leads into the palace of justice: In the process of gaining our rightful place, we must not be guilty of wrongful deeds. Let us not seek to satisfy our thirst for freedom by drinking from the cup of bitterness and hatred. We must forever conduct our struggle on the high plane of dignity and discipline. We must not allow our creative protest to degenerate into physical violence. Again and again, we must rise to the majestic heights of meeting physical force with soul force.\n",
      "15 === \n",
      "16 === The marvelous new militancy which has engulfed the Negro community must not lead us to a distrust of all white people, for many of our white brothers, as evidenced by their presence here today, have come to realize that their destiny is tied up with our destiny. And they have come to realize that their freedom is inextricably bound to our freedom.\n",
      "17 === \n",
      "18 === We cannot walk alone.\n",
      "19 === \n",
      "20 === And as we walk, we must make the pledge that we shall always march ahead.\n",
      "21 === \n",
      "22 === We cannot turn back.\n",
      "23 === \n",
      "24 === There are those who are asking the devotees of civil rights, \"When will you be satisfied?\" We can never be satisfied as long as the Negro is the victim of the unspeakable horrors of police brutality. We can never be satisfied as long as our bodies, heavy with the fatigue of travel, cannot gain lodging in the motels of the highways and the hotels of the cities. **We cannot be satisfied as long as the negro's basic mobility is from a smaller ghetto to a larger one. We can never be satisfied as long as our children are stripped of their self-hood and robbed of their dignity by signs stating: \"For Whites Only.\"** We cannot be satisfied as long as a Negro in Mississippi cannot vote and a Negro in New York believes he has nothing for which to vote. No, no, we are not satisfied, and we will not be satisfied until \"justice rolls down like waters, and righteousness like a mighty stream.\"\n",
      "25 === \n",
      "26 === I am not unmindful that some of you have come here out of great trials and tribulations. Some of you have come fresh from narrow jail cells. And some of you have come from areas where your quest -- quest for freedom left you battered by the storms of persecution and staggered by the winds of police brutality. You have been the veterans of creative suffering. Continue to work with the faith that unearned suffering is redemptive. Go back to Mississippi, go back to Alabama, go back to South Carolina, go back to Georgia, go back to Louisiana, go back to the slums and ghettos of our northern cities, knowing that somehow this situation can and will be changed.\n",
      "27 === \n",
      "28 === Let us not wallow in the valley of despair, I say to you today, my friends.\n",
      "29 === \n",
      "30 === And so even though we face the difficulties of today and tomorrow, I still have a dream. It is a dream deeply rooted in the American dream.\n",
      "31 === \n",
      "32 === I have a dream that one day this nation will rise up and live out the true meaning of its creed: \"We hold these truths to be self-evident, that all men are created equal.\"\n",
      "33 === \n",
      "34 === I have a dream that one day on the red hills of Georgia, the sons of former slaves and the sons of former slave owners will be able to sit down together at the table of brotherhood.\n",
      "35 === \n",
      "36 === I have a dream that one day even the state of Mississippi, a state sweltering with the heat of injustice, sweltering with the heat of oppression, will be transformed into an oasis of freedom and justice.\n",
      "37 === \n",
      "38 === I have a dream that my four little children will one day live in a nation where they will not be judged by the color of their skin but by the content of their character.\n",
      "39 === \n",
      "40 === I have a dream today!\n",
      "41 === \n",
      "42 === I have a dream that one day, down in Alabama, with its vicious racists, with its governor having his lips dripping with the words of \"interposition\" and \"nullification\" -- one day right there in Alabama little black boys and black girls will be able to join hands with little white boys and white girls as sisters and brothers.\n",
      "43 === \n",
      "44 === I have a dream today!\n",
      "45 === \n",
      "46 === I have a dream that one day every valley shall be exalted, and every hill and mountain shall be made low, the rough places will be made plain, and the crooked places will be made straight; \"and the glory of the Lord shall be revealed and all flesh shall see it together.\"\n",
      "47 === \n",
      "48 === This is our hope, and this is the faith that I go back to the South with.\n",
      "49 === \n",
      "50 === With this faith, we will be able to hew out of the mountain of despair a stone of hope. With this faith, we will be able to transform the jangling discords of our nation into a beautiful symphony of brotherhood. With this faith, we will be able to work together, to pray together, to struggle together, to go to jail together, to stand up for freedom together, knowing that we will be free one day.\n",
      "51 === \n",
      "52 === And this will be the day -- this will be the day when all of God's children will be able to sing with new meaning:\n",
      "53 === \n",
      "54 === My country 'tis of thee, sweet land of liberty, of thee I sing. Land where my fathers died, land of the Pilgrim's pride,    From every mountainside, let freedom ring!\n",
      "55 === \n",
      "56 === And if America is to be a great nation, this must become true.\n",
      "57 === \n",
      "58 === And so let freedom ring from the prodigious hilltops of New Hampshire.\n",
      "59 === \n",
      "60 === Let freedom ring from the mighty mountains of New York.\n",
      "61 === \n",
      "62 === Let freedom ring from the heightening Alleghenies of Pennsylvania.\n",
      "63 === \n",
      "64 === Let freedom ring from the snow-capped Rockies of Colorado.\n",
      "65 === \n",
      "66 === Let freedom ring from the curvaceous slopes of California.\n",
      "67 === \n",
      "68 === But not only that:\n",
      "69 === \n",
      "70 === Let freedom ring from Stone Mountain of Georgia.\n",
      "71 === \n",
      "72 === Let freedom ring from Lookout Mountain of Tennessee.\n",
      "73 === \n",
      "74 === Let freedom ring from every hill and molehill of Mississippi.\n",
      "75 === \n",
      "76 === From every mountainside, let freedom ring.\n",
      "77 === \n",
      "78 === And when this happens, and when we allow freedom ring, when we let it ring from every village and every hamlet, from every state and every city, we will be able to speed up that day when all of God's children, black men and white men, Jews and Gentiles, Protestants and Catholics, will be able to join hands and sing in the words of the old Negro spiritual:\n",
      "79 === \n",
      "80 === Free at last! Free at last!\n",
      "81 === \n",
      "82 === Thank God Almighty, we are free at last!\n"
     ]
    }
   ],
   "source": [
    "file = open('./file_handling_ex/i_have_a_dream.txt', 'r')\n",
    "i = 0\n",
    "while True :\n",
    "    line = file.readline()\n",
    "    if not line :\n",
    "        break\n",
    "    print (str(i) + ' === ' + line.replace('\\n',''))    # replace('\\n','') : 문단 구분 공백이 너무 커서 '' 이것으로 대체\n",
    "    i += 1"
   ]
  },
  {
   "cell_type": "markdown",
   "metadata": {},
   "source": [
    "#### EX_01 : 단어 통계 Prgm\n",
    "- 단어통계 정보 산출"
   ]
  },
  {
   "cell_type": "code",
   "execution_count": 135,
   "metadata": {},
   "outputs": [
    {
     "name": "stdout",
     "output_type": "stream",
     "text": [
      "전체 글자수 :  9169\n",
      "전체 단어수 :  1629\n",
      "전체 문장수_1 :  83\n",
      "전체 문장수_2 :  76\n"
     ]
    }
   ],
   "source": [
    "file = open('./file_handling_ex/i_have_a_dream.txt', 'r')\n",
    "script = file.read()\n",
    "\n",
    "world_list = script.split(' ')\n",
    "    # 빈칸을 기준으로 단어를 분리\n",
    "\n",
    "file = open('./file_handling_ex/i_have_a_dream.txt', 'r')\n",
    "line_list1 = file.readlines()\n",
    "    # module 을 이용\n",
    "line_list2 = script.split('.' or '?' or '!' or '\\n' or ':')\n",
    "    # . 을 기준으로 문장을 분리\n",
    "\n",
    "print('전체 글자수 : ', len(script))\n",
    "print('전체 단어수 : ', len(world_list))\n",
    "print('전체 문장수_1 : ', len(line_list1))\n",
    "print('전체 문장수_2 : ', len(line_list2))"
   ]
  },
  {
   "cell_type": "markdown",
   "metadata": {},
   "source": [
    "### Write : 'w'\n",
    "- write\n",
    "- encoding = 'utf8\n",
    "    - utf-8(유니코드) 는 .txt 파일 공통 인코딩 방식이다"
   ]
  },
  {
   "cell_type": "code",
   "execution_count": 144,
   "metadata": {},
   "outputs": [],
   "source": [
    "f = open('./file_handling_ex/count_log.txt', 'w', encoding = 'utf8')\n",
    "\n",
    "for i in range(1, 11) :\n",
    "    data = '{} 번째 줄입니다.\\n'.format(i)\n",
    "    f.write(data)"
   ]
  },
  {
   "cell_type": "markdown",
   "metadata": {},
   "source": [
    "### Append : 'a'"
   ]
  },
  {
   "cell_type": "code",
   "execution_count": 145,
   "metadata": {},
   "outputs": [],
   "source": [
    "with open('./file_handling_ex/count_log.txt', 'a', encoding = 'utf8') as f :\n",
    "    for i in range(11, 21) :\n",
    "        data = '{} 번째 줄입니다.\\n'.format(i)\n",
    "        f.write(data)"
   ]
  },
  {
   "cell_type": "code",
   "execution_count": 146,
   "metadata": {},
   "outputs": [
    {
     "name": "stdout",
     "output_type": "stream",
     "text": [
      "1 번째 줄입니다.\n",
      "2 번째 줄입니다.\n",
      "3 번째 줄입니다.\n",
      "4 번째 줄입니다.\n",
      "5 번째 줄입니다.\n",
      "6 번째 줄입니다.\n",
      "7 번째 줄입니다.\n",
      "8 번째 줄입니다.\n",
      "9 번째 줄입니다.\n",
      "10 번째 줄입니다.\n",
      "11 번째 줄입니다.\n",
      "12 번째 줄입니다.\n",
      "13 번째 줄입니다.\n",
      "14 번째 줄입니다.\n",
      "15 번째 줄입니다.\n",
      "16 번째 줄입니다.\n",
      "17 번째 줄입니다.\n",
      "18 번째 줄입니다.\n",
      "19 번째 줄입니다.\n",
      "20 번째 줄입니다.\n",
      "\n"
     ]
    }
   ],
   "source": [
    "f = open('./file_handling_ex/count_log.txt', 'r')\n",
    "script = f.read()\n",
    "print(script)"
   ]
  },
  {
   "cell_type": "markdown",
   "metadata": {},
   "source": [
    "### OS module Directory\n",
    "- 터미널 명령어와 동일하게 사용할 수 있따"
   ]
  },
  {
   "cell_type": "markdown",
   "metadata": {},
   "source": [
    "os.mkdir"
   ]
  },
  {
   "cell_type": "code",
   "execution_count": 149,
   "metadata": {},
   "outputs": [],
   "source": [
    "import os\n",
    "os.mkdir('./file_handling_ex/log')"
   ]
  },
  {
   "cell_type": "markdown",
   "metadata": {},
   "source": [
    "try : except FileExistsError :"
   ]
  },
  {
   "cell_type": "code",
   "execution_count": 150,
   "metadata": {},
   "outputs": [],
   "source": [
    "try :\n",
    "    os.mkdir('./file_handling_ex/abc')\n",
    "except FileExistsError as e :\n",
    "    print('That named file already created...')"
   ]
  },
  {
   "cell_type": "code",
   "execution_count": 152,
   "metadata": {},
   "outputs": [
    {
     "name": "stdout",
     "output_type": "stream",
     "text": [
      "That named file already created...\n"
     ]
    }
   ],
   "source": [
    "try :\n",
    "    os.mkdir('./file_handling_ex/abc')\n",
    "except FileExistsError as e :\n",
    "    print('That named file already created...')\n",
    "    # 두번째 실행하면 File존재여부 경고가 생성된다"
   ]
  },
  {
   "cell_type": "markdown",
   "metadata": {},
   "source": [
    "os.path.exists"
   ]
  },
  {
   "cell_type": "code",
   "execution_count": 156,
   "metadata": {},
   "outputs": [
    {
     "data": {
      "text/plain": [
       "True"
      ]
     },
     "execution_count": 156,
     "metadata": {},
     "output_type": "execute_result"
    }
   ],
   "source": [
    "os.path.exists('./file_handling_ex/abc')\n",
    "    # path.exists 구문을 통해 if 문을 구성할 수 도 있다"
   ]
  },
  {
   "cell_type": "markdown",
   "metadata": {},
   "source": [
    "### 파일복사 : shutil"
   ]
  },
  {
   "cell_type": "code",
   "execution_count": 161,
   "metadata": {},
   "outputs": [
    {
     "name": "stdout",
     "output_type": "stream",
     "text": [
      "./file_handling_ex/abc/sungchul.txt\n"
     ]
    },
    {
     "data": {
      "text/plain": [
       "'./file_handling_ex/abc/sungchul.txt'"
      ]
     },
     "execution_count": 161,
     "metadata": {},
     "output_type": "execute_result"
    }
   ],
   "source": [
    "import shutil\n",
    "\n",
    "source = './file_handling_ex/count_log.txt'\n",
    "dest = os.path.join('./file_handling_ex/abc', 'sungchul.txt')\n",
    "    # join( ) : 주소 부분과 신규 파일명 부분을 구분 지어주기 위함\n",
    "print(dest)\n",
    "shutil.copy(source, dest)"
   ]
  },
  {
   "cell_type": "markdown",
   "metadata": {},
   "source": [
    "### pathlib"
   ]
  },
  {
   "cell_type": "code",
   "execution_count": 163,
   "metadata": {},
   "outputs": [
    {
     "data": {
      "text/plain": [
       "PosixPath('/Users/parkkyusik/Library/Mobile Documents/com~apple~CloudDocs/VScode/AI_Tech/Pre_course/01_Python')"
      ]
     },
     "execution_count": 163,
     "metadata": {},
     "output_type": "execute_result"
    }
   ],
   "source": [
    "import pathlib\n",
    "\n",
    "cwd = pathlib.Path.cwd()\n",
    "    # pathlib : module import\n",
    "        # Path : class import\n",
    "            # cwd : (current working directory) def import\n",
    "cwd"
   ]
  },
  {
   "cell_type": "code",
   "execution_count": 165,
   "metadata": {},
   "outputs": [
    {
     "data": {
      "text/plain": [
       "PosixPath('/Users/parkkyusik/Library/Mobile Documents/com~apple~CloudDocs/VScode/AI_Tech/Pre_course')"
      ]
     },
     "execution_count": 165,
     "metadata": {},
     "output_type": "execute_result"
    }
   ],
   "source": [
    "cwd.parent  # ../ 기능"
   ]
  },
  {
   "cell_type": "code",
   "execution_count": 166,
   "metadata": {},
   "outputs": [
    {
     "data": {
      "text/plain": [
       "PosixPath('/Users/parkkyusik/Library/Mobile Documents/com~apple~CloudDocs/VScode/AI_Tech')"
      ]
     },
     "execution_count": 166,
     "metadata": {},
     "output_type": "execute_result"
    }
   ],
   "source": [
    "cwd.parent.parent"
   ]
  },
  {
   "cell_type": "markdown",
   "metadata": {},
   "source": [
    "## 03 - Log 생성"
   ]
  },
  {
   "cell_type": "code",
   "execution_count": 170,
   "metadata": {},
   "outputs": [],
   "source": [
    "import os\n",
    "\n",
    "if not os.path.isdir('./file_handling_ex/log') :    # 해당 디렉토리에 'log' 가 없으면 'log' 폴더 생성\n",
    "    os.mkdir('./file_handling_ex/log')\n",
    "\n",
    "if not os.path.exists('./file_handling_ex/log/count_log.txt') : # 해당 디렉도리에 'count_log.txt' 파일 이 없으면\n",
    "    f = open('./file_handling_ex/log/count_log.txt', 'w', encoding = 'utf8')    # 파일을 생성\n",
    "    f.write('기록이 시작됩니다.')   # 한문장 작성\n",
    "    f.close()   # 종료\n",
    "\n",
    "with open('./file_handling_ex/log/count_log.txt', 'a', encoding = 'utf8') as f :    # 'count_log.txt' 열고 append 준비\n",
    "    import random, datetime     # python : built in module 준비\n",
    "    for i in range(1, 11) :     # for문 준비\n",
    "        stamp = str(datetime.datetime.now())    # stamp 객체 지정 : 날짜 / 시간\n",
    "        value = random.random() * 1000000       # value 객체 지정 : random 값\n",
    "        log_line = '\\n' + stamp + '\\t' + str(value) + '값이 생성되었습니다' \n",
    "        f.write(log_line)       # 한줄씩 띄어 가면서 for 문 반복하면서 작성"
   ]
  },
  {
   "cell_type": "markdown",
   "metadata": {},
   "source": [
    "## 04 - Pickle (객체)\n",
    "- 사용 목적\n",
    "    - 객체를 보존하기 위함 ( 영속화 : persistence )\n",
    "        - 프로그램 구동중 생성된 객체 정보는 메모리에 저장되어 프로그램이 중단되면 사라짐\n",
    "        - piackle 을 이용하여 해당 객체정보를 보존하고 나중에 재사용하기 위함"
   ]
  },
  {
   "cell_type": "code",
   "execution_count": 1,
   "metadata": {},
   "outputs": [],
   "source": [
    "import os\n",
    "\n",
    "os.mkdir('./file_handling_ex/pickle')"
   ]
  },
  {
   "cell_type": "markdown",
   "metadata": {},
   "source": [
    "### 객체 pickle 저장\n",
    "> pickle.dump( data, adress )"
   ]
  },
  {
   "cell_type": "code",
   "execution_count": 6,
   "metadata": {},
   "outputs": [],
   "source": [
    "import pickle\n",
    "\n",
    "f = open('./file_handling_ex/pickle/list.pickle', 'wb')    # 저장(write_base)주소 할당\n",
    "test = [1,2,3,4,5]  # 저장 데이터\n",
    "pickle.dump(test, f)    # pickle 저장 dump( 데이터 , 주소 )\n",
    "f.close() # 주소할당 종료"
   ]
  },
  {
   "cell_type": "code",
   "execution_count": 7,
   "metadata": {},
   "outputs": [],
   "source": [
    "del test    # 객체 메모리 삭제"
   ]
  },
  {
   "cell_type": "markdown",
   "metadata": {},
   "source": [
    "### 객체 pickle 호출\n",
    "pickle.load( adress )"
   ]
  },
  {
   "cell_type": "code",
   "execution_count": 10,
   "metadata": {},
   "outputs": [
    {
     "data": {
      "text/plain": [
       "<function BufferedReader.close>"
      ]
     },
     "execution_count": 10,
     "metadata": {},
     "output_type": "execute_result"
    }
   ],
   "source": [
    "f = open('./file_handling_ex/pickle/list.pickle', 'rb')     # 호출(read_base)주소 할당\n",
    "test_pickle = pickle.load(f)    # pickle 호출 및 객체에 메모리 할당\n",
    "f.close # 주소 할당 종료"
   ]
  },
  {
   "cell_type": "code",
   "execution_count": 12,
   "metadata": {},
   "outputs": [
    {
     "data": {
      "text/plain": [
       "[1, 2, 3, 4, 5]"
      ]
     },
     "execution_count": 12,
     "metadata": {},
     "output_type": "execute_result"
    }
   ],
   "source": [
    "test_pickle # pickle 에서 할당된 객체 출력"
   ]
  },
  {
   "cell_type": "markdown",
   "metadata": {},
   "source": [
    "### class pickle 저장/호출"
   ]
  },
  {
   "cell_type": "code",
   "execution_count": 22,
   "metadata": {},
   "outputs": [],
   "source": [
    "import pickle\n",
    "\n",
    "class Multiply() :\n",
    "    def __init__(self, multiplier) :\n",
    "        self.multiplier = multiplier\n",
    "\n",
    "    def multiply(self, num) :\n",
    "        return num * self.multiplier"
   ]
  },
  {
   "cell_type": "code",
   "execution_count": 23,
   "metadata": {},
   "outputs": [
    {
     "data": {
      "text/plain": [
       "500"
      ]
     },
     "execution_count": 23,
     "metadata": {},
     "output_type": "execute_result"
    }
   ],
   "source": [
    "mul = Multiply(5)\n",
    "mul.multiply(100)\n",
    "    # mul = 5 인 Multiply class 객체"
   ]
  },
  {
   "cell_type": "code",
   "execution_count": 24,
   "metadata": {},
   "outputs": [],
   "source": [
    "f = open('./file_handling_ex/pickle/multiply_object_pickle', 'wb')\n",
    "pickle.dump(mul, f)\n",
    "f.close()"
   ]
  },
  {
   "cell_type": "code",
   "execution_count": 29,
   "metadata": {},
   "outputs": [],
   "source": [
    "del(mul)"
   ]
  },
  {
   "cell_type": "code",
   "execution_count": 30,
   "metadata": {},
   "outputs": [
    {
     "data": {
      "text/plain": [
       "<__main__.Multiply at 0x1114fad30>"
      ]
     },
     "execution_count": 30,
     "metadata": {},
     "output_type": "execute_result"
    }
   ],
   "source": [
    "f = open('./file_handling_ex/pickle/multiply_object_pickle', 'rb')\n",
    "mul_pickle = pickle.load(f)\n",
    "f.close()\n",
    "mul_pickle"
   ]
  },
  {
   "cell_type": "code",
   "execution_count": 31,
   "metadata": {},
   "outputs": [
    {
     "data": {
      "text/plain": [
       "500"
      ]
     },
     "execution_count": 31,
     "metadata": {},
     "output_type": "execute_result"
    }
   ],
   "source": [
    "mul_pickle.multiply(100)    # mul_pickle 이 Multiply class 객체로 부터 저장된 객체이기 떄문에 해당 함수를 사용할 수 있다"
   ]
  },
  {
   "cell_type": "markdown",
   "metadata": {},
   "source": [
    "## 05 - Logging\n",
    "- 정의\n",
    "    - 프로그램이 실행되는 동안 일어나는 정보의 기록을 남기는 작업  \n",
    "<br/>\n",
    "- 내용\n",
    "    - 유저의 접근, 프로그램의 Exception, 특정함수의 사용  \n",
    "<br/>\n",
    "- 위치\n",
    "    - Console 화면 / 파일 / DB  \n",
    "<br/>\n",
    "- 장점\n",
    "    - 기록된 로그를 분석하여 의미있는 결과를 도출할 수 있음  \n",
    "<br/>\n",
    "- 유의사항\n",
    "    - 실행시점에서 남겨야 하는 기록\n",
    "        - 유저 분석\n",
    "    - 개발시점에서 남겨야 하는 기록\n",
    "        - Error 개선  \n",
    "<br/>\n",
    "- modul  \n",
    "\n",
    "    | Level | 개요 | 예시 |\n",
    "    |--|--|--|\n",
    "    | .debug | 개발시 처리 기록을 남겨야하는 로그 정보를 남길 | - 다음 함수로 A 를 호출함 <br/> - 변수 A 를 무엇으로 변경함 |\n",
    "    | .info | 처리가 진행되는 동안의 정보를 알림 | - 서버가 시작되었음 <br/> - 서버가 종료됨 <br/> - 사용자 A 가 프로그램에 접속함 |\n",
    "    | .warning | 사용자가 잘못 입력한 정보나 처리는 가능하나 <br/> 원래 개발시 의도치 않은 정보가 들어왔을 때 알림 | - str 입력을 기대했으나, int 가 입력됨 <br/>   -> str casting 처리함 <br/> - 함수에 argument 로 이차원 리스트로를 기대했으나 <br/>  일차원 리스트가 입력됨 <br/>   -> 이차원으로 변화 후 처리 |\n",
    "    | .error | 잘못된 처리로 인해 에러가 났으나, <br/> 프로그램은 동작할 수 있음을 알림 | - 파일에 기록을 해야하는데 파일이 없음 <br/>   -> Exception 처리 후 사용자에게 알림 <br/> - 외부서비스와 연결 불가 |\n",
    "    | .critical | 잘못된 처리로 데이터 손실이 발생하거나 <br/> 더이상 프로그램이 동작할 수 없음을 알림 | - 잘못된 접근으로 해당 파일이 삭제됨 <br/> - 사용자의 의한 강제종료 |\n",
    "<br/>\n",
    "\n",
    "- 사용 방법\n",
    "    - 같은 로깅코드도 로깅 레벨을 다르게 두어  에러 메세지를 다르게 하여 출력하면서 관리한다"
   ]
  },
  {
   "cell_type": "markdown",
   "metadata": {},
   "source": [
    "### Logging 모듈\n",
    "- 뭔 개소리인지 잘모르겠다"
   ]
  },
  {
   "cell_type": "code",
   "execution_count": 35,
   "metadata": {},
   "outputs": [
    {
     "name": "stderr",
     "output_type": "stream",
     "text": [
      "WARNING:root:조심하시오\n",
      "ERROR:root:에러\n",
      "CRITICAL:root:망했다\n"
     ]
    }
   ],
   "source": [
    "# ./file_handling_ex/log/logging_ex.py\n",
    "\n",
    "import logging\n",
    " \n",
    "logging.debug('프로그램 틀림')\n",
    "logging.info('확인필요')\n",
    "logging.warning('조심하시오')\n",
    "logging.error('에러')\n",
    "logging.critical('망했다')"
   ]
  },
  {
   "cell_type": "markdown",
   "metadata": {},
   "source": [
    "# 04 : Python DATA handling\n",
    "- 교육내용\n",
    "    - DATA type\n",
    "        - csv / 웹(html) / xml / json\n",
    "    - 정규표현식\n"
   ]
  },
  {
   "cell_type": "markdown",
   "metadata": {},
   "source": [
    "## DATA type"
   ]
  },
  {
   "cell_type": "markdown",
   "metadata": {},
   "source": [
    "### 01 - csv\n",
    "- 개요\n",
    "    - comma separate value\n",
    "    - 쉼표 ( , ) 로 구분한 텍스트 파일\n",
    "    - 엑셀 양식의 데이터를 프로그램에 상관없이 쓰기위한 데이터 형식\n",
    "    - tsv / ssv 등으로 구분해서 만들기도 함  \n",
    "    \n",
    "<br/>\n",
    "\n",
    "- 문제점\n",
    "    - txt 파일 형태로 데이터 처리시 문자 내 들어가 있는 \",\" 등 과 같은 문장부호에 대한 추가적인 전처리 과정 필요\n",
    "    - Python 에서는 간단히 csv 파일을 처리하기 위해 csv 개체를 제공\n",
    "        - 한글 문서는 한글 전처리 과정이 필요하긴함\n",
    "<br/>\n",
    "\n",
    "- csv 객체  \n",
    "\n",
    "    | Attribute | 구분 기준 |의미|\n",
    "    |--|--|--|\n",
    "    |delimiter|, \\t| 글자를 나누는 기준 |\n",
    "    |lineterminator|\\r \\n| 줄 바꿈 기준 |\n",
    "    |quotechar|' \"| 문자열을 둘러싸는 신호 문자 (문장=col을 자르는 기준) |\n",
    "    |quoting|QUOTE_MINIMAL| 데이터를 나누는 기준이 quotechar에 의해 둘러싸인 레벨 |"
   ]
  },
  {
   "cell_type": "markdown",
   "metadata": {},
   "source": [
    "#### csv read"
   ]
  },
  {
   "cell_type": "code",
   "execution_count": 11,
   "metadata": {},
   "outputs": [
    {
     "name": "stdout",
     "output_type": "stream",
     "text": [
      "Header : \t ['customerNumber', 'customerName', 'contactLastName', 'contactFirstName', 'phone', 'addressLine1', 'addressLine2', 'city', 'state', 'postalCode', 'country', 'salesRepEmployeeNumber', 'creditLimit\\n']\n",
      "DATA 1 \t\t ['103', '\"Atelier graphique\"', 'Schmitt', '\"Carine \"', '40.32.2555', '\"54', ' rue Royale\"', 'NULL', 'Nantes', 'NULL', '44000', 'France', '1370', '21000\\n']\n",
      "DATA 2 \t\t ['112', '\"Signal Gift Stores\"', 'King', 'Jean', '7025551838', '\"8489 Strong St.\"', 'NULL', '\"Las Vegas\"', 'NV', '83030', 'USA', '1166', '71800\\n']\n",
      "DATA 3 \t\t ['114', '\"Australian Collectors', ' Co.\"', 'Ferguson', 'Peter', '\"03 9520 4555\"', '\"636 St Kilda Road\"', '\"Level 3\"', 'Melbourne', 'Victoria', '3004', 'Australia', '1611', '117300\\n']\n",
      "Number of customers :  122\n",
      "Number of customers :  122\n"
     ]
    }
   ],
   "source": [
    "line_counter = 0 # 파일의 줄 수\n",
    "data_header = [] # data의 필드값을 저장하는 list\n",
    "customer_list = [] # customer 개별 List를 저장하는 list\n",
    "\n",
    "customer_data = open('./data_handling/csv/customers.csv', 'r')\n",
    "\n",
    "while True :\n",
    "    data = customer_data.readline() # customer.csv 에서 한줄씩 저장하면서 while문 반복\n",
    "    if not data :   # 종료 조건\n",
    "        break   \n",
    "    elif line_counter == 0 :  # col_names 추출 조건\n",
    "        data_header = data.split(',')\n",
    "    else :  # feature 분배 조건\n",
    "        customer_list.append(data.split(','))   # 첫째줄을 제외한 나머지 data customer_list 에 재삽입\n",
    "    line_counter += 1 # 반복문 종료시 line_count +1\n",
    "\n",
    "print('Header : \\t', data_header) # col_name data 출력\n",
    "for i in range(0,3) :\n",
    "    print('DATA', i+1, '\\t\\t', customer_list[i])\n",
    "print('Number of customers : ', line_counter - 1)   # column_line 을 빼주어야 한다\n",
    "print('Number of customers : ', len(customer_list))\n",
    "customer_data.close()"
   ]
  },
  {
   "cell_type": "markdown",
   "metadata": {},
   "source": [
    "#### csv write\n",
    "- 문제점\n",
    "    - 문장에 들어가 있는 \",\" (쉼표) 등에 대해 전처리 과정이 필요"
   ]
  },
  {
   "cell_type": "code",
   "execution_count": 15,
   "metadata": {},
   "outputs": [
    {
     "name": "stdout",
     "output_type": "stream",
     "text": [
      "Header : \t ['customerNumber', 'customerName', 'contactLastName', 'contactFirstName', 'phone', 'addressLine1', 'addressLine2', 'city', 'state', 'postalCode', 'country', 'salesRepEmployeeNumber', 'creditLimit\\n']\n",
      "USA DATA 1 \t ['112', '\"Signal Gift Stores\"', 'King', 'Jean', '7025551838', '\"8489 Strong St.\"', 'NULL', '\"Las Vegas\"', 'NV', '83030', 'USA', '1166', '71800\\n']\n",
      "USA DATA 2 \t ['124', '\"Mini Gifts Distributors Ltd.\"', 'Nelson', 'Susan', '4155551450', '\"5677 Strong St.\"', 'NULL', '\"San Rafael\"', 'CA', '97562', 'USA', '1165', '210500\\n']\n",
      "USA DATA 3 \t ['129', '\"Mini Wheels Co.\"', 'Murphy', 'Julie', '6505555787', '\"5557 North Pendale Street\"', 'NULL', '\"San Francisco\"', 'CA', '94217', 'USA', '1165', '64600\\n']\n",
      "Number of customers :  122\n",
      "Number of UAS only customers :  34\n"
     ]
    }
   ],
   "source": [
    "line_counter = 0\n",
    "data_header = []\n",
    "employee = []\n",
    "customer_USA_only_list = []\n",
    "customer_list = []\n",
    "customer = None\n",
    "\n",
    "cus_data = open('./data_handling/csv/customers.csv', 'r')\n",
    "\n",
    "while True :\n",
    "    data = cus_data.readline()  # 한줄씪 읽어오기\n",
    "    if not data :\n",
    "        break\n",
    "    elif line_counter == 0 :\n",
    "        data_header = data.split(',')   # col_line 추출 및 col_names 분리\n",
    "    else :\n",
    "        customer = data.split(',')  # featue 분리\n",
    "        if customer[10].upper() == 'USA' : # col_10 의 feature 값이 USA 일떄\n",
    "            customer_USA_only_list.append(customer)\n",
    "        else :\n",
    "            pass\n",
    "        customer_list.append(customer)\n",
    "    line_counter += 1\n",
    "            \n",
    "print('Header : \\t', data_header) # col_name data 출력\n",
    "for i in range(0,3) :\n",
    "    print('USA DATA', i+1, '\\t', customer_USA_only_list[i])\n",
    "print('Number of customers : ', line_counter - 1)   # column_line 을 빼주어야 한다\n",
    "print('Number of UAS only customers : ', len(customer_USA_only_list))\n",
    "cus_data.close()"
   ]
  },
  {
   "cell_type": "markdown",
   "metadata": {},
   "source": [
    "#### cvs import (Korean)\n",
    "| Attribute | 구분 기준 |의미|\n",
    "|--|--|--|\n",
    "|delimiter| , <br/> \\t| 글자를 나누는 기준 |\n",
    "|lineterminator| \\r <br/> \\n| 줄 바꿈 기준 |\n",
    "|quotechar| '<br/> \"| 문자열을 둘러싸는 신호 문자 |\n",
    "|quoting|QUOTE_MINIMAL <br/> QUOTE_ALL <br/> QUOTE_NONE <br/> QUOTE_NUNNUMERIC | 데이터를 나누는 기준이 quotechar에 의해 둘러싸인 레벨 |"
   ]
  },
  {
   "cell_type": "code",
   "execution_count": 6,
   "metadata": {},
   "outputs": [],
   "source": [
    "import csv\n",
    "\n",
    "col_names = []\n",
    "index_num = 0\n",
    "seoung_nam_data = []\n",
    "feature_data = []\n",
    "\n",
    "with open('./data_handling/csv/전국+유동인구+현황.csv', 'r', encoding = 'utf8') as data :    # csv 파일을 data 에 text 형식으로 호출\n",
    "# with open('./data_handling/csv/전국+유동인구+현황.csv', 'r', encoding = 'cp949') as data :\n",
    "                                                                     # 한글이 깨져 보일경우 utf8 -> cp949\n",
    "    data_csv = csv.reader(data) # csv 객체를 이용하여 읽기 readline() 과 동일\n",
    "    for row_data in data_csv : # csv 객체 읽기를 for문을 통해서 반복 실행\n",
    "        if index_num == 0 :\n",
    "            col_names = row_data\n",
    "        else :\n",
    "            location = row_data[7]  # 7번 열 : 행정구역명 데이터 추출    \n",
    "            if location.find(u'성남시') != -1 : \n",
    "                            # u : uicord 의 u 이며 한글처리를 위해 필요\n",
    "                            # != -1 : find 함수는 대상값이 없을때만 -1 을 반환한다\n",
    "                                # 우리는 '성남시' 를 찾는것이므로 반대 명제인 -1 이 아닌 != 을 조건으로 사용한다\n",
    "                seoung_nam_data.append(row_data)    # 행정구역 대아토애 '성남시'가 들어있으면 리스트에 추가\n",
    "        feature_data = row_data\n",
    "        index_num += 1\n",
    "\n",
    "with open('./data_handling/csv/성남+유동인구+현황.csv', 'w', encoding = 'utf8') as making_file :    # 저장주소 및 저장형식 객체 설정\n",
    "    writer = csv.writer(making_file, delimiter = ',', quotechar = \"'\", quoting = csv.QUOTE_ALL )\n",
    "    # csv.writer 객체 생성\n",
    "        # parameter 값 설정\n",
    "            # delimiter : 데이터 구분방식       : ,\n",
    "            # quotechar : 문자열 묶음 구분방식   : '\n",
    "            # quoting : 데이터를 묶는 기준      : All 한줄 전체\n",
    "    writer.writerow(col_names)  # 칼럼 행을 먼저 삽입\n",
    "    for i in seoung_nam_data :  # 피처 데이터 하나씩 삽입\n",
    "        writer.writerow(i)\n"
   ]
  },
  {
   "cell_type": "markdown",
   "metadata": {},
   "source": [
    "### 02 - Web (html)\n",
    "- Hyper Text Markup Language\n",
    "- 개요\n",
    "    - World Wide Web (WWW) : 웹\n",
    "    - html 언어 사용  \n",
    "<br/>\n",
    "\n",
    "- 동작 순서\n",
    "    - 요청 : 웹주소 입력 / Form / Header 등\n",
    "    - 처리 (백엔드) : Database 처리 등 요청 대응\n",
    "    - 응답 : HTML, XML 등 으로 결과 반환\n",
    "    - 랜더링 (다운로드) : HTML , XML 표시\n",
    "<br/>\n",
    "\n",
    "- html\n",
    "    - 웹상의 정보를 구조적으로 편하기 위한 언어\n",
    "    - 제목, 단락, 링크 등 요소 표시를 위해 *Tag* 를 사용\n",
    "        - Markup Language\n",
    "    - 모든 요소들은 꺽쇠 괄호 안에 둘러쌓여 있음\n",
    "        - < title > Hello, World < /title > # 제목요소, 값은 Hello, World\n",
    "            - 모든 HTML 은 트리 모양의 포함관계를 가짐\n",
    "    - 일반적으로 웹 페이지의 HTML 소스파일은 컴퓨터가 다운로드 받을 후 웹 브라우저가 해석/표시\n",
    "<br/>\n",
    "\n",
    "- 활용\n",
    "    - 정보\n",
    "        - 환율정보 : https://finance.naver.com/\n",
    "        - 날씨정보 : http://goo.gl/nwi8WE\n",
    "        - 미국특허 정보 : http://bit.ly/3pxFkjb\n",
    "    - 페이지 생성 규칙\n",
    "        - 자료 추출/분석\n",
    "        - 정규표현식\n"
   ]
  },
  {
   "cell_type": "markdown",
   "metadata": {},
   "source": [
    "#### EX\n",
    "- google 특허청 html 소스코드 정규표현식 자료 추출연습\n",
    "- http://www.google.com/googlebooks/uspto-patents-grants-text.html\n",
    "    - http 로 시작\n",
    "    - 문장 중간 무의미\n",
    "    - zip 으로 끝남\n",
    "        - (http)(.*)(.zip)"
   ]
  },
  {
   "cell_type": "code",
   "execution_count": 78,
   "metadata": {},
   "outputs": [],
   "source": [
    "# 예제 코드 생략"
   ]
  },
  {
   "cell_type": "markdown",
   "metadata": {},
   "source": [
    "### 03 - XML\n",
    "- eXtensible Markup Language\n",
    "- 데이터의 구조와 의미를 설명하는 TAG(MarkUp)를 사용하여 표시하는 언어\n",
    "    - TAG 와 TAG 사이에 값이 표시되고, 구조적인 정보를 표현할 수 있음\n",
    "    - HTML 과 문법이 비슷 (대표적인 데이터 저장방식)\n",
    "- 정규표현식으로 Parsing 이 가능\n",
    "- 조금더 손쉬운 도구들이 개발되어 있음\n",
    "    - parser : beautifulsoup (html, xml 등 markup 언어 scraping 을 위한 대표적인 도구)\n",
    "    - https://www.crummy.com/software/BeautifulSoup/\n",
    "        - lxml , html5lib 과 같은 parser 를 사용함\n",
    "- conda 로 설치\n",
    "    > conda install lxml  \n",
    "    > conda install -c conda-forge beautifulsoup4"
   ]
  },
  {
   "cell_type": "markdown",
   "metadata": {},
   "source": [
    "#### EX_01 : book\n",
    "- 데이터 url : https://s3.ap-northeast-2.amazonaws.com/teamlab-gachon/books.xml"
   ]
  },
  {
   "cell_type": "code",
   "execution_count": null,
   "metadata": {},
   "outputs": [
    {
     "name": "stdout",
     "output_type": "stream",
     "text": [
      "<author>Carson</author>\n",
      "Carson\n",
      "<author>Sungchul</author>\n",
      "Sungchul\n"
     ]
    }
   ],
   "source": [
    "from bs4 import BeautifulSoup   # module import\n",
    "\n",
    "with open('./data_handling/XML/books.xml', 'r', encoding = 'utf8') as books_file :  # 파일 주소설정 및 열기\n",
    "    books_xml = books_file.read()   # str 형식으로 열기\n",
    "\n",
    "\n",
    "# xml module 을 이용한 분석\n",
    "soup = BeautifulSoup(books_xml, 'lxml')     # 객체생성 (파일명, parser)\n",
    "\n",
    "book_info = soup.find_all('author') # Tag 찾는 함수 find_all 생성\n",
    "    # find_all( )\n",
    "        # 정규식과 마찬가지로 해당 패턴을 모두 반환\n",
    "    # find('invention-title')\n",
    "        # Tag 네임 = title\n",
    "        # 하나를 찾아 반환\n",
    "    # get_text()\n",
    "        # 반환된 패턴의 값 반환 (태그와 태그 사이)\n",
    "for i in book_info :\n",
    "    print(i)\n",
    "    print(i.get_text())"
   ]
  },
  {
   "cell_type": "markdown",
   "metadata": {},
   "source": [
    "#### EX_02 : Google 특허\n",
    "- 미국 특허청 (USPTO) 특허 데이터는 XML 로 제공됨\n",
    "- 검색처 : Google Patents\n",
    "- 분석항목\n",
    "    - 특허번호 : 08621662\n",
    "    - 특허명 :  Adjustable shoulder device for hard upper torso suit\n",
    "    - URL : http://www.google.com/patents/US20120260387\n",
    "        - 다운로드\n",
    "            - XML :  https://s3.ap-northeast-2.amazonaws.com/teamlab-gachon/US08621662-20140107.XML"
   ]
  },
  {
   "cell_type": "code",
   "execution_count": null,
   "metadata": {},
   "outputs": [
    {
     "name": "stdout",
     "output_type": "stream",
     "text": [
      "<invention-title id=\"d2e43\">\n",
      "Adjustable shoulder device for hard upper torso suit\n",
      "</invention-title>\n",
      "\n",
      "Adjustable shoulder device for hard upper torso suit\n",
      "\n"
     ]
    }
   ],
   "source": [
    "import urllib.request\n",
    "from bs4 import BeautifulSoup\n",
    "\n",
    "with open('./data_handling/XML/US08621662-20140107.xml', 'r', encoding = 'utf8') as patent_file :\n",
    "    xml = patent_file.read()\n",
    "\n",
    "soup = BeautifulSoup(xml, 'lxml')\n",
    "\n",
    "# invention-title 찾기\n",
    "invention_title_tag = soup.find('invention-title')\n",
    "    # BeautifulSoup 을 이용하여 지정한 Tag 명에 저장된 정보 검색\n",
    "print(invention_title_tag)\n",
    "    # Tag 열림 닫힘 전체\n",
    "print(invention_title_tag.get_text())\n",
    "    # Tag 안의 내용만"
   ]
  },
  {
   "cell_type": "markdown",
   "metadata": {},
   "source": [
    "#### EX_03 : Google 특허"
   ]
  },
  {
   "cell_type": "code",
   "execution_count": null,
   "metadata": {},
   "outputs": [
    {
     "name": "stdout",
     "output_type": "stream",
     "text": [
      "1.  p-등록국 : US\n",
      "2. p-등록상태 : B2\n",
      "3. p-등록일자 : 20140107\n",
      "\n",
      "4.  a-출원국 : US\n",
      "5. a-등록번호 : 08621662\n",
      "6.  a-등록일 : 20140107\n"
     ]
    }
   ],
   "source": [
    "\"\"\"\n",
    "<publication-reference> # 등록 관련 정보 <document-id>\n",
    "<country>US</country> <doc-number>08621662</doc-number> 등록번호 <kind>B2</kind> 상태 <date>20140107</date> 등록일자 </document-id>\n",
    "</publication-reference>\n",
    "<application-reference appl-type=\"utility\"> 출원 관련 정보 <document-id>\n",
    "<country>US</country>\n",
    "<doc-number>13175987</doc-number> 출원 번호 <date>20110705</date> 출원일\n",
    "</document-id>\n",
    "</application-reference>\n",
    "\"\"\"\n",
    "import urllib.request\n",
    "from bs4 import BeautifulSoup\n",
    "\n",
    "with open('./data_handling/XML/US08621662-20140107.xml', 'r', encoding = 'utf8') as patent_file :\n",
    "    xml = patent_file.read()\n",
    "\n",
    "soup = BeautifulSoup(xml, 'lxml')\n",
    "\n",
    "publication_reference_tag = soup.find(\"publication-reference\")\n",
    "p_document_id_tag = publication_reference_tag.find(\"document-id\")\n",
    "p_country = p_document_id_tag.find(\"country\").get_text()\n",
    "p_doc_number = p_document_id_tag.find(\"doc-number\").get_text()\n",
    "p_kind = p_document_id_tag.find(\"kind\").get_text()\n",
    "p_date = p_document_id_tag.find(\"date\").get_text()\n",
    "\n",
    "application_reference_tag = soup.find(\"application-reference\")\n",
    "a_document_id_tag = publication_reference_tag.find(\"document-id\")\n",
    "a_country = p_document_id_tag.find(\"country\").get_text()\n",
    "a_doc_number = p_document_id_tag.find(\"doc-number\").get_text()\n",
    "a_date = p_document_id_tag.find(\"date\").get_text()\n",
    "\n",
    "print('1.','{:>9}{}'.format('p-등록국 : ',p_country))\n",
    "print('2.','{:>9}{}'.format('p-등록상태 : ',p_kind))\n",
    "print('3.','{:>9}{}'.format('p-등록일자 : ',p_date))\n",
    "print()\n",
    "print('4.','{:>9}{}'.format('a-출원국 : ',a_country))\n",
    "print('5.','{:>9}{}'.format('a-등록번호 : ',a_doc_number))\n",
    "print('6.','{:>9}{}'.format('a-등록일 : ',a_date))"
   ]
  },
  {
   "cell_type": "markdown",
   "metadata": {},
   "source": [
    "### 04 - JSON\n",
    "- JavaScript Object Notation\n",
    "    - 원래 웹 언어인 JAva Script 의 데이터 객체 표현방식\n",
    "    - 간결성으로 기계/인간이 모두 이해하기 편함\n",
    "    - 데이터 용량이 적고, Code 로 전환이 쉬움\n",
    "    - 이로 인해 xml의 대체제로 많이 활용되고 있음\n",
    "- Dict type\n",
    "    - key : value\n",
    "- JSON in Python\n",
    "    - json 모듈을 사용하여 손 쉽게 파싱 및 저장 가능\n",
    "    - 데이터 저장 및 읽기는 dict type과 상호 호환 가능\n",
    "    - 웹에서 제공하는 API는 대부분 정보 교환 시 JSON 활용 - 페이스북, 트위터, Github 등 거의 모든 사이트\n",
    "    - 각 사이트 마다 Developer API의 활용법을 찾아 사용"
   ]
  },
  {
   "cell_type": "code",
   "execution_count": 115,
   "metadata": {},
   "outputs": [
    {
     "name": "stdout",
     "output_type": "stream",
     "text": [
      "json_data\n",
      "{'employees': [{'firstName': 'John', 'lastName': 'Doe'}, {'firstName': 'Anna', 'lastName': 'Smith'}, {'firstName': 'Peter', 'lastName': 'Jones'}]}\n",
      "\n",
      "employees\n",
      "{'firstName': 'John', 'lastName': 'Doe'}\n",
      "{'firstName': 'Anna', 'lastName': 'Smith'}\n",
      "{'firstName': 'Peter', 'lastName': 'Jones'}\n",
      "\n",
      "employees firstname\n",
      "John\n",
      "Anna\n",
      "Peter\n",
      "\n",
      "employees lastname\n",
      "Doe\n",
      "Smith\n",
      "Jones\n"
     ]
    }
   ],
   "source": [
    "import json\n",
    "\n",
    "with open('./data_handling/JSON/json_example.json', 'r', encoding = 'utf8') as f :\n",
    "    # contents = f.read()\n",
    "    json_data = json.load(f)\n",
    "\n",
    "print('json_data')\n",
    "print(json_data)\n",
    "print()\n",
    "\n",
    "print('employees')\n",
    "for employee in json_data['employees'] :\n",
    "    print(employee)\n",
    "print()\n",
    "\n",
    "print('employees firstname')\n",
    "for employee in json_data['employees'] :\n",
    "    print(employee['firstName'])\n",
    "print()\n",
    "\n",
    "print('employees lastname')\n",
    "for employee in json_data['employees'] :\n",
    "    print(employee['lastName'])"
   ]
  },
  {
   "cell_type": "code",
   "execution_count": 116,
   "metadata": {},
   "outputs": [],
   "source": [
    "import json\n",
    "\n",
    "dict_data = {'Name' : 'Zara', 'Age' : 7, 'Class' : 'First'}\n",
    "\n",
    "with open('./data_handling/JSON/data.json', 'w') as f :\n",
    "    json.dump(dict_data, f)"
   ]
  },
  {
   "cell_type": "markdown",
   "metadata": {},
   "source": [
    "## 정규표현식\n",
    "- 정의 : Regular Expression\n",
    "    - 복잡한 문자열 패턴을 정의하는 문자 표현 공식\n",
    "    - 특정한 규칙을 가진 문자열의 집합을 추출\n",
    "    - EX\n",
    "        - 전화번호\n",
    "            - 010-0000-0000\n",
    "                - ^\\d{3}\\-\\d{4}\\-\\d{4}$\n",
    "        - IP\n",
    "            - 203.252.101.40\n",
    "                - ^\\d{1,3}\\.\\d{1,3}\\.\\d{1,3}\\.\\d{1,3}$\n",
    "- 공부하는법\n",
    "    - 정규식 연습장 : http://www.regexr.com/\n",
    "\n",
    "- 기본문법\n",
    "    - [  ] : 대괄호 사이에는 문자들과 매칭\n",
    "        - [abc] : abc 중 하나라도 있다\n",
    "            - 'a', 'before', 'deep', 'dud', 'sunset'\n",
    "    - '-': -를 사용하여 문자의 범위를 지정할 수 있다\n",
    "        - [a-zA-Z] : 알파벳 대소문자 전제\n",
    "        - [a-z] : 알파벳 소문자 전체\n",
    "        - [0-9] : 숫자 전체\n",
    "    - 메타문자\n",
    "        - '.' : 줄바꿈 문자인 \\n 을 제외한 모든 문자와 매치\n",
    "            - [.] : 은 . 이라는 문자와 매치\n",
    "        - '*' : 앞에 있는 글자를 반복해서 나올 수 있음\n",
    "            - [tomor]*[ow] : [tomor] 글자가 여러번 반복 가능 and [ow] 포함\n",
    "                - tomorrow(o) tommow(o) tomorrrrow(o) toow(o) torrrro(o) mmmmw(o) tttte(x)\n",
    "        - '+' : 앞에있는 글자 : 한번이상 무조건 반복 필요\n",
    "        - {m} : 무조건 m번 반복\n",
    "        - {m,} : 최소 m번 이상 반복\n",
    "        - {m.n} : 최소 m번 이상 반복, 최대 n번 이하 반복\n",
    "        - '?' : 반복횟수가 1회 한정\n",
    "        - '|' : or\n",
    "        - '^' : not\n",
    "        - ' \\ ' : 문자로 사용되어져야되는 애매한 글자앞에 사용된다\n",
    "            - EX\n",
    "                - 00:00:09.546 --> 00:00:09.546\n",
    "                - ([0-9]{2}[:]){2}[0-9]{2}[.][0-9]{0,3} --> ([0-9]{2}[:]){2}[0-9]{2}[.][0-9]{3}"
   ]
  },
  {
   "cell_type": "markdown",
   "metadata": {},
   "source": [
    "### 01 - 사용법\n",
    "- re 모듈 import\n",
    "> import re\n",
    "- 함수\n",
    "    - search : 한개만 찾기\n",
    "    - findall : 전체 찾기\n",
    "- 자료형\n",
    "    - 추출된 패턴은 tuple 로 반환"
   ]
  },
  {
   "cell_type": "markdown",
   "metadata": {},
   "source": [
    "EX_01 : ID 찾기\n",
    "- https://bit.ly/3rxQFS4\n",
    "- (아이디 : 소문자 + 대문자 + 숫자) 여러글자 + '***\"\n",
    "    - ([a-zA-Z0-9]+)([*]{3})"
   ]
  },
  {
   "cell_type": "code",
   "execution_count": 73,
   "metadata": {},
   "outputs": [],
   "source": [
    "import re    # Regular Expression module import\n",
    "import urllib.request\n",
    "url = 'https://bit.ly/3rxQFS4'        # url 지정\n",
    "html = urllib.request.urlopen(url)  # html 소스코드 추출 (request.urlopen)\n",
    "html_contents = str(html.read().decode('utf8'))    # html 소스코드 str type으로 저장\n",
    "id_result = re.findall(r'([A-Za-z0-9]+\\*\\*\\*)', html_contents)  # 정규표현식 적용 추출\n",
    "print(id_result)\n",
    "\n",
    "# for result in id_result :\n",
    "#     print(result)"
   ]
  },
  {
   "cell_type": "markdown",
   "metadata": {},
   "source": [
    "EX_02 : 주소 추출"
   ]
  },
  {
   "cell_type": "code",
   "execution_count": 17,
   "metadata": {},
   "outputs": [
    {
     "name": "stdout",
     "output_type": "stream",
     "text": [
      "http://storage.googleapis.com/patents/grant_full_text/2015/ipg150106.zip\n",
      "http://storage.googleapis.com/patents/grant_full_text/2015/ipg150113.zip\n",
      "http://storage.googleapis.com/patents/grant_full_text/2015/ipg150120.zip\n",
      "http://storage.googleapis.com/patents/grant_full_text/2015/ipg150127.zip\n",
      "http://storage.googleapis.com/patents/grant_full_text/2015/ipg150203.zip\n",
      "http://storage.googleapis.com/patents/grant_full_text/2015/ipg150210.zip\n",
      "http://storage.googleapis.com/patents/grant_full_text/2015/ipg150217.zip\n",
      "http://storage.googleapis.com/patents/grant_full_text/2015/ipg150224.zip\n",
      "http://storage.googleapis.com/patents/grant_full_text/2015/ipg150303.zip\n",
      "http://storage.googleapis.com/patents/grant_full_text/2015/ipg150310.zip\n",
      "http://storage.googleapis.com/patents/grant_full_text/2015/ipg150317.zip\n",
      "http://storage.googleapis.com/patents/grant_full_text/2014/ipg140107.zip\n",
      "http://storage.googleapis.com/patents/grant_full_text/2014/ipg140114.zip\n",
      "http://storage.googleapis.com/patents/grant_full_text/2014/ipg140121.zip\n",
      "http://storage.googleapis.com/patents/grant_full_text/2014/ipg140128.zip\n",
      "http://storage.googleapis.com/patents/grant_full_text/2014/ipg140204.zip\n",
      "http://storage.googleapis.com/patents/grant_full_text/2014/ipg140211.zip\n",
      "http://storage.googleapis.com/patents/grant_full_text/2014/ipg140218.zip\n",
      "http://storage.googleapis.com/patents/grant_full_text/2014/ipg140225.zip\n",
      "http://storage.googleapis.com/patents/grant_full_text/2014/ipg140304.zip\n",
      "http://storage.googleapis.com/patents/grant_full_text/2014/ipg140311.zip\n",
      "http://storage.googleapis.com/patents/grant_full_text/2014/ipg140318.zip\n",
      "http://storage.googleapis.com/patents/grant_full_text/2014/ipg140325.zip\n",
      "http://storage.googleapis.com/patents/grant_full_text/2014/ipg140401.zip\n",
      "http://storage.googleapis.com/patents/grant_full_text/2014/ipg140408.zip\n",
      "http://storage.googleapis.com/patents/grant_full_text/2014/ipg140415.zip\n",
      "http://storage.googleapis.com/patents/grant_full_text/2014/ipg140422.zip\n",
      "http://storage.googleapis.com/patents/grant_full_text/2014/ipg140429.zip\n",
      "http://storage.googleapis.com/patents/grant_full_text/2014/ipg140506.zip\n",
      "http://storage.googleapis.com/patents/grant_full_text/2014/ipg140513.zip\n",
      "http://storage.googleapis.com/patents/grant_full_text/2014/ipg140520.zip\n",
      "http://storage.googleapis.com/patents/grant_full_text/2014/ipg140527.zip\n",
      "http://storage.googleapis.com/patents/grant_full_text/2014/ipg140603.zip\n",
      "http://storage.googleapis.com/patents/grant_full_text/2014/ipg140610.zip\n",
      "http://storage.googleapis.com/patents/grant_full_text/2014/ipg140617.zip\n",
      "http://storage.googleapis.com/patents/grant_full_text/2014/ipg140624.zip\n",
      "http://storage.googleapis.com/patents/grant_full_text/2014/ipg140701.zip\n",
      "http://storage.googleapis.com/patents/grant_full_text/2014/ipg140708.zip\n",
      "http://storage.googleapis.com/patents/grant_full_text/2014/ipg140715.zip\n",
      "http://storage.googleapis.com/patents/grant_full_text/2014/ipg140722.zip\n",
      "http://storage.googleapis.com/patents/grant_full_text/2014/ipg140729.zip\n",
      "http://storage.googleapis.com/patents/grant_full_text/2014/ipg140805.zip\n",
      "http://storage.googleapis.com/patents/grant_full_text/2014/ipg140812.zip\n",
      "http://storage.googleapis.com/patents/grant_full_text/2014/ipg140819.zip\n",
      "http://storage.googleapis.com/patents/grant_full_text/2014/ipg140826.zip\n",
      "http://storage.googleapis.com/patents/grant_full_text/2014/ipg140902.zip\n",
      "http://storage.googleapis.com/patents/grant_full_text/2014/ipg140909.zip\n",
      "http://storage.googleapis.com/patents/grant_full_text/2014/ipg140916.zip\n",
      "http://storage.googleapis.com/patents/grant_full_text/2014/ipg140923.zip\n",
      "http://storage.googleapis.com/patents/grant_full_text/2014/ipg140930.zip\n",
      "http://storage.googleapis.com/patents/grant_full_text/2014/ipg141007.zip\n",
      "http://storage.googleapis.com/patents/grant_full_text/2014/ipg141014.zip\n",
      "http://storage.googleapis.com/patents/grant_full_text/2014/ipg141021.zip\n",
      "http://storage.googleapis.com/patents/grant_full_text/2014/ipg141028.zip\n",
      "http://storage.googleapis.com/patents/grant_full_text/2014/ipg141104.zip\n",
      "http://storage.googleapis.com/patents/grant_full_text/2014/ipg141111.zip\n",
      "http://storage.googleapis.com/patents/grant_full_text/2014/ipg141118.zip\n",
      "http://storage.googleapis.com/patents/grant_full_text/2014/ipg141125.zip\n",
      "http://storage.googleapis.com/patents/grant_full_text/2014/ipg141202.zip\n",
      "http://storage.googleapis.com/patents/grant_full_text/2014/ipg141209.zip\n",
      "http://storage.googleapis.com/patents/grant_full_text/2014/ipg141216.zip\n",
      "http://storage.googleapis.com/patents/grant_full_text/2014/ipg141223.zip\n",
      "http://storage.googleapis.com/patents/grant_full_text/2014/ipg141230.zip\n",
      "http://storage.googleapis.com/patents/grant_full_text/2013/ipg130101.zip\n",
      "http://storage.googleapis.com/patents/grant_full_text/2013/ipg130108.zip\n",
      "http://storage.googleapis.com/patents/grant_full_text/2013/ipg130115.zip\n",
      "http://storage.googleapis.com/patents/grant_full_text/2013/ipg130122.zip\n",
      "http://storage.googleapis.com/patents/grant_full_text/2013/ipg130129.zip\n",
      "http://storage.googleapis.com/patents/grant_full_text/2013/ipg130205.zip\n",
      "http://storage.googleapis.com/patents/grant_full_text/2013/ipg130212.zip\n",
      "http://storage.googleapis.com/patents/grant_full_text/2013/ipg130219.zip\n",
      "http://storage.googleapis.com/patents/grant_full_text/2013/ipg130226.zip\n",
      "http://storage.googleapis.com/patents/grant_full_text/2013/ipg130305.zip\n",
      "http://storage.googleapis.com/patents/grant_full_text/2013/ipg130312.zip\n",
      "http://storage.googleapis.com/patents/grant_full_text/2013/ipg130319.zip\n",
      "http://storage.googleapis.com/patents/grant_full_text/2013/ipg130326.zip\n",
      "http://storage.googleapis.com/patents/grant_full_text/2013/ipg130402.zip\n",
      "http://storage.googleapis.com/patents/grant_full_text/2013/ipg130409.zip\n",
      "http://storage.googleapis.com/patents/grant_full_text/2013/ipg130416.zip\n",
      "http://storage.googleapis.com/patents/grant_full_text/2013/ipg130423.zip\n",
      "http://storage.googleapis.com/patents/grant_full_text/2013/ipg130430.zip\n",
      "http://storage.googleapis.com/patents/grant_full_text/2013/ipg130507.zip\n",
      "http://storage.googleapis.com/patents/grant_full_text/2013/ipg130514.zip\n",
      "http://storage.googleapis.com/patents/grant_full_text/2013/ipg130521.zip\n",
      "http://storage.googleapis.com/patents/grant_full_text/2013/ipg130528.zip\n",
      "http://storage.googleapis.com/patents/grant_full_text/2013/ipg130604.zip\n",
      "http://storage.googleapis.com/patents/grant_full_text/2013/ipg130611.zip\n",
      "http://storage.googleapis.com/patents/grant_full_text/2013/ipg130618.zip\n",
      "http://storage.googleapis.com/patents/grant_full_text/2013/ipg130625.zip\n",
      "http://storage.googleapis.com/patents/grant_full_text/2013/ipg130702.zip\n",
      "http://storage.googleapis.com/patents/grant_full_text/2013/ipg130709.zip\n",
      "http://storage.googleapis.com/patents/grant_full_text/2013/ipg130716.zip\n",
      "http://storage.googleapis.com/patents/grant_full_text/2013/ipg130723.zip\n",
      "http://storage.googleapis.com/patents/grant_full_text/2013/ipg130730.zip\n",
      "http://storage.googleapis.com/patents/grant_full_text/2013/ipg130806.zip\n",
      "http://storage.googleapis.com/patents/grant_full_text/2013/ipg130813.zip\n",
      "http://storage.googleapis.com/patents/grant_full_text/2013/ipg130820.zip\n",
      "http://storage.googleapis.com/patents/grant_full_text/2013/ipg130827.zip\n",
      "http://storage.googleapis.com/patents/grant_full_text/2013/ipg130903.zip\n",
      "http://storage.googleapis.com/patents/grant_full_text/2013/ipg130910.zip\n",
      "http://storage.googleapis.com/patents/grant_full_text/2013/ipg130917.zip\n",
      "http://storage.googleapis.com/patents/grant_full_text/2013/ipg130924.zip\n",
      "http://storage.googleapis.com/patents/grant_full_text/2013/ipg131001.zip\n",
      "http://storage.googleapis.com/patents/grant_full_text/2013/ipg131008.zip\n",
      "http://storage.googleapis.com/patents/grant_full_text/2013/ipg131015.zip\n",
      "http://storage.googleapis.com/patents/grant_full_text/2013/ipg131022.zip\n",
      "http://storage.googleapis.com/patents/grant_full_text/2013/ipg131029.zip\n",
      "http://storage.googleapis.com/patents/grant_full_text/2013/ipg131105.zip\n",
      "http://storage.googleapis.com/patents/grant_full_text/2013/ipg131112.zip\n",
      "http://storage.googleapis.com/patents/grant_full_text/2013/ipg131119.zip\n",
      "http://storage.googleapis.com/patents/grant_full_text/2013/ipg131126.zip\n",
      "http://storage.googleapis.com/patents/grant_full_text/2013/ipg131203.zip\n",
      "http://storage.googleapis.com/patents/grant_full_text/2013/ipg131210.zip\n",
      "http://storage.googleapis.com/patents/grant_full_text/2013/ipg131217.zip\n",
      "http://storage.googleapis.com/patents/grant_full_text/2013/ipg131224.zip\n",
      "http://storage.googleapis.com/patents/grant_full_text/2013/ipg131231.zip\n",
      "http://storage.googleapis.com/patents/grant_full_text/2012/ipg120103.zip\n",
      "http://storage.googleapis.com/patents/grant_full_text/2012/ipg120110.zip\n",
      "http://storage.googleapis.com/patents/grant_full_text/2012/ipg120117.zip\n",
      "http://storage.googleapis.com/patents/grant_full_text/2012/ipg120124.zip\n",
      "http://storage.googleapis.com/patents/grant_full_text/2012/ipg120131.zip\n",
      "http://storage.googleapis.com/patents/grant_full_text/2012/ipg120207.zip\n",
      "http://storage.googleapis.com/patents/grant_full_text/2012/ipg120214.zip\n",
      "http://storage.googleapis.com/patents/grant_full_text/2012/ipg120221.zip\n",
      "http://storage.googleapis.com/patents/grant_full_text/2012/ipg120228.zip\n",
      "http://storage.googleapis.com/patents/grant_full_text/2012/ipg120306.zip\n",
      "http://storage.googleapis.com/patents/grant_full_text/2012/ipg120313.zip\n",
      "http://storage.googleapis.com/patents/grant_full_text/2012/ipg120320.zip\n",
      "http://storage.googleapis.com/patents/grant_full_text/2012/ipg120327.zip\n",
      "http://storage.googleapis.com/patents/grant_full_text/2012/ipg120403.zip\n",
      "http://storage.googleapis.com/patents/grant_full_text/2012/ipg120410.zip\n",
      "http://storage.googleapis.com/patents/grant_full_text/2012/ipg120417.zip\n",
      "http://storage.googleapis.com/patents/grant_full_text/2012/ipg120424.zip\n",
      "http://storage.googleapis.com/patents/grant_full_text/2012/ipg120501.zip\n",
      "http://storage.googleapis.com/patents/grant_full_text/2012/ipg120508.zip\n",
      "http://storage.googleapis.com/patents/grant_full_text/2012/ipg120515.zip\n",
      "http://storage.googleapis.com/patents/grant_full_text/2012/ipg120522.zip\n",
      "http://storage.googleapis.com/patents/grant_full_text/2012/ipg120529.zip\n",
      "http://storage.googleapis.com/patents/grant_full_text/2012/ipg120605.zip\n",
      "http://storage.googleapis.com/patents/grant_full_text/2012/ipg120612.zip\n",
      "http://storage.googleapis.com/patents/grant_full_text/2012/ipg120619.zip\n",
      "http://storage.googleapis.com/patents/grant_full_text/2012/ipg120626.zip\n",
      "http://storage.googleapis.com/patents/grant_full_text/2012/ipg120703.zip\n",
      "http://storage.googleapis.com/patents/grant_full_text/2012/ipg120710.zip\n",
      "http://storage.googleapis.com/patents/grant_full_text/2012/ipg120717.zip\n",
      "http://storage.googleapis.com/patents/grant_full_text/2012/ipg120724.zip\n",
      "http://storage.googleapis.com/patents/grant_full_text/2012/ipg120731.zip\n",
      "http://storage.googleapis.com/patents/grant_full_text/2012/ipg120807.zip\n",
      "http://storage.googleapis.com/patents/grant_full_text/2012/ipg120814.zip\n",
      "http://storage.googleapis.com/patents/grant_full_text/2012/ipg120821.zip\n",
      "http://storage.googleapis.com/patents/grant_full_text/2012/ipg120828.zip\n",
      "http://storage.googleapis.com/patents/grant_full_text/2012/ipg120904.zip\n",
      "http://storage.googleapis.com/patents/grant_full_text/2012/ipg120911.zip\n",
      "http://storage.googleapis.com/patents/grant_full_text/2012/ipg120918.zip\n",
      "http://storage.googleapis.com/patents/grant_full_text/2012/ipg120925.zip\n",
      "http://storage.googleapis.com/patents/grant_full_text/2012/ipg121002.zip\n",
      "http://storage.googleapis.com/patents/grant_full_text/2012/ipg121009.zip\n",
      "http://storage.googleapis.com/patents/grant_full_text/2012/ipg121016.zip\n",
      "http://storage.googleapis.com/patents/grant_full_text/2012/ipg121023.zip\n",
      "http://storage.googleapis.com/patents/grant_full_text/2012/ipg121030.zip\n",
      "http://storage.googleapis.com/patents/grant_full_text/2012/ipg121106.zip\n",
      "http://storage.googleapis.com/patents/grant_full_text/2012/ipg121113.zip\n",
      "http://storage.googleapis.com/patents/grant_full_text/2012/ipg121120.zip\n",
      "http://storage.googleapis.com/patents/grant_full_text/2012/ipg121127.zip\n",
      "http://storage.googleapis.com/patents/grant_full_text/2012/ipg121204.zip\n",
      "http://storage.googleapis.com/patents/grant_full_text/2012/ipg121211.zip\n",
      "http://storage.googleapis.com/patents/grant_full_text/2012/ipg121218.zip\n",
      "http://storage.googleapis.com/patents/grant_full_text/2012/ipg121225.zip\n",
      "http://storage.googleapis.com/patents/grant_full_text/2011/ipg110104.zip\n",
      "http://storage.googleapis.com/patents/grant_full_text/2011/ipg110111.zip\n",
      "http://storage.googleapis.com/patents/grant_full_text/2011/ipg110118.zip\n",
      "http://storage.googleapis.com/patents/grant_full_text/2011/ipg110125.zip\n",
      "http://storage.googleapis.com/patents/grant_full_text/2011/ipg110201.zip\n",
      "http://storage.googleapis.com/patents/grant_full_text/2011/ipg110208.zip\n",
      "http://storage.googleapis.com/patents/grant_full_text/2011/ipg110215.zip\n",
      "http://storage.googleapis.com/patents/grant_full_text/2011/ipg110222.zip\n",
      "http://storage.googleapis.com/patents/grant_full_text/2011/ipg110301.zip\n",
      "http://storage.googleapis.com/patents/grant_full_text/2011/ipg110308.zip\n",
      "http://storage.googleapis.com/patents/grant_full_text/2011/ipg110315.zip\n",
      "http://storage.googleapis.com/patents/grant_full_text/2011/ipg110322.zip\n",
      "http://storage.googleapis.com/patents/grant_full_text/2011/ipg110329.zip\n",
      "http://storage.googleapis.com/patents/grant_full_text/2011/ipg110405.zip\n",
      "http://storage.googleapis.com/patents/grant_full_text/2011/ipg110412.zip\n",
      "http://storage.googleapis.com/patents/grant_full_text/2011/ipg110419.zip\n",
      "http://storage.googleapis.com/patents/grant_full_text/2011/ipg110426.zip\n",
      "http://storage.googleapis.com/patents/grant_full_text/2011/ipg110503.zip\n",
      "http://storage.googleapis.com/patents/grant_full_text/2011/ipg110510.zip\n",
      "http://storage.googleapis.com/patents/grant_full_text/2011/ipg110517.zip\n",
      "http://storage.googleapis.com/patents/grant_full_text/2011/ipg110524.zip\n",
      "http://storage.googleapis.com/patents/grant_full_text/2011/ipg110531.zip\n",
      "http://storage.googleapis.com/patents/grant_full_text/2011/ipg110607.zip\n",
      "http://storage.googleapis.com/patents/grant_full_text/2011/ipg110614.zip\n",
      "http://storage.googleapis.com/patents/grant_full_text/2011/ipg110621.zip\n",
      "http://storage.googleapis.com/patents/grant_full_text/2011/ipg110628.zip\n",
      "http://storage.googleapis.com/patents/grant_full_text/2011/ipg110705.zip\n",
      "http://storage.googleapis.com/patents/grant_full_text/2011/ipg110712.zip\n",
      "http://storage.googleapis.com/patents/grant_full_text/2011/ipg110719.zip\n",
      "http://storage.googleapis.com/patents/grant_full_text/2011/ipg110726.zip\n",
      "http://storage.googleapis.com/patents/grant_full_text/2011/ipg110802.zip\n",
      "http://storage.googleapis.com/patents/grant_full_text/2011/ipg110809.zip\n",
      "http://storage.googleapis.com/patents/grant_full_text/2011/ipg110816.zip\n",
      "http://storage.googleapis.com/patents/grant_full_text/2011/ipg110823.zip\n",
      "http://storage.googleapis.com/patents/grant_full_text/2011/ipg110830.zip\n",
      "http://storage.googleapis.com/patents/grant_full_text/2011/ipg110906.zip\n",
      "http://storage.googleapis.com/patents/grant_full_text/2011/ipg110913.zip\n",
      "http://storage.googleapis.com/patents/grant_full_text/2011/ipg110920.zip\n",
      "http://storage.googleapis.com/patents/grant_full_text/2011/ipg110927.zip\n",
      "http://storage.googleapis.com/patents/grant_full_text/2011/ipg111004.zip\n",
      "http://storage.googleapis.com/patents/grant_full_text/2011/ipg111011.zip\n",
      "http://storage.googleapis.com/patents/grant_full_text/2011/ipg111018.zip\n",
      "http://storage.googleapis.com/patents/grant_full_text/2011/ipg111025.zip\n",
      "http://storage.googleapis.com/patents/grant_full_text/2011/ipg111101.zip\n",
      "http://storage.googleapis.com/patents/grant_full_text/2011/ipg111108.zip\n",
      "http://storage.googleapis.com/patents/grant_full_text/2011/ipg111115.zip\n",
      "http://storage.googleapis.com/patents/grant_full_text/2011/ipg111122.zip\n",
      "http://storage.googleapis.com/patents/grant_full_text/2011/ipg111129.zip\n",
      "http://storage.googleapis.com/patents/grant_full_text/2011/ipg111206.zip\n",
      "http://storage.googleapis.com/patents/grant_full_text/2011/ipg111213.zip\n",
      "http://storage.googleapis.com/patents/grant_full_text/2011/ipg111220.zip\n",
      "http://storage.googleapis.com/patents/grant_full_text/2011/ipg111227.zip\n",
      "http://storage.googleapis.com/patents/grant_full_text/2010/ipg100105.zip\n",
      "http://storage.googleapis.com/patents/grant_full_text/2010/ipg100112.zip\n",
      "http://storage.googleapis.com/patents/grant_full_text/2010/ipg100119.zip\n",
      "http://storage.googleapis.com/patents/grant_full_text/2010/ipg100126.zip\n",
      "http://storage.googleapis.com/patents/grant_full_text/2010/ipg100202.zip\n",
      "http://storage.googleapis.com/patents/grant_full_text/2010/ipg100209.zip\n",
      "http://storage.googleapis.com/patents/grant_full_text/2010/ipg100216.zip\n",
      "http://storage.googleapis.com/patents/grant_full_text/2010/ipg100223.zip\n",
      "http://storage.googleapis.com/patents/grant_full_text/2010/ipg100302.zip\n",
      "http://storage.googleapis.com/patents/grant_full_text/2010/ipg100309.zip\n",
      "http://storage.googleapis.com/patents/grant_full_text/2010/ipg100316.zip\n",
      "http://storage.googleapis.com/patents/grant_full_text/2010/ipg100323.zip\n",
      "http://storage.googleapis.com/patents/grant_full_text/2010/ipg100330.zip\n",
      "http://storage.googleapis.com/patents/grant_full_text/2010/ipg100406.zip\n",
      "http://storage.googleapis.com/patents/grant_full_text/2010/ipg100413.zip\n",
      "http://storage.googleapis.com/patents/grant_full_text/2010/ipg100420.zip\n",
      "http://storage.googleapis.com/patents/grant_full_text/2010/ipg100427.zip\n",
      "http://storage.googleapis.com/patents/grant_full_text/2010/ipg100504.zip\n",
      "http://storage.googleapis.com/patents/grant_full_text/2010/ipg100511.zip\n",
      "http://storage.googleapis.com/patents/grant_full_text/2010/ipg100518.zip\n",
      "http://storage.googleapis.com/patents/grant_full_text/2010/ipg100525.zip\n",
      "http://storage.googleapis.com/patents/grant_full_text/2010/ipg100601.zip\n",
      "http://storage.googleapis.com/patents/grant_full_text/2010/ipg100608.zip\n",
      "http://storage.googleapis.com/patents/grant_full_text/2010/ipg100615.zip\n",
      "http://storage.googleapis.com/patents/grant_full_text/2010/ipg100622.zip\n",
      "http://storage.googleapis.com/patents/grant_full_text/2010/ipg100629.zip\n",
      "http://storage.googleapis.com/patents/grant_full_text/2010/ipg100706.zip\n",
      "http://storage.googleapis.com/patents/grant_full_text/2010/ipg100713.zip\n",
      "http://storage.googleapis.com/patents/grant_full_text/2010/ipg100720.zip\n",
      "http://storage.googleapis.com/patents/grant_full_text/2010/ipg100727.zip\n",
      "http://storage.googleapis.com/patents/grant_full_text/2010/ipg100803.zip\n",
      "http://storage.googleapis.com/patents/grant_full_text/2010/ipg100810.zip\n",
      "http://storage.googleapis.com/patents/grant_full_text/2010/ipg100817.zip\n",
      "http://storage.googleapis.com/patents/grant_full_text/2010/ipg100824.zip\n",
      "http://storage.googleapis.com/patents/grant_full_text/2010/ipg100831.zip\n",
      "http://storage.googleapis.com/patents/grant_full_text/2010/ipg100907.zip\n",
      "http://storage.googleapis.com/patents/grant_full_text/2010/ipg100914.zip\n",
      "http://storage.googleapis.com/patents/grant_full_text/2010/ipg100921.zip\n",
      "http://storage.googleapis.com/patents/grant_full_text/2010/ipg100928.zip\n",
      "http://storage.googleapis.com/patents/grant_full_text/2010/ipg101005.zip\n",
      "http://storage.googleapis.com/patents/grant_full_text/2010/ipg101012.zip\n",
      "http://storage.googleapis.com/patents/grant_full_text/2010/ipg101019.zip\n",
      "http://storage.googleapis.com/patents/grant_full_text/2010/ipg101026.zip\n",
      "http://storage.googleapis.com/patents/grant_full_text/2010/ipg101102.zip\n",
      "http://storage.googleapis.com/patents/grant_full_text/2010/ipg101109.zip\n",
      "http://storage.googleapis.com/patents/grant_full_text/2010/ipg101116.zip\n",
      "http://storage.googleapis.com/patents/grant_full_text/2010/ipg101123.zip\n",
      "http://storage.googleapis.com/patents/grant_full_text/2010/ipg101130.zip\n",
      "http://storage.googleapis.com/patents/grant_full_text/2010/ipg101207.zip\n",
      "http://storage.googleapis.com/patents/grant_full_text/2010/ipg101214.zip\n",
      "http://storage.googleapis.com/patents/grant_full_text/2010/ipg101221.zip\n",
      "http://storage.googleapis.com/patents/grant_full_text/2010/ipg101228.zip\n",
      "http://storage.googleapis.com/patents/grant_full_text/2009/ipg090106.zip\n",
      "http://storage.googleapis.com/patents/grant_full_text/2009/ipg090113.zip\n",
      "http://storage.googleapis.com/patents/grant_full_text/2009/ipg090120.zip\n",
      "http://storage.googleapis.com/patents/grant_full_text/2009/ipg090127.zip\n",
      "http://storage.googleapis.com/patents/grant_full_text/2009/ipg090203.zip\n",
      "http://storage.googleapis.com/patents/grant_full_text/2009/ipg090210.zip\n",
      "http://storage.googleapis.com/patents/grant_full_text/2009/ipg090217.zip\n",
      "http://storage.googleapis.com/patents/grant_full_text/2009/ipg090224.zip\n",
      "http://storage.googleapis.com/patents/grant_full_text/2009/ipg090303.zip\n",
      "http://storage.googleapis.com/patents/grant_full_text/2009/ipg090310.zip\n",
      "http://storage.googleapis.com/patents/grant_full_text/2009/ipg090317.zip\n",
      "http://storage.googleapis.com/patents/grant_full_text/2009/ipg090324.zip\n",
      "http://storage.googleapis.com/patents/grant_full_text/2009/ipg090331.zip\n",
      "http://storage.googleapis.com/patents/grant_full_text/2009/ipg090407.zip\n",
      "http://storage.googleapis.com/patents/grant_full_text/2009/ipg090414.zip\n",
      "http://storage.googleapis.com/patents/grant_full_text/2009/ipg090421.zip\n",
      "http://storage.googleapis.com/patents/grant_full_text/2009/ipg090428.zip\n",
      "http://storage.googleapis.com/patents/grant_full_text/2009/ipg090505.zip\n",
      "http://storage.googleapis.com/patents/grant_full_text/2009/ipg090512.zip\n",
      "http://storage.googleapis.com/patents/grant_full_text/2009/ipg090519.zip\n",
      "http://storage.googleapis.com/patents/grant_full_text/2009/ipg090526.zip\n",
      "http://storage.googleapis.com/patents/grant_full_text/2009/ipg090602.zip\n",
      "http://storage.googleapis.com/patents/grant_full_text/2009/ipg090609.zip\n",
      "http://storage.googleapis.com/patents/grant_full_text/2009/ipg090616.zip\n",
      "http://storage.googleapis.com/patents/grant_full_text/2009/ipg090623.zip\n",
      "http://storage.googleapis.com/patents/grant_full_text/2009/ipg090630.zip\n",
      "http://storage.googleapis.com/patents/grant_full_text/2009/ipg090707.zip\n",
      "http://storage.googleapis.com/patents/grant_full_text/2009/ipg090714.zip\n",
      "http://storage.googleapis.com/patents/grant_full_text/2009/ipg090721.zip\n",
      "http://storage.googleapis.com/patents/grant_full_text/2009/ipg090728.zip\n",
      "http://storage.googleapis.com/patents/grant_full_text/2009/ipg090804.zip\n",
      "http://storage.googleapis.com/patents/grant_full_text/2009/ipg090811.zip\n",
      "http://storage.googleapis.com/patents/grant_full_text/2009/ipg090818.zip\n",
      "http://storage.googleapis.com/patents/grant_full_text/2009/ipg090825.zip\n",
      "http://storage.googleapis.com/patents/grant_full_text/2009/ipg090901.zip\n",
      "http://storage.googleapis.com/patents/grant_full_text/2009/ipg090908.zip\n",
      "http://storage.googleapis.com/patents/grant_full_text/2009/ipg090915.zip\n",
      "http://storage.googleapis.com/patents/grant_full_text/2009/ipg090922.zip\n",
      "http://storage.googleapis.com/patents/grant_full_text/2009/ipg090929.zip\n",
      "http://storage.googleapis.com/patents/grant_full_text/2009/ipg091006.zip\n",
      "http://storage.googleapis.com/patents/grant_full_text/2009/ipg091013.zip\n",
      "http://storage.googleapis.com/patents/grant_full_text/2009/ipg091020.zip\n",
      "http://storage.googleapis.com/patents/grant_full_text/2009/ipg091027.zip\n",
      "http://storage.googleapis.com/patents/grant_full_text/2009/ipg091103.zip\n",
      "http://storage.googleapis.com/patents/grant_full_text/2009/ipg091110.zip\n",
      "http://storage.googleapis.com/patents/grant_full_text/2009/ipg091117.zip\n",
      "http://storage.googleapis.com/patents/grant_full_text/2009/ipg091124.zip\n",
      "http://storage.googleapis.com/patents/grant_full_text/2009/ipg091201.zip\n",
      "http://storage.googleapis.com/patents/grant_full_text/2009/ipg091208.zip\n",
      "http://storage.googleapis.com/patents/grant_full_text/2009/ipg091215.zip\n",
      "http://storage.googleapis.com/patents/grant_full_text/2009/ipg091222.zip\n",
      "http://storage.googleapis.com/patents/grant_full_text/2009/ipg091229.zip\n",
      "http://storage.googleapis.com/patents/grant_full_text/2008/ipg080101.zip\n",
      "http://storage.googleapis.com/patents/grant_full_text/2008/ipg080108.zip\n",
      "http://storage.googleapis.com/patents/grant_full_text/2008/ipg080115.zip\n",
      "http://storage.googleapis.com/patents/grant_full_text/2008/ipg080122.zip\n",
      "http://storage.googleapis.com/patents/grant_full_text/2008/ipg080129.zip\n",
      "http://storage.googleapis.com/patents/grant_full_text/2008/ipg080205.zip\n",
      "http://storage.googleapis.com/patents/grant_full_text/2008/ipg080212.zip\n",
      "http://storage.googleapis.com/patents/grant_full_text/2008/ipg080219.zip\n",
      "http://storage.googleapis.com/patents/grant_full_text/2008/ipg080226.zip\n",
      "http://storage.googleapis.com/patents/grant_full_text/2008/ipg080304.zip\n",
      "http://storage.googleapis.com/patents/grant_full_text/2008/ipg080311.zip\n",
      "http://storage.googleapis.com/patents/grant_full_text/2008/ipg080318.zip\n",
      "http://storage.googleapis.com/patents/grant_full_text/2008/ipg080325.zip\n",
      "http://storage.googleapis.com/patents/grant_full_text/2008/ipg080401.zip\n",
      "http://storage.googleapis.com/patents/grant_full_text/2008/ipg080408.zip\n",
      "http://storage.googleapis.com/patents/grant_full_text/2008/ipg080415.zip\n",
      "http://storage.googleapis.com/patents/grant_full_text/2008/ipg080422.zip\n",
      "http://storage.googleapis.com/patents/grant_full_text/2008/ipg080429.zip\n",
      "http://storage.googleapis.com/patents/grant_full_text/2008/ipg080506.zip\n",
      "http://storage.googleapis.com/patents/grant_full_text/2008/ipg080513.zip\n",
      "http://storage.googleapis.com/patents/grant_full_text/2008/ipg080520.zip\n",
      "http://storage.googleapis.com/patents/grant_full_text/2008/ipg080527.zip\n",
      "http://storage.googleapis.com/patents/grant_full_text/2008/ipg080603.zip\n",
      "http://storage.googleapis.com/patents/grant_full_text/2008/ipg080610.zip\n",
      "http://storage.googleapis.com/patents/grant_full_text/2008/ipg080617.zip\n",
      "http://storage.googleapis.com/patents/grant_full_text/2008/ipg080624.zip\n",
      "http://storage.googleapis.com/patents/grant_full_text/2008/ipg080701.zip\n",
      "http://storage.googleapis.com/patents/grant_full_text/2008/ipg080708.zip\n",
      "http://storage.googleapis.com/patents/grant_full_text/2008/ipg080715.zip\n",
      "http://storage.googleapis.com/patents/grant_full_text/2008/ipg080722.zip\n",
      "http://storage.googleapis.com/patents/grant_full_text/2008/ipg080729.zip\n",
      "http://storage.googleapis.com/patents/grant_full_text/2008/ipg080805.zip\n",
      "http://storage.googleapis.com/patents/grant_full_text/2008/ipg080812.zip\n",
      "http://storage.googleapis.com/patents/grant_full_text/2008/ipg080819.zip\n",
      "http://storage.googleapis.com/patents/grant_full_text/2008/ipg080826.zip\n",
      "http://storage.googleapis.com/patents/grant_full_text/2008/ipg080902.zip\n",
      "http://storage.googleapis.com/patents/grant_full_text/2008/ipg080909.zip\n",
      "http://storage.googleapis.com/patents/grant_full_text/2008/ipg080916.zip\n",
      "http://storage.googleapis.com/patents/grant_full_text/2008/ipg080923.zip\n",
      "http://storage.googleapis.com/patents/grant_full_text/2008/ipg080930.zip\n",
      "http://storage.googleapis.com/patents/grant_full_text/2008/ipg081007.zip\n",
      "http://storage.googleapis.com/patents/grant_full_text/2008/ipg081014.zip\n",
      "http://storage.googleapis.com/patents/grant_full_text/2008/ipg081021.zip\n",
      "http://storage.googleapis.com/patents/grant_full_text/2008/ipg081028.zip\n",
      "http://storage.googleapis.com/patents/grant_full_text/2008/ipg081104.zip\n",
      "http://storage.googleapis.com/patents/grant_full_text/2008/ipg081111.zip\n",
      "http://storage.googleapis.com/patents/grant_full_text/2008/ipg081118.zip\n",
      "http://storage.googleapis.com/patents/grant_full_text/2008/ipg081125.zip\n",
      "http://storage.googleapis.com/patents/grant_full_text/2008/ipg081202.zip\n",
      "http://storage.googleapis.com/patents/grant_full_text/2008/ipg081209.zip\n",
      "http://storage.googleapis.com/patents/grant_full_text/2008/ipg081216.zip\n",
      "http://storage.googleapis.com/patents/grant_full_text/2008/ipg081223.zip\n",
      "http://storage.googleapis.com/patents/grant_full_text/2008/ipg081230.zip\n",
      "http://storage.googleapis.com/patents/grant_full_text/2007/ipg070102.zip\n",
      "http://storage.googleapis.com/patents/grant_full_text/2007/ipg070109.zip\n",
      "http://storage.googleapis.com/patents/grant_full_text/2007/ipg070116.zip\n",
      "http://storage.googleapis.com/patents/grant_full_text/2007/ipg070123.zip\n",
      "http://storage.googleapis.com/patents/grant_full_text/2007/ipg070130.zip\n",
      "http://storage.googleapis.com/patents/grant_full_text/2007/ipg070206.zip\n",
      "http://storage.googleapis.com/patents/grant_full_text/2007/ipg070213.zip\n",
      "http://storage.googleapis.com/patents/grant_full_text/2007/ipg070220.zip\n",
      "http://storage.googleapis.com/patents/grant_full_text/2007/ipg070227.zip\n",
      "http://storage.googleapis.com/patents/grant_full_text/2007/ipg070306.zip\n",
      "http://storage.googleapis.com/patents/grant_full_text/2007/ipg070313.zip\n",
      "http://storage.googleapis.com/patents/grant_full_text/2007/ipg070320.zip\n",
      "http://storage.googleapis.com/patents/grant_full_text/2007/ipg070327.zip\n",
      "http://storage.googleapis.com/patents/grant_full_text/2007/ipg070403.zip\n",
      "http://storage.googleapis.com/patents/grant_full_text/2007/ipg070410.zip\n",
      "http://storage.googleapis.com/patents/grant_full_text/2007/ipg070417.zip\n",
      "http://storage.googleapis.com/patents/grant_full_text/2007/ipg070424.zip\n",
      "http://storage.googleapis.com/patents/grant_full_text/2007/ipg070501.zip\n",
      "http://storage.googleapis.com/patents/grant_full_text/2007/ipg070508.zip\n",
      "http://storage.googleapis.com/patents/grant_full_text/2007/ipg070515.zip\n",
      "http://storage.googleapis.com/patents/grant_full_text/2007/ipg070522.zip\n",
      "http://storage.googleapis.com/patents/grant_full_text/2007/ipg070529.zip\n",
      "http://storage.googleapis.com/patents/grant_full_text/2007/ipg070605.zip\n",
      "http://storage.googleapis.com/patents/grant_full_text/2007/ipg070612.zip\n",
      "http://storage.googleapis.com/patents/grant_full_text/2007/ipg070619.zip\n",
      "http://storage.googleapis.com/patents/grant_full_text/2007/ipg070626.zip\n",
      "http://storage.googleapis.com/patents/grant_full_text/2007/ipg070703.zip\n",
      "http://storage.googleapis.com/patents/grant_full_text/2007/ipg070710.zip\n",
      "http://storage.googleapis.com/patents/grant_full_text/2007/ipg070717.zip\n",
      "http://storage.googleapis.com/patents/grant_full_text/2007/ipg070724.zip\n",
      "http://storage.googleapis.com/patents/grant_full_text/2007/ipg070731.zip\n",
      "http://storage.googleapis.com/patents/grant_full_text/2007/ipg070807.zip\n",
      "http://storage.googleapis.com/patents/grant_full_text/2007/ipg070814.zip\n",
      "http://storage.googleapis.com/patents/grant_full_text/2007/ipg070821.zip\n",
      "http://storage.googleapis.com/patents/grant_full_text/2007/ipg070828.zip\n",
      "http://storage.googleapis.com/patents/grant_full_text/2007/ipg070904.zip\n",
      "http://storage.googleapis.com/patents/grant_full_text/2007/ipg070911.zip\n",
      "http://storage.googleapis.com/patents/grant_full_text/2007/ipg070918.zip\n",
      "http://storage.googleapis.com/patents/grant_full_text/2007/ipg070925.zip\n",
      "http://storage.googleapis.com/patents/grant_full_text/2007/ipg071002.zip\n",
      "http://storage.googleapis.com/patents/grant_full_text/2007/ipg071009.zip\n",
      "http://storage.googleapis.com/patents/grant_full_text/2007/ipg071016.zip\n",
      "http://storage.googleapis.com/patents/grant_full_text/2007/ipg071023.zip\n",
      "http://storage.googleapis.com/patents/grant_full_text/2007/ipg071030.zip\n",
      "http://storage.googleapis.com/patents/grant_full_text/2007/ipg071106.zip\n",
      "http://storage.googleapis.com/patents/grant_full_text/2007/ipg071113.zip\n",
      "http://storage.googleapis.com/patents/grant_full_text/2007/ipg071120.zip\n",
      "http://storage.googleapis.com/patents/grant_full_text/2007/ipg071127.zip\n",
      "http://storage.googleapis.com/patents/grant_full_text/2007/ipg071204.zip\n",
      "http://storage.googleapis.com/patents/grant_full_text/2007/ipg071211.zip\n",
      "http://storage.googleapis.com/patents/grant_full_text/2007/ipg071218.zip\n",
      "http://storage.googleapis.com/patents/grant_full_text/2007/ipg071225.zip\n",
      "http://storage.googleapis.com/patents/grant_full_text/2006/ipg060103.zip\n",
      "http://storage.googleapis.com/patents/grant_full_text/2006/ipg060110.zip\n",
      "http://storage.googleapis.com/patents/grant_full_text/2006/ipg060117.zip\n",
      "http://storage.googleapis.com/patents/grant_full_text/2006/ipg060124.zip\n",
      "http://storage.googleapis.com/patents/grant_full_text/2006/ipg060131.zip\n",
      "http://storage.googleapis.com/patents/grant_full_text/2006/ipg060207.zip\n",
      "http://storage.googleapis.com/patents/grant_full_text/2006/ipg060214.zip\n",
      "http://storage.googleapis.com/patents/grant_full_text/2006/ipg060221.zip\n",
      "http://storage.googleapis.com/patents/grant_full_text/2006/ipg060228.zip\n",
      "http://storage.googleapis.com/patents/grant_full_text/2006/ipg060307.zip\n",
      "http://storage.googleapis.com/patents/grant_full_text/2006/ipg060314.zip\n",
      "http://storage.googleapis.com/patents/grant_full_text/2006/ipg060321.zip\n",
      "http://storage.googleapis.com/patents/grant_full_text/2006/ipg060328.zip\n",
      "http://storage.googleapis.com/patents/grant_full_text/2006/ipg060404.zip\n",
      "http://storage.googleapis.com/patents/grant_full_text/2006/ipg060411.zip\n",
      "http://storage.googleapis.com/patents/grant_full_text/2006/ipg060418.zip\n",
      "http://storage.googleapis.com/patents/grant_full_text/2006/ipg060425.zip\n",
      "http://storage.googleapis.com/patents/grant_full_text/2006/ipg060502.zip\n",
      "http://storage.googleapis.com/patents/grant_full_text/2006/ipg060509.zip\n",
      "http://storage.googleapis.com/patents/grant_full_text/2006/ipg060516.zip\n",
      "http://storage.googleapis.com/patents/grant_full_text/2006/ipg060523.zip\n",
      "http://storage.googleapis.com/patents/grant_full_text/2006/ipg060530.zip\n",
      "http://storage.googleapis.com/patents/grant_full_text/2006/ipg060606.zip\n",
      "http://storage.googleapis.com/patents/grant_full_text/2006/ipg060613.zip\n",
      "http://storage.googleapis.com/patents/grant_full_text/2006/ipg060620.zip\n",
      "http://storage.googleapis.com/patents/grant_full_text/2006/ipg060627.zip\n",
      "http://storage.googleapis.com/patents/grant_full_text/2006/ipg060704.zip\n",
      "http://storage.googleapis.com/patents/grant_full_text/2006/ipg060711.zip\n",
      "http://storage.googleapis.com/patents/grant_full_text/2006/ipg060718.zip\n",
      "http://storage.googleapis.com/patents/grant_full_text/2006/ipg060725.zip\n",
      "http://storage.googleapis.com/patents/grant_full_text/2006/ipg060801.zip\n",
      "http://storage.googleapis.com/patents/grant_full_text/2006/ipg060808.zip\n",
      "http://storage.googleapis.com/patents/grant_full_text/2006/ipg060815.zip\n",
      "http://storage.googleapis.com/patents/grant_full_text/2006/ipg060822.zip\n",
      "http://storage.googleapis.com/patents/grant_full_text/2006/ipg060829.zip\n",
      "http://storage.googleapis.com/patents/grant_full_text/2006/ipg060905.zip\n",
      "http://storage.googleapis.com/patents/grant_full_text/2006/ipg060912.zip\n",
      "http://storage.googleapis.com/patents/grant_full_text/2006/ipg060919.zip\n",
      "http://storage.googleapis.com/patents/grant_full_text/2006/ipg060926.zip\n",
      "http://storage.googleapis.com/patents/grant_full_text/2006/ipg061003.zip\n",
      "http://storage.googleapis.com/patents/grant_full_text/2006/ipg061010.zip\n",
      "http://storage.googleapis.com/patents/grant_full_text/2006/ipg061017.zip\n",
      "http://storage.googleapis.com/patents/grant_full_text/2006/ipg061024.zip\n",
      "http://storage.googleapis.com/patents/grant_full_text/2006/ipg061031.zip\n",
      "http://storage.googleapis.com/patents/grant_full_text/2006/ipg061107.zip\n",
      "http://storage.googleapis.com/patents/grant_full_text/2006/ipg061114.zip\n",
      "http://storage.googleapis.com/patents/grant_full_text/2006/ipg061121.zip\n",
      "http://storage.googleapis.com/patents/grant_full_text/2006/ipg061128.zip\n",
      "http://storage.googleapis.com/patents/grant_full_text/2006/ipg061205.zip\n",
      "http://storage.googleapis.com/patents/grant_full_text/2006/ipg061212.zip\n",
      "http://storage.googleapis.com/patents/grant_full_text/2006/ipg061219.zip\n",
      "http://storage.googleapis.com/patents/grant_full_text/2006/ipg061226.zip\n",
      "http://storage.googleapis.com/patents/grant_full_text/2005/ipg050104.zip\n",
      "http://storage.googleapis.com/patents/grant_full_text/2005/ipg050111.zip\n",
      "http://storage.googleapis.com/patents/grant_full_text/2005/ipg050118.zip\n",
      "http://storage.googleapis.com/patents/grant_full_text/2005/ipg050125.zip\n",
      "http://storage.googleapis.com/patents/grant_full_text/2005/ipg050201.zip\n",
      "http://storage.googleapis.com/patents/grant_full_text/2005/ipg050208.zip\n",
      "http://storage.googleapis.com/patents/grant_full_text/2005/ipg050215.zip\n",
      "http://storage.googleapis.com/patents/grant_full_text/2005/ipg050222.zip\n",
      "http://storage.googleapis.com/patents/grant_full_text/2005/ipg050301.zip\n",
      "http://storage.googleapis.com/patents/grant_full_text/2005/ipg050308.zip\n",
      "http://storage.googleapis.com/patents/grant_full_text/2005/ipg050315.zip\n",
      "http://storage.googleapis.com/patents/grant_full_text/2005/ipg050322.zip\n",
      "http://storage.googleapis.com/patents/grant_full_text/2005/ipg050329.zip\n",
      "http://storage.googleapis.com/patents/grant_full_text/2005/ipg050405.zip\n",
      "http://storage.googleapis.com/patents/grant_full_text/2005/ipg050412.zip\n",
      "http://storage.googleapis.com/patents/grant_full_text/2005/ipg050419.zip\n",
      "http://storage.googleapis.com/patents/grant_full_text/2005/ipg050426.zip\n",
      "http://storage.googleapis.com/patents/grant_full_text/2005/ipg050503.zip\n",
      "http://storage.googleapis.com/patents/grant_full_text/2005/ipg050510.zip\n",
      "http://storage.googleapis.com/patents/grant_full_text/2005/ipg050517.zip\n",
      "http://storage.googleapis.com/patents/grant_full_text/2005/ipg050524.zip\n",
      "http://storage.googleapis.com/patents/grant_full_text/2005/ipg050531.zip\n",
      "http://storage.googleapis.com/patents/grant_full_text/2005/ipg050607.zip\n",
      "http://storage.googleapis.com/patents/grant_full_text/2005/ipg050614.zip\n",
      "http://storage.googleapis.com/patents/grant_full_text/2005/ipg050621.zip\n",
      "http://storage.googleapis.com/patents/grant_full_text/2005/ipg050628.zip\n",
      "http://storage.googleapis.com/patents/grant_full_text/2005/ipg050705.zip\n",
      "http://storage.googleapis.com/patents/grant_full_text/2005/ipg050712.zip\n",
      "http://storage.googleapis.com/patents/grant_full_text/2005/ipg050719.zip\n",
      "http://storage.googleapis.com/patents/grant_full_text/2005/ipg050726.zip\n",
      "http://storage.googleapis.com/patents/grant_full_text/2005/ipg050802.zip\n",
      "http://storage.googleapis.com/patents/grant_full_text/2005/ipg050809.zip\n",
      "http://storage.googleapis.com/patents/grant_full_text/2005/ipg050816.zip\n",
      "http://storage.googleapis.com/patents/grant_full_text/2005/ipg050823.zip\n",
      "http://storage.googleapis.com/patents/grant_full_text/2005/ipg050830.zip\n",
      "http://storage.googleapis.com/patents/grant_full_text/2005/ipg050906.zip\n",
      "http://storage.googleapis.com/patents/grant_full_text/2005/ipg050913.zip\n",
      "http://storage.googleapis.com/patents/grant_full_text/2005/ipg050920.zip\n",
      "http://storage.googleapis.com/patents/grant_full_text/2005/ipg050927.zip\n",
      "http://storage.googleapis.com/patents/grant_full_text/2005/ipg051004.zip\n",
      "http://storage.googleapis.com/patents/grant_full_text/2005/ipg051011.zip\n",
      "http://storage.googleapis.com/patents/grant_full_text/2005/ipg051018.zip\n",
      "http://storage.googleapis.com/patents/grant_full_text/2005/ipg051025.zip\n",
      "http://storage.googleapis.com/patents/grant_full_text/2005/ipg051101.zip\n",
      "http://storage.googleapis.com/patents/grant_full_text/2005/ipg051108.zip\n",
      "http://storage.googleapis.com/patents/grant_full_text/2005/ipg051115.zip\n",
      "http://storage.googleapis.com/patents/grant_full_text/2005/ipg051122.zip\n",
      "http://storage.googleapis.com/patents/grant_full_text/2005/ipg051129.zip\n",
      "http://storage.googleapis.com/patents/grant_full_text/2005/ipg051206.zip\n",
      "http://storage.googleapis.com/patents/grant_full_text/2005/ipg051213.zip\n",
      "http://storage.googleapis.com/patents/grant_full_text/2005/ipg051220.zip\n",
      "http://storage.googleapis.com/patents/grant_full_text/2005/ipg051227.zip\n",
      "http://storage.googleapis.com/patents/grant_full_text/2004/pg040106.zip\n",
      "http://storage.googleapis.com/patents/grant_full_text/2004/pg040113.zip\n",
      "http://storage.googleapis.com/patents/grant_full_text/2004/pg040120.zip\n",
      "http://storage.googleapis.com/patents/grant_full_text/2004/pg040127.zip\n",
      "http://storage.googleapis.com/patents/grant_full_text/2004/pg040203.zip\n",
      "http://storage.googleapis.com/patents/grant_full_text/2004/pg040210.zip\n",
      "http://storage.googleapis.com/patents/grant_full_text/2004/pg040217.zip\n",
      "http://storage.googleapis.com/patents/grant_full_text/2004/pg040224.zip\n",
      "http://storage.googleapis.com/patents/grant_full_text/2004/pg040302.zip\n",
      "http://storage.googleapis.com/patents/grant_full_text/2004/pg040309.zip\n",
      "http://storage.googleapis.com/patents/grant_full_text/2004/pg040316.zip\n",
      "http://storage.googleapis.com/patents/grant_full_text/2004/pg040323.zip\n",
      "http://storage.googleapis.com/patents/grant_full_text/2004/pg040330.zip\n",
      "http://storage.googleapis.com/patents/grant_full_text/2004/pg040406.zip\n",
      "http://storage.googleapis.com/patents/grant_full_text/2004/pg040413.zip\n",
      "http://storage.googleapis.com/patents/grant_full_text/2004/pg040420.zip\n",
      "http://storage.googleapis.com/patents/grant_full_text/2004/pg040427.zip\n",
      "http://storage.googleapis.com/patents/grant_full_text/2004/pg040504.zip\n",
      "http://storage.googleapis.com/patents/grant_full_text/2004/pg040511.zip\n",
      "http://storage.googleapis.com/patents/grant_full_text/2004/pg040518.zip\n",
      "http://storage.googleapis.com/patents/grant_full_text/2004/pg040525.zip\n",
      "http://storage.googleapis.com/patents/grant_full_text/2004/pg040601.zip\n",
      "http://storage.googleapis.com/patents/grant_full_text/2004/pg040608.zip\n",
      "http://storage.googleapis.com/patents/grant_full_text/2004/pg040615.zip\n",
      "http://storage.googleapis.com/patents/grant_full_text/2004/pg040622.zip\n",
      "http://storage.googleapis.com/patents/grant_full_text/2004/pg040629.zip\n",
      "http://storage.googleapis.com/patents/grant_full_text/2004/pg040706.zip\n",
      "http://storage.googleapis.com/patents/grant_full_text/2004/pg040713.zip\n",
      "http://storage.googleapis.com/patents/grant_full_text/2004/pg040720.zip\n",
      "http://storage.googleapis.com/patents/grant_full_text/2004/pg040727.zip\n",
      "http://storage.googleapis.com/patents/grant_full_text/2004/pg040803.zip\n",
      "http://storage.googleapis.com/patents/grant_full_text/2004/pg040810.zip\n",
      "http://storage.googleapis.com/patents/grant_full_text/2004/pg040817.zip\n",
      "http://storage.googleapis.com/patents/grant_full_text/2004/pg040824.zip\n",
      "http://storage.googleapis.com/patents/grant_full_text/2004/pg040831.zip\n",
      "http://storage.googleapis.com/patents/grant_full_text/2004/pg040907.zip\n",
      "http://storage.googleapis.com/patents/grant_full_text/2004/pg040914.zip\n",
      "http://storage.googleapis.com/patents/grant_full_text/2004/pg040921.zip\n",
      "http://storage.googleapis.com/patents/grant_full_text/2004/pg040928.zip\n",
      "http://storage.googleapis.com/patents/grant_full_text/2004/pg041005.zip\n",
      "http://storage.googleapis.com/patents/grant_full_text/2004/pg041012.zip\n",
      "http://storage.googleapis.com/patents/grant_full_text/2004/pg041019.zip\n",
      "http://storage.googleapis.com/patents/grant_full_text/2004/pg041026.zip\n",
      "http://storage.googleapis.com/patents/grant_full_text/2004/pg041102.zip\n",
      "http://storage.googleapis.com/patents/grant_full_text/2004/pg041109.zip\n",
      "http://storage.googleapis.com/patents/grant_full_text/2004/pg041116.zip\n",
      "http://storage.googleapis.com/patents/grant_full_text/2004/pg041123.zip\n",
      "http://storage.googleapis.com/patents/grant_full_text/2004/pg041130.zip\n",
      "http://storage.googleapis.com/patents/grant_full_text/2004/pg041207.zip\n",
      "http://storage.googleapis.com/patents/grant_full_text/2004/pg041214.zip\n",
      "http://storage.googleapis.com/patents/grant_full_text/2004/pg041221.zip\n",
      "http://storage.googleapis.com/patents/grant_full_text/2004/pg041228.zip\n",
      "http://storage.googleapis.com/patents/grant_full_text/2003/pg030107.zip\n",
      "http://storage.googleapis.com/patents/grant_full_text/2003/pg030114.zip\n",
      "http://storage.googleapis.com/patents/grant_full_text/2003/pg030121.zip\n",
      "http://storage.googleapis.com/patents/grant_full_text/2003/pg030128.zip\n",
      "http://storage.googleapis.com/patents/grant_full_text/2003/pg030204.zip\n",
      "http://storage.googleapis.com/patents/grant_full_text/2003/pg030211.zip\n",
      "http://storage.googleapis.com/patents/grant_full_text/2003/pg030218.zip\n",
      "http://storage.googleapis.com/patents/grant_full_text/2003/pg030225.zip\n",
      "http://storage.googleapis.com/patents/grant_full_text/2003/pg030304.zip\n",
      "http://storage.googleapis.com/patents/grant_full_text/2003/pg030311.zip\n",
      "http://storage.googleapis.com/patents/grant_full_text/2003/pg030318.zip\n",
      "http://storage.googleapis.com/patents/grant_full_text/2003/pg030325.zip\n",
      "http://storage.googleapis.com/patents/grant_full_text/2003/pg030401.zip\n",
      "http://storage.googleapis.com/patents/grant_full_text/2003/pg030408.zip\n",
      "http://storage.googleapis.com/patents/grant_full_text/2003/pg030415.zip\n",
      "http://storage.googleapis.com/patents/grant_full_text/2003/pg030422.zip\n",
      "http://storage.googleapis.com/patents/grant_full_text/2003/pg030429.zip\n",
      "http://storage.googleapis.com/patents/grant_full_text/2003/pg030506.zip\n",
      "http://storage.googleapis.com/patents/grant_full_text/2003/pg030513.zip\n",
      "http://storage.googleapis.com/patents/grant_full_text/2003/pg030520.zip\n",
      "http://storage.googleapis.com/patents/grant_full_text/2003/pg030527.zip\n",
      "http://storage.googleapis.com/patents/grant_full_text/2003/pg030603.zip\n",
      "http://storage.googleapis.com/patents/grant_full_text/2003/pg030610.zip\n",
      "http://storage.googleapis.com/patents/grant_full_text/2003/pg030617.zip\n",
      "http://storage.googleapis.com/patents/grant_full_text/2003/pg030624.zip\n",
      "http://storage.googleapis.com/patents/grant_full_text/2003/pg030701.zip\n",
      "http://storage.googleapis.com/patents/grant_full_text/2003/pg030708.zip\n",
      "http://storage.googleapis.com/patents/grant_full_text/2003/pg030715.zip\n",
      "http://storage.googleapis.com/patents/grant_full_text/2003/pg030722.zip\n",
      "http://storage.googleapis.com/patents/grant_full_text/2003/pg030729.zip\n",
      "http://storage.googleapis.com/patents/grant_full_text/2003/pg030805.zip\n",
      "http://storage.googleapis.com/patents/grant_full_text/2003/pg030812.zip\n",
      "http://storage.googleapis.com/patents/grant_full_text/2003/pg030819.zip\n",
      "http://storage.googleapis.com/patents/grant_full_text/2003/pg030826.zip\n",
      "http://storage.googleapis.com/patents/grant_full_text/2003/pg030902.zip\n",
      "http://storage.googleapis.com/patents/grant_full_text/2003/pg030909.zip\n",
      "http://storage.googleapis.com/patents/grant_full_text/2003/pg030916.zip\n",
      "http://storage.googleapis.com/patents/grant_full_text/2003/pg030923.zip\n",
      "http://storage.googleapis.com/patents/grant_full_text/2003/pg030930.zip\n",
      "http://storage.googleapis.com/patents/grant_full_text/2003/pg031007.zip\n",
      "http://storage.googleapis.com/patents/grant_full_text/2003/pg031014.zip\n",
      "http://storage.googleapis.com/patents/grant_full_text/2003/pg031021.zip\n",
      "http://storage.googleapis.com/patents/grant_full_text/2003/pg031028.zip\n",
      "http://storage.googleapis.com/patents/grant_full_text/2003/pg031104.zip\n",
      "http://storage.googleapis.com/patents/grant_full_text/2003/pg031111.zip\n",
      "http://storage.googleapis.com/patents/grant_full_text/2003/pg031118.zip\n",
      "http://storage.googleapis.com/patents/grant_full_text/2003/pg031125.zip\n",
      "http://storage.googleapis.com/patents/grant_full_text/2003/pg031202.zip\n",
      "http://storage.googleapis.com/patents/grant_full_text/2003/pg031209.zip\n",
      "http://storage.googleapis.com/patents/grant_full_text/2003/pg031216.zip\n",
      "http://storage.googleapis.com/patents/grant_full_text/2003/pg031223.zip\n",
      "http://storage.googleapis.com/patents/grant_full_text/2003/pg031230.zip\n",
      "http://storage.googleapis.com/patents/grant_full_text/2002/pg020101.zip\n",
      "http://storage.googleapis.com/patents/grant_full_text/2002/pg020108.zip\n",
      "http://storage.googleapis.com/patents/grant_full_text/2002/pg020115.zip\n",
      "http://storage.googleapis.com/patents/grant_full_text/2002/pg020122.zip\n",
      "http://storage.googleapis.com/patents/grant_full_text/2002/pg020129.zip\n",
      "http://storage.googleapis.com/patents/grant_full_text/2002/pg020205.zip\n",
      "http://storage.googleapis.com/patents/grant_full_text/2002/pg020212.zip\n",
      "http://storage.googleapis.com/patents/grant_full_text/2002/pg020219.zip\n",
      "http://storage.googleapis.com/patents/grant_full_text/2002/pg020226.zip\n",
      "http://storage.googleapis.com/patents/grant_full_text/2002/pg020305.zip\n",
      "http://storage.googleapis.com/patents/grant_full_text/2002/pg020312.zip\n",
      "http://storage.googleapis.com/patents/grant_full_text/2002/pg020319.zip\n",
      "http://storage.googleapis.com/patents/grant_full_text/2002/pg020326.zip\n",
      "http://storage.googleapis.com/patents/grant_full_text/2002/pg020402.zip\n",
      "http://storage.googleapis.com/patents/grant_full_text/2002/pg020409.zip\n",
      "http://storage.googleapis.com/patents/grant_full_text/2002/pg020416.zip\n",
      "http://storage.googleapis.com/patents/grant_full_text/2002/pg020423.zip\n",
      "http://storage.googleapis.com/patents/grant_full_text/2002/pg020430.zip\n",
      "http://storage.googleapis.com/patents/grant_full_text/2002/pg020507.zip\n",
      "http://storage.googleapis.com/patents/grant_full_text/2002/pg020514.zip\n",
      "http://storage.googleapis.com/patents/grant_full_text/2002/pg020521.zip\n",
      "http://storage.googleapis.com/patents/grant_full_text/2002/pg020528.zip\n",
      "http://storage.googleapis.com/patents/grant_full_text/2002/pg020604.zip\n",
      "http://storage.googleapis.com/patents/grant_full_text/2002/pg020611.zip\n",
      "http://storage.googleapis.com/patents/grant_full_text/2002/pg020618.zip\n",
      "http://storage.googleapis.com/patents/grant_full_text/2002/pg020625.zip\n",
      "http://storage.googleapis.com/patents/grant_full_text/2002/pg020702.zip\n",
      "http://storage.googleapis.com/patents/grant_full_text/2002/pg020709.zip\n",
      "http://storage.googleapis.com/patents/grant_full_text/2002/pg020716.zip\n",
      "http://storage.googleapis.com/patents/grant_full_text/2002/pg020723.zip\n",
      "http://storage.googleapis.com/patents/grant_full_text/2002/pg020730.zip\n",
      "http://storage.googleapis.com/patents/grant_full_text/2002/pg020806.zip\n",
      "http://storage.googleapis.com/patents/grant_full_text/2002/pg020813.zip\n",
      "http://storage.googleapis.com/patents/grant_full_text/2002/pg020820.zip\n",
      "http://storage.googleapis.com/patents/grant_full_text/2002/pg020827.zip\n",
      "http://storage.googleapis.com/patents/grant_full_text/2002/pg020903.zip\n",
      "http://storage.googleapis.com/patents/grant_full_text/2002/pg020910.zip\n",
      "http://storage.googleapis.com/patents/grant_full_text/2002/pg020917.zip\n",
      "http://storage.googleapis.com/patents/grant_full_text/2002/pg020924.zip\n",
      "http://storage.googleapis.com/patents/grant_full_text/2002/pg021001.zip\n",
      "http://storage.googleapis.com/patents/grant_full_text/2002/pg021008.zip\n",
      "http://storage.googleapis.com/patents/grant_full_text/2002/pg021015.zip\n",
      "http://storage.googleapis.com/patents/grant_full_text/2002/pg021022.zip\n",
      "http://storage.googleapis.com/patents/grant_full_text/2002/pg021029.zip\n",
      "http://storage.googleapis.com/patents/grant_full_text/2002/pg021105.zip\n",
      "http://storage.googleapis.com/patents/grant_full_text/2002/pg021112.zip\n",
      "http://storage.googleapis.com/patents/grant_full_text/2002/pg021119.zip\n",
      "http://storage.googleapis.com/patents/grant_full_text/2002/pg021126.zip\n",
      "http://storage.googleapis.com/patents/grant_full_text/2002/pg021203.zip\n",
      "http://storage.googleapis.com/patents/grant_full_text/2002/pg021210.zip\n",
      "http://storage.googleapis.com/patents/grant_full_text/2002/pg021217.zip\n",
      "http://storage.googleapis.com/patents/grant_full_text/2002/pg021224.zip\n",
      "http://storage.googleapis.com/patents/grant_full_text/2002/pg021231.zip\n",
      "http://storage.googleapis.com/patents/grant_full_text/2001/pftaps20010102_wk01.zip\n",
      "http://storage.googleapis.com/patents/grant_full_text/2001/pftaps20010109_wk02.zip\n",
      "http://storage.googleapis.com/patents/grant_full_text/2001/pftaps20010116_wk03.zip\n",
      "http://storage.googleapis.com/patents/grant_full_text/2001/pftaps20010123_wk04.zip\n",
      "http://storage.googleapis.com/patents/grant_full_text/2001/pftaps20010130_wk05.zip\n",
      "http://storage.googleapis.com/patents/grant_full_text/2001/pftaps20010206_wk06.zip\n",
      "http://storage.googleapis.com/patents/grant_full_text/2001/pftaps20010213_wk07.zip\n",
      "http://storage.googleapis.com/patents/grant_full_text/2001/pftaps20010220_wk08.zip\n",
      "http://storage.googleapis.com/patents/grant_full_text/2001/pftaps20010227_wk09.zip\n",
      "http://storage.googleapis.com/patents/grant_full_text/2001/pftaps20010306_wk10.zip\n",
      "http://storage.googleapis.com/patents/grant_full_text/2001/pftaps20010313_wk11.zip\n",
      "http://storage.googleapis.com/patents/grant_full_text/2001/pftaps20010320_wk12.zip\n",
      "http://storage.googleapis.com/patents/grant_full_text/2001/pftaps20010327_wk13.zip\n",
      "http://storage.googleapis.com/patents/grant_full_text/2001/pftaps20010403_wk14.zip\n",
      "http://storage.googleapis.com/patents/grant_full_text/2001/pftaps20010410_wk15.zip\n",
      "http://storage.googleapis.com/patents/grant_full_text/2001/pftaps20010417_wk16.zip\n",
      "http://storage.googleapis.com/patents/grant_full_text/2001/pftaps20010424_wk17.zip\n",
      "http://storage.googleapis.com/patents/grant_full_text/2001/pftaps20010501_wk18.zip\n",
      "http://storage.googleapis.com/patents/grant_full_text/2001/pftaps20010508_wk19.zip\n",
      "http://storage.googleapis.com/patents/grant_full_text/2001/pftaps20010515_wk20.zip\n",
      "http://storage.googleapis.com/patents/grant_full_text/2001/pftaps20010522_wk21.zip\n",
      "http://storage.googleapis.com/patents/grant_full_text/2001/pftaps20010529_wk22.zip\n",
      "http://storage.googleapis.com/patents/grant_full_text/2001/pftaps20010605_wk23.zip\n",
      "http://storage.googleapis.com/patents/grant_full_text/2001/pftaps20010612_wk24.zip\n",
      "http://storage.googleapis.com/patents/grant_full_text/2001/pftaps20010619_wk25.zip\n",
      "http://storage.googleapis.com/patents/grant_full_text/2001/pftaps20010626_wk26.zip\n",
      "http://storage.googleapis.com/patents/grant_full_text/2001/pftaps20010703_wk27.zip\n",
      "http://storage.googleapis.com/patents/grant_full_text/2001/pftaps20010710_wk28.zip\n",
      "http://storage.googleapis.com/patents/grant_full_text/2001/pftaps20010717_wk29.zip\n",
      "http://storage.googleapis.com/patents/grant_full_text/2001/pftaps20010724_wk30.zip\n",
      "http://storage.googleapis.com/patents/grant_full_text/2001/pftaps20010731_wk31.zip\n",
      "http://storage.googleapis.com/patents/grant_full_text/2001/pftaps20010807_wk32.zip\n",
      "http://storage.googleapis.com/patents/grant_full_text/2001/pftaps20010814_wk33.zip\n",
      "http://storage.googleapis.com/patents/grant_full_text/2001/pftaps20010821_wk34.zip\n",
      "http://storage.googleapis.com/patents/grant_full_text/2001/pftaps20010828_wk35.zip\n",
      "http://storage.googleapis.com/patents/grant_full_text/2001/pftaps20010904_wk36.zip\n",
      "http://storage.googleapis.com/patents/grant_full_text/2001/pftaps20010911_wk37.zip\n",
      "http://storage.googleapis.com/patents/grant_full_text/2001/pftaps20010918_wk38.zip\n",
      "http://storage.googleapis.com/patents/grant_full_text/2001/pftaps20010925_wk39.zip\n",
      "http://storage.googleapis.com/patents/grant_full_text/2001/pftaps20011002_wk40.zip\n",
      "http://storage.googleapis.com/patents/grant_full_text/2001/pftaps20011009_wk41.zip\n",
      "http://storage.googleapis.com/patents/grant_full_text/2001/pftaps20011016_wk42.zip\n",
      "http://storage.googleapis.com/patents/grant_full_text/2001/pftaps20011023_wk43.zip\n",
      "http://storage.googleapis.com/patents/grant_full_text/2001/pftaps20011030_wk44.zip\n",
      "http://storage.googleapis.com/patents/grant_full_text/2001/pftaps20011106_wk45.zip\n",
      "http://storage.googleapis.com/patents/grant_full_text/2001/pftaps20011113_wk46.zip\n",
      "http://storage.googleapis.com/patents/grant_full_text/2001/pftaps20011120_wk47.zip\n",
      "http://storage.googleapis.com/patents/grant_full_text/2001/pftaps20011127_wk48.zip\n",
      "http://storage.googleapis.com/patents/grant_full_text/2001/pftaps20011204_wk49.zip\n",
      "http://storage.googleapis.com/patents/grant_full_text/2001/pftaps20011211_wk50.zip\n",
      "http://storage.googleapis.com/patents/grant_full_text/2001/pftaps20011218_wk51.zip\n",
      "http://storage.googleapis.com/patents/grant_full_text/2001/pftaps20011225_wk52.zip\n",
      "http://storage.googleapis.com/patents/grant_full_text/2001/pg010102.zip\n",
      "http://storage.googleapis.com/patents/grant_full_text/2001/pg010109.zip\n",
      "http://storage.googleapis.com/patents/grant_full_text/2001/pg010116.zip\n",
      "http://storage.googleapis.com/patents/grant_full_text/2001/pg010123.zip\n",
      "http://storage.googleapis.com/patents/grant_full_text/2001/pg010130.zip\n",
      "http://storage.googleapis.com/patents/grant_full_text/2001/pg010206.zip\n",
      "http://storage.googleapis.com/patents/grant_full_text/2001/pg010213.zip\n",
      "http://storage.googleapis.com/patents/grant_full_text/2001/pg010220.zip\n",
      "http://storage.googleapis.com/patents/grant_full_text/2001/pg010227.zip\n",
      "http://storage.googleapis.com/patents/grant_full_text/2001/pg010306.zip\n",
      "http://storage.googleapis.com/patents/grant_full_text/2001/pg010313.zip\n",
      "http://storage.googleapis.com/patents/grant_full_text/2001/pg010320.zip\n",
      "http://storage.googleapis.com/patents/grant_full_text/2001/pg010327.zip\n",
      "http://storage.googleapis.com/patents/grant_full_text/2001/pg010403.zip\n",
      "http://storage.googleapis.com/patents/grant_full_text/2001/pg010410.zip\n",
      "http://storage.googleapis.com/patents/grant_full_text/2001/pg010417.zip\n",
      "http://storage.googleapis.com/patents/grant_full_text/2001/pg010424.zip\n",
      "http://storage.googleapis.com/patents/grant_full_text/2001/pg010501.zip\n",
      "http://storage.googleapis.com/patents/grant_full_text/2001/pg010508.zip\n",
      "http://storage.googleapis.com/patents/grant_full_text/2001/pg010515.zip\n",
      "http://storage.googleapis.com/patents/grant_full_text/2001/pg010522.zip\n",
      "http://storage.googleapis.com/patents/grant_full_text/2001/pg010529.zip\n",
      "http://storage.googleapis.com/patents/grant_full_text/2001/pg010605.zip\n",
      "http://storage.googleapis.com/patents/grant_full_text/2001/pg010612.zip\n",
      "http://storage.googleapis.com/patents/grant_full_text/2001/pg010619.zip\n",
      "http://storage.googleapis.com/patents/grant_full_text/2001/pg010626.zip\n",
      "http://storage.googleapis.com/patents/grant_full_text/2001/pg010703.zip\n",
      "http://storage.googleapis.com/patents/grant_full_text/2001/pg010710.zip\n",
      "http://storage.googleapis.com/patents/grant_full_text/2001/pg010717.zip\n",
      "http://storage.googleapis.com/patents/grant_full_text/2001/pg010724.zip\n",
      "http://storage.googleapis.com/patents/grant_full_text/2001/pg010731.zip\n",
      "http://storage.googleapis.com/patents/grant_full_text/2001/pg010807.zip\n",
      "http://storage.googleapis.com/patents/grant_full_text/2001/pg010814.zip\n",
      "http://storage.googleapis.com/patents/grant_full_text/2001/pg010821.zip\n",
      "http://storage.googleapis.com/patents/grant_full_text/2001/pg010828.zip\n",
      "http://storage.googleapis.com/patents/grant_full_text/2001/pg010904.zip\n",
      "http://storage.googleapis.com/patents/grant_full_text/2001/pg010911.zip\n",
      "http://storage.googleapis.com/patents/grant_full_text/2001/pg010918.zip\n",
      "http://storage.googleapis.com/patents/grant_full_text/2001/pg010925.zip\n",
      "http://storage.googleapis.com/patents/grant_full_text/2001/pg011002.zip\n",
      "http://storage.googleapis.com/patents/grant_full_text/2001/pg011009.zip\n",
      "http://storage.googleapis.com/patents/grant_full_text/2001/pg011016.zip\n",
      "http://storage.googleapis.com/patents/grant_full_text/2001/pg011023.zip\n",
      "http://storage.googleapis.com/patents/grant_full_text/2001/pg011030.zip\n",
      "http://storage.googleapis.com/patents/grant_full_text/2001/pg011106.zip\n",
      "http://storage.googleapis.com/patents/grant_full_text/2001/pg011113.zip\n",
      "http://storage.googleapis.com/patents/grant_full_text/2001/pg011120.zip\n",
      "http://storage.googleapis.com/patents/grant_full_text/2001/pg011127.zip\n",
      "http://storage.googleapis.com/patents/grant_full_text/2001/pg011204.zip\n",
      "http://storage.googleapis.com/patents/grant_full_text/2001/pg011211.zip\n",
      "http://storage.googleapis.com/patents/grant_full_text/2001/pg011218.zip\n",
      "http://storage.googleapis.com/patents/grant_full_text/2001/pg011225.zip\n",
      "http://storage.googleapis.com/patents/grant_full_text/2000/pftaps20000104_wk01.zip\n",
      "http://storage.googleapis.com/patents/grant_full_text/2000/pftaps20000111_wk02.zip\n",
      "http://storage.googleapis.com/patents/grant_full_text/2000/pftaps20000118_wk03.zip\n",
      "http://storage.googleapis.com/patents/grant_full_text/2000/pftaps20000125_wk04.zip\n",
      "http://storage.googleapis.com/patents/grant_full_text/2000/pftaps20000201_wk05.zip\n",
      "http://storage.googleapis.com/patents/grant_full_text/2000/pftaps20000208_wk06.zip\n",
      "http://storage.googleapis.com/patents/grant_full_text/2000/pftaps20000215_wk07.zip\n",
      "http://storage.googleapis.com/patents/grant_full_text/2000/pftaps20000222_wk08.zip\n",
      "http://storage.googleapis.com/patents/grant_full_text/2000/pftaps20000229_wk09.zip\n",
      "http://storage.googleapis.com/patents/grant_full_text/2000/pftaps20000307_wk10.zip\n",
      "http://storage.googleapis.com/patents/grant_full_text/2000/pftaps20000314_wk11.zip\n",
      "http://storage.googleapis.com/patents/grant_full_text/2000/pftaps20000321_wk12.zip\n",
      "http://storage.googleapis.com/patents/grant_full_text/2000/pftaps20000328_wk13.zip\n",
      "http://storage.googleapis.com/patents/grant_full_text/2000/pftaps20000404_wk14.zip\n",
      "http://storage.googleapis.com/patents/grant_full_text/2000/pftaps20000411_wk15.zip\n",
      "http://storage.googleapis.com/patents/grant_full_text/2000/pftaps20000418_wk16.zip\n",
      "http://storage.googleapis.com/patents/grant_full_text/2000/pftaps20000425_wk17.zip\n",
      "http://storage.googleapis.com/patents/grant_full_text/2000/pftaps20000502_wk18.zip\n",
      "http://storage.googleapis.com/patents/grant_full_text/2000/pftaps20000509_wk19.zip\n",
      "http://storage.googleapis.com/patents/grant_full_text/2000/pftaps20000516_wk20.zip\n",
      "http://storage.googleapis.com/patents/grant_full_text/2000/pftaps20000523_wk21.zip\n",
      "http://storage.googleapis.com/patents/grant_full_text/2000/pftaps20000530_wk22.zip\n",
      "http://storage.googleapis.com/patents/grant_full_text/2000/pftaps20000606_wk23.zip\n",
      "http://storage.googleapis.com/patents/grant_full_text/2000/pftaps20000613_wk24.zip\n",
      "http://storage.googleapis.com/patents/grant_full_text/2000/pftaps20000620_wk25.zip\n",
      "http://storage.googleapis.com/patents/grant_full_text/2000/pftaps20000627_wk26.zip\n",
      "http://storage.googleapis.com/patents/grant_full_text/2000/pftaps20000704_wk27.zip\n",
      "http://storage.googleapis.com/patents/grant_full_text/2000/pftaps20000711_wk28.zip\n",
      "http://storage.googleapis.com/patents/grant_full_text/2000/pftaps20000718_wk29.zip\n",
      "http://storage.googleapis.com/patents/grant_full_text/2000/pftaps20000725_wk30.zip\n",
      "http://storage.googleapis.com/patents/grant_full_text/2000/pftaps20000801_wk31.zip\n",
      "http://storage.googleapis.com/patents/grant_full_text/2000/pftaps20000808_wk32.zip\n",
      "http://storage.googleapis.com/patents/grant_full_text/2000/pftaps20000815_wk33.zip\n",
      "http://storage.googleapis.com/patents/grant_full_text/2000/pftaps20000822_wk34.zip\n",
      "http://storage.googleapis.com/patents/grant_full_text/2000/pftaps20000829_wk35.zip\n",
      "http://storage.googleapis.com/patents/grant_full_text/2000/pftaps20000905_wk36.zip\n",
      "http://storage.googleapis.com/patents/grant_full_text/2000/pftaps20000912_wk37.zip\n",
      "http://storage.googleapis.com/patents/grant_full_text/2000/pftaps20000919_wk38.zip\n",
      "http://storage.googleapis.com/patents/grant_full_text/2000/pftaps20000926_wk39.zip\n",
      "http://storage.googleapis.com/patents/grant_full_text/2000/pftaps20001003_wk40.zip\n",
      "http://storage.googleapis.com/patents/grant_full_text/2000/pftaps20001010_wk41.zip\n",
      "http://storage.googleapis.com/patents/grant_full_text/2000/pftaps20001017_wk42.zip\n",
      "http://storage.googleapis.com/patents/grant_full_text/2000/pftaps20001024_wk43.zip\n",
      "http://storage.googleapis.com/patents/grant_full_text/2000/pftaps20001031_wk44.zip\n",
      "http://storage.googleapis.com/patents/grant_full_text/2000/pftaps20001107_wk45.zip\n",
      "http://storage.googleapis.com/patents/grant_full_text/2000/pftaps20001114_wk46.zip\n",
      "http://storage.googleapis.com/patents/grant_full_text/2000/pftaps20001121_wk47.zip\n",
      "http://storage.googleapis.com/patents/grant_full_text/2000/pftaps20001128_wk48.zip\n",
      "http://storage.googleapis.com/patents/grant_full_text/2000/pftaps20001205_wk49.zip\n",
      "http://storage.googleapis.com/patents/grant_full_text/2000/pftaps20001212_wk50.zip\n",
      "http://storage.googleapis.com/patents/grant_full_text/2000/pftaps20001219_wk51.zip\n",
      "http://storage.googleapis.com/patents/grant_full_text/2000/pftaps20001226_wk52.zip\n",
      "http://storage.googleapis.com/patents/grant_full_text/1999/pftaps19990105_wk01.zip\n",
      "http://storage.googleapis.com/patents/grant_full_text/1999/pftaps19990112_wk02.zip\n",
      "http://storage.googleapis.com/patents/grant_full_text/1999/pftaps19990119_wk03.zip\n",
      "http://storage.googleapis.com/patents/grant_full_text/1999/pftaps19990126_wk04.zip\n",
      "http://storage.googleapis.com/patents/grant_full_text/1999/pftaps19990202_wk05.zip\n",
      "http://storage.googleapis.com/patents/grant_full_text/1999/pftaps19990209_wk06.zip\n",
      "http://storage.googleapis.com/patents/grant_full_text/1999/pftaps19990216_wk07.zip\n",
      "http://storage.googleapis.com/patents/grant_full_text/1999/pftaps19990223_wk08.zip\n",
      "http://storage.googleapis.com/patents/grant_full_text/1999/pftaps19990302_wk09.zip\n",
      "http://storage.googleapis.com/patents/grant_full_text/1999/pftaps19990309_wk10.zip\n",
      "http://storage.googleapis.com/patents/grant_full_text/1999/pftaps19990316_wk11.zip\n",
      "http://storage.googleapis.com/patents/grant_full_text/1999/pftaps19990323_wk12.zip\n",
      "http://storage.googleapis.com/patents/grant_full_text/1999/pftaps19990330_wk13.zip\n",
      "http://storage.googleapis.com/patents/grant_full_text/1999/pftaps19990406_wk14.zip\n",
      "http://storage.googleapis.com/patents/grant_full_text/1999/pftaps19990413_wk15.zip\n",
      "http://storage.googleapis.com/patents/grant_full_text/1999/pftaps19990420_wk16.zip\n",
      "http://storage.googleapis.com/patents/grant_full_text/1999/pftaps19990427_wk17.zip\n",
      "http://storage.googleapis.com/patents/grant_full_text/1999/pftaps19990504_wk18.zip\n",
      "http://storage.googleapis.com/patents/grant_full_text/1999/pftaps19990511_wk19.zip\n",
      "http://storage.googleapis.com/patents/grant_full_text/1999/pftaps19990518_wk20.zip\n",
      "http://storage.googleapis.com/patents/grant_full_text/1999/pftaps19990525_wk21.zip\n",
      "http://storage.googleapis.com/patents/grant_full_text/1999/pftaps19990601_wk22.zip\n",
      "http://storage.googleapis.com/patents/grant_full_text/1999/pftaps19990608_wk23.zip\n",
      "http://storage.googleapis.com/patents/grant_full_text/1999/pftaps19990615_wk24.zip\n",
      "http://storage.googleapis.com/patents/grant_full_text/1999/pftaps19990622_wk25.zip\n",
      "http://storage.googleapis.com/patents/grant_full_text/1999/pftaps19990629_wk26.zip\n",
      "http://storage.googleapis.com/patents/grant_full_text/1999/pftaps19990706_wk27.zip\n",
      "http://storage.googleapis.com/patents/grant_full_text/1999/pftaps19990713_wk28.zip\n",
      "http://storage.googleapis.com/patents/grant_full_text/1999/pftaps19990720_wk29.zip\n",
      "http://storage.googleapis.com/patents/grant_full_text/1999/pftaps19990727_wk30.zip\n",
      "http://storage.googleapis.com/patents/grant_full_text/1999/pftaps19990803_wk31.zip\n",
      "http://storage.googleapis.com/patents/grant_full_text/1999/pftaps19990810_wk32.zip\n",
      "http://storage.googleapis.com/patents/grant_full_text/1999/pftaps19990817_wk33.zip\n",
      "http://storage.googleapis.com/patents/grant_full_text/1999/pftaps19990824_wk34.zip\n",
      "http://storage.googleapis.com/patents/grant_full_text/1999/pftaps19990831_wk35.zip\n",
      "http://storage.googleapis.com/patents/grant_full_text/1999/pftaps19990907_wk36.zip\n",
      "http://storage.googleapis.com/patents/grant_full_text/1999/pftaps19990914_wk37.zip\n",
      "http://storage.googleapis.com/patents/grant_full_text/1999/pftaps19990921_wk38.zip\n",
      "http://storage.googleapis.com/patents/grant_full_text/1999/pftaps19990928_wk39.zip\n",
      "http://storage.googleapis.com/patents/grant_full_text/1999/pftaps19991005_wk40.zip\n",
      "http://storage.googleapis.com/patents/grant_full_text/1999/pftaps19991012_wk41.zip\n",
      "http://storage.googleapis.com/patents/grant_full_text/1999/pftaps19991019_wk42.zip\n",
      "http://storage.googleapis.com/patents/grant_full_text/1999/pftaps19991026_wk43.zip\n",
      "http://storage.googleapis.com/patents/grant_full_text/1999/pftaps19991102_wk44.zip\n",
      "http://storage.googleapis.com/patents/grant_full_text/1999/pftaps19991109_wk45.zip\n",
      "http://storage.googleapis.com/patents/grant_full_text/1999/pftaps19991116_wk46.zip\n",
      "http://storage.googleapis.com/patents/grant_full_text/1999/pftaps19991123_wk47.zip\n",
      "http://storage.googleapis.com/patents/grant_full_text/1999/pftaps19991130_wk48.zip\n",
      "http://storage.googleapis.com/patents/grant_full_text/1999/pftaps19991207_wk49.zip\n",
      "http://storage.googleapis.com/patents/grant_full_text/1999/pftaps19991214_wk50.zip\n",
      "http://storage.googleapis.com/patents/grant_full_text/1999/pftaps19991221_wk51.zip\n",
      "http://storage.googleapis.com/patents/grant_full_text/1999/pftaps19991228_wk52.zip\n",
      "http://storage.googleapis.com/patents/grant_full_text/1998/pftaps19980106_wk01.zip\n",
      "http://storage.googleapis.com/patents/grant_full_text/1998/pftaps19980113_wk02.zip\n",
      "http://storage.googleapis.com/patents/grant_full_text/1998/pftaps19980120_wk03.zip\n",
      "http://storage.googleapis.com/patents/grant_full_text/1998/pftaps19980127_wk04.zip\n",
      "http://storage.googleapis.com/patents/grant_full_text/1998/pftaps19980203_wk05.zip\n",
      "http://storage.googleapis.com/patents/grant_full_text/1998/pftaps19980210_wk06.zip\n",
      "http://storage.googleapis.com/patents/grant_full_text/1998/pftaps19980217_wk07.zip\n",
      "http://storage.googleapis.com/patents/grant_full_text/1998/pftaps19980224_wk08.zip\n",
      "http://storage.googleapis.com/patents/grant_full_text/1998/pftaps19980303_wk09.zip\n",
      "http://storage.googleapis.com/patents/grant_full_text/1998/pftaps19980310_wk10.zip\n",
      "http://storage.googleapis.com/patents/grant_full_text/1998/pftaps19980317_wk11.zip\n",
      "http://storage.googleapis.com/patents/grant_full_text/1998/pftaps19980324_wk12.zip\n",
      "http://storage.googleapis.com/patents/grant_full_text/1998/pftaps19980331_wk13.zip\n",
      "http://storage.googleapis.com/patents/grant_full_text/1998/pftaps19980407_wk14.zip\n",
      "http://storage.googleapis.com/patents/grant_full_text/1998/pftaps19980414_wk15.zip\n",
      "http://storage.googleapis.com/patents/grant_full_text/1998/pftaps19980421_wk16.zip\n",
      "http://storage.googleapis.com/patents/grant_full_text/1998/pftaps19980428_wk17.zip\n",
      "http://storage.googleapis.com/patents/grant_full_text/1998/pftaps19980505_wk18.zip\n",
      "http://storage.googleapis.com/patents/grant_full_text/1998/pftaps19980512_wk19.zip\n",
      "http://storage.googleapis.com/patents/grant_full_text/1998/pftaps19980519_wk20.zip\n",
      "http://storage.googleapis.com/patents/grant_full_text/1998/pftaps19980526_wk21.zip\n",
      "http://storage.googleapis.com/patents/grant_full_text/1998/pftaps19980602_wk22.zip\n",
      "http://storage.googleapis.com/patents/grant_full_text/1998/pftaps19980609_wk23.zip\n",
      "http://storage.googleapis.com/patents/grant_full_text/1998/pftaps19980616_wk24.zip\n",
      "http://storage.googleapis.com/patents/grant_full_text/1998/pftaps19980623_wk25.zip\n",
      "http://storage.googleapis.com/patents/grant_full_text/1998/pftaps19980630_wk26.zip\n",
      "http://storage.googleapis.com/patents/grant_full_text/1998/pftaps19980707_wk27.zip\n",
      "http://storage.googleapis.com/patents/grant_full_text/1998/pftaps19980714_wk28.zip\n",
      "http://storage.googleapis.com/patents/grant_full_text/1998/pftaps19980721_wk29.zip\n",
      "http://storage.googleapis.com/patents/grant_full_text/1998/pftaps19980728_wk30.zip\n",
      "http://storage.googleapis.com/patents/grant_full_text/1998/pftaps19980804_wk31.zip\n",
      "http://storage.googleapis.com/patents/grant_full_text/1998/pftaps19980811_wk32.zip\n",
      "http://storage.googleapis.com/patents/grant_full_text/1998/pftaps19980818_wk33.zip\n",
      "http://storage.googleapis.com/patents/grant_full_text/1998/pftaps19980825_wk34.zip\n",
      "http://storage.googleapis.com/patents/grant_full_text/1998/pftaps19980901_wk35.zip\n",
      "http://storage.googleapis.com/patents/grant_full_text/1998/pftaps19980908_wk36.zip\n",
      "http://storage.googleapis.com/patents/grant_full_text/1998/pftaps19980915_wk37.zip\n",
      "http://storage.googleapis.com/patents/grant_full_text/1998/pftaps19980922_wk38.zip\n",
      "http://storage.googleapis.com/patents/grant_full_text/1998/pftaps19980929_wk39.zip\n",
      "http://storage.googleapis.com/patents/grant_full_text/1998/pftaps19981006_wk40.zip\n",
      "http://storage.googleapis.com/patents/grant_full_text/1998/pftaps19981013_wk41.zip\n",
      "http://storage.googleapis.com/patents/grant_full_text/1998/pftaps19981020_wk42.zip\n",
      "http://storage.googleapis.com/patents/grant_full_text/1998/pftaps19981027_wk43.zip\n",
      "http://storage.googleapis.com/patents/grant_full_text/1998/pftaps19981103_wk44.zip\n",
      "http://storage.googleapis.com/patents/grant_full_text/1998/pftaps19981110_wk45.zip\n",
      "http://storage.googleapis.com/patents/grant_full_text/1998/pftaps19981117_wk46.zip\n",
      "http://storage.googleapis.com/patents/grant_full_text/1998/pftaps19981124_wk47.zip\n",
      "http://storage.googleapis.com/patents/grant_full_text/1998/pftaps19981201_wk48.zip\n",
      "http://storage.googleapis.com/patents/grant_full_text/1998/pftaps19981208_wk49.zip\n",
      "http://storage.googleapis.com/patents/grant_full_text/1998/pftaps19981215_wk50.zip\n",
      "http://storage.googleapis.com/patents/grant_full_text/1998/pftaps19981222_wk51.zip\n",
      "http://storage.googleapis.com/patents/grant_full_text/1998/pftaps19981229_wk52.zip\n",
      "http://storage.googleapis.com/patents/grant_full_text/1997/pftaps19970107_wk01.zip\n",
      "http://storage.googleapis.com/patents/grant_full_text/1997/pftaps19970114_wk02.zip\n",
      "http://storage.googleapis.com/patents/grant_full_text/1997/pftaps19970121_wk03.zip\n",
      "http://storage.googleapis.com/patents/grant_full_text/1997/pftaps19970128_wk04.zip\n",
      "http://storage.googleapis.com/patents/grant_full_text/1997/pftaps19970204_wk05.zip\n",
      "http://storage.googleapis.com/patents/grant_full_text/1997/pftaps19970211_wk06.zip\n",
      "http://storage.googleapis.com/patents/grant_full_text/1997/pftaps19970218_wk07.zip\n",
      "http://storage.googleapis.com/patents/grant_full_text/1997/pftaps19970225_wk08.zip\n",
      "http://storage.googleapis.com/patents/grant_full_text/1997/pftaps19970304_wk09.zip\n",
      "http://storage.googleapis.com/patents/grant_full_text/1997/pftaps19970311_wk10.zip\n",
      "http://storage.googleapis.com/patents/grant_full_text/1997/pftaps19970318_wk11.zip\n",
      "http://storage.googleapis.com/patents/grant_full_text/1997/pftaps19970325_wk12.zip\n",
      "http://storage.googleapis.com/patents/grant_full_text/1997/pftaps19970401_wk13.zip\n",
      "http://storage.googleapis.com/patents/grant_full_text/1997/pftaps19970408_wk14.zip\n",
      "http://storage.googleapis.com/patents/grant_full_text/1997/pftaps19970415_wk15.zip\n",
      "http://storage.googleapis.com/patents/grant_full_text/1997/pftaps19970422_wk16.zip\n",
      "http://storage.googleapis.com/patents/grant_full_text/1997/pftaps19970429_wk17.zip\n",
      "http://storage.googleapis.com/patents/grant_full_text/1997/pftaps19970506_wk18.zip\n",
      "http://storage.googleapis.com/patents/grant_full_text/1997/pftaps19970513_wk19.zip\n",
      "http://storage.googleapis.com/patents/grant_full_text/1997/pftaps19970520_wk20.zip\n",
      "http://storage.googleapis.com/patents/grant_full_text/1997/pftaps19970527_wk21.zip\n",
      "http://storage.googleapis.com/patents/grant_full_text/1997/pftaps19970603_wk22.zip\n",
      "http://storage.googleapis.com/patents/grant_full_text/1997/pftaps19970610_wk23.zip\n",
      "http://storage.googleapis.com/patents/grant_full_text/1997/pftaps19970617_wk24.zip\n",
      "http://storage.googleapis.com/patents/grant_full_text/1997/pftaps19970624_wk25.zip\n",
      "http://storage.googleapis.com/patents/grant_full_text/1997/pftaps19970701_wk26.zip\n",
      "http://storage.googleapis.com/patents/grant_full_text/1997/pftaps19970708_wk27.zip\n",
      "http://storage.googleapis.com/patents/grant_full_text/1997/pftaps19970715_wk28.zip\n",
      "http://storage.googleapis.com/patents/grant_full_text/1997/pftaps19970722_wk29.zip\n",
      "http://storage.googleapis.com/patents/grant_full_text/1997/pftaps19970729_wk30.zip\n",
      "http://storage.googleapis.com/patents/grant_full_text/1997/pftaps19970805_wk31.zip\n",
      "http://storage.googleapis.com/patents/grant_full_text/1997/pftaps19970812_wk32.zip\n",
      "http://storage.googleapis.com/patents/grant_full_text/1997/pftaps19970819_wk33.zip\n",
      "http://storage.googleapis.com/patents/grant_full_text/1997/pftaps19970826_wk34.zip\n",
      "http://storage.googleapis.com/patents/grant_full_text/1997/pftaps19970902_wk35.zip\n",
      "http://storage.googleapis.com/patents/grant_full_text/1997/pftaps19970909_wk36.zip\n",
      "http://storage.googleapis.com/patents/grant_full_text/1997/pftaps19970916_wk37.zip\n",
      "http://storage.googleapis.com/patents/grant_full_text/1997/pftaps19970923_wk38.zip\n",
      "http://storage.googleapis.com/patents/grant_full_text/1997/pftaps19970930_wk39.zip\n",
      "http://storage.googleapis.com/patents/grant_full_text/1997/pftaps19971007_wk40.zip\n",
      "http://storage.googleapis.com/patents/grant_full_text/1997/pftaps19971014_wk41.zip\n",
      "http://storage.googleapis.com/patents/grant_full_text/1997/pftaps19971021_wk42.zip\n",
      "http://storage.googleapis.com/patents/grant_full_text/1997/pftaps19971028_wk43.zip\n",
      "http://storage.googleapis.com/patents/grant_full_text/1997/pftaps19971104_wk44.zip\n",
      "http://storage.googleapis.com/patents/grant_full_text/1997/pftaps19971111_wk45.zip\n",
      "http://storage.googleapis.com/patents/grant_full_text/1997/pftaps19971118_wk46.zip\n",
      "http://storage.googleapis.com/patents/grant_full_text/1997/pftaps19971125_wk47.zip\n",
      "http://storage.googleapis.com/patents/grant_full_text/1997/pftaps19971202_wk48.zip\n",
      "http://storage.googleapis.com/patents/grant_full_text/1997/pftaps19971209_wk49.zip\n",
      "http://storage.googleapis.com/patents/grant_full_text/1997/pftaps19971216_wk50.zip\n",
      "http://storage.googleapis.com/patents/grant_full_text/1997/pftaps19971223_wk51.zip\n",
      "http://storage.googleapis.com/patents/grant_full_text/1997/pftaps19971230_wk52.zip\n",
      "http://storage.googleapis.com/patents/grant_full_text/1996/pftaps19960102_wk01.zip\n",
      "http://storage.googleapis.com/patents/grant_full_text/1996/pftaps19960109_wk02.zip\n",
      "http://storage.googleapis.com/patents/grant_full_text/1996/pftaps19960116_wk03.zip\n",
      "http://storage.googleapis.com/patents/grant_full_text/1996/pftaps19960123_wk04.zip\n",
      "http://storage.googleapis.com/patents/grant_full_text/1996/pftaps19960130_wk05.zip\n",
      "http://storage.googleapis.com/patents/grant_full_text/1996/pftaps19960206_wk06.zip\n",
      "http://storage.googleapis.com/patents/grant_full_text/1996/pftaps19960213_wk07.zip\n",
      "http://storage.googleapis.com/patents/grant_full_text/1996/pftaps19960220_wk08.zip\n",
      "http://storage.googleapis.com/patents/grant_full_text/1996/pftaps19960227_wk09.zip\n",
      "http://storage.googleapis.com/patents/grant_full_text/1996/pftaps19960305_wk10.zip\n",
      "http://storage.googleapis.com/patents/grant_full_text/1996/pftaps19960312_wk11.zip\n",
      "http://storage.googleapis.com/patents/grant_full_text/1996/pftaps19960319_wk12.zip\n",
      "http://storage.googleapis.com/patents/grant_full_text/1996/pftaps19960326_wk13.zip\n",
      "http://storage.googleapis.com/patents/grant_full_text/1996/pftaps19960402_wk14.zip\n",
      "http://storage.googleapis.com/patents/grant_full_text/1996/pftaps19960409_wk15.zip\n",
      "http://storage.googleapis.com/patents/grant_full_text/1996/pftaps19960416_wk16.zip\n",
      "http://storage.googleapis.com/patents/grant_full_text/1996/pftaps19960423_wk17.zip\n",
      "http://storage.googleapis.com/patents/grant_full_text/1996/pftaps19960430_wk18.zip\n",
      "http://storage.googleapis.com/patents/grant_full_text/1996/pftaps19960507_wk19.zip\n",
      "http://storage.googleapis.com/patents/grant_full_text/1996/pftaps19960514_wk20.zip\n",
      "http://storage.googleapis.com/patents/grant_full_text/1996/pftaps19960521_wk21.zip\n",
      "http://storage.googleapis.com/patents/grant_full_text/1996/pftaps19960528_wk22.zip\n",
      "http://storage.googleapis.com/patents/grant_full_text/1996/pftaps19960604_wk23.zip\n",
      "http://storage.googleapis.com/patents/grant_full_text/1996/pftaps19960611_wk24.zip\n",
      "http://storage.googleapis.com/patents/grant_full_text/1996/pftaps19960618_wk25.zip\n",
      "http://storage.googleapis.com/patents/grant_full_text/1996/pftaps19960625_wk26.zip\n",
      "http://storage.googleapis.com/patents/grant_full_text/1996/pftaps19960702_wk27.zip\n",
      "http://storage.googleapis.com/patents/grant_full_text/1996/pftaps19960709_wk28.zip\n",
      "http://storage.googleapis.com/patents/grant_full_text/1996/pftaps19960716_wk29.zip\n",
      "http://storage.googleapis.com/patents/grant_full_text/1996/pftaps19960723_wk30.zip\n",
      "http://storage.googleapis.com/patents/grant_full_text/1996/pftaps19960730_wk31.zip\n",
      "http://storage.googleapis.com/patents/grant_full_text/1996/pftaps19960806_wk32.zip\n",
      "http://storage.googleapis.com/patents/grant_full_text/1996/pftaps19960813_wk33.zip\n",
      "http://storage.googleapis.com/patents/grant_full_text/1996/pftaps19960820_wk34.zip\n",
      "http://storage.googleapis.com/patents/grant_full_text/1996/pftaps19960827_wk35.zip\n",
      "http://storage.googleapis.com/patents/grant_full_text/1996/pftaps19960903_wk36.zip\n",
      "http://storage.googleapis.com/patents/grant_full_text/1996/pftaps19960910_wk37.zip\n",
      "http://storage.googleapis.com/patents/grant_full_text/1996/pftaps19960917_wk38.zip\n",
      "http://storage.googleapis.com/patents/grant_full_text/1996/pftaps19960924_wk39.zip\n",
      "http://storage.googleapis.com/patents/grant_full_text/1996/pftaps19961001_wk40.zip\n",
      "http://storage.googleapis.com/patents/grant_full_text/1996/pftaps19961008_wk41.zip\n",
      "http://storage.googleapis.com/patents/grant_full_text/1996/pftaps19961015_wk42.zip\n",
      "http://storage.googleapis.com/patents/grant_full_text/1996/pftaps19961022_wk43.zip\n",
      "http://storage.googleapis.com/patents/grant_full_text/1996/pftaps19961029_wk44.zip\n",
      "http://storage.googleapis.com/patents/grant_full_text/1996/pftaps19961105_wk45.zip\n",
      "http://storage.googleapis.com/patents/grant_full_text/1996/pftaps19961112_wk46.zip\n",
      "http://storage.googleapis.com/patents/grant_full_text/1996/pftaps19961119_wk47.zip\n",
      "http://storage.googleapis.com/patents/grant_full_text/1996/pftaps19961126_wk48.zip\n",
      "http://storage.googleapis.com/patents/grant_full_text/1996/pftaps19961203_wk49.zip\n",
      "http://storage.googleapis.com/patents/grant_full_text/1996/pftaps19961210_wk50.zip\n",
      "http://storage.googleapis.com/patents/grant_full_text/1996/pftaps19961217_wk51.zip\n",
      "http://storage.googleapis.com/patents/grant_full_text/1996/pftaps19961224_wk52.zip\n",
      "http://storage.googleapis.com/patents/grant_full_text/1996/pftaps19961231_wk53.zip\n",
      "http://storage.googleapis.com/patents/grant_full_text/1995/pftaps19950103_wk01.zip\n",
      "http://storage.googleapis.com/patents/grant_full_text/1995/pftaps19950110_wk02.zip\n",
      "http://storage.googleapis.com/patents/grant_full_text/1995/pftaps19950117_wk03.zip\n",
      "http://storage.googleapis.com/patents/grant_full_text/1995/pftaps19950124_wk04.zip\n",
      "http://storage.googleapis.com/patents/grant_full_text/1995/pftaps19950131_wk05.zip\n",
      "http://storage.googleapis.com/patents/grant_full_text/1995/pftaps19950207_wk06.zip\n",
      "http://storage.googleapis.com/patents/grant_full_text/1995/pftaps19950214_wk07.zip\n",
      "http://storage.googleapis.com/patents/grant_full_text/1995/pftaps19950221_wk08.zip\n",
      "http://storage.googleapis.com/patents/grant_full_text/1995/pftaps19950228_wk09.zip\n",
      "http://storage.googleapis.com/patents/grant_full_text/1995/pftaps19950307_wk10.zip\n",
      "http://storage.googleapis.com/patents/grant_full_text/1995/pftaps19950314_wk11.zip\n",
      "http://storage.googleapis.com/patents/grant_full_text/1995/pftaps19950321_wk12.zip\n",
      "http://storage.googleapis.com/patents/grant_full_text/1995/pftaps19950328_wk13.zip\n",
      "http://storage.googleapis.com/patents/grant_full_text/1995/pftaps19950404_wk14.zip\n",
      "http://storage.googleapis.com/patents/grant_full_text/1995/pftaps19950411_wk15.zip\n",
      "http://storage.googleapis.com/patents/grant_full_text/1995/pftaps19950418_wk16.zip\n",
      "http://storage.googleapis.com/patents/grant_full_text/1995/pftaps19950425_wk17.zip\n",
      "http://storage.googleapis.com/patents/grant_full_text/1995/pftaps19950502_wk18.zip\n",
      "http://storage.googleapis.com/patents/grant_full_text/1995/pftaps19950509_wk19.zip\n",
      "http://storage.googleapis.com/patents/grant_full_text/1995/pftaps19950516_wk20.zip\n",
      "http://storage.googleapis.com/patents/grant_full_text/1995/pftaps19950523_wk21.zip\n",
      "http://storage.googleapis.com/patents/grant_full_text/1995/pftaps19950530_wk22.zip\n",
      "http://storage.googleapis.com/patents/grant_full_text/1995/pftaps19950606_wk23.zip\n",
      "http://storage.googleapis.com/patents/grant_full_text/1995/pftaps19950613_wk24.zip\n",
      "http://storage.googleapis.com/patents/grant_full_text/1995/pftaps19950620_wk25.zip\n",
      "http://storage.googleapis.com/patents/grant_full_text/1995/pftaps19950627_wk26.zip\n",
      "http://storage.googleapis.com/patents/grant_full_text/1995/pftaps19950704_wk27.zip\n",
      "http://storage.googleapis.com/patents/grant_full_text/1995/pftaps19950711_wk28.zip\n",
      "http://storage.googleapis.com/patents/grant_full_text/1995/pftaps19950718_wk29.zip\n",
      "http://storage.googleapis.com/patents/grant_full_text/1995/pftaps19950725_wk30.zip\n",
      "http://storage.googleapis.com/patents/grant_full_text/1995/pftaps19950801_wk31.zip\n",
      "http://storage.googleapis.com/patents/grant_full_text/1995/pftaps19950808_wk32.zip\n",
      "http://storage.googleapis.com/patents/grant_full_text/1995/pftaps19950815_wk33.zip\n",
      "http://storage.googleapis.com/patents/grant_full_text/1995/pftaps19950822_wk34.zip\n",
      "http://storage.googleapis.com/patents/grant_full_text/1995/pftaps19950829_wk35.zip\n",
      "http://storage.googleapis.com/patents/grant_full_text/1995/pftaps19950905_wk36.zip\n",
      "http://storage.googleapis.com/patents/grant_full_text/1995/pftaps19950912_wk37.zip\n",
      "http://storage.googleapis.com/patents/grant_full_text/1995/pftaps19950919_wk38.zip\n",
      "http://storage.googleapis.com/patents/grant_full_text/1995/pftaps19950926_wk39.zip\n",
      "http://storage.googleapis.com/patents/grant_full_text/1995/pftaps19951003_wk40.zip\n",
      "http://storage.googleapis.com/patents/grant_full_text/1995/pftaps19951010_wk41.zip\n",
      "http://storage.googleapis.com/patents/grant_full_text/1995/pftaps19951017_wk42.zip\n",
      "http://storage.googleapis.com/patents/grant_full_text/1995/pftaps19951024_wk43.zip\n",
      "http://storage.googleapis.com/patents/grant_full_text/1995/pftaps19951031_wk44.zip\n",
      "http://storage.googleapis.com/patents/grant_full_text/1995/pftaps19951107_wk45.zip\n",
      "http://storage.googleapis.com/patents/grant_full_text/1995/pftaps19951114_wk46.zip\n",
      "http://storage.googleapis.com/patents/grant_full_text/1995/pftaps19951121_wk47.zip\n",
      "http://storage.googleapis.com/patents/grant_full_text/1995/pftaps19951128_wk48.zip\n",
      "http://storage.googleapis.com/patents/grant_full_text/1995/pftaps19951205_wk49.zip\n",
      "http://storage.googleapis.com/patents/grant_full_text/1995/pftaps19951212_wk50.zip\n",
      "http://storage.googleapis.com/patents/grant_full_text/1995/pftaps19951219_wk51.zip\n",
      "http://storage.googleapis.com/patents/grant_full_text/1995/pftaps19951226_wk52.zip\n",
      "http://storage.googleapis.com/patents/grant_full_text/1994/pftaps19940104_wk01.zip\n",
      "http://storage.googleapis.com/patents/grant_full_text/1994/pftaps19940111_wk02.zip\n",
      "http://storage.googleapis.com/patents/grant_full_text/1994/pftaps19940118_wk03.zip\n",
      "http://storage.googleapis.com/patents/grant_full_text/1994/pftaps19940125_wk04.zip\n",
      "http://storage.googleapis.com/patents/grant_full_text/1994/pftaps19940201_wk05.zip\n",
      "http://storage.googleapis.com/patents/grant_full_text/1994/pftaps19940208_wk06.zip\n",
      "http://storage.googleapis.com/patents/grant_full_text/1994/pftaps19940215_wk07.zip\n",
      "http://storage.googleapis.com/patents/grant_full_text/1994/pftaps19940222_wk08.zip\n",
      "http://storage.googleapis.com/patents/grant_full_text/1994/pftaps19940301_wk09.zip\n",
      "http://storage.googleapis.com/patents/grant_full_text/1994/pftaps19940308_wk10.zip\n",
      "http://storage.googleapis.com/patents/grant_full_text/1994/pftaps19940315_wk11.zip\n",
      "http://storage.googleapis.com/patents/grant_full_text/1994/pftaps19940322_wk12.zip\n",
      "http://storage.googleapis.com/patents/grant_full_text/1994/pftaps19940329_wk13.zip\n",
      "http://storage.googleapis.com/patents/grant_full_text/1994/pftaps19940405_wk14.zip\n",
      "http://storage.googleapis.com/patents/grant_full_text/1994/pftaps19940412_wk15.zip\n",
      "http://storage.googleapis.com/patents/grant_full_text/1994/pftaps19940419_wk16.zip\n",
      "http://storage.googleapis.com/patents/grant_full_text/1994/pftaps19940426_wk17.zip\n",
      "http://storage.googleapis.com/patents/grant_full_text/1994/pftaps19940503_wk18.zip\n",
      "http://storage.googleapis.com/patents/grant_full_text/1994/pftaps19940510_wk19.zip\n",
      "http://storage.googleapis.com/patents/grant_full_text/1994/pftaps19940517_wk20.zip\n",
      "http://storage.googleapis.com/patents/grant_full_text/1994/pftaps19940524_wk21.zip\n",
      "http://storage.googleapis.com/patents/grant_full_text/1994/pftaps19940531_wk22.zip\n",
      "http://storage.googleapis.com/patents/grant_full_text/1994/pftaps19940607_wk23.zip\n",
      "http://storage.googleapis.com/patents/grant_full_text/1994/pftaps19940614_wk24.zip\n",
      "http://storage.googleapis.com/patents/grant_full_text/1994/pftaps19940621_wk25.zip\n",
      "http://storage.googleapis.com/patents/grant_full_text/1994/pftaps19940628_wk26.zip\n",
      "http://storage.googleapis.com/patents/grant_full_text/1994/pftaps19940705_wk27.zip\n",
      "http://storage.googleapis.com/patents/grant_full_text/1994/pftaps19940712_wk28.zip\n",
      "http://storage.googleapis.com/patents/grant_full_text/1994/pftaps19940719_wk29.zip\n",
      "http://storage.googleapis.com/patents/grant_full_text/1994/pftaps19940726_wk30.zip\n",
      "http://storage.googleapis.com/patents/grant_full_text/1994/pftaps19940802_wk31.zip\n",
      "http://storage.googleapis.com/patents/grant_full_text/1994/pftaps19940809_wk32.zip\n",
      "http://storage.googleapis.com/patents/grant_full_text/1994/pftaps19940816_wk33.zip\n",
      "http://storage.googleapis.com/patents/grant_full_text/1994/pftaps19940823_wk34.zip\n",
      "http://storage.googleapis.com/patents/grant_full_text/1994/pftaps19940830_wk35.zip\n",
      "http://storage.googleapis.com/patents/grant_full_text/1994/pftaps19940906_wk36.zip\n",
      "http://storage.googleapis.com/patents/grant_full_text/1994/pftaps19940913_wk37.zip\n",
      "http://storage.googleapis.com/patents/grant_full_text/1994/pftaps19940920_wk38.zip\n",
      "http://storage.googleapis.com/patents/grant_full_text/1994/pftaps19940927_wk39.zip\n",
      "http://storage.googleapis.com/patents/grant_full_text/1994/pftaps19941004_wk40.zip\n",
      "http://storage.googleapis.com/patents/grant_full_text/1994/pftaps19941011_wk41.zip\n",
      "http://storage.googleapis.com/patents/grant_full_text/1994/pftaps19941018_wk42.zip\n",
      "http://storage.googleapis.com/patents/grant_full_text/1994/pftaps19941025_wk43.zip\n",
      "http://storage.googleapis.com/patents/grant_full_text/1994/pftaps19941101_wk44.zip\n",
      "http://storage.googleapis.com/patents/grant_full_text/1994/pftaps19941108_wk45.zip\n",
      "http://storage.googleapis.com/patents/grant_full_text/1994/pftaps19941115_wk46.zip\n",
      "http://storage.googleapis.com/patents/grant_full_text/1994/pftaps19941122_wk47.zip\n",
      "http://storage.googleapis.com/patents/grant_full_text/1994/pftaps19941129_wk48.zip\n",
      "http://storage.googleapis.com/patents/grant_full_text/1994/pftaps19941206_wk49.zip\n",
      "http://storage.googleapis.com/patents/grant_full_text/1994/pftaps19941213_wk50.zip\n",
      "http://storage.googleapis.com/patents/grant_full_text/1994/pftaps19941220_wk51.zip\n",
      "http://storage.googleapis.com/patents/grant_full_text/1994/pftaps19941227_wk52.zip\n",
      "http://storage.googleapis.com/patents/grant_full_text/1993/pftaps19930105_wk01.zip\n",
      "http://storage.googleapis.com/patents/grant_full_text/1993/pftaps19930112_wk02.zip\n",
      "http://storage.googleapis.com/patents/grant_full_text/1993/pftaps19930119_wk03.zip\n",
      "http://storage.googleapis.com/patents/grant_full_text/1993/pftaps19930126_wk04.zip\n",
      "http://storage.googleapis.com/patents/grant_full_text/1993/pftaps19930202_wk05.zip\n",
      "http://storage.googleapis.com/patents/grant_full_text/1993/pftaps19930209_wk06.zip\n",
      "http://storage.googleapis.com/patents/grant_full_text/1993/pftaps19930216_wk07.zip\n",
      "http://storage.googleapis.com/patents/grant_full_text/1993/pftaps19930223_wk08.zip\n",
      "http://storage.googleapis.com/patents/grant_full_text/1993/pftaps19930302_wk09.zip\n",
      "http://storage.googleapis.com/patents/grant_full_text/1993/pftaps19930309_wk10.zip\n",
      "http://storage.googleapis.com/patents/grant_full_text/1993/pftaps19930316_wk11.zip\n",
      "http://storage.googleapis.com/patents/grant_full_text/1993/pftaps19930323_wk12.zip\n",
      "http://storage.googleapis.com/patents/grant_full_text/1993/pftaps19930330_wk13.zip\n",
      "http://storage.googleapis.com/patents/grant_full_text/1993/pftaps19930406_wk14.zip\n",
      "http://storage.googleapis.com/patents/grant_full_text/1993/pftaps19930413_wk15.zip\n",
      "http://storage.googleapis.com/patents/grant_full_text/1993/pftaps19930420_wk16.zip\n",
      "http://storage.googleapis.com/patents/grant_full_text/1993/pftaps19930427_wk17.zip\n",
      "http://storage.googleapis.com/patents/grant_full_text/1993/pftaps19930504_wk18.zip\n",
      "http://storage.googleapis.com/patents/grant_full_text/1993/pftaps19930511_wk19.zip\n",
      "http://storage.googleapis.com/patents/grant_full_text/1993/pftaps19930518_wk20.zip\n",
      "http://storage.googleapis.com/patents/grant_full_text/1993/pftaps19930525_wk21.zip\n",
      "http://storage.googleapis.com/patents/grant_full_text/1993/pftaps19930601_wk22.zip\n",
      "http://storage.googleapis.com/patents/grant_full_text/1993/pftaps19930608_wk23.zip\n",
      "http://storage.googleapis.com/patents/grant_full_text/1993/pftaps19930615_wk24.zip\n",
      "http://storage.googleapis.com/patents/grant_full_text/1993/pftaps19930622_wk25.zip\n",
      "http://storage.googleapis.com/patents/grant_full_text/1993/pftaps19930629_wk26.zip\n",
      "http://storage.googleapis.com/patents/grant_full_text/1993/pftaps19930706_wk27.zip\n",
      "http://storage.googleapis.com/patents/grant_full_text/1993/pftaps19930713_wk28.zip\n",
      "http://storage.googleapis.com/patents/grant_full_text/1993/pftaps19930720_wk29.zip\n",
      "http://storage.googleapis.com/patents/grant_full_text/1993/pftaps19930727_wk30.zip\n",
      "http://storage.googleapis.com/patents/grant_full_text/1993/pftaps19930803_wk31.zip\n",
      "http://storage.googleapis.com/patents/grant_full_text/1993/pftaps19930810_wk32.zip\n",
      "http://storage.googleapis.com/patents/grant_full_text/1993/pftaps19930817_wk33.zip\n",
      "http://storage.googleapis.com/patents/grant_full_text/1993/pftaps19930824_wk34.zip\n",
      "http://storage.googleapis.com/patents/grant_full_text/1993/pftaps19930831_wk35.zip\n",
      "http://storage.googleapis.com/patents/grant_full_text/1993/pftaps19930907_wk36.zip\n",
      "http://storage.googleapis.com/patents/grant_full_text/1993/pftaps19930914_wk37.zip\n",
      "http://storage.googleapis.com/patents/grant_full_text/1993/pftaps19930921_wk38.zip\n",
      "http://storage.googleapis.com/patents/grant_full_text/1993/pftaps19930928_wk39.zip\n",
      "http://storage.googleapis.com/patents/grant_full_text/1993/pftaps19931005_wk40.zip\n",
      "http://storage.googleapis.com/patents/grant_full_text/1993/pftaps19931012_wk41.zip\n",
      "http://storage.googleapis.com/patents/grant_full_text/1993/pftaps19931019_wk42.zip\n",
      "http://storage.googleapis.com/patents/grant_full_text/1993/pftaps19931026_wk43.zip\n",
      "http://storage.googleapis.com/patents/grant_full_text/1993/pftaps19931102_wk44.zip\n",
      "http://storage.googleapis.com/patents/grant_full_text/1993/pftaps19931109_wk45.zip\n",
      "http://storage.googleapis.com/patents/grant_full_text/1993/pftaps19931116_wk46.zip\n",
      "http://storage.googleapis.com/patents/grant_full_text/1993/pftaps19931123_wk47.zip\n",
      "http://storage.googleapis.com/patents/grant_full_text/1993/pftaps19931130_wk48.zip\n",
      "http://storage.googleapis.com/patents/grant_full_text/1993/pftaps19931207_wk49.zip\n",
      "http://storage.googleapis.com/patents/grant_full_text/1993/pftaps19931214_wk50.zip\n",
      "http://storage.googleapis.com/patents/grant_full_text/1993/pftaps19931221_wk51.zip\n",
      "http://storage.googleapis.com/patents/grant_full_text/1993/pftaps19931228_wk52.zip\n",
      "http://storage.googleapis.com/patents/grant_full_text/1992/pftaps19920107_wk01.zip\n",
      "http://storage.googleapis.com/patents/grant_full_text/1992/pftaps19920114_wk02.zip\n",
      "http://storage.googleapis.com/patents/grant_full_text/1992/pftaps19920121_wk03.zip\n",
      "http://storage.googleapis.com/patents/grant_full_text/1992/pftaps19920128_wk04.zip\n",
      "http://storage.googleapis.com/patents/grant_full_text/1992/pftaps19920204_wk05.zip\n",
      "http://storage.googleapis.com/patents/grant_full_text/1992/pftaps19920211_wk06.zip\n",
      "http://storage.googleapis.com/patents/grant_full_text/1992/pftaps19920218_wk07.zip\n",
      "http://storage.googleapis.com/patents/grant_full_text/1992/pftaps19920225_wk08.zip\n",
      "http://storage.googleapis.com/patents/grant_full_text/1992/pftaps19920303_wk09.zip\n",
      "http://storage.googleapis.com/patents/grant_full_text/1992/pftaps19920310_wk10.zip\n",
      "http://storage.googleapis.com/patents/grant_full_text/1992/pftaps19920317_wk11.zip\n",
      "http://storage.googleapis.com/patents/grant_full_text/1992/pftaps19920324_wk12.zip\n",
      "http://storage.googleapis.com/patents/grant_full_text/1992/pftaps19920331_wk13.zip\n",
      "http://storage.googleapis.com/patents/grant_full_text/1992/pftaps19920407_wk14.zip\n",
      "http://storage.googleapis.com/patents/grant_full_text/1992/pftaps19920414_wk15.zip\n",
      "http://storage.googleapis.com/patents/grant_full_text/1992/pftaps19920421_wk16.zip\n",
      "http://storage.googleapis.com/patents/grant_full_text/1992/pftaps19920428_wk17.zip\n",
      "http://storage.googleapis.com/patents/grant_full_text/1992/pftaps19920505_wk18.zip\n",
      "http://storage.googleapis.com/patents/grant_full_text/1992/pftaps19920512_wk19.zip\n",
      "http://storage.googleapis.com/patents/grant_full_text/1992/pftaps19920519_wk20.zip\n",
      "http://storage.googleapis.com/patents/grant_full_text/1992/pftaps19920526_wk21.zip\n",
      "http://storage.googleapis.com/patents/grant_full_text/1992/pftaps19920602_wk22.zip\n",
      "http://storage.googleapis.com/patents/grant_full_text/1992/pftaps19920609_wk23.zip\n",
      "http://storage.googleapis.com/patents/grant_full_text/1992/pftaps19920616_wk24.zip\n",
      "http://storage.googleapis.com/patents/grant_full_text/1992/pftaps19920623_wk25.zip\n",
      "http://storage.googleapis.com/patents/grant_full_text/1992/pftaps19920630_wk26.zip\n",
      "http://storage.googleapis.com/patents/grant_full_text/1992/pftaps19920707_wk27.zip\n",
      "http://storage.googleapis.com/patents/grant_full_text/1992/pftaps19920714_wk28.zip\n",
      "http://storage.googleapis.com/patents/grant_full_text/1992/pftaps19920721_wk29.zip\n",
      "http://storage.googleapis.com/patents/grant_full_text/1992/pftaps19920728_wk30.zip\n",
      "http://storage.googleapis.com/patents/grant_full_text/1992/pftaps19920804_wk31.zip\n",
      "http://storage.googleapis.com/patents/grant_full_text/1992/pftaps19920811_wk32.zip\n",
      "http://storage.googleapis.com/patents/grant_full_text/1992/pftaps19920818_wk33.zip\n",
      "http://storage.googleapis.com/patents/grant_full_text/1992/pftaps19920825_wk34.zip\n",
      "http://storage.googleapis.com/patents/grant_full_text/1992/pftaps19920901_wk35.zip\n",
      "http://storage.googleapis.com/patents/grant_full_text/1992/pftaps19920908_wk36.zip\n",
      "http://storage.googleapis.com/patents/grant_full_text/1992/pftaps19920915_wk37.zip\n",
      "http://storage.googleapis.com/patents/grant_full_text/1992/pftaps19920922_wk38.zip\n",
      "http://storage.googleapis.com/patents/grant_full_text/1992/pftaps19920929_wk39.zip\n",
      "http://storage.googleapis.com/patents/grant_full_text/1992/pftaps19921006_wk40.zip\n",
      "http://storage.googleapis.com/patents/grant_full_text/1992/pftaps19921013_wk41.zip\n",
      "http://storage.googleapis.com/patents/grant_full_text/1992/pftaps19921020_wk42.zip\n",
      "http://storage.googleapis.com/patents/grant_full_text/1992/pftaps19921027_wk43.zip\n",
      "http://storage.googleapis.com/patents/grant_full_text/1992/pftaps19921103_wk44.zip\n",
      "http://storage.googleapis.com/patents/grant_full_text/1992/pftaps19921110_wk45.zip\n",
      "http://storage.googleapis.com/patents/grant_full_text/1992/pftaps19921117_wk46.zip\n",
      "http://storage.googleapis.com/patents/grant_full_text/1992/pftaps19921124_wk47.zip\n",
      "http://storage.googleapis.com/patents/grant_full_text/1992/pftaps19921201_wk48.zip\n",
      "http://storage.googleapis.com/patents/grant_full_text/1992/pftaps19921208_wk49.zip\n",
      "http://storage.googleapis.com/patents/grant_full_text/1992/pftaps19921215_wk50.zip\n",
      "http://storage.googleapis.com/patents/grant_full_text/1992/pftaps19921222_wk51.zip\n",
      "http://storage.googleapis.com/patents/grant_full_text/1992/pftaps19921229_wk52.zip\n",
      "http://storage.googleapis.com/patents/grant_full_text/1991/pftaps19910101_wk01.zip\n",
      "http://storage.googleapis.com/patents/grant_full_text/1991/pftaps19910108_wk02.zip\n",
      "http://storage.googleapis.com/patents/grant_full_text/1991/pftaps19910115_wk03.zip\n",
      "http://storage.googleapis.com/patents/grant_full_text/1991/pftaps19910122_wk04.zip\n",
      "http://storage.googleapis.com/patents/grant_full_text/1991/pftaps19910129_wk05.zip\n",
      "http://storage.googleapis.com/patents/grant_full_text/1991/pftaps19910205_wk06.zip\n",
      "http://storage.googleapis.com/patents/grant_full_text/1991/pftaps19910212_wk07.zip\n",
      "http://storage.googleapis.com/patents/grant_full_text/1991/pftaps19910219_wk08.zip\n",
      "http://storage.googleapis.com/patents/grant_full_text/1991/pftaps19910226_wk09.zip\n",
      "http://storage.googleapis.com/patents/grant_full_text/1991/pftaps19910305_wk10.zip\n",
      "http://storage.googleapis.com/patents/grant_full_text/1991/pftaps19910312_wk11.zip\n",
      "http://storage.googleapis.com/patents/grant_full_text/1991/pftaps19910319_wk12.zip\n",
      "http://storage.googleapis.com/patents/grant_full_text/1991/pftaps19910326_wk13.zip\n",
      "http://storage.googleapis.com/patents/grant_full_text/1991/pftaps19910402_wk14.zip\n",
      "http://storage.googleapis.com/patents/grant_full_text/1991/pftaps19910409_wk15.zip\n",
      "http://storage.googleapis.com/patents/grant_full_text/1991/pftaps19910416_wk16.zip\n",
      "http://storage.googleapis.com/patents/grant_full_text/1991/pftaps19910423_wk17.zip\n",
      "http://storage.googleapis.com/patents/grant_full_text/1991/pftaps19910430_wk18.zip\n",
      "http://storage.googleapis.com/patents/grant_full_text/1991/pftaps19910507_wk19.zip\n",
      "http://storage.googleapis.com/patents/grant_full_text/1991/pftaps19910514_wk20.zip\n",
      "http://storage.googleapis.com/patents/grant_full_text/1991/pftaps19910521_wk21.zip\n",
      "http://storage.googleapis.com/patents/grant_full_text/1991/pftaps19910528_wk22.zip\n",
      "http://storage.googleapis.com/patents/grant_full_text/1991/pftaps19910604_wk23.zip\n",
      "http://storage.googleapis.com/patents/grant_full_text/1991/pftaps19910611_wk24.zip\n",
      "http://storage.googleapis.com/patents/grant_full_text/1991/pftaps19910618_wk25.zip\n",
      "http://storage.googleapis.com/patents/grant_full_text/1991/pftaps19910625_wk26.zip\n",
      "http://storage.googleapis.com/patents/grant_full_text/1991/pftaps19910702_wk27.zip\n",
      "http://storage.googleapis.com/patents/grant_full_text/1991/pftaps19910709_wk28.zip\n",
      "http://storage.googleapis.com/patents/grant_full_text/1991/pftaps19910716_wk29.zip\n",
      "http://storage.googleapis.com/patents/grant_full_text/1991/pftaps19910723_wk30.zip\n",
      "http://storage.googleapis.com/patents/grant_full_text/1991/pftaps19910730_wk31.zip\n",
      "http://storage.googleapis.com/patents/grant_full_text/1991/pftaps19910806_wk32.zip\n",
      "http://storage.googleapis.com/patents/grant_full_text/1991/pftaps19910813_wk33.zip\n",
      "http://storage.googleapis.com/patents/grant_full_text/1991/pftaps19910820_wk34.zip\n",
      "http://storage.googleapis.com/patents/grant_full_text/1991/pftaps19910827_wk35.zip\n",
      "http://storage.googleapis.com/patents/grant_full_text/1991/pftaps19910903_wk36.zip\n",
      "http://storage.googleapis.com/patents/grant_full_text/1991/pftaps19910910_wk37.zip\n",
      "http://storage.googleapis.com/patents/grant_full_text/1991/pftaps19910917_wk38.zip\n",
      "http://storage.googleapis.com/patents/grant_full_text/1991/pftaps19910924_wk39.zip\n",
      "http://storage.googleapis.com/patents/grant_full_text/1991/pftaps19911001_wk40.zip\n",
      "http://storage.googleapis.com/patents/grant_full_text/1991/pftaps19911008_wk41.zip\n",
      "http://storage.googleapis.com/patents/grant_full_text/1991/pftaps19911015_wk42.zip\n",
      "http://storage.googleapis.com/patents/grant_full_text/1991/pftaps19911022_wk43.zip\n",
      "http://storage.googleapis.com/patents/grant_full_text/1991/pftaps19911029_wk44.zip\n",
      "http://storage.googleapis.com/patents/grant_full_text/1991/pftaps19911105_wk45.zip\n",
      "http://storage.googleapis.com/patents/grant_full_text/1991/pftaps19911112_wk46.zip\n",
      "http://storage.googleapis.com/patents/grant_full_text/1991/pftaps19911119_wk47.zip\n",
      "http://storage.googleapis.com/patents/grant_full_text/1991/pftaps19911126_wk48.zip\n",
      "http://storage.googleapis.com/patents/grant_full_text/1991/pftaps19911203_wk49.zip\n",
      "http://storage.googleapis.com/patents/grant_full_text/1991/pftaps19911210_wk50.zip\n",
      "http://storage.googleapis.com/patents/grant_full_text/1991/pftaps19911217_wk51.zip\n",
      "http://storage.googleapis.com/patents/grant_full_text/1991/pftaps19911224_wk52.zip\n",
      "http://storage.googleapis.com/patents/grant_full_text/1991/pftaps19911231_wk53.zip\n",
      "http://storage.googleapis.com/patents/grant_full_text/1990/pftaps19900102_wk01.zip\n",
      "http://storage.googleapis.com/patents/grant_full_text/1990/pftaps19900109_wk02.zip\n",
      "http://storage.googleapis.com/patents/grant_full_text/1990/pftaps19900116_wk03.zip\n",
      "http://storage.googleapis.com/patents/grant_full_text/1990/pftaps19900123_wk04.zip\n",
      "http://storage.googleapis.com/patents/grant_full_text/1990/pftaps19900130_wk05.zip\n",
      "http://storage.googleapis.com/patents/grant_full_text/1990/pftaps19900206_wk06.zip\n",
      "http://storage.googleapis.com/patents/grant_full_text/1990/pftaps19900213_wk07.zip\n",
      "http://storage.googleapis.com/patents/grant_full_text/1990/pftaps19900220_wk08.zip\n",
      "http://storage.googleapis.com/patents/grant_full_text/1990/pftaps19900227_wk09.zip\n",
      "http://storage.googleapis.com/patents/grant_full_text/1990/pftaps19900306_wk10.zip\n",
      "http://storage.googleapis.com/patents/grant_full_text/1990/pftaps19900313_wk11.zip\n",
      "http://storage.googleapis.com/patents/grant_full_text/1990/pftaps19900320_wk12.zip\n",
      "http://storage.googleapis.com/patents/grant_full_text/1990/pftaps19900327_wk13.zip\n",
      "http://storage.googleapis.com/patents/grant_full_text/1990/pftaps19900403_wk14.zip\n",
      "http://storage.googleapis.com/patents/grant_full_text/1990/pftaps19900410_wk15.zip\n",
      "http://storage.googleapis.com/patents/grant_full_text/1990/pftaps19900417_wk16.zip\n",
      "http://storage.googleapis.com/patents/grant_full_text/1990/pftaps19900424_wk17.zip\n",
      "http://storage.googleapis.com/patents/grant_full_text/1990/pftaps19900501_wk18.zip\n",
      "http://storage.googleapis.com/patents/grant_full_text/1990/pftaps19900508_wk19.zip\n",
      "http://storage.googleapis.com/patents/grant_full_text/1990/pftaps19900515_wk20.zip\n",
      "http://storage.googleapis.com/patents/grant_full_text/1990/pftaps19900522_wk21.zip\n",
      "http://storage.googleapis.com/patents/grant_full_text/1990/pftaps19900529_wk22.zip\n",
      "http://storage.googleapis.com/patents/grant_full_text/1990/pftaps19900605_wk23.zip\n",
      "http://storage.googleapis.com/patents/grant_full_text/1990/pftaps19900612_wk24.zip\n",
      "http://storage.googleapis.com/patents/grant_full_text/1990/pftaps19900619_wk25.zip\n",
      "http://storage.googleapis.com/patents/grant_full_text/1990/pftaps19900626_wk26.zip\n",
      "http://storage.googleapis.com/patents/grant_full_text/1990/pftaps19900703_wk27.zip\n",
      "http://storage.googleapis.com/patents/grant_full_text/1990/pftaps19900710_wk28.zip\n",
      "http://storage.googleapis.com/patents/grant_full_text/1990/pftaps19900717_wk29.zip\n",
      "http://storage.googleapis.com/patents/grant_full_text/1990/pftaps19900724_wk30.zip\n",
      "http://storage.googleapis.com/patents/grant_full_text/1990/pftaps19900731_wk31.zip\n",
      "http://storage.googleapis.com/patents/grant_full_text/1990/pftaps19900807_wk32.zip\n",
      "http://storage.googleapis.com/patents/grant_full_text/1990/pftaps19900814_wk33.zip\n",
      "http://storage.googleapis.com/patents/grant_full_text/1990/pftaps19900821_wk34.zip\n",
      "http://storage.googleapis.com/patents/grant_full_text/1990/pftaps19900828_wk35.zip\n",
      "http://storage.googleapis.com/patents/grant_full_text/1990/pftaps19900904_wk36.zip\n",
      "http://storage.googleapis.com/patents/grant_full_text/1990/pftaps19900911_wk37.zip\n",
      "http://storage.googleapis.com/patents/grant_full_text/1990/pftaps19900918_wk38.zip\n",
      "http://storage.googleapis.com/patents/grant_full_text/1990/pftaps19900925_wk39.zip\n",
      "http://storage.googleapis.com/patents/grant_full_text/1990/pftaps19901002_wk40.zip\n",
      "http://storage.googleapis.com/patents/grant_full_text/1990/pftaps19901009_wk41.zip\n",
      "http://storage.googleapis.com/patents/grant_full_text/1990/pftaps19901016_wk42.zip\n",
      "http://storage.googleapis.com/patents/grant_full_text/1990/pftaps19901023_wk43.zip\n",
      "http://storage.googleapis.com/patents/grant_full_text/1990/pftaps19901030_wk44.zip\n",
      "http://storage.googleapis.com/patents/grant_full_text/1990/pftaps19901106_wk45.zip\n",
      "http://storage.googleapis.com/patents/grant_full_text/1990/pftaps19901113_wk46.zip\n",
      "http://storage.googleapis.com/patents/grant_full_text/1990/pftaps19901120_wk47.zip\n",
      "http://storage.googleapis.com/patents/grant_full_text/1990/pftaps19901127_wk48.zip\n",
      "http://storage.googleapis.com/patents/grant_full_text/1990/pftaps19901204_wk49.zip\n",
      "http://storage.googleapis.com/patents/grant_full_text/1990/pftaps19901211_wk50.zip\n",
      "http://storage.googleapis.com/patents/grant_full_text/1990/pftaps19901218_wk51.zip\n",
      "http://storage.googleapis.com/patents/grant_full_text/1990/pftaps19901225_wk52.zip\n",
      "http://storage.googleapis.com/patents/grant_full_text/1989/pftaps19890103_wk01.zip\n",
      "http://storage.googleapis.com/patents/grant_full_text/1989/pftaps19890110_wk02.zip\n",
      "http://storage.googleapis.com/patents/grant_full_text/1989/pftaps19890117_wk03.zip\n",
      "http://storage.googleapis.com/patents/grant_full_text/1989/pftaps19890124_wk04.zip\n",
      "http://storage.googleapis.com/patents/grant_full_text/1989/pftaps19890131_wk05.zip\n",
      "http://storage.googleapis.com/patents/grant_full_text/1989/pftaps19890207_wk06.zip\n",
      "http://storage.googleapis.com/patents/grant_full_text/1989/pftaps19890214_wk07.zip\n",
      "http://storage.googleapis.com/patents/grant_full_text/1989/pftaps19890221_wk08.zip\n",
      "http://storage.googleapis.com/patents/grant_full_text/1989/pftaps19890228_wk09.zip\n",
      "http://storage.googleapis.com/patents/grant_full_text/1989/pftaps19890307_wk10.zip\n",
      "http://storage.googleapis.com/patents/grant_full_text/1989/pftaps19890314_wk11.zip\n",
      "http://storage.googleapis.com/patents/grant_full_text/1989/pftaps19890321_wk12.zip\n",
      "http://storage.googleapis.com/patents/grant_full_text/1989/pftaps19890328_wk13.zip\n",
      "http://storage.googleapis.com/patents/grant_full_text/1989/pftaps19890404_wk14.zip\n",
      "http://storage.googleapis.com/patents/grant_full_text/1989/pftaps19890411_wk15.zip\n",
      "http://storage.googleapis.com/patents/grant_full_text/1989/pftaps19890418_wk16.zip\n",
      "http://storage.googleapis.com/patents/grant_full_text/1989/pftaps19890425_wk17.zip\n",
      "http://storage.googleapis.com/patents/grant_full_text/1989/pftaps19890502_wk18.zip\n",
      "http://storage.googleapis.com/patents/grant_full_text/1989/pftaps19890509_wk19.zip\n",
      "http://storage.googleapis.com/patents/grant_full_text/1989/pftaps19890516_wk20.zip\n",
      "http://storage.googleapis.com/patents/grant_full_text/1989/pftaps19890523_wk21.zip\n",
      "http://storage.googleapis.com/patents/grant_full_text/1989/pftaps19890530_wk22.zip\n",
      "http://storage.googleapis.com/patents/grant_full_text/1989/pftaps19890606_wk23.zip\n",
      "http://storage.googleapis.com/patents/grant_full_text/1989/pftaps19890613_wk24.zip\n",
      "http://storage.googleapis.com/patents/grant_full_text/1989/pftaps19890620_wk25.zip\n",
      "http://storage.googleapis.com/patents/grant_full_text/1989/pftaps19890627_wk26.zip\n",
      "http://storage.googleapis.com/patents/grant_full_text/1989/pftaps19890704_wk27.zip\n",
      "http://storage.googleapis.com/patents/grant_full_text/1989/pftaps19890711_wk28.zip\n",
      "http://storage.googleapis.com/patents/grant_full_text/1989/pftaps19890718_wk29.zip\n",
      "http://storage.googleapis.com/patents/grant_full_text/1989/pftaps19890725_wk30.zip\n",
      "http://storage.googleapis.com/patents/grant_full_text/1989/pftaps19890801_wk31.zip\n",
      "http://storage.googleapis.com/patents/grant_full_text/1989/pftaps19890808_wk32.zip\n",
      "http://storage.googleapis.com/patents/grant_full_text/1989/pftaps19890815_wk33.zip\n",
      "http://storage.googleapis.com/patents/grant_full_text/1989/pftaps19890822_wk34.zip\n",
      "http://storage.googleapis.com/patents/grant_full_text/1989/pftaps19890829_wk35.zip\n",
      "http://storage.googleapis.com/patents/grant_full_text/1989/pftaps19890905_wk36.zip\n",
      "http://storage.googleapis.com/patents/grant_full_text/1989/pftaps19890912_wk37.zip\n",
      "http://storage.googleapis.com/patents/grant_full_text/1989/pftaps19890919_wk38.zip\n",
      "http://storage.googleapis.com/patents/grant_full_text/1989/pftaps19890926_wk39.zip\n",
      "http://storage.googleapis.com/patents/grant_full_text/1989/pftaps19891003_wk40.zip\n",
      "http://storage.googleapis.com/patents/grant_full_text/1989/pftaps19891010_wk41.zip\n",
      "http://storage.googleapis.com/patents/grant_full_text/1989/pftaps19891017_wk42.zip\n",
      "http://storage.googleapis.com/patents/grant_full_text/1989/pftaps19891024_wk43.zip\n",
      "http://storage.googleapis.com/patents/grant_full_text/1989/pftaps19891031_wk44.zip\n",
      "http://storage.googleapis.com/patents/grant_full_text/1989/pftaps19891107_wk45.zip\n",
      "http://storage.googleapis.com/patents/grant_full_text/1989/pftaps19891114_wk46.zip\n",
      "http://storage.googleapis.com/patents/grant_full_text/1989/pftaps19891121_wk47.zip\n",
      "http://storage.googleapis.com/patents/grant_full_text/1989/pftaps19891128_wk48.zip\n",
      "http://storage.googleapis.com/patents/grant_full_text/1989/pftaps19891205_wk49.zip\n",
      "http://storage.googleapis.com/patents/grant_full_text/1989/pftaps19891212_wk50.zip\n",
      "http://storage.googleapis.com/patents/grant_full_text/1989/pftaps19891219_wk51.zip\n",
      "http://storage.googleapis.com/patents/grant_full_text/1989/pftaps19891226_wk52.zip\n",
      "http://storage.googleapis.com/patents/grant_full_text/1988/pftaps19880105_wk01.zip\n",
      "http://storage.googleapis.com/patents/grant_full_text/1988/pftaps19880112_wk02.zip\n",
      "http://storage.googleapis.com/patents/grant_full_text/1988/pftaps19880119_wk03.zip\n",
      "http://storage.googleapis.com/patents/grant_full_text/1988/pftaps19880126_wk04.zip\n",
      "http://storage.googleapis.com/patents/grant_full_text/1988/pftaps19880202_wk05.zip\n",
      "http://storage.googleapis.com/patents/grant_full_text/1988/pftaps19880209_wk06.zip\n",
      "http://storage.googleapis.com/patents/grant_full_text/1988/pftaps19880216_wk07.zip\n",
      "http://storage.googleapis.com/patents/grant_full_text/1988/pftaps19880223_wk08.zip\n",
      "http://storage.googleapis.com/patents/grant_full_text/1988/pftaps19880301_wk09.zip\n",
      "http://storage.googleapis.com/patents/grant_full_text/1988/pftaps19880308_wk10.zip\n",
      "http://storage.googleapis.com/patents/grant_full_text/1988/pftaps19880315_wk11.zip\n",
      "http://storage.googleapis.com/patents/grant_full_text/1988/pftaps19880322_wk12.zip\n",
      "http://storage.googleapis.com/patents/grant_full_text/1988/pftaps19880329_wk13.zip\n",
      "http://storage.googleapis.com/patents/grant_full_text/1988/pftaps19880405_wk14.zip\n",
      "http://storage.googleapis.com/patents/grant_full_text/1988/pftaps19880412_wk15.zip\n",
      "http://storage.googleapis.com/patents/grant_full_text/1988/pftaps19880419_wk16.zip\n",
      "http://storage.googleapis.com/patents/grant_full_text/1988/pftaps19880426_wk17.zip\n",
      "http://storage.googleapis.com/patents/grant_full_text/1988/pftaps19880503_wk18.zip\n",
      "http://storage.googleapis.com/patents/grant_full_text/1988/pftaps19880510_wk19.zip\n",
      "http://storage.googleapis.com/patents/grant_full_text/1988/pftaps19880517_wk20.zip\n",
      "http://storage.googleapis.com/patents/grant_full_text/1988/pftaps19880524_wk21.zip\n",
      "http://storage.googleapis.com/patents/grant_full_text/1988/pftaps19880531_wk22.zip\n",
      "http://storage.googleapis.com/patents/grant_full_text/1988/pftaps19880607_wk23.zip\n",
      "http://storage.googleapis.com/patents/grant_full_text/1988/pftaps19880614_wk24.zip\n",
      "http://storage.googleapis.com/patents/grant_full_text/1988/pftaps19880621_wk25.zip\n",
      "http://storage.googleapis.com/patents/grant_full_text/1988/pftaps19880628_wk26.zip\n",
      "http://storage.googleapis.com/patents/grant_full_text/1988/pftaps19880705_wk27.zip\n",
      "http://storage.googleapis.com/patents/grant_full_text/1988/pftaps19880712_wk28.zip\n",
      "http://storage.googleapis.com/patents/grant_full_text/1988/pftaps19880719_wk29.zip\n",
      "http://storage.googleapis.com/patents/grant_full_text/1988/pftaps19880726_wk30.zip\n",
      "http://storage.googleapis.com/patents/grant_full_text/1988/pftaps19880802_wk31.zip\n",
      "http://storage.googleapis.com/patents/grant_full_text/1988/pftaps19880809_wk32.zip\n",
      "http://storage.googleapis.com/patents/grant_full_text/1988/pftaps19880816_wk33.zip\n",
      "http://storage.googleapis.com/patents/grant_full_text/1988/pftaps19880823_wk34.zip\n",
      "http://storage.googleapis.com/patents/grant_full_text/1988/pftaps19880830_wk35.zip\n",
      "http://storage.googleapis.com/patents/grant_full_text/1988/pftaps19880906_wk36.zip\n",
      "http://storage.googleapis.com/patents/grant_full_text/1988/pftaps19880913_wk37.zip\n",
      "http://storage.googleapis.com/patents/grant_full_text/1988/pftaps19880920_wk38.zip\n",
      "http://storage.googleapis.com/patents/grant_full_text/1988/pftaps19880927_wk39.zip\n",
      "http://storage.googleapis.com/patents/grant_full_text/1988/pftaps19881004_wk40.zip\n",
      "http://storage.googleapis.com/patents/grant_full_text/1988/pftaps19881011_wk41.zip\n",
      "http://storage.googleapis.com/patents/grant_full_text/1988/pftaps19881018_wk42.zip\n",
      "http://storage.googleapis.com/patents/grant_full_text/1988/pftaps19881025_wk43.zip\n",
      "http://storage.googleapis.com/patents/grant_full_text/1988/pftaps19881101_wk44.zip\n",
      "http://storage.googleapis.com/patents/grant_full_text/1988/pftaps19881108_wk45.zip\n",
      "http://storage.googleapis.com/patents/grant_full_text/1988/pftaps19881115_wk46.zip\n",
      "http://storage.googleapis.com/patents/grant_full_text/1988/pftaps19881122_wk47.zip\n",
      "http://storage.googleapis.com/patents/grant_full_text/1988/pftaps19881129_wk48.zip\n",
      "http://storage.googleapis.com/patents/grant_full_text/1988/pftaps19881206_wk49.zip\n",
      "http://storage.googleapis.com/patents/grant_full_text/1988/pftaps19881213_wk50.zip\n",
      "http://storage.googleapis.com/patents/grant_full_text/1988/pftaps19881220_wk51.zip\n",
      "http://storage.googleapis.com/patents/grant_full_text/1988/pftaps19881227_wk52.zip\n",
      "http://storage.googleapis.com/patents/grant_full_text/1987/pftaps19870106_wk01.zip\n",
      "http://storage.googleapis.com/patents/grant_full_text/1987/pftaps19870113_wk02.zip\n",
      "http://storage.googleapis.com/patents/grant_full_text/1987/pftaps19870120_wk03.zip\n",
      "http://storage.googleapis.com/patents/grant_full_text/1987/pftaps19870127_wk04.zip\n",
      "http://storage.googleapis.com/patents/grant_full_text/1987/pftaps19870203_wk05.zip\n",
      "http://storage.googleapis.com/patents/grant_full_text/1987/pftaps19870210_wk06.zip\n",
      "http://storage.googleapis.com/patents/grant_full_text/1987/pftaps19870217_wk07.zip\n",
      "http://storage.googleapis.com/patents/grant_full_text/1987/pftaps19870224_wk08.zip\n",
      "http://storage.googleapis.com/patents/grant_full_text/1987/pftaps19870303_wk09.zip\n",
      "http://storage.googleapis.com/patents/grant_full_text/1987/pftaps19870310_wk10.zip\n",
      "http://storage.googleapis.com/patents/grant_full_text/1987/pftaps19870317_wk11.zip\n",
      "http://storage.googleapis.com/patents/grant_full_text/1987/pftaps19870324_wk12.zip\n",
      "http://storage.googleapis.com/patents/grant_full_text/1987/pftaps19870331_wk13.zip\n",
      "http://storage.googleapis.com/patents/grant_full_text/1987/pftaps19870407_wk14.zip\n",
      "http://storage.googleapis.com/patents/grant_full_text/1987/pftaps19870414_wk15.zip\n",
      "http://storage.googleapis.com/patents/grant_full_text/1987/pftaps19870421_wk16.zip\n",
      "http://storage.googleapis.com/patents/grant_full_text/1987/pftaps19870428_wk17.zip\n",
      "http://storage.googleapis.com/patents/grant_full_text/1987/pftaps19870505_wk18.zip\n",
      "http://storage.googleapis.com/patents/grant_full_text/1987/pftaps19870512_wk19.zip\n",
      "http://storage.googleapis.com/patents/grant_full_text/1987/pftaps19870519_wk20.zip\n",
      "http://storage.googleapis.com/patents/grant_full_text/1987/pftaps19870526_wk21.zip\n",
      "http://storage.googleapis.com/patents/grant_full_text/1987/pftaps19870602_wk22.zip\n",
      "http://storage.googleapis.com/patents/grant_full_text/1987/pftaps19870609_wk23.zip\n",
      "http://storage.googleapis.com/patents/grant_full_text/1987/pftaps19870616_wk24.zip\n",
      "http://storage.googleapis.com/patents/grant_full_text/1987/pftaps19870623_wk25.zip\n",
      "http://storage.googleapis.com/patents/grant_full_text/1987/pftaps19870630_wk26.zip\n",
      "http://storage.googleapis.com/patents/grant_full_text/1987/pftaps19870707_wk27.zip\n",
      "http://storage.googleapis.com/patents/grant_full_text/1987/pftaps19870714_wk28.zip\n",
      "http://storage.googleapis.com/patents/grant_full_text/1987/pftaps19870721_wk29.zip\n",
      "http://storage.googleapis.com/patents/grant_full_text/1987/pftaps19870728_wk30.zip\n",
      "http://storage.googleapis.com/patents/grant_full_text/1987/pftaps19870804_wk31.zip\n",
      "http://storage.googleapis.com/patents/grant_full_text/1987/pftaps19870811_wk32.zip\n",
      "http://storage.googleapis.com/patents/grant_full_text/1987/pftaps19870818_wk33.zip\n",
      "http://storage.googleapis.com/patents/grant_full_text/1987/pftaps19870825_wk34.zip\n",
      "http://storage.googleapis.com/patents/grant_full_text/1987/pftaps19870901_wk35.zip\n",
      "http://storage.googleapis.com/patents/grant_full_text/1987/pftaps19870908_wk36.zip\n",
      "http://storage.googleapis.com/patents/grant_full_text/1987/pftaps19870915_wk37.zip\n",
      "http://storage.googleapis.com/patents/grant_full_text/1987/pftaps19870922_wk38.zip\n",
      "http://storage.googleapis.com/patents/grant_full_text/1987/pftaps19870929_wk39.zip\n",
      "http://storage.googleapis.com/patents/grant_full_text/1987/pftaps19871006_wk40.zip\n",
      "http://storage.googleapis.com/patents/grant_full_text/1987/pftaps19871013_wk41.zip\n",
      "http://storage.googleapis.com/patents/grant_full_text/1987/pftaps19871020_wk42.zip\n",
      "http://storage.googleapis.com/patents/grant_full_text/1987/pftaps19871027_wk43.zip\n",
      "http://storage.googleapis.com/patents/grant_full_text/1987/pftaps19871103_wk44.zip\n",
      "http://storage.googleapis.com/patents/grant_full_text/1987/pftaps19871110_wk45.zip\n",
      "http://storage.googleapis.com/patents/grant_full_text/1987/pftaps19871117_wk46.zip\n",
      "http://storage.googleapis.com/patents/grant_full_text/1987/pftaps19871124_wk47.zip\n",
      "http://storage.googleapis.com/patents/grant_full_text/1987/pftaps19871201_wk48.zip\n",
      "http://storage.googleapis.com/patents/grant_full_text/1987/pftaps19871208_wk49.zip\n",
      "http://storage.googleapis.com/patents/grant_full_text/1987/pftaps19871215_wk50.zip\n",
      "http://storage.googleapis.com/patents/grant_full_text/1987/pftaps19871222_wk51.zip\n",
      "http://storage.googleapis.com/patents/grant_full_text/1987/pftaps19871229_wk52.zip\n",
      "http://storage.googleapis.com/patents/grant_full_text/1986/pftaps19860107_wk01.zip\n",
      "http://storage.googleapis.com/patents/grant_full_text/1986/pftaps19860114_wk02.zip\n",
      "http://storage.googleapis.com/patents/grant_full_text/1986/pftaps19860121_wk03.zip\n",
      "http://storage.googleapis.com/patents/grant_full_text/1986/pftaps19860128_wk04.zip\n",
      "http://storage.googleapis.com/patents/grant_full_text/1986/pftaps19860204_wk05.zip\n",
      "http://storage.googleapis.com/patents/grant_full_text/1986/pftaps19860211_wk06.zip\n",
      "http://storage.googleapis.com/patents/grant_full_text/1986/pftaps19860218_wk07.zip\n",
      "http://storage.googleapis.com/patents/grant_full_text/1986/pftaps19860225_wk08.zip\n",
      "http://storage.googleapis.com/patents/grant_full_text/1986/pftaps19860304_wk09.zip\n",
      "http://storage.googleapis.com/patents/grant_full_text/1986/pftaps19860311_wk10.zip\n",
      "http://storage.googleapis.com/patents/grant_full_text/1986/pftaps19860318_wk11.zip\n",
      "http://storage.googleapis.com/patents/grant_full_text/1986/pftaps19860325_wk12.zip\n",
      "http://storage.googleapis.com/patents/grant_full_text/1986/pftaps19860401_wk13.zip\n",
      "http://storage.googleapis.com/patents/grant_full_text/1986/pftaps19860408_wk14.zip\n",
      "http://storage.googleapis.com/patents/grant_full_text/1986/pftaps19860415_wk15.zip\n",
      "http://storage.googleapis.com/patents/grant_full_text/1986/pftaps19860422_wk16.zip\n",
      "http://storage.googleapis.com/patents/grant_full_text/1986/pftaps19860429_wk17.zip\n",
      "http://storage.googleapis.com/patents/grant_full_text/1986/pftaps19860506_wk18.zip\n",
      "http://storage.googleapis.com/patents/grant_full_text/1986/pftaps19860513_wk19.zip\n",
      "http://storage.googleapis.com/patents/grant_full_text/1986/pftaps19860520_wk20.zip\n",
      "http://storage.googleapis.com/patents/grant_full_text/1986/pftaps19860527_wk21.zip\n",
      "http://storage.googleapis.com/patents/grant_full_text/1986/pftaps19860603_wk22.zip\n",
      "http://storage.googleapis.com/patents/grant_full_text/1986/pftaps19860610_wk23.zip\n",
      "http://storage.googleapis.com/patents/grant_full_text/1986/pftaps19860617_wk24.zip\n",
      "http://storage.googleapis.com/patents/grant_full_text/1986/pftaps19860624_wk25.zip\n",
      "http://storage.googleapis.com/patents/grant_full_text/1986/pftaps19860701_wk26.zip\n",
      "http://storage.googleapis.com/patents/grant_full_text/1986/pftaps19860708_wk27.zip\n",
      "http://storage.googleapis.com/patents/grant_full_text/1986/pftaps19860715_wk28.zip\n",
      "http://storage.googleapis.com/patents/grant_full_text/1986/pftaps19860722_wk29.zip\n",
      "http://storage.googleapis.com/patents/grant_full_text/1986/pftaps19860729_wk30.zip\n",
      "http://storage.googleapis.com/patents/grant_full_text/1986/pftaps19860805_wk31.zip\n",
      "http://storage.googleapis.com/patents/grant_full_text/1986/pftaps19860812_wk32.zip\n",
      "http://storage.googleapis.com/patents/grant_full_text/1986/pftaps19860819_wk33.zip\n",
      "http://storage.googleapis.com/patents/grant_full_text/1986/pftaps19860826_wk34.zip\n",
      "http://storage.googleapis.com/patents/grant_full_text/1986/pftaps19860902_wk35.zip\n",
      "http://storage.googleapis.com/patents/grant_full_text/1986/pftaps19860909_wk36.zip\n",
      "http://storage.googleapis.com/patents/grant_full_text/1986/pftaps19860916_wk37.zip\n",
      "http://storage.googleapis.com/patents/grant_full_text/1986/pftaps19860923_wk38.zip\n",
      "http://storage.googleapis.com/patents/grant_full_text/1986/pftaps19860930_wk39.zip\n",
      "http://storage.googleapis.com/patents/grant_full_text/1986/pftaps19861007_wk40.zip\n",
      "http://storage.googleapis.com/patents/grant_full_text/1986/pftaps19861014_wk41.zip\n",
      "http://storage.googleapis.com/patents/grant_full_text/1986/pftaps19861021_wk42.zip\n",
      "http://storage.googleapis.com/patents/grant_full_text/1986/pftaps19861028_wk43.zip\n",
      "http://storage.googleapis.com/patents/grant_full_text/1986/pftaps19861104_wk44.zip\n",
      "http://storage.googleapis.com/patents/grant_full_text/1986/pftaps19861111_wk45.zip\n",
      "http://storage.googleapis.com/patents/grant_full_text/1986/pftaps19861118_wk46.zip\n",
      "http://storage.googleapis.com/patents/grant_full_text/1986/pftaps19861125_wk47.zip\n",
      "http://storage.googleapis.com/patents/grant_full_text/1986/pftaps19861202_wk48.zip\n",
      "http://storage.googleapis.com/patents/grant_full_text/1986/pftaps19861209_wk49.zip\n",
      "http://storage.googleapis.com/patents/grant_full_text/1986/pftaps19861216_wk50.zip\n",
      "http://storage.googleapis.com/patents/grant_full_text/1986/pftaps19861223_wk51.zip\n",
      "http://storage.googleapis.com/patents/grant_full_text/1986/pftaps19861230_wk52.zip\n",
      "http://storage.googleapis.com/patents/grant_full_text/1985/pftaps19850101_wk01.zip\n",
      "http://storage.googleapis.com/patents/grant_full_text/1985/pftaps19850108_wk02.zip\n",
      "http://storage.googleapis.com/patents/grant_full_text/1985/pftaps19850115_wk03.zip\n",
      "http://storage.googleapis.com/patents/grant_full_text/1985/pftaps19850122_wk04.zip\n",
      "http://storage.googleapis.com/patents/grant_full_text/1985/pftaps19850129_wk05.zip\n",
      "http://storage.googleapis.com/patents/grant_full_text/1985/pftaps19850205_wk06.zip\n",
      "http://storage.googleapis.com/patents/grant_full_text/1985/pftaps19850212_wk07.zip\n",
      "http://storage.googleapis.com/patents/grant_full_text/1985/pftaps19850219_wk08.zip\n",
      "http://storage.googleapis.com/patents/grant_full_text/1985/pftaps19850226_wk09.zip\n",
      "http://storage.googleapis.com/patents/grant_full_text/1985/pftaps19850305_wk10.zip\n",
      "http://storage.googleapis.com/patents/grant_full_text/1985/pftaps19850312_wk11.zip\n",
      "http://storage.googleapis.com/patents/grant_full_text/1985/pftaps19850319_wk12.zip\n",
      "http://storage.googleapis.com/patents/grant_full_text/1985/pftaps19850326_wk13.zip\n",
      "http://storage.googleapis.com/patents/grant_full_text/1985/pftaps19850402_wk14.zip\n",
      "http://storage.googleapis.com/patents/grant_full_text/1985/pftaps19850409_wk15.zip\n",
      "http://storage.googleapis.com/patents/grant_full_text/1985/pftaps19850416_wk16.zip\n",
      "http://storage.googleapis.com/patents/grant_full_text/1985/pftaps19850423_wk17.zip\n",
      "http://storage.googleapis.com/patents/grant_full_text/1985/pftaps19850430_wk18.zip\n",
      "http://storage.googleapis.com/patents/grant_full_text/1985/pftaps19850507_wk19.zip\n",
      "http://storage.googleapis.com/patents/grant_full_text/1985/pftaps19850514_wk20.zip\n",
      "http://storage.googleapis.com/patents/grant_full_text/1985/pftaps19850521_wk21.zip\n",
      "http://storage.googleapis.com/patents/grant_full_text/1985/pftaps19850528_wk22.zip\n",
      "http://storage.googleapis.com/patents/grant_full_text/1985/pftaps19850604_wk23.zip\n",
      "http://storage.googleapis.com/patents/grant_full_text/1985/pftaps19850611_wk24.zip\n",
      "http://storage.googleapis.com/patents/grant_full_text/1985/pftaps19850618_wk25.zip\n",
      "http://storage.googleapis.com/patents/grant_full_text/1985/pftaps19850625_wk26.zip\n",
      "http://storage.googleapis.com/patents/grant_full_text/1985/pftaps19850702_wk27.zip\n",
      "http://storage.googleapis.com/patents/grant_full_text/1985/pftaps19850709_wk28.zip\n",
      "http://storage.googleapis.com/patents/grant_full_text/1985/pftaps19850716_wk29.zip\n",
      "http://storage.googleapis.com/patents/grant_full_text/1985/pftaps19850723_wk30.zip\n",
      "http://storage.googleapis.com/patents/grant_full_text/1985/pftaps19850730_wk31.zip\n",
      "http://storage.googleapis.com/patents/grant_full_text/1985/pftaps19850806_wk32.zip\n",
      "http://storage.googleapis.com/patents/grant_full_text/1985/pftaps19850813_wk33.zip\n",
      "http://storage.googleapis.com/patents/grant_full_text/1985/pftaps19850820_wk34.zip\n",
      "http://storage.googleapis.com/patents/grant_full_text/1985/pftaps19850827_wk35.zip\n",
      "http://storage.googleapis.com/patents/grant_full_text/1985/pftaps19850903_wk36.zip\n",
      "http://storage.googleapis.com/patents/grant_full_text/1985/pftaps19850910_wk37.zip\n",
      "http://storage.googleapis.com/patents/grant_full_text/1985/pftaps19850917_wk38.zip\n",
      "http://storage.googleapis.com/patents/grant_full_text/1985/pftaps19850924_wk39.zip\n",
      "http://storage.googleapis.com/patents/grant_full_text/1985/pftaps19851001_wk40.zip\n",
      "http://storage.googleapis.com/patents/grant_full_text/1985/pftaps19851008_wk41.zip\n",
      "http://storage.googleapis.com/patents/grant_full_text/1985/pftaps19851015_wk42.zip\n",
      "http://storage.googleapis.com/patents/grant_full_text/1985/pftaps19851022_wk43.zip\n",
      "http://storage.googleapis.com/patents/grant_full_text/1985/pftaps19851029_wk44.zip\n",
      "http://storage.googleapis.com/patents/grant_full_text/1985/pftaps19851105_wk45.zip\n",
      "http://storage.googleapis.com/patents/grant_full_text/1985/pftaps19851112_wk46.zip\n",
      "http://storage.googleapis.com/patents/grant_full_text/1985/pftaps19851119_wk47.zip\n",
      "http://storage.googleapis.com/patents/grant_full_text/1985/pftaps19851126_wk48.zip\n",
      "http://storage.googleapis.com/patents/grant_full_text/1985/pftaps19851203_wk49.zip\n",
      "http://storage.googleapis.com/patents/grant_full_text/1985/pftaps19851210_wk50.zip\n",
      "http://storage.googleapis.com/patents/grant_full_text/1985/pftaps19851217_wk51.zip\n",
      "http://storage.googleapis.com/patents/grant_full_text/1985/pftaps19851224_wk52.zip\n",
      "http://storage.googleapis.com/patents/grant_full_text/1985/pftaps19851231_wk53.zip\n",
      "http://storage.googleapis.com/patents/grant_full_text/1984/pftaps19840103_wk01.zip\n",
      "http://storage.googleapis.com/patents/grant_full_text/1984/pftaps19840110_wk02.zip\n",
      "http://storage.googleapis.com/patents/grant_full_text/1984/pftaps19840117_wk03.zip\n",
      "http://storage.googleapis.com/patents/grant_full_text/1984/pftaps19840124_wk04.zip\n",
      "http://storage.googleapis.com/patents/grant_full_text/1984/pftaps19840131_wk05.zip\n",
      "http://storage.googleapis.com/patents/grant_full_text/1984/pftaps19840207_wk06.zip\n",
      "http://storage.googleapis.com/patents/grant_full_text/1984/pftaps19840214_wk07.zip\n",
      "http://storage.googleapis.com/patents/grant_full_text/1984/pftaps19840221_wk08.zip\n",
      "http://storage.googleapis.com/patents/grant_full_text/1984/pftaps19840228_wk09.zip\n",
      "http://storage.googleapis.com/patents/grant_full_text/1984/pftaps19840306_wk10.zip\n",
      "http://storage.googleapis.com/patents/grant_full_text/1984/pftaps19840313_wk11.zip\n",
      "http://storage.googleapis.com/patents/grant_full_text/1984/pftaps19840320_wk12.zip\n",
      "http://storage.googleapis.com/patents/grant_full_text/1984/pftaps19840327_wk13.zip\n",
      "http://storage.googleapis.com/patents/grant_full_text/1984/pftaps19840403_wk14.zip\n",
      "http://storage.googleapis.com/patents/grant_full_text/1984/pftaps19840410_wk15.zip\n",
      "http://storage.googleapis.com/patents/grant_full_text/1984/pftaps19840417_wk16.zip\n",
      "http://storage.googleapis.com/patents/grant_full_text/1984/pftaps19840424_wk17.zip\n",
      "http://storage.googleapis.com/patents/grant_full_text/1984/pftaps19840501_wk18.zip\n",
      "http://storage.googleapis.com/patents/grant_full_text/1984/pftaps19840508_wk19.zip\n",
      "http://storage.googleapis.com/patents/grant_full_text/1984/pftaps19840515_wk20.zip\n",
      "http://storage.googleapis.com/patents/grant_full_text/1984/pftaps19840522_wk21.zip\n",
      "http://storage.googleapis.com/patents/grant_full_text/1984/pftaps19840529_wk22.zip\n",
      "http://storage.googleapis.com/patents/grant_full_text/1984/pftaps19840605_wk23.zip\n",
      "http://storage.googleapis.com/patents/grant_full_text/1984/pftaps19840612_wk24.zip\n",
      "http://storage.googleapis.com/patents/grant_full_text/1984/pftaps19840619_wk25.zip\n",
      "http://storage.googleapis.com/patents/grant_full_text/1984/pftaps19840626_wk26.zip\n",
      "http://storage.googleapis.com/patents/grant_full_text/1984/pftaps19840703_wk27.zip\n",
      "http://storage.googleapis.com/patents/grant_full_text/1984/pftaps19840710_wk28.zip\n",
      "http://storage.googleapis.com/patents/grant_full_text/1984/pftaps19840717_wk29.zip\n",
      "http://storage.googleapis.com/patents/grant_full_text/1984/pftaps19840724_wk30.zip\n",
      "http://storage.googleapis.com/patents/grant_full_text/1984/pftaps19840731_wk31.zip\n",
      "http://storage.googleapis.com/patents/grant_full_text/1984/pftaps19840807_wk32.zip\n",
      "http://storage.googleapis.com/patents/grant_full_text/1984/pftaps19840814_wk33.zip\n",
      "http://storage.googleapis.com/patents/grant_full_text/1984/pftaps19840821_wk34.zip\n",
      "http://storage.googleapis.com/patents/grant_full_text/1984/pftaps19840828_wk35.zip\n",
      "http://storage.googleapis.com/patents/grant_full_text/1984/pftaps19840904_wk36.zip\n",
      "http://storage.googleapis.com/patents/grant_full_text/1984/pftaps19840911_wk37.zip\n",
      "http://storage.googleapis.com/patents/grant_full_text/1984/pftaps19840918_wk38.zip\n",
      "http://storage.googleapis.com/patents/grant_full_text/1984/pftaps19840925_wk39.zip\n",
      "http://storage.googleapis.com/patents/grant_full_text/1984/pftaps19841002_wk40.zip\n",
      "http://storage.googleapis.com/patents/grant_full_text/1984/pftaps19841009_wk41.zip\n",
      "http://storage.googleapis.com/patents/grant_full_text/1984/pftaps19841016_wk42.zip\n",
      "http://storage.googleapis.com/patents/grant_full_text/1984/pftaps19841023_wk43.zip\n",
      "http://storage.googleapis.com/patents/grant_full_text/1984/pftaps19841030_wk44.zip\n",
      "http://storage.googleapis.com/patents/grant_full_text/1984/pftaps19841106_wk45.zip\n",
      "http://storage.googleapis.com/patents/grant_full_text/1984/pftaps19841113_wk46.zip\n",
      "http://storage.googleapis.com/patents/grant_full_text/1984/pftaps19841120_wk47.zip\n",
      "http://storage.googleapis.com/patents/grant_full_text/1984/pftaps19841127_wk48.zip\n",
      "http://storage.googleapis.com/patents/grant_full_text/1984/pftaps19841204_wk49.zip\n",
      "http://storage.googleapis.com/patents/grant_full_text/1984/pftaps19841211_wk50.zip\n",
      "http://storage.googleapis.com/patents/grant_full_text/1984/pftaps19841218_wk51.zip\n",
      "http://storage.googleapis.com/patents/grant_full_text/1984/pftaps19841225_wk52.zip\n",
      "http://storage.googleapis.com/patents/grant_full_text/1983/pftaps19830104_wk01.zip\n",
      "http://storage.googleapis.com/patents/grant_full_text/1983/pftaps19830111_wk02.zip\n",
      "http://storage.googleapis.com/patents/grant_full_text/1983/pftaps19830118_wk03.zip\n",
      "http://storage.googleapis.com/patents/grant_full_text/1983/pftaps19830125_wk04.zip\n",
      "http://storage.googleapis.com/patents/grant_full_text/1983/pftaps19830201_wk05.zip\n",
      "http://storage.googleapis.com/patents/grant_full_text/1983/pftaps19830208_wk06.zip\n",
      "http://storage.googleapis.com/patents/grant_full_text/1983/pftaps19830215_wk07.zip\n",
      "http://storage.googleapis.com/patents/grant_full_text/1983/pftaps19830222_wk08.zip\n",
      "http://storage.googleapis.com/patents/grant_full_text/1983/pftaps19830301_wk09.zip\n",
      "http://storage.googleapis.com/patents/grant_full_text/1983/pftaps19830308_wk10.zip\n",
      "http://storage.googleapis.com/patents/grant_full_text/1983/pftaps19830315_wk11.zip\n",
      "http://storage.googleapis.com/patents/grant_full_text/1983/pftaps19830322_wk12.zip\n",
      "http://storage.googleapis.com/patents/grant_full_text/1983/pftaps19830329_wk13.zip\n",
      "http://storage.googleapis.com/patents/grant_full_text/1983/pftaps19830405_wk14.zip\n",
      "http://storage.googleapis.com/patents/grant_full_text/1983/pftaps19830412_wk15.zip\n",
      "http://storage.googleapis.com/patents/grant_full_text/1983/pftaps19830419_wk16.zip\n",
      "http://storage.googleapis.com/patents/grant_full_text/1983/pftaps19830426_wk17.zip\n",
      "http://storage.googleapis.com/patents/grant_full_text/1983/pftaps19830503_wk18.zip\n",
      "http://storage.googleapis.com/patents/grant_full_text/1983/pftaps19830510_wk19.zip\n",
      "http://storage.googleapis.com/patents/grant_full_text/1983/pftaps19830517_wk20.zip\n",
      "http://storage.googleapis.com/patents/grant_full_text/1983/pftaps19830524_wk21.zip\n",
      "http://storage.googleapis.com/patents/grant_full_text/1983/pftaps19830531_wk22.zip\n",
      "http://storage.googleapis.com/patents/grant_full_text/1983/pftaps19830607_wk23.zip\n",
      "http://storage.googleapis.com/patents/grant_full_text/1983/pftaps19830614_wk24.zip\n",
      "http://storage.googleapis.com/patents/grant_full_text/1983/pftaps19830621_wk25.zip\n",
      "http://storage.googleapis.com/patents/grant_full_text/1983/pftaps19830628_wk26.zip\n",
      "http://storage.googleapis.com/patents/grant_full_text/1983/pftaps19830705_wk27.zip\n",
      "http://storage.googleapis.com/patents/grant_full_text/1983/pftaps19830712_wk28.zip\n",
      "http://storage.googleapis.com/patents/grant_full_text/1983/pftaps19830719_wk29.zip\n",
      "http://storage.googleapis.com/patents/grant_full_text/1983/pftaps19830726_wk30.zip\n",
      "http://storage.googleapis.com/patents/grant_full_text/1983/pftaps19830802_wk31.zip\n",
      "http://storage.googleapis.com/patents/grant_full_text/1983/pftaps19830809_wk32.zip\n",
      "http://storage.googleapis.com/patents/grant_full_text/1983/pftaps19830816_wk33.zip\n",
      "http://storage.googleapis.com/patents/grant_full_text/1983/pftaps19830823_wk34.zip\n",
      "http://storage.googleapis.com/patents/grant_full_text/1983/pftaps19830830_wk35.zip\n",
      "http://storage.googleapis.com/patents/grant_full_text/1983/pftaps19830906_wk36.zip\n",
      "http://storage.googleapis.com/patents/grant_full_text/1983/pftaps19830913_wk37.zip\n",
      "http://storage.googleapis.com/patents/grant_full_text/1983/pftaps19830920_wk38.zip\n",
      "http://storage.googleapis.com/patents/grant_full_text/1983/pftaps19830927_wk39.zip\n",
      "http://storage.googleapis.com/patents/grant_full_text/1983/pftaps19831004_wk40.zip\n",
      "http://storage.googleapis.com/patents/grant_full_text/1983/pftaps19831011_wk41.zip\n",
      "http://storage.googleapis.com/patents/grant_full_text/1983/pftaps19831018_wk42.zip\n",
      "http://storage.googleapis.com/patents/grant_full_text/1983/pftaps19831025_wk43.zip\n",
      "http://storage.googleapis.com/patents/grant_full_text/1983/pftaps19831101_wk44.zip\n",
      "http://storage.googleapis.com/patents/grant_full_text/1983/pftaps19831108_wk45.zip\n",
      "http://storage.googleapis.com/patents/grant_full_text/1983/pftaps19831115_wk46.zip\n",
      "http://storage.googleapis.com/patents/grant_full_text/1983/pftaps19831122_wk47.zip\n",
      "http://storage.googleapis.com/patents/grant_full_text/1983/pftaps19831129_wk48.zip\n",
      "http://storage.googleapis.com/patents/grant_full_text/1983/pftaps19831206_wk49.zip\n",
      "http://storage.googleapis.com/patents/grant_full_text/1983/pftaps19831213_wk50.zip\n",
      "http://storage.googleapis.com/patents/grant_full_text/1983/pftaps19831220_wk51.zip\n",
      "http://storage.googleapis.com/patents/grant_full_text/1983/pftaps19831227_wk52.zip\n",
      "http://storage.googleapis.com/patents/grant_full_text/1982/pftaps19820105_wk01.zip\n",
      "http://storage.googleapis.com/patents/grant_full_text/1982/pftaps19820112_wk02.zip\n",
      "http://storage.googleapis.com/patents/grant_full_text/1982/pftaps19820119_wk03.zip\n",
      "http://storage.googleapis.com/patents/grant_full_text/1982/pftaps19820126_wk04.zip\n",
      "http://storage.googleapis.com/patents/grant_full_text/1982/pftaps19820202_wk05.zip\n",
      "http://storage.googleapis.com/patents/grant_full_text/1982/pftaps19820209_wk06.zip\n",
      "http://storage.googleapis.com/patents/grant_full_text/1982/pftaps19820216_wk07.zip\n",
      "http://storage.googleapis.com/patents/grant_full_text/1982/pftaps19820223_wk08.zip\n",
      "http://storage.googleapis.com/patents/grant_full_text/1982/pftaps19820302_wk09.zip\n",
      "http://storage.googleapis.com/patents/grant_full_text/1982/pftaps19820309_wk10.zip\n",
      "http://storage.googleapis.com/patents/grant_full_text/1982/pftaps19820316_wk11.zip\n",
      "http://storage.googleapis.com/patents/grant_full_text/1982/pftaps19820323_wk12.zip\n",
      "http://storage.googleapis.com/patents/grant_full_text/1982/pftaps19820330_wk13.zip\n",
      "http://storage.googleapis.com/patents/grant_full_text/1982/pftaps19820406_wk14.zip\n",
      "http://storage.googleapis.com/patents/grant_full_text/1982/pftaps19820413_wk15.zip\n",
      "http://storage.googleapis.com/patents/grant_full_text/1982/pftaps19820420_wk16.zip\n",
      "http://storage.googleapis.com/patents/grant_full_text/1982/pftaps19820427_wk17.zip\n",
      "http://storage.googleapis.com/patents/grant_full_text/1982/pftaps19820504_wk18.zip\n",
      "http://storage.googleapis.com/patents/grant_full_text/1982/pftaps19820511_wk19.zip\n",
      "http://storage.googleapis.com/patents/grant_full_text/1982/pftaps19820518_wk20.zip\n",
      "http://storage.googleapis.com/patents/grant_full_text/1982/pftaps19820525_wk21.zip\n",
      "http://storage.googleapis.com/patents/grant_full_text/1982/pftaps19820601_wk22.zip\n",
      "http://storage.googleapis.com/patents/grant_full_text/1982/pftaps19820608_wk23.zip\n",
      "http://storage.googleapis.com/patents/grant_full_text/1982/pftaps19820615_wk24.zip\n",
      "http://storage.googleapis.com/patents/grant_full_text/1982/pftaps19820622_wk25.zip\n",
      "http://storage.googleapis.com/patents/grant_full_text/1982/pftaps19820629_wk26.zip\n",
      "http://storage.googleapis.com/patents/grant_full_text/1982/pftaps19820706_wk27.zip\n",
      "http://storage.googleapis.com/patents/grant_full_text/1982/pftaps19820713_wk28.zip\n",
      "http://storage.googleapis.com/patents/grant_full_text/1982/pftaps19820720_wk29.zip\n",
      "http://storage.googleapis.com/patents/grant_full_text/1982/pftaps19820727_wk30.zip\n",
      "http://storage.googleapis.com/patents/grant_full_text/1982/pftaps19820803_wk31.zip\n",
      "http://storage.googleapis.com/patents/grant_full_text/1982/pftaps19820810_wk32.zip\n",
      "http://storage.googleapis.com/patents/grant_full_text/1982/pftaps19820817_wk33.zip\n",
      "http://storage.googleapis.com/patents/grant_full_text/1982/pftaps19820824_wk34.zip\n",
      "http://storage.googleapis.com/patents/grant_full_text/1982/pftaps19820831_wk35.zip\n",
      "http://storage.googleapis.com/patents/grant_full_text/1982/pftaps19820907_wk36.zip\n",
      "http://storage.googleapis.com/patents/grant_full_text/1982/pftaps19820914_wk37.zip\n",
      "http://storage.googleapis.com/patents/grant_full_text/1982/pftaps19820921_wk38.zip\n",
      "http://storage.googleapis.com/patents/grant_full_text/1982/pftaps19820928_wk39.zip\n",
      "http://storage.googleapis.com/patents/grant_full_text/1982/pftaps19821005_wk40.zip\n",
      "http://storage.googleapis.com/patents/grant_full_text/1982/pftaps19821012_wk41.zip\n",
      "http://storage.googleapis.com/patents/grant_full_text/1982/pftaps19821019_wk42.zip\n",
      "http://storage.googleapis.com/patents/grant_full_text/1982/pftaps19821026_wk43.zip\n",
      "http://storage.googleapis.com/patents/grant_full_text/1982/pftaps19821102_wk44.zip\n",
      "http://storage.googleapis.com/patents/grant_full_text/1982/pftaps19821109_wk45.zip\n",
      "http://storage.googleapis.com/patents/grant_full_text/1982/pftaps19821116_wk46.zip\n",
      "http://storage.googleapis.com/patents/grant_full_text/1982/pftaps19821123_wk47.zip\n",
      "http://storage.googleapis.com/patents/grant_full_text/1982/pftaps19821130_wk48.zip\n",
      "http://storage.googleapis.com/patents/grant_full_text/1982/pftaps19821207_wk49.zip\n",
      "http://storage.googleapis.com/patents/grant_full_text/1982/pftaps19821214_wk50.zip\n",
      "http://storage.googleapis.com/patents/grant_full_text/1982/pftaps19821221_wk51.zip\n",
      "http://storage.googleapis.com/patents/grant_full_text/1982/pftaps19821228_wk52.zip\n",
      "http://storage.googleapis.com/patents/grant_full_text/1981/pftaps19810106_wk01.zip\n",
      "http://storage.googleapis.com/patents/grant_full_text/1981/pftaps19810113_wk02.zip\n",
      "http://storage.googleapis.com/patents/grant_full_text/1981/pftaps19810120_wk03.zip\n",
      "http://storage.googleapis.com/patents/grant_full_text/1981/pftaps19810127_wk04.zip\n",
      "http://storage.googleapis.com/patents/grant_full_text/1981/pftaps19810203_wk05.zip\n",
      "http://storage.googleapis.com/patents/grant_full_text/1981/pftaps19810210_wk06.zip\n",
      "http://storage.googleapis.com/patents/grant_full_text/1981/pftaps19810217_wk07.zip\n",
      "http://storage.googleapis.com/patents/grant_full_text/1981/pftaps19810224_wk08.zip\n",
      "http://storage.googleapis.com/patents/grant_full_text/1981/pftaps19810303_wk09.zip\n",
      "http://storage.googleapis.com/patents/grant_full_text/1981/pftaps19810310_wk10.zip\n",
      "http://storage.googleapis.com/patents/grant_full_text/1981/pftaps19810317_wk11.zip\n",
      "http://storage.googleapis.com/patents/grant_full_text/1981/pftaps19810324_wk12.zip\n",
      "http://storage.googleapis.com/patents/grant_full_text/1981/pftaps19810331_wk13.zip\n",
      "http://storage.googleapis.com/patents/grant_full_text/1981/pftaps19810407_wk14.zip\n",
      "http://storage.googleapis.com/patents/grant_full_text/1981/pftaps19810414_wk15.zip\n",
      "http://storage.googleapis.com/patents/grant_full_text/1981/pftaps19810421_wk16.zip\n",
      "http://storage.googleapis.com/patents/grant_full_text/1981/pftaps19810428_wk17.zip\n",
      "http://storage.googleapis.com/patents/grant_full_text/1981/pftaps19810505_wk18.zip\n",
      "http://storage.googleapis.com/patents/grant_full_text/1981/pftaps19810512_wk19.zip\n",
      "http://storage.googleapis.com/patents/grant_full_text/1981/pftaps19810519_wk20.zip\n",
      "http://storage.googleapis.com/patents/grant_full_text/1981/pftaps19810526_wk21.zip\n",
      "http://storage.googleapis.com/patents/grant_full_text/1981/pftaps19810602_wk22.zip\n",
      "http://storage.googleapis.com/patents/grant_full_text/1981/pftaps19810609_wk23.zip\n",
      "http://storage.googleapis.com/patents/grant_full_text/1981/pftaps19810616_wk24.zip\n",
      "http://storage.googleapis.com/patents/grant_full_text/1981/pftaps19810623_wk25.zip\n",
      "http://storage.googleapis.com/patents/grant_full_text/1981/pftaps19810630_wk26.zip\n",
      "http://storage.googleapis.com/patents/grant_full_text/1981/pftaps19810707_wk27.zip\n",
      "http://storage.googleapis.com/patents/grant_full_text/1981/pftaps19810714_wk28.zip\n",
      "http://storage.googleapis.com/patents/grant_full_text/1981/pftaps19810721_wk29.zip\n",
      "http://storage.googleapis.com/patents/grant_full_text/1981/pftaps19810728_wk30.zip\n",
      "http://storage.googleapis.com/patents/grant_full_text/1981/pftaps19810804_wk31.zip\n",
      "http://storage.googleapis.com/patents/grant_full_text/1981/pftaps19810811_wk32.zip\n",
      "http://storage.googleapis.com/patents/grant_full_text/1981/pftaps19810818_wk33.zip\n",
      "http://storage.googleapis.com/patents/grant_full_text/1981/pftaps19810825_wk34.zip\n",
      "http://storage.googleapis.com/patents/grant_full_text/1981/pftaps19810901_wk35.zip\n",
      "http://storage.googleapis.com/patents/grant_full_text/1981/pftaps19810908_wk36.zip\n",
      "http://storage.googleapis.com/patents/grant_full_text/1981/pftaps19810915_wk37.zip\n",
      "http://storage.googleapis.com/patents/grant_full_text/1981/pftaps19810922_wk38.zip\n",
      "http://storage.googleapis.com/patents/grant_full_text/1981/pftaps19810929_wk39.zip\n",
      "http://storage.googleapis.com/patents/grant_full_text/1981/pftaps19811006_wk40.zip\n",
      "http://storage.googleapis.com/patents/grant_full_text/1981/pftaps19811013_wk41.zip\n",
      "http://storage.googleapis.com/patents/grant_full_text/1981/pftaps19811020_wk42.zip\n",
      "http://storage.googleapis.com/patents/grant_full_text/1981/pftaps19811027_wk43.zip\n",
      "http://storage.googleapis.com/patents/grant_full_text/1981/pftaps19811103_wk44.zip\n",
      "http://storage.googleapis.com/patents/grant_full_text/1981/pftaps19811110_wk45.zip\n",
      "http://storage.googleapis.com/patents/grant_full_text/1981/pftaps19811117_wk46.zip\n",
      "http://storage.googleapis.com/patents/grant_full_text/1981/pftaps19811124_wk47.zip\n",
      "http://storage.googleapis.com/patents/grant_full_text/1981/pftaps19811201_wk48.zip\n",
      "http://storage.googleapis.com/patents/grant_full_text/1981/pftaps19811208_wk49.zip\n",
      "http://storage.googleapis.com/patents/grant_full_text/1981/pftaps19811215_wk50.zip\n",
      "http://storage.googleapis.com/patents/grant_full_text/1981/pftaps19811222_wk51.zip\n",
      "http://storage.googleapis.com/patents/grant_full_text/1981/pftaps19811229_wk52.zip\n",
      "http://storage.googleapis.com/patents/grant_full_text/1980/pftaps19800101_wk01.zip\n",
      "http://storage.googleapis.com/patents/grant_full_text/1980/pftaps19800108_wk02.zip\n",
      "http://storage.googleapis.com/patents/grant_full_text/1980/pftaps19800115_wk03.zip\n",
      "http://storage.googleapis.com/patents/grant_full_text/1980/pftaps19800122_wk04.zip\n",
      "http://storage.googleapis.com/patents/grant_full_text/1980/pftaps19800129_wk05.zip\n",
      "http://storage.googleapis.com/patents/grant_full_text/1980/pftaps19800205_wk06.zip\n",
      "http://storage.googleapis.com/patents/grant_full_text/1980/pftaps19800212_wk07.zip\n",
      "http://storage.googleapis.com/patents/grant_full_text/1980/pftaps19800219_wk08.zip\n",
      "http://storage.googleapis.com/patents/grant_full_text/1980/pftaps19800226_wk09.zip\n",
      "http://storage.googleapis.com/patents/grant_full_text/1980/pftaps19800304_wk10.zip\n",
      "http://storage.googleapis.com/patents/grant_full_text/1980/pftaps19800311_wk11.zip\n",
      "http://storage.googleapis.com/patents/grant_full_text/1980/pftaps19800318_wk12.zip\n",
      "http://storage.googleapis.com/patents/grant_full_text/1980/pftaps19800325_wk13.zip\n",
      "http://storage.googleapis.com/patents/grant_full_text/1980/pftaps19800401_wk14.zip\n",
      "http://storage.googleapis.com/patents/grant_full_text/1980/pftaps19800408_wk15.zip\n",
      "http://storage.googleapis.com/patents/grant_full_text/1980/pftaps19800415_wk16.zip\n",
      "http://storage.googleapis.com/patents/grant_full_text/1980/pftaps19800422_wk17.zip\n",
      "http://storage.googleapis.com/patents/grant_full_text/1980/pftaps19800429_wk18.zip\n",
      "http://storage.googleapis.com/patents/grant_full_text/1980/pftaps19800506_wk19.zip\n",
      "http://storage.googleapis.com/patents/grant_full_text/1980/pftaps19800513_wk20.zip\n",
      "http://storage.googleapis.com/patents/grant_full_text/1980/pftaps19800520_wk21.zip\n",
      "http://storage.googleapis.com/patents/grant_full_text/1980/pftaps19800527_wk22.zip\n",
      "http://storage.googleapis.com/patents/grant_full_text/1980/pftaps19800603_wk23.zip\n",
      "http://storage.googleapis.com/patents/grant_full_text/1980/pftaps19800610_wk24.zip\n",
      "http://storage.googleapis.com/patents/grant_full_text/1980/pftaps19800617_wk25.zip\n",
      "http://storage.googleapis.com/patents/grant_full_text/1980/pftaps19800624_wk26.zip\n",
      "http://storage.googleapis.com/patents/grant_full_text/1980/pftaps19800701_wk27.zip\n",
      "http://storage.googleapis.com/patents/grant_full_text/1980/pftaps19800708_wk28.zip\n",
      "http://storage.googleapis.com/patents/grant_full_text/1980/pftaps19800715_wk29.zip\n",
      "http://storage.googleapis.com/patents/grant_full_text/1980/pftaps19800722_wk30.zip\n",
      "http://storage.googleapis.com/patents/grant_full_text/1980/pftaps19800729_wk31.zip\n",
      "http://storage.googleapis.com/patents/grant_full_text/1980/pftaps19800805_wk32.zip\n",
      "http://storage.googleapis.com/patents/grant_full_text/1980/pftaps19800812_wk33.zip\n",
      "http://storage.googleapis.com/patents/grant_full_text/1980/pftaps19800819_wk34.zip\n",
      "http://storage.googleapis.com/patents/grant_full_text/1980/pftaps19800826_wk35.zip\n",
      "http://storage.googleapis.com/patents/grant_full_text/1980/pftaps19800902_wk36.zip\n",
      "http://storage.googleapis.com/patents/grant_full_text/1980/pftaps19800909_wk37.zip\n",
      "http://storage.googleapis.com/patents/grant_full_text/1980/pftaps19800916_wk38.zip\n",
      "http://storage.googleapis.com/patents/grant_full_text/1980/pftaps19800923_wk39.zip\n",
      "http://storage.googleapis.com/patents/grant_full_text/1980/pftaps19800930_wk40.zip\n",
      "http://storage.googleapis.com/patents/grant_full_text/1980/pftaps19801007_wk41.zip\n",
      "http://storage.googleapis.com/patents/grant_full_text/1980/pftaps19801014_wk42.zip\n",
      "http://storage.googleapis.com/patents/grant_full_text/1980/pftaps19801021_wk43.zip\n",
      "http://storage.googleapis.com/patents/grant_full_text/1980/pftaps19801028_wk44.zip\n",
      "http://storage.googleapis.com/patents/grant_full_text/1980/pftaps19801104_wk45.zip\n",
      "http://storage.googleapis.com/patents/grant_full_text/1980/pftaps19801111_wk46.zip\n",
      "http://storage.googleapis.com/patents/grant_full_text/1980/pftaps19801118_wk47.zip\n",
      "http://storage.googleapis.com/patents/grant_full_text/1980/pftaps19801125_wk48.zip\n",
      "http://storage.googleapis.com/patents/grant_full_text/1980/pftaps19801202_wk49.zip\n",
      "http://storage.googleapis.com/patents/grant_full_text/1980/pftaps19801209_wk50.zip\n",
      "http://storage.googleapis.com/patents/grant_full_text/1980/pftaps19801216_wk51.zip\n",
      "http://storage.googleapis.com/patents/grant_full_text/1980/pftaps19801223_wk52.zip\n",
      "http://storage.googleapis.com/patents/grant_full_text/1980/pftaps19801230_wk53.zip\n",
      "http://storage.googleapis.com/patents/grant_full_text/1979/pftaps19790102_wk01.zip\n",
      "http://storage.googleapis.com/patents/grant_full_text/1979/pftaps19790109_wk02.zip\n",
      "http://storage.googleapis.com/patents/grant_full_text/1979/pftaps19790116_wk03.zip\n",
      "http://storage.googleapis.com/patents/grant_full_text/1979/pftaps19790123_wk04.zip\n",
      "http://storage.googleapis.com/patents/grant_full_text/1979/pftaps19790130_wk05.zip\n",
      "http://storage.googleapis.com/patents/grant_full_text/1979/pftaps19790206_wk06.zip\n",
      "http://storage.googleapis.com/patents/grant_full_text/1979/pftaps19790213_wk07.zip\n",
      "http://storage.googleapis.com/patents/grant_full_text/1979/pftaps19790220_wk08.zip\n",
      "http://storage.googleapis.com/patents/grant_full_text/1979/pftaps19790227_wk09.zip\n",
      "http://storage.googleapis.com/patents/grant_full_text/1979/pftaps19790306_wk10.zip\n",
      "http://storage.googleapis.com/patents/grant_full_text/1979/pftaps19790313_wk11.zip\n",
      "http://storage.googleapis.com/patents/grant_full_text/1979/pftaps19790320_wk12.zip\n",
      "http://storage.googleapis.com/patents/grant_full_text/1979/pftaps19790327_wk13.zip\n",
      "http://storage.googleapis.com/patents/grant_full_text/1979/pftaps19790403_wk14.zip\n",
      "http://storage.googleapis.com/patents/grant_full_text/1979/pftaps19790410_wk15.zip\n",
      "http://storage.googleapis.com/patents/grant_full_text/1979/pftaps19790417_wk16.zip\n",
      "http://storage.googleapis.com/patents/grant_full_text/1979/pftaps19790424_wk17.zip\n",
      "http://storage.googleapis.com/patents/grant_full_text/1979/pftaps19790501_wk18.zip\n",
      "http://storage.googleapis.com/patents/grant_full_text/1979/pftaps19790508_wk19.zip\n",
      "http://storage.googleapis.com/patents/grant_full_text/1979/pftaps19790515_wk20.zip\n",
      "http://storage.googleapis.com/patents/grant_full_text/1979/pftaps19790522_wk21.zip\n",
      "http://storage.googleapis.com/patents/grant_full_text/1979/pftaps19790529_wk22.zip\n",
      "http://storage.googleapis.com/patents/grant_full_text/1979/pftaps19790605_wk23.zip\n",
      "http://storage.googleapis.com/patents/grant_full_text/1979/pftaps19790612_wk24.zip\n",
      "http://storage.googleapis.com/patents/grant_full_text/1979/pftaps19790619_wk25.zip\n",
      "http://storage.googleapis.com/patents/grant_full_text/1979/pftaps19790626_wk26.zip\n",
      "http://storage.googleapis.com/patents/grant_full_text/1979/pftaps19790703_wk27.zip\n",
      "http://storage.googleapis.com/patents/grant_full_text/1979/pftaps19790710_wk28.zip\n",
      "http://storage.googleapis.com/patents/grant_full_text/1979/pftaps19790717_wk29.zip\n",
      "http://storage.googleapis.com/patents/grant_full_text/1979/pftaps19790724_wk30.zip\n",
      "http://storage.googleapis.com/patents/grant_full_text/1979/pftaps19790731_wk31.zip\n",
      "http://storage.googleapis.com/patents/grant_full_text/1979/pftaps19790807_wk32.zip\n",
      "http://storage.googleapis.com/patents/grant_full_text/1979/pftaps19790814_wk33.zip\n",
      "http://storage.googleapis.com/patents/grant_full_text/1979/pftaps19790821_wk34.zip\n",
      "http://storage.googleapis.com/patents/grant_full_text/1979/pftaps19790828_wk35.zip\n",
      "http://storage.googleapis.com/patents/grant_full_text/1979/pftaps19790904_wk36.zip\n",
      "http://storage.googleapis.com/patents/grant_full_text/1979/pftaps19790911_wk37.zip\n",
      "http://storage.googleapis.com/patents/grant_full_text/1979/pftaps19790918_wk38.zip\n",
      "http://storage.googleapis.com/patents/grant_full_text/1979/pftaps19790925_wk39.zip\n",
      "http://storage.googleapis.com/patents/grant_full_text/1979/pftaps19791002_wk40.zip\n",
      "http://storage.googleapis.com/patents/grant_full_text/1979/pftaps19791009_wk41.zip\n",
      "http://storage.googleapis.com/patents/grant_full_text/1979/pftaps19791016_wk42.zip\n",
      "http://storage.googleapis.com/patents/grant_full_text/1979/pftaps19791023_wk43.zip\n",
      "http://storage.googleapis.com/patents/grant_full_text/1979/pftaps19791030_wk44.zip\n",
      "http://storage.googleapis.com/patents/grant_full_text/1979/pftaps19791106_wk45.zip\n",
      "http://storage.googleapis.com/patents/grant_full_text/1979/pftaps19791113_wk46.zip\n",
      "http://storage.googleapis.com/patents/grant_full_text/1979/pftaps19791120_wk47.zip\n",
      "http://storage.googleapis.com/patents/grant_full_text/1979/pftaps19791127_wk48.zip\n",
      "http://storage.googleapis.com/patents/grant_full_text/1979/pftaps19791204_wk49.zip\n",
      "http://storage.googleapis.com/patents/grant_full_text/1979/pftaps19791211_wk50.zip\n",
      "http://storage.googleapis.com/patents/grant_full_text/1979/pftaps19791218_wk51.zip\n",
      "http://storage.googleapis.com/patents/grant_full_text/1979/pftaps19791225_wk52.zip\n",
      "http://storage.googleapis.com/patents/grant_full_text/1978/pftaps19780103_wk01.zip\n",
      "http://storage.googleapis.com/patents/grant_full_text/1978/pftaps19780110_wk02.zip\n",
      "http://storage.googleapis.com/patents/grant_full_text/1978/pftaps19780117_wk03.zip\n",
      "http://storage.googleapis.com/patents/grant_full_text/1978/pftaps19780124_wk04.zip\n",
      "http://storage.googleapis.com/patents/grant_full_text/1978/pftaps19780131_wk05.zip\n",
      "http://storage.googleapis.com/patents/grant_full_text/1978/pftaps19780207_wk06.zip\n",
      "http://storage.googleapis.com/patents/grant_full_text/1978/pftaps19780214_wk07.zip\n",
      "http://storage.googleapis.com/patents/grant_full_text/1978/pftaps19780221_wk08.zip\n",
      "http://storage.googleapis.com/patents/grant_full_text/1978/pftaps19780228_wk09.zip\n",
      "http://storage.googleapis.com/patents/grant_full_text/1978/pftaps19780307_wk10.zip\n",
      "http://storage.googleapis.com/patents/grant_full_text/1978/pftaps19780314_wk11.zip\n",
      "http://storage.googleapis.com/patents/grant_full_text/1978/pftaps19780321_wk12.zip\n",
      "http://storage.googleapis.com/patents/grant_full_text/1978/pftaps19780328_wk13.zip\n",
      "http://storage.googleapis.com/patents/grant_full_text/1978/pftaps19780404_wk14.zip\n",
      "http://storage.googleapis.com/patents/grant_full_text/1978/pftaps19780411_wk15.zip\n",
      "http://storage.googleapis.com/patents/grant_full_text/1978/pftaps19780418_wk16.zip\n",
      "http://storage.googleapis.com/patents/grant_full_text/1978/pftaps19780425_wk17.zip\n",
      "http://storage.googleapis.com/patents/grant_full_text/1978/pftaps19780502_wk18.zip\n",
      "http://storage.googleapis.com/patents/grant_full_text/1978/pftaps19780509_wk19.zip\n",
      "http://storage.googleapis.com/patents/grant_full_text/1978/pftaps19780516_wk20.zip\n",
      "http://storage.googleapis.com/patents/grant_full_text/1978/pftaps19780523_wk21.zip\n",
      "http://storage.googleapis.com/patents/grant_full_text/1978/pftaps19780530_wk22.zip\n",
      "http://storage.googleapis.com/patents/grant_full_text/1978/pftaps19780606_wk23.zip\n",
      "http://storage.googleapis.com/patents/grant_full_text/1978/pftaps19780613_wk24.zip\n",
      "http://storage.googleapis.com/patents/grant_full_text/1978/pftaps19780620_wk25.zip\n",
      "http://storage.googleapis.com/patents/grant_full_text/1978/pftaps19780627_wk26.zip\n",
      "http://storage.googleapis.com/patents/grant_full_text/1978/pftaps19780704_wk27.zip\n",
      "http://storage.googleapis.com/patents/grant_full_text/1978/pftaps19780711_wk28.zip\n",
      "http://storage.googleapis.com/patents/grant_full_text/1978/pftaps19780718_wk29.zip\n",
      "http://storage.googleapis.com/patents/grant_full_text/1978/pftaps19780725_wk30.zip\n",
      "http://storage.googleapis.com/patents/grant_full_text/1978/pftaps19780801_wk31.zip\n",
      "http://storage.googleapis.com/patents/grant_full_text/1978/pftaps19780808_wk32.zip\n",
      "http://storage.googleapis.com/patents/grant_full_text/1978/pftaps19780815_wk33.zip\n",
      "http://storage.googleapis.com/patents/grant_full_text/1978/pftaps19780822_wk34.zip\n",
      "http://storage.googleapis.com/patents/grant_full_text/1978/pftaps19780829_wk35.zip\n",
      "http://storage.googleapis.com/patents/grant_full_text/1978/pftaps19780905_wk36.zip\n",
      "http://storage.googleapis.com/patents/grant_full_text/1978/pftaps19780912_wk37.zip\n",
      "http://storage.googleapis.com/patents/grant_full_text/1978/pftaps19780919_wk38.zip\n",
      "http://storage.googleapis.com/patents/grant_full_text/1978/pftaps19780926_wk39.zip\n",
      "http://storage.googleapis.com/patents/grant_full_text/1978/pftaps19781003_wk40.zip\n",
      "http://storage.googleapis.com/patents/grant_full_text/1978/pftaps19781010_wk41.zip\n",
      "http://storage.googleapis.com/patents/grant_full_text/1978/pftaps19781017_wk42.zip\n",
      "http://storage.googleapis.com/patents/grant_full_text/1978/pftaps19781024_wk43.zip\n",
      "http://storage.googleapis.com/patents/grant_full_text/1978/pftaps19781031_wk44.zip\n",
      "http://storage.googleapis.com/patents/grant_full_text/1978/pftaps19781107_wk45.zip\n",
      "http://storage.googleapis.com/patents/grant_full_text/1978/pftaps19781114_wk46.zip\n",
      "http://storage.googleapis.com/patents/grant_full_text/1978/pftaps19781121_wk47.zip\n",
      "http://storage.googleapis.com/patents/grant_full_text/1978/pftaps19781128_wk48.zip\n",
      "http://storage.googleapis.com/patents/grant_full_text/1978/pftaps19781205_wk49.zip\n",
      "http://storage.googleapis.com/patents/grant_full_text/1978/pftaps19781212_wk50.zip\n",
      "http://storage.googleapis.com/patents/grant_full_text/1978/pftaps19781219_wk51.zip\n",
      "http://storage.googleapis.com/patents/grant_full_text/1978/pftaps19781226_wk52.zip\n",
      "http://storage.googleapis.com/patents/grant_full_text/1977/pftaps19770104_wk01.zip\n",
      "http://storage.googleapis.com/patents/grant_full_text/1977/pftaps19770111_wk02.zip\n",
      "http://storage.googleapis.com/patents/grant_full_text/1977/pftaps19770118_wk03.zip\n",
      "http://storage.googleapis.com/patents/grant_full_text/1977/pftaps19770125_wk04.zip\n",
      "http://storage.googleapis.com/patents/grant_full_text/1977/pftaps19770201_wk05.zip\n",
      "http://storage.googleapis.com/patents/grant_full_text/1977/pftaps19770208_wk06.zip\n",
      "http://storage.googleapis.com/patents/grant_full_text/1977/pftaps19770215_wk07.zip\n",
      "http://storage.googleapis.com/patents/grant_full_text/1977/pftaps19770222_wk08.zip\n",
      "http://storage.googleapis.com/patents/grant_full_text/1977/pftaps19770301_wk09.zip\n",
      "http://storage.googleapis.com/patents/grant_full_text/1977/pftaps19770308_wk10.zip\n",
      "http://storage.googleapis.com/patents/grant_full_text/1977/pftaps19770315_wk11.zip\n",
      "http://storage.googleapis.com/patents/grant_full_text/1977/pftaps19770322_wk12.zip\n",
      "http://storage.googleapis.com/patents/grant_full_text/1977/pftaps19770329_wk13.zip\n",
      "http://storage.googleapis.com/patents/grant_full_text/1977/pftaps19770405_wk14.zip\n",
      "http://storage.googleapis.com/patents/grant_full_text/1977/pftaps19770412_wk15.zip\n",
      "http://storage.googleapis.com/patents/grant_full_text/1977/pftaps19770419_wk16.zip\n",
      "http://storage.googleapis.com/patents/grant_full_text/1977/pftaps19770426_wk17.zip\n",
      "http://storage.googleapis.com/patents/grant_full_text/1977/pftaps19770503_wk18.zip\n",
      "http://storage.googleapis.com/patents/grant_full_text/1977/pftaps19770510_wk19.zip\n",
      "http://storage.googleapis.com/patents/grant_full_text/1977/pftaps19770517_wk20.zip\n",
      "http://storage.googleapis.com/patents/grant_full_text/1977/pftaps19770524_wk21.zip\n",
      "http://storage.googleapis.com/patents/grant_full_text/1977/pftaps19770531_wk22.zip\n",
      "http://storage.googleapis.com/patents/grant_full_text/1977/pftaps19770607_wk23.zip\n",
      "http://storage.googleapis.com/patents/grant_full_text/1977/pftaps19770614_wk24.zip\n",
      "http://storage.googleapis.com/patents/grant_full_text/1977/pftaps19770621_wk25.zip\n",
      "http://storage.googleapis.com/patents/grant_full_text/1977/pftaps19770628_wk26.zip\n",
      "http://storage.googleapis.com/patents/grant_full_text/1977/pftaps19770705_wk27.zip\n",
      "http://storage.googleapis.com/patents/grant_full_text/1977/pftaps19770712_wk28.zip\n",
      "http://storage.googleapis.com/patents/grant_full_text/1977/pftaps19770719_wk29.zip\n",
      "http://storage.googleapis.com/patents/grant_full_text/1977/pftaps19770726_wk30.zip\n",
      "http://storage.googleapis.com/patents/grant_full_text/1977/pftaps19770802_wk31.zip\n",
      "http://storage.googleapis.com/patents/grant_full_text/1977/pftaps19770809_wk32.zip\n",
      "http://storage.googleapis.com/patents/grant_full_text/1977/pftaps19770816_wk33.zip\n",
      "http://storage.googleapis.com/patents/grant_full_text/1977/pftaps19770823_wk34.zip\n",
      "http://storage.googleapis.com/patents/grant_full_text/1977/pftaps19770830_wk35.zip\n",
      "http://storage.googleapis.com/patents/grant_full_text/1977/pftaps19770906_wk36.zip\n",
      "http://storage.googleapis.com/patents/grant_full_text/1977/pftaps19770913_wk37.zip\n",
      "http://storage.googleapis.com/patents/grant_full_text/1977/pftaps19770920_wk38.zip\n",
      "http://storage.googleapis.com/patents/grant_full_text/1977/pftaps19770927_wk39.zip\n",
      "http://storage.googleapis.com/patents/grant_full_text/1977/pftaps19771004_wk40.zip\n",
      "http://storage.googleapis.com/patents/grant_full_text/1977/pftaps19771011_wk41.zip\n",
      "http://storage.googleapis.com/patents/grant_full_text/1977/pftaps19771018_wk42.zip\n",
      "http://storage.googleapis.com/patents/grant_full_text/1977/pftaps19771025_wk43.zip\n",
      "http://storage.googleapis.com/patents/grant_full_text/1977/pftaps19771101_wk44.zip\n",
      "http://storage.googleapis.com/patents/grant_full_text/1977/pftaps19771108_wk45.zip\n",
      "http://storage.googleapis.com/patents/grant_full_text/1977/pftaps19771115_wk46.zip\n",
      "http://storage.googleapis.com/patents/grant_full_text/1977/pftaps19771122_wk47.zip\n",
      "http://storage.googleapis.com/patents/grant_full_text/1977/pftaps19771129_wk48.zip\n",
      "http://storage.googleapis.com/patents/grant_full_text/1977/pftaps19771206_wk49.zip\n",
      "http://storage.googleapis.com/patents/grant_full_text/1977/pftaps19771213_wk50.zip\n",
      "http://storage.googleapis.com/patents/grant_full_text/1977/pftaps19771220_wk51.zip\n",
      "http://storage.googleapis.com/patents/grant_full_text/1977/pftaps19771227_wk52.zip\n",
      "http://storage.googleapis.com/patents/grant_full_text/1976/pftaps19760106_wk01.zip\n",
      "http://storage.googleapis.com/patents/grant_full_text/1976/pftaps19760113_wk02.zip\n",
      "http://storage.googleapis.com/patents/grant_full_text/1976/pftaps19760120_wk03.zip\n",
      "http://storage.googleapis.com/patents/grant_full_text/1976/pftaps19760127_wk04.zip\n",
      "http://storage.googleapis.com/patents/grant_full_text/1976/pftaps19760203_wk05.zip\n",
      "http://storage.googleapis.com/patents/grant_full_text/1976/pftaps19760210_wk06.zip\n",
      "http://storage.googleapis.com/patents/grant_full_text/1976/pftaps19760217_wk07.zip\n",
      "http://storage.googleapis.com/patents/grant_full_text/1976/pftaps19760224_wk08.zip\n",
      "http://storage.googleapis.com/patents/grant_full_text/1976/pftaps19760302_wk09.zip\n",
      "http://storage.googleapis.com/patents/grant_full_text/1976/pftaps19760309_wk10.zip\n",
      "http://storage.googleapis.com/patents/grant_full_text/1976/pftaps19760316_wk11.zip\n",
      "http://storage.googleapis.com/patents/grant_full_text/1976/pftaps19760323_wk12.zip\n",
      "http://storage.googleapis.com/patents/grant_full_text/1976/pftaps19760330_wk13.zip\n",
      "http://storage.googleapis.com/patents/grant_full_text/1976/pftaps19760406_wk14.zip\n",
      "http://storage.googleapis.com/patents/grant_full_text/1976/pftaps19760413_wk15.zip\n",
      "http://storage.googleapis.com/patents/grant_full_text/1976/pftaps19760420_wk16.zip\n",
      "http://storage.googleapis.com/patents/grant_full_text/1976/pftaps19760427_wk17.zip\n",
      "http://storage.googleapis.com/patents/grant_full_text/1976/pftaps19760504_wk18.zip\n",
      "http://storage.googleapis.com/patents/grant_full_text/1976/pftaps19760511_wk19.zip\n",
      "http://storage.googleapis.com/patents/grant_full_text/1976/pftaps19760518_wk20.zip\n",
      "http://storage.googleapis.com/patents/grant_full_text/1976/pftaps19760525_wk21.zip\n",
      "http://storage.googleapis.com/patents/grant_full_text/1976/pftaps19760601_wk22.zip\n",
      "http://storage.googleapis.com/patents/grant_full_text/1976/pftaps19760608_wk23.zip\n",
      "http://storage.googleapis.com/patents/grant_full_text/1976/pftaps19760615_wk24.zip\n",
      "http://storage.googleapis.com/patents/grant_full_text/1976/pftaps19760622_wk25.zip\n",
      "http://storage.googleapis.com/patents/grant_full_text/1976/pftaps19760629_wk26.zip\n",
      "http://storage.googleapis.com/patents/grant_full_text/1976/pftaps19760706_wk27.zip\n",
      "http://storage.googleapis.com/patents/grant_full_text/1976/pftaps19760713_wk28.zip\n",
      "http://storage.googleapis.com/patents/grant_full_text/1976/pftaps19760720_wk29.zip\n",
      "http://storage.googleapis.com/patents/grant_full_text/1976/pftaps19760727_wk30.zip\n",
      "http://storage.googleapis.com/patents/grant_full_text/1976/pftaps19760803_wk31.zip\n",
      "http://storage.googleapis.com/patents/grant_full_text/1976/pftaps19760810_wk32.zip\n",
      "http://storage.googleapis.com/patents/grant_full_text/1976/pftaps19760817_wk33.zip\n",
      "http://storage.googleapis.com/patents/grant_full_text/1976/pftaps19760824_wk34.zip\n",
      "http://storage.googleapis.com/patents/grant_full_text/1976/pftaps19760831_wk35.zip\n",
      "http://storage.googleapis.com/patents/grant_full_text/1976/pftaps19760907_wk36.zip\n",
      "http://storage.googleapis.com/patents/grant_full_text/1976/pftaps19760914_wk37.zip\n",
      "http://storage.googleapis.com/patents/grant_full_text/1976/pftaps19760921_wk38.zip\n",
      "http://storage.googleapis.com/patents/grant_full_text/1976/pftaps19760928_wk39.zip\n",
      "http://storage.googleapis.com/patents/grant_full_text/1976/pftaps19761005_wk40.zip\n",
      "http://storage.googleapis.com/patents/grant_full_text/1976/pftaps19761012_wk41.zip\n",
      "http://storage.googleapis.com/patents/grant_full_text/1976/pftaps19761019_wk42.zip\n",
      "http://storage.googleapis.com/patents/grant_full_text/1976/pftaps19761026_wk43.zip\n",
      "http://storage.googleapis.com/patents/grant_full_text/1976/pftaps19761102_wk44.zip\n",
      "http://storage.googleapis.com/patents/grant_full_text/1976/pftaps19761109_wk45.zip\n",
      "http://storage.googleapis.com/patents/grant_full_text/1976/pftaps19761116_wk46.zip\n",
      "http://storage.googleapis.com/patents/grant_full_text/1976/pftaps19761123_wk47.zip\n",
      "http://storage.googleapis.com/patents/grant_full_text/1976/pftaps19761130_wk48.zip\n",
      "http://storage.googleapis.com/patents/grant_full_text/1976/pftaps19761207_wk49.zip\n",
      "http://storage.googleapis.com/patents/grant_full_text/1976/pftaps19761214_wk50.zip\n",
      "http://storage.googleapis.com/patents/grant_full_text/1976/pftaps19761221_wk51.zip\n",
      "http://storage.googleapis.com/patents/grant_full_text/1976/pftaps19761228_wk52.zip\n"
     ]
    }
   ],
   "source": [
    "import urllib.request # urllib 모듈 호출\n",
    "import re\n",
    "\n",
    "url = \"http://www.google.com/googlebooks/uspto-patents-grants-text.html\" #url 값 입력\n",
    "html = urllib.request.urlopen(url) # url 열기\n",
    "html_contents = str(html.read().decode(\"utf8\"))\n",
    "# html 파일 읽고, 문자열로 변환\n",
    "url_list = re.findall(r\"(http)(.+)(zip)\", html_contents)\n",
    "# print(url_list[3])\n",
    "\n",
    "for url in url_list:\n",
    "    print(\"\".join(url))\n",
    "    # 출력된 Tuple 형태 데이터 str으로 join c NAVER Connect Foundation"
   ]
  },
  {
   "cell_type": "markdown",
   "metadata": {},
   "source": [
    "EX_03 : 주식 정보\n",
    "- 삼성전자 : https://finance.naver.com/item/main.naver?code=005930"
   ]
  },
  {
   "cell_type": "code",
   "execution_count": 41,
   "metadata": {},
   "outputs": [
    {
     "name": "stdout",
     "output_type": "stream",
     "text": [
      "2022년 07월 08일 16시 11분 기준 장마감\n",
      "종목명 삼성전자\n",
      "종목코드 005930 코스피\n",
      "현재가 58,700 전일대비 상승 500 플러스 0.86 퍼센트\n",
      "전일가 58,200\n",
      "시가 58,600\n",
      "고가 59,300\n",
      "상한가 75,600\n",
      "저가 58,200\n",
      "하한가 40,800\n",
      "거래량 15,179,249\n",
      "거래대금 892,735백만\n"
     ]
    }
   ],
   "source": [
    "# 추출 정보\n",
    "'''\n",
    "        <dl class=\"blind\">\n",
    "\t        <dt>종목 시세 정보</dt>\n",
    "\t        <dd>2022년 07월 08일 16시 11분 기준 장마감</dd>\n",
    "\t        <dd>종목명 삼성전자</dd>\n",
    "\t        <dd>종목코드 005930 코스피</dd>\n",
    "\t        <dd>현재가 58,700 전일대비 상승 500 플러스 0.86 퍼센트</dd>\n",
    "\t        <dd>전일가 58,200</dd>\n",
    "\t        <dd>시가 58,600</dd>\n",
    "\t        <dd>고가 59,300</dd>\n",
    "\t        <dd>상한가 75,600</dd>\n",
    "\t        <dd>저가 58,200</dd>\n",
    "\t        <dd>하한가 40,800</dd>\n",
    "\t        <dd>거래량 15,179,249</dd>\n",
    "\t        <dd>거래대금 892,735백만</dd>\n",
    "        </dl>\n",
    "'''\n",
    "# 정보 구성\n",
    "    # 1. <dl class = \"blind\"> ... <\\dl> 에 있는 data 1차 추출\n",
    "    # 2. <dd> ... </dd> data 2차 추출\n",
    "\n",
    "import re\n",
    "import urllib.request\n",
    "\n",
    "url = 'https://finance.naver.com/item/main.naver?code=005930'   # 주소설정\n",
    "html = urllib.request.urlopen(url)\n",
    "html_contents = str(html.read().decode('ms949'))\n",
    "\n",
    "stock_result = re.findall(\"(\\<dl class=\\\"blind\\\"\\>)([\\s\\S]*?)(\\<\\/dl\\>)\", html_contents)\n",
    "    # <dl class=\"blind\" 와 </dl> 사이에\n",
    "    # \\s(공백), \\S(공백X)\n",
    "    # *(0번 이상 반복) ?(또는 아니다)\n",
    "sansung_stock = stock_result[0]    # 검색된 여러개(2)의 tuple() 값 중 원하는 tuple 값인 첫번째 값 추출\n",
    "samsung_index = sansung_stock[1]     # tuple 값의 세개의 리스트값중 필요한 두번째 값만 추출\n",
    "                                        # 하나의 괄호가 tuple index 가 됨\n",
    "index_list = re.findall(\"(\\<dd\\>)([\\s\\S]+?)(\\<\\/dd\\>)\", samsung_index)\n",
    "    # <dd> 와 </dd> 사이에\n",
    "    # \\s(공백), \\S(공백X)\n",
    "    # *(0번 이상 반복) ?(또는 아니다)\n",
    "\n",
    "for index in index_list :\n",
    "    print(index[1])\n",
    "    # 한출씩 반복 출력"
   ]
  }
 ],
 "metadata": {
  "kernelspec": {
   "display_name": "Python 3.8.13 ('m1')",
   "language": "python",
   "name": "python3"
  },
  "language_info": {
   "codemirror_mode": {
    "name": "ipython",
    "version": 3
   },
   "file_extension": ".py",
   "mimetype": "text/x-python",
   "name": "python",
   "nbconvert_exporter": "python",
   "pygments_lexer": "ipython3",
   "version": "3.8.13"
  },
  "orig_nbformat": 4,
  "vscode": {
   "interpreter": {
    "hash": "bdc2b39dba4a1a2bb6d840bc8828727e3a4c4135026ee5b84640756028bbf810"
   }
  }
 },
 "nbformat": 4,
 "nbformat_minor": 2
}
