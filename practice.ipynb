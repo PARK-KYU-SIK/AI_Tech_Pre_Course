{
 "cells": [
  {
   "cell_type": "code",
   "execution_count": 30,
   "metadata": {},
   "outputs": [
    {
     "name": "stdout",
     "output_type": "stream",
     "text": [
      "['-642', '45', '333']\n"
     ]
    }
   ],
   "source": [
    "x = [\"I -45\", \"I 653\", \"D 1\", \"I -642\", \"I 45\", \"I 97\", \"D 1\", \"D -1\", \"I 333\"]\n",
    "\n",
    "import numpy as np\n",
    "import pandas as pd\n",
    "\n",
    "def solution(operations) :\n",
    "    answer = []\n",
    "    df_o = pd.DataFrame(operations)\n",
    "    df_o = df_o[0].str.split(' ', expand=True)\n",
    "    for i in range(0, len(df_o)) :\n",
    "        j = df_o[0][i]\n",
    "        k = int(df_o[1][i])\n",
    "        if j == 'I' :\n",
    "            answer.append(k)\n",
    "            a = max(answer)\n",
    "            b = min(answer)\n",
    "        else :\n",
    "            if k == 1 :\n",
    "                if len(answer) == 0 :\n",
    "                    pass\n",
    "                else :\n",
    "                    answer.remove(a)\n",
    "            else :\n",
    "                if len(answer) == 0 :\n",
    "                    pass\n",
    "                else :\n",
    "                    answer.remove(b)\n",
    "    return len(answer) == 0:\n",
    "\n",
    "print(solution(x))"
   ]
  },
  {
   "cell_type": "code",
   "execution_count": 32,
   "metadata": {},
   "outputs": [
    {
     "name": "stdout",
     "output_type": "stream",
     "text": [
      "-45\n",
      "-45\n",
      "-642\n"
     ]
    }
   ],
   "source": [
    "x = ['-45', '-642', '45']\n",
    "y = ['-642', '-45', '45']\n",
    "l = [-45, -642, 45]\n",
    "\n",
    "print(min(x))\n",
    "print(min(y))\n",
    "print(min(l))"
   ]
  },
  {
   "cell_type": "code",
   "execution_count": null,
   "metadata": {},
   "outputs": [],
   "source": []
  }
 ],
 "metadata": {
  "kernelspec": {
   "display_name": "Python 3.8.13 ('m1')",
   "language": "python",
   "name": "python3"
  },
  "language_info": {
   "name": "python",
   "version": "3.8.13"
  },
  "orig_nbformat": 4,
  "vscode": {
   "interpreter": {
    "hash": "bdc2b39dba4a1a2bb6d840bc8828727e3a4c4135026ee5b84640756028bbf810"
   }
  }
 },
 "nbformat": 4,
 "nbformat_minor": 2
}
