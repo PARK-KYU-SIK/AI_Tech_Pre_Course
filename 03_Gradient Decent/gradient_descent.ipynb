{
 "cells": [
  {
   "cell_type": "markdown",
   "metadata": {},
   "source": [
    "# 01 : Index"
   ]
  },
  {
   "cell_type": "markdown",
   "metadata": {},
   "source": [
    "# 02 : 미분 (Differential)\n",
    "- 정의\n",
    "    - 극한에서 함수의 변화량을 측정하기 위한 도구\n",
    "        - 함수의 기울기를 측정할 수 있다\n",
    "        - 연속함수이어야 한다\n",
    "    - $\\displaystyle f^{'}(x) =\\lim_{h \\to 0}\\frac{f(x + h) - f(x)}{h}$\n",
    "<br/>\n",
    "\n",
    "- 목적\n",
    "    - 함수의 진행방향을 알 수 있다 ( 증가 / 감소 )\n",
    "<br/>\n",
    "\n",
    "- 코드\n",
    "    > import sympy as sym  \n",
    "    > from sympy.abc import 변수  \n",
    "    >  <br/>\n",
    "    > sym.diff( sym.poly( 다항식, 변수 ))  \n",
    "    >> $Poly\\;( 미분결과값, 변수, 적용범위(domain) )$\n",
    "\n",
    "\n"
   ]
  },
  {
   "cell_type": "markdown",
   "metadata": {},
   "source": [
    "## 01 EX : 미분 코딩\n",
    "- $f(x) = x^{2} + 2x + 3$ 일때,\n",
    "- $f^{'}(x) = ?$"
   ]
  },
  {
   "cell_type": "code",
   "execution_count": 5,
   "metadata": {},
   "outputs": [
    {
     "data": {
      "text/latex": [
       "$\\displaystyle \\operatorname{Poly}{\\left( 2 x + 2, x, domain=\\mathbb{Z} \\right)}$"
      ],
      "text/plain": [
       "Poly(2*x + 2, x, domain='ZZ')"
      ]
     },
     "execution_count": 5,
     "metadata": {},
     "output_type": "execute_result"
    }
   ],
   "source": [
    "import sympy as sym         # 미분      module import 및 이름 재지정\n",
    "from sympy.abc import x     # 함수 변수 지정\n",
    "\n",
    "sym.diff(sym.poly(x**2 + 2*x + 3), x)\n",
    "# sym.diff ( 미분대상 )\n",
    "    # sym.poly( 식, 변수 )  "
   ]
  },
  {
   "cell_type": "markdown",
   "metadata": {},
   "source": [
    "## 02 미분의 활용\n",
    "- 함수값의 방향성을 조정할 수 있다\n",
    "\n",
    "    - 경사 상승법 : 미분값을 $+$ 해가며 함수의 극대값을 찾아가는 것\n",
    "    - 경사 하강법 : 미분값을 $-$ 해가며 함수의 극소값을 찾아가는 것\n",
    "\n",
    "    - 찾는 방법\n",
    "    \n",
    "        1. $f^{'}(x) > 0 \\; : \\; 미분값 \\; 양수 $\n",
    "            - $f(x + f^{'}(x))$ : 증가\n",
    "            - $f(x - f^{'}(x))$ : 감소\n",
    "        <br/>\n",
    "        <br/>\n",
    "\n",
    "        2. $f^{'}(x) < 0 \\; : \\; 미분값 \\; 음수 $\n",
    "            - $f(x + f^{'}(x))$ : 감소\n",
    "            - $f(x - f^{'}(x))$ : 증가"
   ]
  },
  {
   "cell_type": "markdown",
   "metadata": {},
   "source": [
    "## 03 경사하강법 알고리즘\n",
    "- 동작 방식\n",
    "\n",
    "    - Input\n",
    "        - gradient : 미분을 계산하는 함수\n",
    "        - init : 시작점\n",
    "        - lr : 학습률\n",
    "        - eps : 알고리즘 종료조건 미분절대값\n",
    "        - Output: var\n",
    "<br/>\n",
    "    - 종료 조건\n",
    "        - 기울기의 절대값의 범위를 설정하여 종료조건을 설정한다\n",
    "        - $\\because$ 프로그램상 기울기가 0인 지점을 찾는것은 불가능하기 때문\n",
    "            > while( abe(grad) > eps ) :\n",
    "<br/>\n",
    "    - 학습율 : lr\n",
    "        - $x - f^{'}(x)$ 값을 취하는 것이기 때문에 미분값이 너무 작을 경우 학습에 지친 시간이 소요될 수 있다\n",
    "        - 이경우, f^{'}(x) 기울기 변수에 lr 학습률 weight 를 추가하여 합습하는 속도를 증가할 수 있다\n",
    "        - 단, 학습률에 지나치게 큰 수를 대입한다면 극점에 도달하지 못하고 극점주위에서 진동하게 되어 영원히 종료되지 못하는 종료조건이 형성될 수 있으므로 주의가 필요하다\n",
    "            > var = var - lr * grad"
   ]
  },
  {
   "cell_type": "markdown",
   "metadata": {},
   "source": [
    "### EX_01 : 변수 1개\n",
    "- $f(x) = x^{2} + 2x + 3$ 경사하강법 적용"
   ]
  },
  {
   "cell_type": "code",
   "execution_count": 35,
   "metadata": {},
   "outputs": [
    {
     "name": "stdout",
     "output_type": "stream",
     "text": [
      " 함수 : Poly(x**2 + 2*x + 3, x, domain='ZZ'), 연산횟수 : 417, 최소점 : (-1.00000492200242, 2.00000000002423)\n"
     ]
    }
   ],
   "source": [
    "import sympy as sym\n",
    "from sympy.abc import x\n",
    "from numpy import random\n",
    "import numpy as np\n",
    "\n",
    "# 용어 협의\n",
    "    # 변수 : x , val\n",
    "    # 함수식 : F_x\n",
    "    # 변수 x 대입값 : f(x)\n",
    "    # 도함수식 : F'_x\n",
    "    # 도함수값 : f'(x)\n",
    "    # 학습률 : lr (learning_rate)\n",
    "\n",
    "def func(val) :                     # 변수 x 대입\n",
    "    fun = sym.poly(x**2 + 2*x + 3)  # 극점을 찾기위한 함수 정의 -> 출력형식 : (F_x, x, domain = )\n",
    "    return fun.subs(x, val), fun    # 함수값 f(val), 함수식set (F_x,~)\n",
    "                                        # val를 문자 x로 지정한다면 fun.subs(x,val) = fun 과 동일하다\n",
    "            # fun.subs(x, val) 의미\n",
    "                # = fun.subs( { x : val } ) != fun(val)\n",
    "                # fun 안의 키값 x 에 val 적용\n",
    "            # return a,b 의미\n",
    "                # (a,b)\n",
    "\n",
    "def func_gradient(fun, val) :       # 수식(F_x), 변수값(val) 대입\n",
    "    _, function = fun(val)          # fun(val) 에서 변수와 수식 분리 _ = f(val) , function = 함수식set(F_x,~)\n",
    "    diff = sym.diff(function, x)    # 미분함수 정의 -> 출력형식 : (F'_x, x, domain = )\n",
    "    return diff.subs(x, val), diff  # 도함수값 f'(val), 도함수식set (F'_x,~)\n",
    "\n",
    "def gradient_descent(fun, init_point, lr = 1e-2, epsilon = 1e-5) :     # 함수식, 시작점, 학습률, 학습종료 기울기값 지정\n",
    "    count = 0                                                               # 학습횟수\n",
    "    val = init_point                                                        # 시작지점\n",
    "    diff, _ = func_gradient(fun, init_point)                                # func_gradinet 값 분리 : diff=도합수값 f'(val) , _ = 도함수식set (F'_x,~)\n",
    "    while np.abs(diff) > epsilon :          # 알고리즘 반복 종료조건 (도함수값이 설정 값보다 작아질때 까지)\n",
    "        val = val - lr * diff               # 미분 정의 + 학습률 내용 참고\n",
    "        diff, _ = func_gradient(fun, val)   # func_gradinet 값 분리 : diff=도합수값 f'(val) , _ = 도함수식set (F'_x,~)\n",
    "        count += 1\n",
    "\n",
    "    print(' 함수 : {}, 연산횟수 : {}, 최소점 : ({}, {})'.format(fun(val)[1], count, val, fun(val)[0]))\n",
    "        # fun(val) = f(val) => 출력 ( 함수값, Poly( 함수식 , 변수값, domian = ))\n",
    "\n",
    "gradient_descent(fun = func, init_point = np.random.uniform(-2,2))"
   ]
  },
  {
   "cell_type": "markdown",
   "metadata": {},
   "source": [
    "### EX_02 : 변수 x개 (편미분)\n",
    "\n",
    "- 적용 개념\n",
    "    - 특정점에서의 모든 축에 대한 편미분값(기울기)이 0인 지점은 해당 함수의 극대/극소값을 갖게됨\n",
    "        - 각 변수 별로 편미분을 계산한 그레디언트(gradient) 벡터를 이용하여 경사하강/경사상승법에 사용할 수 있다\n",
    "            > $\\displaystyle \\nabla{f} \\; = \\; ( \\partial _{x_1}f,\\; \\partial_{x_2}f,\\; \\partial_{x_3}f,\\; \\cdots \\; ,\\partial_{x_d}f)$\n",
    "        - 앞서 사용한 미분값인 $f^{'}(x)$ 대신 $\\nabla{f}$ 를 사용하여 $\\vec{x} = (x_1,\\;x_2,\\;x_3,\\; \\cdots,\\;,\\; x_d)$ 에 대해 동시에 업데이트 가능\n",
    "        - 편미분\n",
    "            - $\\displaystyle\\partial_{x_{i}}f(x) \\; = \\; \\lim_{h \\to 0}\\frac{f(x + h\\vec{e}_{i}) \\; - \\; f(x)}{h} $\n",
    "                - $\\vec{e}_{i}$ : $i$ 번째 값만 1 이고 나머지는 0 인 단위 벡터\n",
    "                - 예시\n",
    "                    - $\\displaystyle f(x,y) = x^{2} \\; + \\; 2xy \\; + \\; + 3 \\; + \\; \\cos{(x+2y)}$\n",
    "                    - $\\displaystyle \\partial_{x}f(x,y) \\; = \\; 2x \\; + \\; 2y \\; - \\; \\cos{(x+2y)}$\n",
    "\n",
    "- 코드\n",
    "    > import sympy as sym  \n",
    "    > from sympy.abc import x,y  \n",
    "    >  <br/>\n",
    "    > sym.diff((sym.ploy(x**2 + 2*x*y + 3) + sym.cos(x + 2*y)) , x )\n",
    "    >> 2*x + 2*y - sin(x+2y)\n",
    "    - 종료 조건\n",
    "        > while(norm(grad) > eps) :\n",
    "        - 경사하강법 알고리즘은 그대로 적용되나 벡터는 절대값 대신 노름(norm) 을 계산해서 종료조건을 설정한다\n",
    "\n",
    "- 편미분 예제\n",
    "    - <사진추가>"
   ]
  },
  {
   "cell_type": "code",
   "execution_count": null,
   "metadata": {},
   "outputs": [],
   "source": []
  },
  {
   "cell_type": "code",
   "execution_count": null,
   "metadata": {},
   "outputs": [],
   "source": []
  }
 ],
 "metadata": {
  "kernelspec": {
   "display_name": "Python 3.8.13 ('m1')",
   "language": "python",
   "name": "python3"
  },
  "language_info": {
   "codemirror_mode": {
    "name": "ipython",
    "version": 3
   },
   "file_extension": ".py",
   "mimetype": "text/x-python",
   "name": "python",
   "nbconvert_exporter": "python",
   "pygments_lexer": "ipython3",
   "version": "3.8.13"
  },
  "orig_nbformat": 4,
  "vscode": {
   "interpreter": {
    "hash": "bdc2b39dba4a1a2bb6d840bc8828727e3a4c4135026ee5b84640756028bbf810"
   }
  }
 },
 "nbformat": 4,
 "nbformat_minor": 2
}
