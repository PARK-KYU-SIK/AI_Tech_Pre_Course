{
 "cells": [
  {
   "cell_type": "markdown",
   "metadata": {},
   "source": [
    "# Park C. 프로그래밍 역량 (단답형. 10점)\n",
    "\n",
    "- 문제  \n",
    "    문자열 s 가 주어졌을때, s 가 팰린드롬(palindrome) 인지 검사하고 맞으면 1, 틀리면 -1 를 반환하는 함수를 구하여라\n",
    "\n",
    "- 제한사항  \n",
    "    문자열 s 의 길이는 1 이상 10,000 이하의 문자열\n",
    "\n",
    "- 입출력 예시   \n",
    "    | s | result |  \n",
    "    |-|-|   \n",
    "    | 'abcd' | -1 |\n",
    "    | 'abba' | 1 |\n",
    "    | 'a' | 1 |  \n",
    "<br/>\n",
    "\n",
    "- 입출력 설명 #1    \n",
    "    'abcd' 의 경우 순서를 반대로 뒤집으면 'dcba' 가 되므로 팰린드롬이 아닙니다\n",
    "\n",
    "- 입출력 설명 #2    \n",
    "    'abba' 의 경우 순서를 반대로 뒤집으로 'abba' 가 되므로 팰린드롬 입니다\n",
    "    \n",
    "- 입출력 설명 #3    \n",
    "    'a' 의 경우 순서를 반대로 뒤집으로 'a' 가 되므로 팰린드롬 입니다"
   ]
  },
  {
   "cell_type": "code",
   "execution_count": 1,
   "metadata": {},
   "outputs": [],
   "source": [
    "s1 = 'abcd'\n",
    "s2 = 'abba'\n",
    "s3 = 'a'"
   ]
  },
  {
   "cell_type": "code",
   "execution_count": 2,
   "metadata": {},
   "outputs": [],
   "source": [
    "import numpy as np\n",
    "\n",
    "def palindrome(s) :\n",
    "    answer = 0\n",
    "    for i in range(int(np.ceil(len(s)/2))) :\n",
    "        if s[i] != s[(i + 1) * (-1)] :\n",
    "            answer = -1\n",
    "            break\n",
    "        else :\n",
    "            answer = 1\n",
    "    return answer"
   ]
  },
  {
   "cell_type": "code",
   "execution_count": 3,
   "metadata": {},
   "outputs": [
    {
     "name": "stdout",
     "output_type": "stream",
     "text": [
      "-1\n",
      "1\n",
      "1\n"
     ]
    }
   ],
   "source": [
    "print(palindrome(s1))\n",
    "print(palindrome(s2))\n",
    "print(palindrome(s3))"
   ]
  },
  {
   "cell_type": "code",
   "execution_count": null,
   "metadata": {},
   "outputs": [],
   "source": []
  }
 ],
 "metadata": {
  "kernelspec": {
   "display_name": "Python 3.8.13 ('m1')",
   "language": "python",
   "name": "python3"
  },
  "language_info": {
   "codemirror_mode": {
    "name": "ipython",
    "version": 3
   },
   "file_extension": ".py",
   "mimetype": "text/x-python",
   "name": "python",
   "nbconvert_exporter": "python",
   "pygments_lexer": "ipython3",
   "version": "3.8.13"
  },
  "orig_nbformat": 4,
  "vscode": {
   "interpreter": {
    "hash": "bdc2b39dba4a1a2bb6d840bc8828727e3a4c4135026ee5b84640756028bbf810"
   }
  }
 },
 "nbformat": 4,
 "nbformat_minor": 2
}
