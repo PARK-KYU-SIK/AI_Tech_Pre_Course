{
 "cells": [
  {
   "cell_type": "markdown",
   "metadata": {},
   "source": [
    "# Index"
   ]
  },
  {
   "cell_type": "markdown",
   "metadata": {},
   "source": [
    "# 01 : Pandas ?\n",
    "\n",
    "- 구조화된 데이터의 처리를 지원하는 Python 라이브러리  \n",
    "    *Python 계의 Excel*\n",
    "\n",
    "- Panel data -> Pandas\n",
    "\n",
    "- 고성능 array 계산 라이브러리인 numpy 와 통합하여 강력한 '스프레드시트' 처리 기능을 제공\n",
    "\n",
    "- 인덱싱, 연산용 함수, 전처리 함수등을 제공\n",
    "\n",
    "- 데이터 처리 및 통계 분석을 위해 사용\n"
   ]
  },
  {
   "cell_type": "code",
   "execution_count": null,
   "metadata": {},
   "outputs": [],
   "source": []
  },
  {
   "cell_type": "code",
   "execution_count": null,
   "metadata": {},
   "outputs": [],
   "source": []
  },
  {
   "cell_type": "code",
   "execution_count": null,
   "metadata": {},
   "outputs": [],
   "source": []
  },
  {
   "cell_type": "code",
   "execution_count": null,
   "metadata": {},
   "outputs": [],
   "source": []
  },
  {
   "cell_type": "code",
   "execution_count": null,
   "metadata": {},
   "outputs": [],
   "source": []
  },
  {
   "cell_type": "code",
   "execution_count": null,
   "metadata": {},
   "outputs": [],
   "source": []
  }
 ],
 "metadata": {
  "language_info": {
   "name": "python"
  },
  "orig_nbformat": 4
 },
 "nbformat": 4,
 "nbformat_minor": 2
}
