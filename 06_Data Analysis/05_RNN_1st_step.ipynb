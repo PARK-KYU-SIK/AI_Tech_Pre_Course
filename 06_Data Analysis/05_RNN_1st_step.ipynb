{
 "cells": [
  {
   "cell_type": "markdown",
   "metadata": {},
   "source": [
    "# Index"
   ]
  },
  {
   "cell_type": "markdown",
   "metadata": {},
   "source": [
    "# 01 : RNN ?"
   ]
  },
  {
   "cell_type": "markdown",
   "metadata": {},
   "source": [
    "## -01 : 시퀀스 데이터\n",
    "\n",
    "- 시퀀스(sequence) 데이터 : 순차적으로 들어오는 데이터\n",
    "    - ex. 소리, 문자열, 주가 등의 데이터를  \n",
    "<br/>\n",
    "\n",
    "- 시퀀스 데이터는 독립동등분포(i.i.d) 가정을 잘 위배하기 때문에 순서를 바꾸거나 과거 정보에 손실이 발생하면 데이터의 확률분포도 바뀌게 된다\n",
    "\n",
    "    <img src='../image/rnnn_01.jpeg' width=600>"
   ]
  },
  {
   "cell_type": "markdown",
   "metadata": {},
   "source": [
    "## -02 : 시퀀스 데이터를 다루는 법\n",
    "\n",
    "- 이전 시퀀스의 정보를 가지고 앞으로 발생할 데이터으 활률분포를 다루기위해 조건부확률을 이용할 수 있다\n",
    "\n",
    "    <img src='../image/rnnn_02.jpeg' width=600>  \n",
    "\n",
    "    - 위 조건부 확률은 과거의 모든 정보를 사용하지만 시퀀스 데이터를 분석할 때 모든 과거의 정보들이 필요한 것은 아니다\n",
    "\n",
    "        <img src='../image/rnnn_03.jpeg' width=400>  \n",
    "<br/>\n",
    "\n",
    "- 시퀀스 데이터를 다루기 위해선 길이가 가변적인 데이터를 다룰 수 있는 모델이 필요\n",
    "\n",
    "    <img src='../image/rnnn_04.jpeg' width=400>  \n",
    "    <br/>\n",
    "    <img src='../image/rnnn_05.jpeg' width=400>\n",
    "    <br/>\n",
    "    <img src='../image/rnnn_06.jpeg' width=400>\n",
    "    <br/>\n",
    "    <img src='../image/rnnn_07.jpeg' width=400>"
   ]
  },
  {
   "cell_type": "markdown",
   "metadata": {},
   "source": [
    "# 02 : RNN 이해\n",
    "\n",
    "- 가장 기본적인 RNN 모형은 MLP 와 유사한 형태\n",
    "\n",
    "    - MLP\n",
    "\n",
    "        <img src='../image/rnnn_08.jpeg' width=500>  \n",
    "\n",
    "        $ W^{(1)}, \\; W^{(2)} $ 은 시퀀스와 상관없이 불변인 행렬\n",
    "\n",
    "    - RNN (순전파)  \n",
    "        이전 순서의 잠재변수와 현재의 입력을 활용하여 모델링 진행  \n",
    "\n",
    "        <img src='../image/rnnn_09.jpeg' width=500>  \n",
    "\n",
    "    - RNN (역전파)  \n",
    "        잠재변수의 연결그래프에 따라 순차적으로 계산  \n",
    "\n",
    "        <img src='../image/rnnn_10.jpeg' width=500>  "
   ]
  },
  {
   "cell_type": "markdown",
   "metadata": {},
   "source": [
    "## -01 : BPTT (Backpropagation Through Time)\n",
    "\n",
    "- BPTT 를 통해 RNN 의 가중치행렬의 미분을 계산해보면 아래와 같이 미분의 곱으로 이루어진 항이 계산됨  \n",
    "\n",
    "    <img src='../image/rnnn_11.jpeg' width=600>\n",
    "    <br/>\n",
    "    <img src='../image/rnnn_12.jpeg' width=600>  \n",
    "\n",
    "    - 기울기 소실의 문제점\n",
    "        - 역전파 시 과거 정보에 대한 유실이 발생할 수 있다 \n"
   ]
  },
  {
   "cell_type": "markdown",
   "metadata": {},
   "source": [
    "## -02 : 기울기 소실 해결책\n",
    "\n",
    "- 시퀀스 길이가 길어지는 경우 BPTT 를 통한 역전파 알고리즘의 계산이 불안전 해지므로 길이를 끊는 것이필요  \n",
    "    이것을 turncated BPTT 라고 부름  \n",
    "\n",
    "    <img src='../image/rnnn_13.jpeg' width=350>  \n",
    "\n",
    "- 이런 문제들 때문에 Vanilla RNN 은 길이가 긴 시퀀스를 처리하는데 문제가 있음\n",
    "\n",
    "    <img src='../image/rnnn_14.jpeg' width=600>  "
   ]
  },
  {
   "cell_type": "code",
   "execution_count": null,
   "metadata": {},
   "outputs": [],
   "source": []
  },
  {
   "cell_type": "code",
   "execution_count": null,
   "metadata": {},
   "outputs": [],
   "source": []
  },
  {
   "cell_type": "code",
   "execution_count": null,
   "metadata": {},
   "outputs": [],
   "source": []
  }
 ],
 "metadata": {
  "kernelspec": {
   "display_name": "Python 3.8.13 ('m1')",
   "language": "python",
   "name": "python3"
  },
  "language_info": {
   "name": "python",
   "version": "3.8.13"
  },
  "orig_nbformat": 4,
  "vscode": {
   "interpreter": {
    "hash": "bdc2b39dba4a1a2bb6d840bc8828727e3a4c4135026ee5b84640756028bbf810"
   }
  }
 },
 "nbformat": 4,
 "nbformat_minor": 2
}
