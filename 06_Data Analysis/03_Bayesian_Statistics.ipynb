{
 "cells": [
  {
   "cell_type": "markdown",
   "metadata": {},
   "source": [
    "# Index\n",
    "\n",
    "- Mathematics for artificial Intelligence"
   ]
  },
  {
   "cell_type": "markdown",
   "metadata": {},
   "source": [
    "# 01 : Bayesian Statics ?"
   ]
  },
  {
   "cell_type": "markdown",
   "metadata": {},
   "source": [
    "## -01 ; 조건부 확률\n",
    "\n",
    "- 베이즈 통계학을 이해하기 위해선 조건부확률의 개념을 이해해햐함\n",
    "\n",
    "    > $P(A \\cap{} B ) \\; = \\; P(B)(A|B)$  \n",
    "    >>    조건부확율 $P(A|B)$ 는 사건 $B$ 가 일어난 상황에서  \n",
    "        사건 $A$ 가 발생할 확률을 의미한다\n",
    "\n",
    "- 베이즈 정리는 조건부확률을 이용하여 *정보를 갱신하는 방법* 을 알려준다\n",
    "\n",
    "    > $\\displaystyle{\\underline{P(B|A)} \\; = \\; \\frac{P(B \\cap{} A)}{P(A)} \\; = \\; \\frac{P(A \\cap{} B)}{P(A)} \\; = \\; \\underline{P(B)}\\frac{P(A | B)}{P(A)}}$\n",
    "    >> $A$ 라는 새로운 정보가 주어졌을때  \n",
    "         $P(B)$ 로 부터 $P(B|A)$ 를 계산하는 방법을 제공한다"
   ]
  },
  {
   "cell_type": "markdown",
   "metadata": {},
   "source": [
    "### _01 : EX\n",
    "\n",
    "> $\\displaystyle{\\underbrace{P(\\theta{}|\\mathcal{D})}_{\\overset{사후확률}{(posterior)}} \\; = \\; \\underbrace{P(\\theta{})}_{\\overset{사전확률}{(prior)}}\\frac{\\overbrace{P(\\mathcal{D}|\\theta{})}^{\\overset{가능도}{(likelihood)}}}{\\underbrace{P(\\mathcal{D})}_{Evidence}}}$\n",
    "\n",
    "- COVID-99 의 * 발병률이 10%* 로 알려져 있다  \n",
    "    COVID-99 에 *실제로 걸렸을 때, 검진될 확률은 99%*,  \n",
    "    실제로 걸리지 않았을 때 *오검진될 확율이 1%* 라고 할때,  \n",
    "    만일, 어떤 사람이 *질병에 걸렸다고 검진결과나 나왔을때 정말로 COVID-99 에 감열되었을 확률* 은?\n",
    "\n",
    "    - Confusion Matrix 로 표현한다면\n",
    "        - 확진자 중에 양성 판정률 (재현율) : $\\displaystyle{Recall \\; = \\; 99 \\; \\% \\; = \\frac{TP}{FN + FP}}$  \n",
    "        - 비확진자 중 양성 판정률 (오탐률) : $\\displaystyle{False \\_ alarm \\; = \\;\\; 1 \\; \\% \\; = \\frac{FP}{TN + FP}}$\n",
    "        - 양성판정이 나왔을때 실제 양성일 확률(정밀도) : $\\displaystyle{Precision \\; = \\;\\; ? \\; \\% \\; = \\frac{TP}{FP + TP}}$\n",
    "\n",
    "    - 풀이\n",
    "        - 용어 정의\n",
    "            - $\\mathcal{D}$ : 검진 (오진x)\n",
    "            - $\\theta{}$ : 감염\n",
    "            - $P(n)$ : n 이 일어날 확률\n",
    "\n",
    "        - 사전확률 : $P(\\theta{})$ = 10 % = 0.1\n",
    "        - 가능도\n",
    "            - [양성자(T) <- 양성(P)] 판정률(TP) : $P(\\mathcal{D}|\\theta{})$ = 99 % = 0.99\n",
    "            - [음성자(F) <- 양성(P)] 판정률(FP) : $P(\\mathcal{D}|ㄱ\\theta{})$ = 1 % = 0.01\n",
    "            - 가능도 : $\\displaystyle{P(\\mathcal{D}) \\; = \\; \\sum_{\\theta{}}P(\\mathcal{D}|\\theta{})P(\\theta{})} \\; = \\; \\frac{TP \\; + \\; FP }{TN \\; + \\; TP \\; + \\; FN \\; + \\; FP}$  \n",
    "                $\\displaystyle{\\qquad\\qquad\\qquad\\qquad\\qquad\\qquad\\qquad\\;\\;\\; = \\; (\\frac{TP}{TP \\; + \\; FN} \\; \\times \\; \\frac{TP \\; + \\; FN}{TN \\; + \\; TP \\; + \\; FN \\; + \\; FP}) \\; + \\; (\\frac{FP}{TN \\; + \\; FP} \\; \\times \\; \\frac{TN \\; + \\; FP}{TN \\; + \\; TP \\; + \\; FN \\; + \\; FP})}$  \n",
    "                $\\displaystyle{\\qquad\\qquad\\qquad\\qquad\\qquad\\qquad\\qquad\\;\\;\\; = \\; (P(\\theta{}) \\; \\times \\; Recall) \\; + \\; (P(ㄱ\\theta{}) \\; \\times \\; False \\_ alarm)}$  \n",
    "                $\\qquad\\qquad\\qquad\\qquad\\qquad\\qquad\\qquad\\;\\;\\; = \\; 0.1 \\; \\times \\; 0.99 \\; + \\; 0.9 \\; \\times \\; 0.01$  \n",
    "                $\\qquad\\qquad\\qquad\\qquad\\qquad\\qquad\\qquad\\;\\;\\; = \\; 0.108$  \n",
    "        - $\\displaystyle{\\therefore{} P(\\theta{}|\\mathcal{D}) \\; = \\; P(\\theta{})\\frac{P(\\mathcal{D}|\\theta{})}{P(\\mathcal{D})} \\; = \\; 0.1 \\; \\times \\; \\frac{0.99}{0.108} \\; \\approx{} \\; 0.9167 \\; (Precision)}$   \n",
    "            - $if, P(\\mathcal{D}|ㄱ\\theta{}) \\; : \\; 0.01 \\rightarrow 0.1$  \n",
    "                $\\displaystyle{P(\\theta{}|mathcal{D}) \\; = \\; 0.1 \\; \\times \\; \\frac{0.99}{0.1} \\; \\approx 0.524}$\n"
   ]
  },
  {
   "cell_type": "markdown",
   "metadata": {},
   "source": [
    "## -02 : Confusion Matrix\n",
    "\n",
    "<img src='../image/bay_01.jpeg' width=600>"
   ]
  },
  {
   "cell_type": "markdown",
   "metadata": {},
   "source": [
    "## -03 : 베이즈 정리를 통한 정보갱신\n",
    "\n",
    "- 베이즈 정리를 통해 새로운 데이터가 들어왔을 때  \n",
    "    앞서 계산한 사후 확률을 사전확률로 사용하여   \n",
    "    *갱신된 사후확률* 을 계산할 수 있다\n",
    "\n",
    "    > $\\displaystyle{\\qquad\\quad\\qquad\\,\\underbrace{P(\\theta{}|\\mathcal{D})}_{\\overset{최초 \\; 사후확률}{(posterior)}} \\; = \\; P(\\theta{})\\frac{P(\\mathcal{D}|\\theta{})}{P(\\mathcal{D})}}$  \n",
    "    > $\\qquad\\qquad\\qquad\\;\\;\\downarrow$  \n",
    "    > $\\displaystyle{\\underbrace{P(\\theta{}|\\mathcal{D})}_{\\overset{갱신된 \\; 사후확률}{(posterior)}} \\; = \\; P(\\theta{})\\frac{P(\\mathcal{D}|\\theta{})}{P(\\mathcal{D})}}$\n",
    "\n",
    "- 베이즈 정리를 통해 새로운 데이터가 들어왔을 때 앞서 계산한 사후 확률을 사전 확률로 사용하여 갱신된 사후확률을 계산 할 수 있다\n",
    "\n",
    "    <img src='../image/bay_02.jpeg' width=400>\n",
    "\n",
    "- 앞서 COVID-99 판정을 받은 사람이 두번째 검진을 받았을 때도 양성이 나왔을 때 진짜 COVID-99 에 걸렸을 확률은 ?\n",
    "    - 세번째 검사해도 양성이 나오면 정밀도가 99.1까지 갱신된다\n"
   ]
  },
  {
   "cell_type": "markdown",
   "metadata": {},
   "source": [
    "## -04 : 조건부 확률 -> 인과 관계 ?\n",
    "\n",
    "- 조건부 확률은 유용한 통계적 해석을 제공하지만 *인과관계 (cauality* 를 추론할 때 함부로 사용해서는 안된다\n",
    "    - 데이터가 많아져도 조건부 확률만 가지고 인과관계를 추론하는 것은 불가능 하다  \n",
    "        - ex. 데이터 분포가 바뀔때, 데이터 유입 상황이 바뀌거나 새로운 정책을 도입하거나 등등등  \n",
    "            시나리오에 따라 결과값의 변화폭이 크다  \n",
    "<br/>\n",
    "\n",
    "- 인과관계는 *데이터 분포의 변화에 강건한 예측모형* 을 만들 때 필요\n",
    "    - 단, 인과관계만으로는 높은 예측 정확도를 담보하기 어려움  \n",
    "\n",
    "    <img src='../image/bay_03.jpeg' width=600>  \n",
    "<br/>\n",
    "\n",
    "- 인과관계를 알아내기 위해서는 *중첩요인( confounfing factor) 의 효과를 제거* 하고 원인에 해당하는 변수만의 인과관계를 계산해야 한다\n",
    "    - ex. 키가 크면 기능지수가 높다 ( 나이가 고려되지 못함 )\n",
    "        - 나이 = 중첩요인  \n",
    "\n",
    "    <img src='../image/bay_04.jpeg' width=350>\n"
   ]
  },
  {
   "cell_type": "markdown",
   "metadata": {},
   "source": [
    "### _01 : 인과관계 추론 EX\n",
    "\n",
    "<img src='../image/bay_05.jpeg' width=600>\n",
    "\n",
    "- 견해1. 전체적(Overall)으로 보면 a(78%) b(83%) 으로 b 치료법이 더 좋아보인다\n",
    "\n",
    "- 견해2. 결석이 작을때,클때 모두 오히려 a의 치료법이 더 좋아보인다\n",
    "\n",
    "- 원인. 측정된 데이터에는 신장결석을 갖고있고없고 숫자가 균등하지 않는 모수의 조직에 대한 치료확률이기 떄문에 이러한 페러다임이 발생한다\n",
    "\n",
    "- 결론. 중첩효과를 제거해야한다 (신장결석에 의한 효과 제거 필요)\n",
    "\n",
    "- 계산. 중첩효과 제거\n",
    "\n",
    "    <img src='../image/bay_06.jpeg' width=600> <img src='../image/bay_07.jpeg' width=600>  \n",
    "\n",
    "    - 중첩효과를 제거 하고 보니 a(83%) b(77%) 라는 결과를 얻었다"
   ]
  },
  {
   "cell_type": "code",
   "execution_count": null,
   "metadata": {},
   "outputs": [],
   "source": []
  }
 ],
 "metadata": {
  "kernelspec": {
   "display_name": "Python 3.8.13 ('m1')",
   "language": "python",
   "name": "python3"
  },
  "language_info": {
   "name": "python",
   "version": "3.8.13"
  },
  "orig_nbformat": 4,
  "vscode": {
   "interpreter": {
    "hash": "bdc2b39dba4a1a2bb6d840bc8828727e3a4c4135026ee5b84640756028bbf810"
   }
  }
 },
 "nbformat": 4,
 "nbformat_minor": 2
}
