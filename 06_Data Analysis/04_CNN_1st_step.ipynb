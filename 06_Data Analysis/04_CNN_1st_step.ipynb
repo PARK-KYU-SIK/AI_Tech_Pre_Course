{
 "cells": [
  {
   "cell_type": "markdown",
   "metadata": {},
   "source": [
    "# Index"
   ]
  },
  {
   "cell_type": "markdown",
   "metadata": {},
   "source": [
    "# 01 : CNN ?\n",
    "\n",
    "- Convolution 연산\n",
    "    - 지그 까지 배운 다층 신경망 (MLP)은 각 뉴런들이 선형모델과 활성함수로 모두 연결된 (fully connected) 구조 였습니다.  \n",
    "\n",
    "        <img src='../image/cnnn_01.jpeg' width=500> <img src='../image/cnnn_02.jpeg' width=520>  \n",
    "\n",
    "        활성 함수를 제외한 Convolution 연산도 선형변환에 속함\n",
    "\n",
    "- Convolution 연산의 수학적인 의미는 신호(signal) 를 *커널을 이용해 국소적으로 증폭 또는 감소* 시켜 정보를 추출 또는 필터링 하는 것\n",
    "    > - continuous $\\displaystyle{[ \\; f \\; \\\\* \\; g \\; ](x) \\; = \\; \\int_{\\mathbb{R}^d}f(z)g( \\; x \\; - \\; z \\; )dz \\; = \\; \\int_{\\mathbb{R}^d}f( \\; x \\; - \\; z \\; )g(z)dz \\; = \\; [ \\; g \\; \\\\* \\; f \\; ](x)}$  \n",
    "\n",
    "    > - discrete $\\displaystyle{[ \\; f \\; \\\\* \\; g \\; ](i) \\; = \\; \\sum_{a \\in \\mathbb{Z}^d}f(a)g( \\; i \\; - \\; a \\; ) \\; = \\; \\sum_{a \\in \\mathbb{Z}^d}f( \\; i \\; - \\; a \\; )g(a) \\; = \\; [ \\; g \\; \\\\* \\; f \\; ](i)}$  \n",
    "\n",
    "    - CNN 에서 사용하는 연산은 사실 convolution 이 아니고 cross-correlation 이라 부름\n",
    "\n",
    "- 커널은 정의역 내에서 움직여도 변하지 않고 ( translation invariant ) 주어진 신호에 국소적( local ) 으로 적용  \n",
    "\n",
    "    <img src='../image/cnnn_03.jpeg' width=400>"
   ]
  },
  {
   "cell_type": "markdown",
   "metadata": {},
   "source": [
    "# 02 : 다양한 차원에서의 COnvolution\n",
    "\n",
    "- convolution 연산은 1 차원 뿐만 아니라 다양한 차원에서 계산 가능  \n",
    "    - 데이터의 성격에 따라 사용하는 커널이 달라짐  \n",
    "    - 하지만, i,j,k 가 바뀌어도 (차원이 바뀌어도) 커널 f 의 값은 바뀌지 않는다 (밑줄)\n",
    "\n",
    "        > - 1D-conv : $\\displaystyle{[\\; f \\; \\\\* \\; g\\;](i) \\; = \\; \\sum_{p=1}^{d}\\underline{f(p)}g(\\;i \\; + \\; p \\;)}$  \n",
    "\n",
    "        > - 2D-conv : $\\displaystyle{[\\; f \\; \\\\* \\; g\\;](i,j) \\; = \\; \\sum_{p,q}\\underline{f(p,q)}g(\\;i \\; + \\; p,\\;j \\; + \\; q \\;)}$  \n",
    "\n",
    "        > - 3D-conv : $\\displaystyle{[\\; f \\; \\\\* \\; g\\;](i,j,k) \\; = \\; \\sum_{p,q,r}\\underline{f(p,q,r)}g(\\;i \\; + \\; p,\\;j \\; + \\; q,\\;k \\; + \\; r \\;)}$  "
   ]
  },
  {
   "cell_type": "markdown",
   "metadata": {},
   "source": [
    "# 03 : 2차 원 Convolution 연산 이해하기\n",
    "\n",
    "- 2D-Conv 연산은 이와 달리 커널(kernel) 을 입력벡터 상에서 움직여 가면서 선형모델과 합성함수가 적용되는 구조  \n",
    "\n",
    "    <Img src='../image/cnnn_04.jpeg' width=600> <Img src='../image/cnnn_05.jpeg' width=600>  \n",
    "\n",
    "    - 커널 값은 $f(p,q)$ 좌표값에 대응된다  \n",
    "        ex. f(0,0) = 0 , f(0,.1) = 1, f(1,0) = 2, f(1,1) = 3  \n",
    "\n",
    "    - Convolution 계산은 성분곱 계산을 통해 진행한다  \n",
    "        ex. $커널_{2 \\times 2} * 입력_{2 \\times 2}$  \n",
    "        - 출력 1 : (0 * 0) + (1 * 1) + (2 * 3) + (3 * 4) = 19  \n",
    "        - 출력 2 : (0 * 1) + (1 * 2) + (2 * 4) + (3 * 5) = 25  \n",
    "<br/>\n",
    "\n",
    "- 입력 크기를 ($H$, $W$), 커널 크기를 ($K_H$, $K_W$), 출력의 크기를 ($O_H$, $O_W$) 라 하면 출력의 크기는 다음과 같이 계산  \n",
    "    > - $O_H \\; = \\; H \\; - \\; K_H \\; + \\; 1$  \n",
    "    > - $O_H \\; = \\; H \\; - \\; K_H \\; + \\; 1$  \n",
    "\n",
    "- 채널이 여러개인 2차원 입력의 경우 2차원 Convolution 을 채널 개수만큼 적용한다고 생각하면 됨  \n",
    "    > $H_{channel} \\; = \\; k_{channel}$  \n",
    "\n",
    "    <img src='../image/cnnn_06.jpeg' width=400>  <img src='../image/cnnn_07.jpeg' width=540>  \n",
    "    <br/>\n",
    "\n",
    "- 채널이 여러개인 2차원 입력의 경우 2차원 COnvolution 을 채널 개수만큼 적용한다고 생각하면 됨.  \n",
    "    텐서를 직육면체 블록으로 이해하면 좀더 이해하기 쉬움  \n",
    "    > - 커널과 입력은 동일한 채널을 갖고 있고  \n",
    "        출력은 채널과 무관하여 2차원 형태이다  \n",
    "\n",
    "    <img src='../image/cnnn_08.jpeg' width=500>  \n",
    "<br/>\n",
    "\n",
    "- 만일 출력을 여러개의 채널을 갖도록 하고싶다면  \n",
    "    채널이 여러개인 2차원 입력의 경우 2차원 Convolution 을 채널 개수 만큼 적용한다고 생각하면 됨  \n",
    "    텐서를 직육면체 블록으로 이해하면 좀 더 이해하기 쉬움  \n",
    "    > - 채널을 보유한 출력을 만드는 방법은  \n",
    "        채널이 아닌 커널의 갯수를 늘리는 방법을 통해 변경한다  \n",
    "\n",
    "    <img src='../image/cnnn_09.jpeg' width=500>  \n"
   ]
  },
  {
   "cell_type": "markdown",
   "metadata": {},
   "source": [
    "# 04 : Convolution 연산의 역전파 이해하기\n",
    "\n",
    "- Convolution 연산은 커널이 모든 입력데이터에 공통으로 적용되기 때문에 역전파를 게산할 때도 convolution 연산이 나오게 됨  \n",
    "    Discrete 일 때도 마찬가지로 성립한다\n",
    "\n",
    "    > $\\displaystyle{\\frac{\\partial}{\\partial{x}}[\\;f \\; \\\\* \\; g \\;] \\; = \\; \\frac{\\partial}{\\partial{x}}\\int_{\\mathbb{R}^d}f(y)g(\\;x \\; - \\; y\\;)dy}$  \n",
    "    > $\\displaystyle{\\qquad\\qquad\\quad\\;\\;\\; = \\; \\int_{\\mathbb{R}^d}f(y)\\frac{\\partial{g}}{\\partial{x}}(\\;x \\; - \\; y\\;)dy}$  \n",
    "    > $\\displaystyle{\\qquad\\qquad\\quad\\;\\;\\; = \\; [\\;f \\; \\\\* \\; g\\\\'\\;](x)}$  \n",
    "\n",
    "- Convolution 연산은 커널이 모든 입력데이터에 공통으로 적용되기 때문에 역전파를 계산할 때도 Convolution 연산이 나오게 됨  \n",
    "\n",
    "    - 순전파  \n",
    "\n",
    "        <img src='../image/cnnn_10.jpeg' width=400>  <img src='../image/cnnn_11.jpeg' width=370>  <img src='../image/cnnn_12.jpeg' width=370>  \n",
    "\n",
    "    - 역전파  \n",
    "\n",
    "        - 입력값을 찾을 때  \n",
    "            순전파의 화살표 방향을 잘보면 커널을 역으로 적용히 필요함을 확인할 수 있다  \n",
    "\n",
    "            <img src='../image/cnnn_13.jpeg' width=370>  <img src='../image/cnnn_14.jpeg' width=400>  \n",
    "\n",
    "        - 커널값을 찾을 때  \n",
    "            각 커널들에 들어오는 모든 그레디언트를 더하면 결국 convolution 연산과 같다\n",
    "            > $\\displaystyle{\\frac{\\partial{\\mathcal{L}}}{\\partial{w_i}} \\; = \\; \\sum_{i}\\delta_{j}x_{i+j-1} \\; = \\; \\underline{\\delta_{1}x_1 \\; + \\; \\delta_{2}x_2 \\; + \\; \\delta_{3}x_3}}$  \n",
    "\n",
    "            <img src='../image/cnnn_15.jpeg' width=400>\n"
   ]
  },
  {
   "cell_type": "code",
   "execution_count": null,
   "metadata": {},
   "outputs": [],
   "source": []
  }
 ],
 "metadata": {
  "kernelspec": {
   "display_name": "Python 3.8.13 ('m1')",
   "language": "python",
   "name": "python3"
  },
  "language_info": {
   "name": "python",
   "version": "3.8.13"
  },
  "orig_nbformat": 4,
  "vscode": {
   "interpreter": {
    "hash": "bdc2b39dba4a1a2bb6d840bc8828727e3a4c4135026ee5b84640756028bbf810"
   }
  }
 },
 "nbformat": 4,
 "nbformat_minor": 2
}
