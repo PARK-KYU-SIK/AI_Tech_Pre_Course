{
 "cells": [
  {
   "cell_type": "markdown",
   "metadata": {},
   "source": [
    "# 목차"
   ]
  },
  {
   "cell_type": "markdown",
   "metadata": {},
   "source": [
    "# 01 : Numpy ?\n",
    "\n",
    "- Numerical Python  \n",
    "\n",
    "- 기능\n",
    "    - 행렬과 행렬연산을 위해 도와주는 Python Pakage\n",
    "        - 파이썬의 고성능 과학 계산용 패키지\n",
    "        - Matrix, vector, array 연산의 표준  \n",
    "\n",
    "- 특징\n",
    "    - 일반 List에 비해 연산이 빠르고 , 메모리 효율적\n",
    "    - 반복문 없이 데이터 배열에 대한 처리를 지원\n",
    "    - 선형대수와 관련된 다양한 기능 제공\n",
    "    - C , C++, 포트란 등의 언어에서도 지원  \n",
    "\n",
    "- 예시\n",
    "    - 수식\n",
    "        > $2x_1 + 2x_2 + \\;x_3 = 9 \\\\$  \n",
    "        > $2x_1 + \\;x_2 + 2x_3 = 6 \\\\$  \n",
    "        > $\\;x_1 - \\;x_2 + 2x_3 = 5 \\\\$  \n",
    "    - 행렬\n",
    "        > $\\begin{bmatrix}2 & 2 & 1 & 9 \\\\ 2 & -1 & 2 & 6 \\\\ 1 & -1 & 2 & 5 \\end{bmatrix}$  \n",
    "    - python 코드\n",
    "        > coefficient_matrix = [[2,2,1], [2,-1,2], [1,-1,2]]  \n",
    "        > constant_vector = [9,6,5]  \n",
    "    - Numpy\n",
    "        > import numpy as np  \n",
    "        > coefficient_array = np.array([[2,2,1], [2,-1,2], [1,-1,2]])  \n",
    "        > const_array = np.array([9,6,5])  "
   ]
  },
  {
   "cell_type": "markdown",
   "metadata": {},
   "source": [
    "# 02 : 호출 / 생성 / dtype\n",
    "\n",
    "- 호출\n",
    "    > np.array(  )\n",
    "    >> $\\rightarrow \\quad$ ndarray  \n",
    "\n",
    "- dtype\n",
    "    - 하나의 데이터 type만 지정가능 (list 와의 차이점)\n",
    "        - dynamic typing 지원 (X)"
   ]
  },
  {
   "cell_type": "code",
   "execution_count": 1,
   "metadata": {},
   "outputs": [
    {
     "name": "stdout",
     "output_type": "stream",
     "text": [
      "[1. 4. 5. 8.]\n"
     ]
    },
    {
     "data": {
      "text/plain": [
       "numpy.float64"
      ]
     },
     "execution_count": 1,
     "metadata": {},
     "output_type": "execute_result"
    }
   ],
   "source": [
    "import numpy as np\n",
    "\n",
    "test_array = np.array([1,4,5,8], float)\n",
    "print(test_array)\n",
    "type(test_array[3])"
   ]
  },
  {
   "cell_type": "code",
   "execution_count": 4,
   "metadata": {},
   "outputs": [
    {
     "name": "stdout",
     "output_type": "stream",
     "text": [
      "[[ 2 11]\n",
      " [13  1]]\n"
     ]
    }
   ],
   "source": [
    "a1 = np.array([[1,0],[0,1]])\n",
    "a2 = np.array([[2,11],[13,1]])\n",
    "\n",
    "print(a1@a2)"
   ]
  },
  {
   "cell_type": "code",
   "execution_count": 12,
   "metadata": {},
   "outputs": [
    {
     "name": "stdout",
     "output_type": "stream",
     "text": [
      "Poly((2.71828182845905**x), 2.71828182845905**x, domain='ZZ')\n"
     ]
    },
    {
     "ename": "PolynomialError",
     "evalue": "a valid generator expected, got x",
     "output_type": "error",
     "traceback": [
      "\u001b[0;31m---------------------------------------------------------------------------\u001b[0m",
      "\u001b[0;31mValueError\u001b[0m                                Traceback (most recent call last)",
      "File \u001b[0;32m/opt/homebrew/Caskroom/miniforge/base/envs/m1/lib/python3.8/site-packages/sympy/polys/polytools.py:1862\u001b[0m, in \u001b[0;36mPoly._gen_to_level\u001b[0;34m(f, gen)\u001b[0m\n\u001b[1;32m   1861\u001b[0m \u001b[39mtry\u001b[39;00m:\n\u001b[0;32m-> 1862\u001b[0m     \u001b[39mreturn\u001b[39;00m f\u001b[39m.\u001b[39;49mgens\u001b[39m.\u001b[39;49mindex(sympify(gen))\n\u001b[1;32m   1863\u001b[0m \u001b[39mexcept\u001b[39;00m \u001b[39mValueError\u001b[39;00m:\n",
      "\u001b[0;31mValueError\u001b[0m: tuple.index(x): x not in tuple",
      "\nDuring handling of the above exception, another exception occurred:\n",
      "\u001b[0;31mPolynomialError\u001b[0m                           Traceback (most recent call last)",
      "\u001b[1;32m/Users/parkkyusik/VScode/AI_Tech/Pre_course/06_Data Analysis/numpy.ipynb 셀 6\u001b[0m in \u001b[0;36m<cell line: 7>\u001b[0;34m()\u001b[0m\n\u001b[1;32m      <a href='vscode-notebook-cell:/Users/parkkyusik/VScode/AI_Tech/Pre_course/06_Data%20Analysis/numpy.ipynb#ch0000005?line=4'>5</a>\u001b[0m f1 \u001b[39m=\u001b[39m sym\u001b[39m.\u001b[39mpoly(np\u001b[39m.\u001b[39mexp(\u001b[39m1\u001b[39m) \u001b[39m*\u001b[39m\u001b[39m*\u001b[39m x)\n\u001b[1;32m      <a href='vscode-notebook-cell:/Users/parkkyusik/VScode/AI_Tech/Pre_course/06_Data%20Analysis/numpy.ipynb#ch0000005?line=5'>6</a>\u001b[0m \u001b[39mprint\u001b[39m(f1)\n\u001b[0;32m----> <a href='vscode-notebook-cell:/Users/parkkyusik/VScode/AI_Tech/Pre_course/06_Data%20Analysis/numpy.ipynb#ch0000005?line=6'>7</a>\u001b[0m f2 \u001b[39m=\u001b[39m sym\u001b[39m.\u001b[39;49mdiff(f1, x)\n\u001b[1;32m      <a href='vscode-notebook-cell:/Users/parkkyusik/VScode/AI_Tech/Pre_course/06_Data%20Analysis/numpy.ipynb#ch0000005?line=7'>8</a>\u001b[0m \u001b[39mprint\u001b[39m(f2)\n",
      "File \u001b[0;32m/opt/homebrew/Caskroom/miniforge/base/envs/m1/lib/python3.8/site-packages/sympy/core/function.py:2499\u001b[0m, in \u001b[0;36mdiff\u001b[0;34m(f, *symbols, **kwargs)\u001b[0m\n\u001b[1;32m   2435\u001b[0m \u001b[39m\"\"\"\u001b[39;00m\n\u001b[1;32m   2436\u001b[0m \u001b[39mDifferentiate f with respect to symbols.\u001b[39;00m\n\u001b[1;32m   2437\u001b[0m \n\u001b[0;32m   (...)\u001b[0m\n\u001b[1;32m   2496\u001b[0m \n\u001b[1;32m   2497\u001b[0m \u001b[39m\"\"\"\u001b[39;00m\n\u001b[1;32m   2498\u001b[0m \u001b[39mif\u001b[39;00m \u001b[39mhasattr\u001b[39m(f, \u001b[39m'\u001b[39m\u001b[39mdiff\u001b[39m\u001b[39m'\u001b[39m):\n\u001b[0;32m-> 2499\u001b[0m     \u001b[39mreturn\u001b[39;00m f\u001b[39m.\u001b[39;49mdiff(\u001b[39m*\u001b[39;49msymbols, \u001b[39m*\u001b[39;49m\u001b[39m*\u001b[39;49mkwargs)\n\u001b[1;32m   2500\u001b[0m kwargs\u001b[39m.\u001b[39msetdefault(\u001b[39m'\u001b[39m\u001b[39mevaluate\u001b[39m\u001b[39m'\u001b[39m, \u001b[39mTrue\u001b[39;00m)\n\u001b[1;32m   2501\u001b[0m \u001b[39mreturn\u001b[39;00m _derivative_dispatch(f, \u001b[39m*\u001b[39msymbols, \u001b[39m*\u001b[39m\u001b[39m*\u001b[39mkwargs)\n",
      "File \u001b[0;32m/opt/homebrew/Caskroom/miniforge/base/envs/m1/lib/python3.8/site-packages/sympy/polys/polytools.py:2406\u001b[0m, in \u001b[0;36mPoly.diff\u001b[0;34m(f, *specs, **kwargs)\u001b[0m\n\u001b[1;32m   2403\u001b[0m         \u001b[39melse\u001b[39;00m:\n\u001b[1;32m   2404\u001b[0m             gen, m \u001b[39m=\u001b[39m spec, \u001b[39m1\u001b[39m\n\u001b[0;32m-> 2406\u001b[0m         rep \u001b[39m=\u001b[39m rep\u001b[39m.\u001b[39mdiff(\u001b[39mint\u001b[39m(m), f\u001b[39m.\u001b[39;49m_gen_to_level(gen))\n\u001b[1;32m   2408\u001b[0m     \u001b[39mreturn\u001b[39;00m f\u001b[39m.\u001b[39mper(rep)\n\u001b[1;32m   2409\u001b[0m \u001b[39melse\u001b[39;00m:  \u001b[39m# pragma: no cover\u001b[39;00m\n",
      "File \u001b[0;32m/opt/homebrew/Caskroom/miniforge/base/envs/m1/lib/python3.8/site-packages/sympy/polys/polytools.py:1864\u001b[0m, in \u001b[0;36mPoly._gen_to_level\u001b[0;34m(f, gen)\u001b[0m\n\u001b[1;32m   1862\u001b[0m     \u001b[39mreturn\u001b[39;00m f\u001b[39m.\u001b[39mgens\u001b[39m.\u001b[39mindex(sympify(gen))\n\u001b[1;32m   1863\u001b[0m \u001b[39mexcept\u001b[39;00m \u001b[39mValueError\u001b[39;00m:\n\u001b[0;32m-> 1864\u001b[0m     \u001b[39mraise\u001b[39;00m PolynomialError(\n\u001b[1;32m   1865\u001b[0m         \u001b[39m\"\u001b[39m\u001b[39ma valid generator expected, got \u001b[39m\u001b[39m%s\u001b[39;00m\u001b[39m\"\u001b[39m \u001b[39m%\u001b[39m gen)\n",
      "\u001b[0;31mPolynomialError\u001b[0m: a valid generator expected, got x"
     ]
    }
   ],
   "source": [
    "import sympy as sym\n",
    "from sympy.abc import x\n",
    "import numpy as np\n",
    "\n",
    "f1 = sym.poly(np.exp(1) ** x)\n",
    "print(f1)\n",
    "f2 = sym.diff(f1, x)\n",
    "print(f2)"
   ]
  },
  {
   "cell_type": "code",
   "execution_count": null,
   "metadata": {},
   "outputs": [],
   "source": []
  },
  {
   "cell_type": "code",
   "execution_count": null,
   "metadata": {},
   "outputs": [],
   "source": []
  },
  {
   "cell_type": "code",
   "execution_count": null,
   "metadata": {},
   "outputs": [],
   "source": []
  }
 ],
 "metadata": {
  "kernelspec": {
   "display_name": "Python 3.8.13 ('m1')",
   "language": "python",
   "name": "python3"
  },
  "language_info": {
   "codemirror_mode": {
    "name": "ipython",
    "version": 3
   },
   "file_extension": ".py",
   "mimetype": "text/x-python",
   "name": "python",
   "nbconvert_exporter": "python",
   "pygments_lexer": "ipython3",
   "version": "3.8.13"
  },
  "orig_nbformat": 4,
  "vscode": {
   "interpreter": {
    "hash": "bdc2b39dba4a1a2bb6d840bc8828727e3a4c4135026ee5b84640756028bbf810"
   }
  }
 },
 "nbformat": 4,
 "nbformat_minor": 2
}
