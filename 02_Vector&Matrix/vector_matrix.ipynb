{
 "cells": [
  {
   "cell_type": "markdown",
   "metadata": {},
   "source": [
    "# Index"
   ]
  },
  {
   "cell_type": "markdown",
   "metadata": {},
   "source": [
    "## 01 : Vector"
   ]
  },
  {
   "cell_type": "markdown",
   "metadata": {},
   "source": [
    "### 01 - 벡터의 노름\n",
    "- Vector norm"
   ]
  },
  {
   "cell_type": "markdown",
   "metadata": {},
   "source": [
    "#### L1 노름\n",
    "- 각 축의 변화량의 절대값 합\n",
    "    - 원점으로 부터 각 축으로 부터 이동한 거리들의 합\n",
    "<br/>\n",
    "<br/>\n",
    "\n",
    "    > ##### $\\displaystyle||x||_1 = \\sum_{i=1}^{d}{|x_i|}$"
   ]
  },
  {
   "cell_type": "code",
   "execution_count": 3,
   "metadata": {},
   "outputs": [],
   "source": [
    "import numpy as np\n",
    "\n",
    "def l1_norm(x) :\n",
    "\n",
    "    x_norm = np.abs(x)  # 각 인자를 절대값 취한 후 저장\n",
    "    x_nrom = np.sum(x_norm) # 모든 인자 sum\n",
    "    return x_nrom"
   ]
  },
  {
   "cell_type": "markdown",
   "metadata": {},
   "source": [
    "#### L2 노름\n",
    "- 원점으로 부터 벡터의 꼭지점 실제 거리\n",
    "    - 피타고라스 정리를 이용한 유클리드 거리\n",
    "<br/>\n",
    "<br/>\n",
    "\n",
    "    > ##### $\\displaystyle||x_2|| = \\sqrt{\\sum_{i=1}^{d}{|x_i|^2}} $"
   ]
  },
  {
   "cell_type": "code",
   "execution_count": 7,
   "metadata": {},
   "outputs": [],
   "source": [
    "import numpy as np\n",
    "\n",
    "def l2_norm(x) :\n",
    "    \n",
    "    x_norm = x * x  # 각 인가끼리 곱한 후 저장\n",
    "    x_norm = np.sum(x_norm)\n",
    "    x_norm = np.sqrt(x_norm)\n",
    "    return x_norm"
   ]
  },
  {
   "cell_type": "markdown",
   "metadata": {},
   "source": [
    "### 02 - 두 벡터 사이 거리"
   ]
  },
  {
   "cell_type": "markdown",
   "metadata": {},
   "source": [
    "L1, L2 노름 가능  \n",
    "\n",
    "> $|x - y| = |y - x|$"
   ]
  },
  {
   "cell_type": "markdown",
   "metadata": {},
   "source": [
    "### 03 - 두 벡터 사이 각도"
   ]
  },
  {
   "cell_type": "markdown",
   "metadata": {},
   "source": [
    "L2 노름\n",
    "- 수정필요  \n",
    "\n",
    "> ##### $\\displaystyle cos\\theta = \\frac{||x||^2 + ||y||^2 - ||y - x||^2}{2||x|| + 2||y||}$\n",
    "> ##### $\\displaystyle \\;\\;\\;\\;\\;\\;\\;\\; = \\frac{2 \\; x \\cdot y}{2 \\; |x| \\; |y|}$\n",
    "> ##### $\\displaystyle \\;\\;\\;\\;\\;\\;\\;\\; = \\frac{\\displaystyle\\sum_{i=1}^n{x_i \\; y_i}}{|x| \\; |y|}$"
   ]
  },
  {
   "cell_type": "code",
   "execution_count": 9,
   "metadata": {},
   "outputs": [],
   "source": [
    "import numpy as np \n",
    "\n",
    "def l2_norm(x) :\n",
    "    \n",
    "    x_norm = x * x  # 각 인가끼리 곱한 후 저장\n",
    "    x_norm = np.sum(x_norm)\n",
    "    x_norm = np.sqrt(x_norm)\n",
    "    return x_norm\n",
    "\n",
    "def vector_angle(x,y) :\n",
    "    cos_theta = np.dot(x,y) / (l2_norm(x) * l2_norm(y))\n",
    "                # inner ?\n",
    "    theta = np.arccos(cos_theta)\n",
    "    return theta"
   ]
  },
  {
   "cell_type": "markdown",
   "metadata": {},
   "source": [
    "# 02 : Matrix"
   ]
  },
  {
   "cell_type": "markdown",
   "metadata": {},
   "source": [
    "## 01 - 행렬의 이해\n",
    "\n",
    "- 벡터를 원소로 갖는 2차원 배열\n",
    "    - numpy 에서는 행(row) 가 기본 단위  \n",
    "<br/>\n",
    "\n",
    "- 행렬은 행(row) 과 열(column) 두개의 index 를 갖음\n",
    "    - $x_{ij}$\n",
    "        - 행(row) : $i$\n",
    "        - 열(col) : $j$  \n",
    "<br/>\n",
    "\n",
    "- 행렬의 전치 (transform)\n",
    "    - > ${x_{ij}}^\\top = x_{ji}$\n",
    "        - 행과 열의 인덱스가 변경\n",
    "<br/>\n",
    "\n",
    "- 행렬과 벡터의 의미\n",
    "    - 벡터 : 공간에서의 한점\n",
    "    - 행렬 : 공간에서의 여러점\n",
    "        - 벡터(데이터)들의 집합\n",
    "            - column : 변수\n",
    "            - row : 데이터 \n",
    "                - $X$ 행렬의 행벡터 $\\vec{x_i}$ 는 $i$ 번째 데이터를 의미\n",
    "                    - > $\\vec{x_i} = x_{i1} + x_{i2} + \\cdots + x_{in}$\n",
    "                - $X$ 행렬의 원소 $x_{ij}$ 는 $i$ 번째 데이터의 $j$ 번째 변수의 값을 말한다 \n",
    "<br/>\n",
    "\n",
    "- 행렬의 사칙연산\n",
    "    - 덧셈, 뺄셈 ( O )\n",
    "        - 조건 : 같은모양\n",
    "            - 같은 인덱스 위치끼리 계산\n",
    "        - > $\\mathbb{X}_{i \\times j} \\pm \\mathbb{Y}_{i \\times j} = \\begin{bmatrix} x_{11} & \\cdots & x_{1j} \\\\ \\vdots && \\vdots \\\\ x_{i1} & \\cdots & x_{ij} \\end{bmatrix} + \\begin{bmatrix} y_{11} & \\cdots & y_{1j} \\\\ \\vdots && \\vdots \\\\ y_{i1} & \\cdots & y_{ij} \\end{bmatrix}$\n",
    "        - > $\\qquad\\qquad\\quad\\,= \\begin{bmatrix} x_{11} + y_{11} & \\cdots & x_{ij} + y_{1j} \\\\ \\vdots && \\vdots \\\\ x_{i1} + y_{i1} & \\cdots & x_{ij} + y_{ij} \\end{bmatrix}$ \n",
    "\n",
    "    - 성분 곱, 스칼라 곱 ( O )\n",
    "        - 조건 : 같은모양\n",
    "            - 같은 인덱스 위치끼리 계산\n",
    "        - > $\\mathbb{X}_{i \\times j} \\odot \\mathbb{Y}_{i \\times j} = \\begin{bmatrix} x_{11} & \\cdots & x_{1j} \\\\ \\vdots && \\vdots \\\\ x_{i1} & \\cdots & x_{ij} \\end{bmatrix} \\odot \\begin{bmatrix} y_{11} & \\cdots & y_{1j} \\\\ \\vdots && \\vdots \\\\ y_{i1} & \\cdots & y_{ij} \\end{bmatrix}$\n",
    "        - > $\\qquad\\qquad\\quad\\,= \\begin{bmatrix} x_{11}y_{11} & \\cdots & x_{ij}y_{1j} \\\\ \\vdots && \\vdots \\\\ x_{i1}y_{i1} & \\cdots & x_{ij}y_{ij} \\end{bmatrix}$ \n",
    "        \n",
    "    - 행렬의 곱셈 = 내적 (dot product)\n",
    "        - 조건 : 행렬 $X$ 의 열 크기와 행렬 $Y$ 의 행의 크기가 같아야 한다\n",
    "            - 행렬의 내적은 계산의 순서에 따라 결과값이 달라지며 계산이 불가능하기도 하다\n",
    "            - >> $X \\cdot Y \\neq Y \\cdot X$\n",
    "        - > $\\displaystyle\\mathbb{X}_{m \\times n} \\cdot \\mathbb{Y}_{n \\times m} = \\begin{bmatrix} x_{11} & \\cdots&\\cdots & x_{1n} \\\\ \\vdots &&& \\vdots \\\\ x_{m1} & \\cdots&\\cdots & x_{mn} \\end{bmatrix}_{m \\times n} \\cdot \\begin{bmatrix} y_{11} & \\cdots & y_{1m} \\\\ \\vdots && \\vdots \\\\ \\vdots && \\vdots \\\\ y_{n1} & \\cdots & y_{nm} \\end{bmatrix}_{n \\times m}$\n",
    "        - > $\\qquad\\qquad\\quad\\;\\;= {\\begin{bmatrix} x_{11}y_{11} \\; + \\; \\cdots \\; + \\; x_{1n}y_{n1} \\\\ \\vdots \\qquad \\cdots \\qquad \\vdots \\\\ x_{m1}y_{1m} \\; + \\; \\cdots \\; + \\; x_{mn}y_{nm}\\end{bmatrix}}_{m \\times m}$\n",
    "        - > $\\qquad\\qquad\\quad\\;\\;= \\displaystyle\\sum_{k}^{ } {x_{ik} \\times y_{kj}}$"
   ]
  },
  {
   "cell_type": "markdown",
   "metadata": {},
   "source": [
    "## 02 - 사칙연산 코딩"
   ]
  },
  {
   "cell_type": "code",
   "execution_count": 11,
   "metadata": {},
   "outputs": [],
   "source": [
    "import numpy as np\n",
    "\n",
    "x = np.array([[1, -2, 3],\n",
    "             [7, 5, 0],\n",
    "             [-2, -1, 2]]) # 3 x 3 행렬\n",
    "\n",
    "y = np.array([[0, 1],\n",
    "             [1, -1], \n",
    "             [-2, 1]]) # 3 x 2 행렬"
   ]
  },
  {
   "cell_type": "markdown",
   "metadata": {},
   "source": [
    "EX_01 : 내적"
   ]
  },
  {
   "cell_type": "code",
   "execution_count": 12,
   "metadata": {},
   "outputs": [
    {
     "name": "stdout",
     "output_type": "stream",
     "text": [
      "[[-8  6]\n",
      " [ 5  2]\n",
      " [-5  1]]\n",
      "[[-8  6]\n",
      " [ 5  2]\n",
      " [-5  1]]\n"
     ]
    }
   ],
   "source": [
    "print(np.dot(x,y))\n",
    "# print(np.inner(x,y))\n",
    "print(x @ y)"
   ]
  },
  {
   "cell_type": "markdown",
   "metadata": {},
   "source": [
    "## 03 - 역행렬, sudo 역행렬\n",
    "- 행렬은 벡터공간에서 사용되는 연산자 (operato) 로 이해한다\n",
    "    - 행렬곱을 통해 벡터를 다른 차원의 공간으로 정보 이동\n",
    "- 역랭렬 이해하기\n",
    "    - Invers Matrix\n",
    "    > $\\mathbb{A}\\mathbb{A}^-1 = \\mathbb{A}^-1\\mathbb{A} = \\mathbb{I} = $ 항등행렬 (Identity Matrix)  \n",
    "    >> $\\mathbb{I} = {\\begin{bmatrix} 1 & 0 & \\cdots & 0 \\\\ 0 & 1 & \\cdots & 0 \\\\ \\vdots & \\vdots & \\ddots & \\vdots \\\\ 0 & 0 & \\cdots & 1 \\end{bmatrix}}$\n",
    "    - 조건\n",
    "        - 행열의 행과 열의 크기가 같아야 한다\n",
    "        - 행열의 determinate 가 0 이 아니어야 한다\n",
    "    - 코드\n",
    "        > np.linalg.inv(x)\n",
    "- 유사역행렬\n",
    "    - Sudo Inverse Matrix\n",
    "    - 무어-펜로즈 역행렬\n",
    "    - 코드\n",
    "        > np.linalg.pinv(x)\n",
    "    - 조건\n",
    "        - 언제든 사용가능\n",
    "        - 단, 행렬의 형태에 따라 역행렬을 곱하는 계산순서가 달라져야 한다\n",
    "            > $\\mathbb{A}_{nm} \\cdot \\vec{x}_{m} = \\vec{b}_{n}$\n",
    "            - $ m \\leq n $ 일때 (미지수 $\\leq$ 식)\n",
    "                > $\\mathbb{A}^+\\mathbb{A} = \\mathbb{I}$ \n",
    "                >> $\\mathbb{A}^+ = (\\mathbb{A}^\\top\\mathbb{A})^{-1}\\mathbb{A}^\\top$\n",
    "            - $ n \\leq m $ 일때 (식 $\\leq$ 미지수)\n",
    "                > $\\mathbb{A}\\mathbb{A}^+ = \\mathbb{I}$\n",
    "                >> $\\mathbb{A}^+ = \\mathbb{A}^\\top(\\mathbb{A}^\\top\\mathbb{A})^{-1}$\n",
    "\n",
    "- Sudo inverse Matrix EX\n",
    "    1. 연립방정식\n",
    "        > $ \\mathbb{A} \\cdot \\vec{x} = \\vec{b} $  \n",
    "        > $\\rightarrow {\\begin{bmatrix} a_{11} & \\cdots & a_{1m} \\\\ \\vdots & \\ddots & \\vdots \\\\ a_{n1} & \\cdots & a_{nm} \\end{bmatrix}} {\\begin{bmatrix} x_{1} \\\\ \\vdots \\\\ \\vdots \\\\ x_{m} \\end{bmatrix}} = {\\begin{bmatrix} b_{1} \\\\ \\vdots \\\\ b_{n} \\end{bmatrix}}$  \n",
    "        - $\\vec{x_m} \\; (\\mathbb{R}^m) : m$ 차원공간 $\\rightarrow$ $\\vec{b_{n}} \\; (\\mathbb{R}n) : n$ 차원공간  \n",
    "            - 행렬 $\\mathbb{A} \\rightarrow $ 식의 갯수 : n  \n",
    "            - 벡터 $\\vec{x} \\rightarrow$ 미지수의 갯수 : m  \n",
    "        - $if, n$(식) $\\leq m$ (미지수) $\\rightarrow$ 해를 구할 수 없다, 역행렬이 존재하지 않는다  \n",
    "            - sundo inverse matrix 활용\n",
    "                - 사용조건 확인\n",
    "                    - 식 $\\leq$ 미지수 \n",
    "                        > $\\mathbb{A}\\mathbb{A}^+ = \\mathbb{I}$\n",
    "                        >> $\\mathbb{A}^+ = \\mathbb{A}^\\top(\\mathbb{A}^\\top\\mathbb{A})^{-1}$\n",
    "                    - 대입\n",
    "                        > $\\mathbb{A}\\vec{x} = \\vec{b}$  \n",
    "                        >> $\\mathbb{A}\\vec{x} = \\mathbb{I}\\vec{b}$  \n",
    "                        >>> $\\rightarrow \\mathbb{A}(\\mathbb{A}^+)\\vec{x} = \\mathbb{I}(\\mathbb{A}^+)\\vec{b}$  \n",
    "                        >>>> $\\rightarrow \\vec{x} = \\mathbb{A}^\\top(\\mathbb{A}\\mathbb{A}^\\top)^{-1}\\vec{b}$\n",
    "    2. 선형회귀 분석\n",
    "        - 의미\n",
    "            - 좌표평면상의 데이터 $\\mathbb{X}$ 에 대해\n",
    "            - 계수 벡터 $\\vec{\\beta}$ 를 곱하여 얻은 선형모델 식을 최대한 타겟 벡터 $\\vec{y}$ 에 근하하도록 최적화하는 작업\n",
    "                - 데이터 : $\\mathbb{X}_{nm}$\n",
    "                - 변수(계수) : $\\vec{\\beta_{m1}}$\n",
    "                - target : $\\vec{y_{n1}}$\n",
    "        - 적용 상황\n",
    "            - $m \\leq n$ : (미지수 $\\leq$ 식)\n",
    "            - 해를 구할 수 있을 떄\n",
    "        - 풀이 방식\n",
    "            - 연립방정식과 달리 행이 더 크므로 방정식 자체를 푸는건 불가능\n",
    "                > $\\mathbb{X} \\; \\vec{\\beta} \\; = \\; \\hat{y} \\; \\approx(\\neq) \\; \\vec{y}  $\n",
    "                >> $\\rightarrow(\\mathbb{X}^+)\\mathbb{X}\\vec{\\beta} \\; = \\; (\\mathbb{X}^+)\\hat{y}$  \n",
    "                >> $\\rightarrow\\vec{\\beta} \\; = \\; \\mathbb{X}^+\\hat{y}$  \n",
    "                >> $\\rightarrow\\vec{\\beta} \\; = \\; \\mathbb{X}^+\\hat{y}$  \n",
    "                - $ m \\leq n $ 일때 (미지수 $\\leq$ 식)\n",
    "                    - $\\mathbb{A}^+\\mathbb{A} = \\mathbb{I}$ \n",
    "                    - $\\mathbb{A}^+ = (\\mathbb{A}^\\top\\mathbb{A})^{-1}\\mathbb{A}^\\top$\n",
    "                >> $\\rightarrow\\vec{\\beta} \\approx (\\mathbb{X}^\\top\\mathbb{X})^{-1}\\mathbb{X}^\\top\\hat{y}$\n",
    "                - $\\beta$ 값 을 얻는 방법\n",
    "                    > $best \\; \\beta = min ||\\vec{y} - \\hat{y}||_{2}$  \n",
    "                    - $L_2$ 노름의 최소화 방법으로 최적의 $\\hat{y}$ ($\\vec{y}$에 근접한)를 갖는 $\\beta$ 를 찾는다\n",
    "        - 코드\n",
    "            - sklearn.LinearRegression EX\n",
    "                > from sklearn.linear_model import LinearRegression         \n",
    "                >> lg_clf = LinearRegression()                              \n",
    "                >> model.fit(X_train, y_train)                              \n",
    "                >> lg_clf_pred = model.predict(X_test)                      \n",
    "\n",
    "            - Moore-Penrose 역행렬\n",
    "                - y 절편(intercept) 항 직접 지정 필요\n",
    "                    > x = np.array(np.append(x,[1])) for x in X])  \n",
    "                    > beta = np.linalg.pinv(X_) @ y  \n",
    "                    > moor_pred = np.appred(x, [1]) @ beta"
   ]
  },
  {
   "cell_type": "code",
   "execution_count": null,
   "metadata": {},
   "outputs": [],
   "source": []
  },
  {
   "cell_type": "code",
   "execution_count": null,
   "metadata": {},
   "outputs": [],
   "source": []
  },
  {
   "cell_type": "code",
   "execution_count": null,
   "metadata": {},
   "outputs": [],
   "source": []
  },
  {
   "cell_type": "code",
   "execution_count": null,
   "metadata": {},
   "outputs": [],
   "source": []
  },
  {
   "cell_type": "code",
   "execution_count": null,
   "metadata": {},
   "outputs": [],
   "source": []
  }
 ],
 "metadata": {
  "kernelspec": {
   "display_name": "Python 3.8.13 ('m1')",
   "language": "python",
   "name": "python3"
  },
  "language_info": {
   "codemirror_mode": {
    "name": "ipython",
    "version": 3
   },
   "file_extension": ".py",
   "mimetype": "text/x-python",
   "name": "python",
   "nbconvert_exporter": "python",
   "pygments_lexer": "ipython3",
   "version": "3.8.13"
  },
  "orig_nbformat": 4,
  "vscode": {
   "interpreter": {
    "hash": "bdc2b39dba4a1a2bb6d840bc8828727e3a4c4135026ee5b84640756028bbf810"
   }
  }
 },
 "nbformat": 4,
 "nbformat_minor": 2
}
